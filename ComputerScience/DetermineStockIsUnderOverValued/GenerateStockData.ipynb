{
 "cells": [
  {
   "cell_type": "markdown",
   "metadata": {},
   "source": [
    "# IEX Cloud API Access samples"
   ]
  },
  {
   "cell_type": "markdown",
   "metadata": {},
   "source": [
    "Based on the course [Algorithmic Trading Using Python - Full Course](https://www.youtube.com/watch?v=xfzGZB4HhEE) by Nick McCullum from Youtube channel [freeCodeCamp.org](https://www.youtube.com/channel/UC8butISFwT-Wl7EV0hUK0BQ)."
   ]
  },
  {
   "cell_type": "markdown",
   "metadata": {},
   "source": [
    "* Main site: https://iexcloud.io/\n",
    "* Documentation: https://iexcloud.io/docs/api/"
   ]
  },
  {
   "cell_type": "code",
   "execution_count": 1,
   "metadata": {},
   "outputs": [],
   "source": [
    "import numpy as np\n",
    "import pandas as pd\n",
    "import requests"
   ]
  },
  {
   "cell_type": "markdown",
   "metadata": {},
   "source": [
    "## Acquiring an API Token"
   ]
  },
  {
   "cell_type": "markdown",
   "metadata": {},
   "source": [
    "Create account in https://iexcloud.io/ Tokens are available in https://iexcloud.io/console/tokens"
   ]
  },
  {
   "cell_type": "markdown",
   "metadata": {},
   "source": [
    "API tokens (and other sensitive information) should be stored in a `secrets.py` file that doesn't get published to your local Git repository."
   ]
  },
  {
   "cell_type": "code",
   "execution_count": 2,
   "metadata": {},
   "outputs": [],
   "source": [
    "from secrets import IEX_CLOUD_API_TOKEN"
   ]
  },
  {
   "cell_type": "markdown",
   "metadata": {},
   "source": [
    "Set a list of some stocks"
   ]
  },
  {
   "cell_type": "code",
   "execution_count": 3,
   "metadata": {},
   "outputs": [],
   "source": [
    "stocks = ['AMZN','AAPL','GOOG','MSFT','NFLX','V','PYPL','MA','ADBE','INTC','CRM','AVGO',\n",
    "          'ACN','TXN','QCOM','ORCL','INTU','AMAT','AMD','NOW','SQ','MU','FB','LRCX','ADP']"
   ]
  },
  {
   "cell_type": "markdown",
   "metadata": {},
   "source": [
    "Note than in [Algorithmic Trading Using Python - Full Course](https://www.youtube.com/watch?v=xfzGZB4HhEE) the `https://sandbox.iexapis.com/` is used. It provides simulated test data.\n",
    "\n",
    "However for real market data the `https://cloud.iexapis.com/` should be used. Note that some of the functions may require payment. Check details in your account."
   ]
  },
  {
   "cell_type": "markdown",
   "metadata": {},
   "source": [
    "## Using Batch API Calls to Improve Performance"
   ]
  },
  {
   "cell_type": "markdown",
   "metadata": {},
   "source": [
    "Batch API calls are one of the easiest ways to improve the performance of the code.\n",
    "\n",
    "This is because HTTP requests are typically one of the slowest components of a scripts.\n",
    "\n",
    "Also, API providers will often give you discounted rates for using batch API calls since they are easier for the API provider to respond to.\n",
    "\n",
    "IEX Cloud limits their batch API calls to 100 tickers per request. Still, this reduces the number of API calls we'll make in this section from 500 to 5 - huge improvement in this section, we'll split our list of stocks of 100 and then make a batch API call for each group."
   ]
  },
  {
   "cell_type": "code",
   "execution_count": 4,
   "metadata": {},
   "outputs": [
    {
     "data": {
      "text/plain": [
       "'AMZN,AAPL,GOOG,MSFT,NFLX,V,PYPL,MA,ADBE,INTC,CRM,AVGO,ACN,TXN,QCOM,ORCL,INTU,AMAT,AMD,NOW,SQ,MU,FB,LRCX,ADP'"
      ]
     },
     "execution_count": 4,
     "metadata": {},
     "output_type": "execute_result"
    }
   ],
   "source": [
    "symbol_strings = ','.join(stocks)\n",
    "symbol_strings"
   ]
  },
  {
   "cell_type": "code",
   "execution_count": 5,
   "metadata": {},
   "outputs": [],
   "source": [
    "dataframe_columns = ['Tickers', 'PE_Ratio', 'Current_Price', 'Earnings_Per_Share']"
   ]
  },
  {
   "cell_type": "code",
   "execution_count": 6,
   "metadata": {},
   "outputs": [],
   "source": [
    "batch_dataframe = pd.DataFrame(columns=dataframe_columns)\n",
    "\n",
    "batch_api_call_url = f'https://cloud.iexapis.com/stable/stock/market/batch?symbols={symbol_strings}&types=quote,stats&token={IEX_CLOUD_API_TOKEN}'\n",
    "\n",
    "data = requests.get(batch_api_call_url).json()\n",
    "for symbol in symbol_strings.split(','):\n",
    "    batch_dataframe = batch_dataframe.append(\n",
    "        pd.Series(\n",
    "            [\n",
    "                symbol,\n",
    "                data[symbol]['quote']['peRatio'],\n",
    "                data[symbol]['quote']['latestPrice'],\n",
    "                data[symbol]['stats']['ttmEPS']\n",
    "            ],\n",
    "            index = dataframe_columns\n",
    "        ),\n",
    "        ignore_index=True\n",
    "    )"
   ]
  },
  {
   "cell_type": "code",
   "execution_count": 7,
   "metadata": {},
   "outputs": [
    {
     "data": {
      "text/html": [
       "<div>\n",
       "<style scoped>\n",
       "    .dataframe tbody tr th:only-of-type {\n",
       "        vertical-align: middle;\n",
       "    }\n",
       "\n",
       "    .dataframe tbody tr th {\n",
       "        vertical-align: top;\n",
       "    }\n",
       "\n",
       "    .dataframe thead th {\n",
       "        text-align: right;\n",
       "    }\n",
       "</style>\n",
       "<table border=\"1\" class=\"dataframe\">\n",
       "  <thead>\n",
       "    <tr style=\"text-align: right;\">\n",
       "      <th></th>\n",
       "      <th>Tickers</th>\n",
       "      <th>PE_Ratio</th>\n",
       "      <th>Current_Price</th>\n",
       "      <th>Earnings_Per_Share</th>\n",
       "    </tr>\n",
       "  </thead>\n",
       "  <tbody>\n",
       "    <tr>\n",
       "      <th>0</th>\n",
       "      <td>AMZN</td>\n",
       "      <td>57.57</td>\n",
       "      <td>3303.50</td>\n",
       "      <td>57.3800</td>\n",
       "    </tr>\n",
       "    <tr>\n",
       "      <th>1</th>\n",
       "      <td>AAPL</td>\n",
       "      <td>29.19</td>\n",
       "      <td>148.89</td>\n",
       "      <td>5.1000</td>\n",
       "    </tr>\n",
       "    <tr>\n",
       "      <th>2</th>\n",
       "      <td>GOOG</td>\n",
       "      <td>NaN</td>\n",
       "      <td>2767.79</td>\n",
       "      <td>0.0000</td>\n",
       "    </tr>\n",
       "    <tr>\n",
       "      <th>3</th>\n",
       "      <td>MSFT</td>\n",
       "      <td>36.00</td>\n",
       "      <td>289.81</td>\n",
       "      <td>8.0500</td>\n",
       "    </tr>\n",
       "    <tr>\n",
       "      <th>4</th>\n",
       "      <td>NFLX</td>\n",
       "      <td>52.92</td>\n",
       "      <td>510.72</td>\n",
       "      <td>9.6500</td>\n",
       "    </tr>\n",
       "    <tr>\n",
       "      <th>5</th>\n",
       "      <td>V</td>\n",
       "      <td>46.83</td>\n",
       "      <td>231.79</td>\n",
       "      <td>4.9500</td>\n",
       "    </tr>\n",
       "    <tr>\n",
       "      <th>6</th>\n",
       "      <td>PYPL</td>\n",
       "      <td>66.97</td>\n",
       "      <td>274.59</td>\n",
       "      <td>4.1000</td>\n",
       "    </tr>\n",
       "    <tr>\n",
       "      <th>7</th>\n",
       "      <td>MA</td>\n",
       "      <td>50.27</td>\n",
       "      <td>361.98</td>\n",
       "      <td>7.2000</td>\n",
       "    </tr>\n",
       "    <tr>\n",
       "      <th>8</th>\n",
       "      <td>ADBE</td>\n",
       "      <td>54.87</td>\n",
       "      <td>634.35</td>\n",
       "      <td>11.5600</td>\n",
       "    </tr>\n",
       "    <tr>\n",
       "      <th>9</th>\n",
       "      <td>INTC</td>\n",
       "      <td>11.92</td>\n",
       "      <td>53.54</td>\n",
       "      <td>4.4900</td>\n",
       "    </tr>\n",
       "    <tr>\n",
       "      <th>10</th>\n",
       "      <td>CRM</td>\n",
       "      <td>52.40</td>\n",
       "      <td>248.39</td>\n",
       "      <td>4.7400</td>\n",
       "    </tr>\n",
       "    <tr>\n",
       "      <th>11</th>\n",
       "      <td>AVGO</td>\n",
       "      <td>45.01</td>\n",
       "      <td>484.26</td>\n",
       "      <td>10.7600</td>\n",
       "    </tr>\n",
       "    <tr>\n",
       "      <th>12</th>\n",
       "      <td>ACN</td>\n",
       "      <td>35.99</td>\n",
       "      <td>321.76</td>\n",
       "      <td>8.9400</td>\n",
       "    </tr>\n",
       "    <tr>\n",
       "      <th>13</th>\n",
       "      <td>TXN</td>\n",
       "      <td>26.20</td>\n",
       "      <td>187.87</td>\n",
       "      <td>7.1700</td>\n",
       "    </tr>\n",
       "    <tr>\n",
       "      <th>14</th>\n",
       "      <td>QCOM</td>\n",
       "      <td>18.37</td>\n",
       "      <td>147.15</td>\n",
       "      <td>8.0100</td>\n",
       "    </tr>\n",
       "    <tr>\n",
       "      <th>15</th>\n",
       "      <td>ORCL</td>\n",
       "      <td>19.74</td>\n",
       "      <td>89.81</td>\n",
       "      <td>4.5500</td>\n",
       "    </tr>\n",
       "    <tr>\n",
       "      <th>16</th>\n",
       "      <td>INTU</td>\n",
       "      <td>68.05</td>\n",
       "      <td>536.92</td>\n",
       "      <td>7.8900</td>\n",
       "    </tr>\n",
       "    <tr>\n",
       "      <th>17</th>\n",
       "      <td>AMAT</td>\n",
       "      <td>26.92</td>\n",
       "      <td>129.22</td>\n",
       "      <td>4.8000</td>\n",
       "    </tr>\n",
       "    <tr>\n",
       "      <th>18</th>\n",
       "      <td>AMD</td>\n",
       "      <td>37.50</td>\n",
       "      <td>106.50</td>\n",
       "      <td>2.8400</td>\n",
       "    </tr>\n",
       "    <tr>\n",
       "      <th>19</th>\n",
       "      <td>NOW</td>\n",
       "      <td>693.34</td>\n",
       "      <td>581.57</td>\n",
       "      <td>0.8388</td>\n",
       "    </tr>\n",
       "    <tr>\n",
       "      <th>20</th>\n",
       "      <td>SQ</td>\n",
       "      <td>244.17</td>\n",
       "      <td>268.59</td>\n",
       "      <td>1.1000</td>\n",
       "    </tr>\n",
       "    <tr>\n",
       "      <th>21</th>\n",
       "      <td>MU</td>\n",
       "      <td>19.41</td>\n",
       "      <td>70.25</td>\n",
       "      <td>3.6200</td>\n",
       "    </tr>\n",
       "    <tr>\n",
       "      <th>22</th>\n",
       "      <td>FB</td>\n",
       "      <td>26.90</td>\n",
       "      <td>362.65</td>\n",
       "      <td>13.4800</td>\n",
       "    </tr>\n",
       "    <tr>\n",
       "      <th>23</th>\n",
       "      <td>LRCX</td>\n",
       "      <td>24.67</td>\n",
       "      <td>583.51</td>\n",
       "      <td>23.6500</td>\n",
       "    </tr>\n",
       "    <tr>\n",
       "      <th>24</th>\n",
       "      <td>ADP</td>\n",
       "      <td>35.40</td>\n",
       "      <td>214.90</td>\n",
       "      <td>6.0700</td>\n",
       "    </tr>\n",
       "  </tbody>\n",
       "</table>\n",
       "</div>"
      ],
      "text/plain": [
       "   Tickers  PE_Ratio  Current_Price  Earnings_Per_Share\n",
       "0     AMZN     57.57        3303.50             57.3800\n",
       "1     AAPL     29.19         148.89              5.1000\n",
       "2     GOOG       NaN        2767.79              0.0000\n",
       "3     MSFT     36.00         289.81              8.0500\n",
       "4     NFLX     52.92         510.72              9.6500\n",
       "5        V     46.83         231.79              4.9500\n",
       "6     PYPL     66.97         274.59              4.1000\n",
       "7       MA     50.27         361.98              7.2000\n",
       "8     ADBE     54.87         634.35             11.5600\n",
       "9     INTC     11.92          53.54              4.4900\n",
       "10     CRM     52.40         248.39              4.7400\n",
       "11    AVGO     45.01         484.26             10.7600\n",
       "12     ACN     35.99         321.76              8.9400\n",
       "13     TXN     26.20         187.87              7.1700\n",
       "14    QCOM     18.37         147.15              8.0100\n",
       "15    ORCL     19.74          89.81              4.5500\n",
       "16    INTU     68.05         536.92              7.8900\n",
       "17    AMAT     26.92         129.22              4.8000\n",
       "18     AMD     37.50         106.50              2.8400\n",
       "19     NOW    693.34         581.57              0.8388\n",
       "20      SQ    244.17         268.59              1.1000\n",
       "21      MU     19.41          70.25              3.6200\n",
       "22      FB     26.90         362.65             13.4800\n",
       "23    LRCX     24.67         583.51             23.6500\n",
       "24     ADP     35.40         214.90              6.0700"
      ]
     },
     "execution_count": 7,
     "metadata": {},
     "output_type": "execute_result"
    }
   ],
   "source": [
    "batch_dataframe"
   ]
  },
  {
   "cell_type": "code",
   "execution_count": 8,
   "metadata": {},
   "outputs": [],
   "source": [
    "batch_dataframe.to_csv('InformationTechnologyStocks.csv', index = False)"
   ]
  }
 ],
 "metadata": {
  "kernelspec": {
   "display_name": "Python 3",
   "language": "python",
   "name": "python3"
  },
  "language_info": {
   "codemirror_mode": {
    "name": "ipython",
    "version": 3
   },
   "file_extension": ".py",
   "mimetype": "text/x-python",
   "name": "python",
   "nbconvert_exporter": "python",
   "pygments_lexer": "ipython3",
   "version": "3.8.10"
  }
 },
 "nbformat": 4,
 "nbformat_minor": 4
}
