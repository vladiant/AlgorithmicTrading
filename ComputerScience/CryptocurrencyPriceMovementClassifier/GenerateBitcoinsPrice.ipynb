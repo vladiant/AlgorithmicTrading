{
 "cells": [
  {
   "cell_type": "markdown",
   "metadata": {},
   "source": [
    "# Crypto Currencies Stock Data for Python Using Yahoo Finance API"
   ]
  },
  {
   "cell_type": "markdown",
   "metadata": {},
   "source": [
    "!pip3 install yfinance"
   ]
  },
  {
   "cell_type": "markdown",
   "metadata": {},
   "source": [
    "Note: Using the Public API (without authentication), you are limited to 2,000 requests per hour per IP (or up to a total of 48,000 requests a day)."
   ]
  },
  {
   "cell_type": "code",
   "execution_count": 1,
   "metadata": {},
   "outputs": [],
   "source": [
    "import yfinance as yf\n",
    "import pandas as pd\n",
    "import requests"
   ]
  },
  {
   "cell_type": "markdown",
   "metadata": {},
   "source": [
    "## Get Historical Market Data"
   ]
  },
  {
   "cell_type": "code",
   "execution_count": 2,
   "metadata": {},
   "outputs": [],
   "source": [
    "tick = \"BTC-USD\""
   ]
  },
  {
   "cell_type": "markdown",
   "metadata": {},
   "source": [
    "Get the closing price for the last 5 years for each tick."
   ]
  },
  {
   "cell_type": "code",
   "execution_count": 3,
   "metadata": {},
   "outputs": [],
   "source": [
    "ticker = yf.Ticker(tick)\n",
    "hist_tick = ticker.history(start=\"2021-03-26\", end=\"2021-07-02\")"
   ]
  },
  {
   "cell_type": "code",
   "execution_count": 4,
   "metadata": {},
   "outputs": [
    {
     "data": {
      "text/html": [
       "<div>\n",
       "<style scoped>\n",
       "    .dataframe tbody tr th:only-of-type {\n",
       "        vertical-align: middle;\n",
       "    }\n",
       "\n",
       "    .dataframe tbody tr th {\n",
       "        vertical-align: top;\n",
       "    }\n",
       "\n",
       "    .dataframe thead th {\n",
       "        text-align: right;\n",
       "    }\n",
       "</style>\n",
       "<table border=\"1\" class=\"dataframe\">\n",
       "  <thead>\n",
       "    <tr style=\"text-align: right;\">\n",
       "      <th></th>\n",
       "      <th>Open</th>\n",
       "      <th>High</th>\n",
       "      <th>Low</th>\n",
       "      <th>Close</th>\n",
       "      <th>Volume</th>\n",
       "      <th>Dividends</th>\n",
       "      <th>Stock Splits</th>\n",
       "    </tr>\n",
       "    <tr>\n",
       "      <th>Date</th>\n",
       "      <th></th>\n",
       "      <th></th>\n",
       "      <th></th>\n",
       "      <th></th>\n",
       "      <th></th>\n",
       "      <th></th>\n",
       "      <th></th>\n",
       "    </tr>\n",
       "  </thead>\n",
       "  <tbody>\n",
       "    <tr>\n",
       "      <th>2021-03-25</th>\n",
       "      <td>52726.746094</td>\n",
       "      <td>53392.386719</td>\n",
       "      <td>50856.570312</td>\n",
       "      <td>51704.160156</td>\n",
       "      <td>67999812841</td>\n",
       "      <td>0</td>\n",
       "      <td>0</td>\n",
       "    </tr>\n",
       "    <tr>\n",
       "      <th>2021-03-26</th>\n",
       "      <td>51683.011719</td>\n",
       "      <td>55137.312500</td>\n",
       "      <td>51579.855469</td>\n",
       "      <td>55137.312500</td>\n",
       "      <td>56652197978</td>\n",
       "      <td>0</td>\n",
       "      <td>0</td>\n",
       "    </tr>\n",
       "    <tr>\n",
       "      <th>2021-03-27</th>\n",
       "      <td>55137.566406</td>\n",
       "      <td>56568.214844</td>\n",
       "      <td>54242.910156</td>\n",
       "      <td>55973.511719</td>\n",
       "      <td>47266542233</td>\n",
       "      <td>0</td>\n",
       "      <td>0</td>\n",
       "    </tr>\n",
       "    <tr>\n",
       "      <th>2021-03-28</th>\n",
       "      <td>55974.941406</td>\n",
       "      <td>56610.312500</td>\n",
       "      <td>55071.113281</td>\n",
       "      <td>55950.746094</td>\n",
       "      <td>47686580918</td>\n",
       "      <td>0</td>\n",
       "      <td>0</td>\n",
       "    </tr>\n",
       "    <tr>\n",
       "      <th>2021-03-29</th>\n",
       "      <td>55947.898438</td>\n",
       "      <td>58342.097656</td>\n",
       "      <td>55139.339844</td>\n",
       "      <td>57750.199219</td>\n",
       "      <td>57625587027</td>\n",
       "      <td>0</td>\n",
       "      <td>0</td>\n",
       "    </tr>\n",
       "    <tr>\n",
       "      <th>...</th>\n",
       "      <td>...</td>\n",
       "      <td>...</td>\n",
       "      <td>...</td>\n",
       "      <td>...</td>\n",
       "      <td>...</td>\n",
       "      <td>...</td>\n",
       "      <td>...</td>\n",
       "    </tr>\n",
       "    <tr>\n",
       "      <th>2021-06-27</th>\n",
       "      <td>32287.523438</td>\n",
       "      <td>34656.128906</td>\n",
       "      <td>32071.757812</td>\n",
       "      <td>34649.644531</td>\n",
       "      <td>35511640894</td>\n",
       "      <td>0</td>\n",
       "      <td>0</td>\n",
       "    </tr>\n",
       "    <tr>\n",
       "      <th>2021-06-28</th>\n",
       "      <td>34679.121094</td>\n",
       "      <td>35219.890625</td>\n",
       "      <td>33902.074219</td>\n",
       "      <td>34434.335938</td>\n",
       "      <td>33892523752</td>\n",
       "      <td>0</td>\n",
       "      <td>0</td>\n",
       "    </tr>\n",
       "    <tr>\n",
       "      <th>2021-06-29</th>\n",
       "      <td>34475.558594</td>\n",
       "      <td>36542.109375</td>\n",
       "      <td>34252.484375</td>\n",
       "      <td>35867.777344</td>\n",
       "      <td>37901460044</td>\n",
       "      <td>0</td>\n",
       "      <td>0</td>\n",
       "    </tr>\n",
       "    <tr>\n",
       "      <th>2021-06-30</th>\n",
       "      <td>35908.386719</td>\n",
       "      <td>36074.757812</td>\n",
       "      <td>34086.152344</td>\n",
       "      <td>35040.835938</td>\n",
       "      <td>34059036099</td>\n",
       "      <td>0</td>\n",
       "      <td>0</td>\n",
       "    </tr>\n",
       "    <tr>\n",
       "      <th>2021-07-01</th>\n",
       "      <td>35035.984375</td>\n",
       "      <td>35035.984375</td>\n",
       "      <td>32883.781250</td>\n",
       "      <td>33572.117188</td>\n",
       "      <td>37838957079</td>\n",
       "      <td>0</td>\n",
       "      <td>0</td>\n",
       "    </tr>\n",
       "  </tbody>\n",
       "</table>\n",
       "<p>99 rows × 7 columns</p>\n",
       "</div>"
      ],
      "text/plain": [
       "                    Open          High           Low         Close  \\\n",
       "Date                                                                 \n",
       "2021-03-25  52726.746094  53392.386719  50856.570312  51704.160156   \n",
       "2021-03-26  51683.011719  55137.312500  51579.855469  55137.312500   \n",
       "2021-03-27  55137.566406  56568.214844  54242.910156  55973.511719   \n",
       "2021-03-28  55974.941406  56610.312500  55071.113281  55950.746094   \n",
       "2021-03-29  55947.898438  58342.097656  55139.339844  57750.199219   \n",
       "...                  ...           ...           ...           ...   \n",
       "2021-06-27  32287.523438  34656.128906  32071.757812  34649.644531   \n",
       "2021-06-28  34679.121094  35219.890625  33902.074219  34434.335938   \n",
       "2021-06-29  34475.558594  36542.109375  34252.484375  35867.777344   \n",
       "2021-06-30  35908.386719  36074.757812  34086.152344  35040.835938   \n",
       "2021-07-01  35035.984375  35035.984375  32883.781250  33572.117188   \n",
       "\n",
       "                 Volume  Dividends  Stock Splits  \n",
       "Date                                              \n",
       "2021-03-25  67999812841          0             0  \n",
       "2021-03-26  56652197978          0             0  \n",
       "2021-03-27  47266542233          0             0  \n",
       "2021-03-28  47686580918          0             0  \n",
       "2021-03-29  57625587027          0             0  \n",
       "...                 ...        ...           ...  \n",
       "2021-06-27  35511640894          0             0  \n",
       "2021-06-28  33892523752          0             0  \n",
       "2021-06-29  37901460044          0             0  \n",
       "2021-06-30  34059036099          0             0  \n",
       "2021-07-01  37838957079          0             0  \n",
       "\n",
       "[99 rows x 7 columns]"
      ]
     },
     "execution_count": 4,
     "metadata": {},
     "output_type": "execute_result"
    }
   ],
   "source": [
    "hist_tick"
   ]
  },
  {
   "cell_type": "code",
   "execution_count": 5,
   "metadata": {},
   "outputs": [],
   "source": [
    "hist_tick.to_csv('BTC.csv')"
   ]
  }
 ],
 "metadata": {
  "kernelspec": {
   "display_name": "Python 3",
   "language": "python",
   "name": "python3"
  },
  "language_info": {
   "codemirror_mode": {
    "name": "ipython",
    "version": 3
   },
   "file_extension": ".py",
   "mimetype": "text/x-python",
   "name": "python",
   "nbconvert_exporter": "python",
   "pygments_lexer": "ipython3",
   "version": "3.8.10"
  }
 },
 "nbformat": 4,
 "nbformat_minor": 4
}
