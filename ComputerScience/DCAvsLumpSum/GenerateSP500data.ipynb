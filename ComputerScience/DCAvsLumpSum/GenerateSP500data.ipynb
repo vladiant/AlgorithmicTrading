{
 "cells": [
  {
   "cell_type": "markdown",
   "metadata": {},
   "source": [
    "# S&P 500 ETF Data for Python Using Yahoo Finance API"
   ]
  },
  {
   "cell_type": "markdown",
   "metadata": {},
   "source": [
    "!pip3 install yfinance"
   ]
  },
  {
   "cell_type": "markdown",
   "metadata": {},
   "source": [
    "Note: Using the Public API (without authentication), you are limited to 2,000 requests per hour per IP (or up to a total of 48,000 requests a day)."
   ]
  },
  {
   "cell_type": "code",
   "execution_count": 1,
   "metadata": {},
   "outputs": [],
   "source": [
    "import yfinance as yf\n",
    "import pandas as pd\n",
    "import requests"
   ]
  },
  {
   "cell_type": "markdown",
   "metadata": {},
   "source": [
    "## Get Historical Market Data"
   ]
  },
  {
   "cell_type": "code",
   "execution_count": 2,
   "metadata": {},
   "outputs": [],
   "source": [
    "tick = \"IVV\""
   ]
  },
  {
   "cell_type": "markdown",
   "metadata": {},
   "source": [
    "Get the closing price for the last 5 years for each tick."
   ]
  },
  {
   "cell_type": "code",
   "execution_count": 3,
   "metadata": {},
   "outputs": [],
   "source": [
    "ticker = yf.Ticker(tick)\n",
    "hist_tick = ticker.history(period=\"10y\")"
   ]
  },
  {
   "cell_type": "code",
   "execution_count": 4,
   "metadata": {},
   "outputs": [
    {
     "data": {
      "text/html": [
       "<div>\n",
       "<style scoped>\n",
       "    .dataframe tbody tr th:only-of-type {\n",
       "        vertical-align: middle;\n",
       "    }\n",
       "\n",
       "    .dataframe tbody tr th {\n",
       "        vertical-align: top;\n",
       "    }\n",
       "\n",
       "    .dataframe thead th {\n",
       "        text-align: right;\n",
       "    }\n",
       "</style>\n",
       "<table border=\"1\" class=\"dataframe\">\n",
       "  <thead>\n",
       "    <tr style=\"text-align: right;\">\n",
       "      <th></th>\n",
       "      <th>Open</th>\n",
       "      <th>High</th>\n",
       "      <th>Low</th>\n",
       "      <th>Close</th>\n",
       "      <th>Volume</th>\n",
       "      <th>Dividends</th>\n",
       "      <th>Stock Splits</th>\n",
       "    </tr>\n",
       "    <tr>\n",
       "      <th>Date</th>\n",
       "      <th></th>\n",
       "      <th></th>\n",
       "      <th></th>\n",
       "      <th></th>\n",
       "      <th></th>\n",
       "      <th></th>\n",
       "      <th></th>\n",
       "    </tr>\n",
       "  </thead>\n",
       "  <tbody>\n",
       "    <tr>\n",
       "      <th>2012-03-02</th>\n",
       "      <td>114.143598</td>\n",
       "      <td>114.250996</td>\n",
       "      <td>113.581850</td>\n",
       "      <td>113.879250</td>\n",
       "      <td>2574000</td>\n",
       "      <td>0.0</td>\n",
       "      <td>0</td>\n",
       "    </tr>\n",
       "    <tr>\n",
       "      <th>2012-03-05</th>\n",
       "      <td>113.614868</td>\n",
       "      <td>113.738779</td>\n",
       "      <td>112.995286</td>\n",
       "      <td>113.408340</td>\n",
       "      <td>2560000</td>\n",
       "      <td>0.0</td>\n",
       "      <td>0</td>\n",
       "    </tr>\n",
       "    <tr>\n",
       "      <th>2012-03-06</th>\n",
       "      <td>112.210520</td>\n",
       "      <td>112.260085</td>\n",
       "      <td>111.392667</td>\n",
       "      <td>111.657028</td>\n",
       "      <td>4195300</td>\n",
       "      <td>0.0</td>\n",
       "      <td>0</td>\n",
       "    </tr>\n",
       "    <tr>\n",
       "      <th>2012-03-07</th>\n",
       "      <td>111.979164</td>\n",
       "      <td>112.673093</td>\n",
       "      <td>111.855240</td>\n",
       "      <td>112.491348</td>\n",
       "      <td>2556000</td>\n",
       "      <td>0.0</td>\n",
       "      <td>0</td>\n",
       "    </tr>\n",
       "    <tr>\n",
       "      <th>2012-03-08</th>\n",
       "      <td>113.185280</td>\n",
       "      <td>113.837914</td>\n",
       "      <td>112.945714</td>\n",
       "      <td>113.598335</td>\n",
       "      <td>2587000</td>\n",
       "      <td>0.0</td>\n",
       "      <td>0</td>\n",
       "    </tr>\n",
       "    <tr>\n",
       "      <th>...</th>\n",
       "      <td>...</td>\n",
       "      <td>...</td>\n",
       "      <td>...</td>\n",
       "      <td>...</td>\n",
       "      <td>...</td>\n",
       "      <td>...</td>\n",
       "      <td>...</td>\n",
       "    </tr>\n",
       "    <tr>\n",
       "      <th>2022-02-23</th>\n",
       "      <td>434.480011</td>\n",
       "      <td>435.149994</td>\n",
       "      <td>423.170013</td>\n",
       "      <td>423.480011</td>\n",
       "      <td>11345100</td>\n",
       "      <td>0.0</td>\n",
       "      <td>0</td>\n",
       "    </tr>\n",
       "    <tr>\n",
       "      <th>2022-02-24</th>\n",
       "      <td>412.799988</td>\n",
       "      <td>430.609985</td>\n",
       "      <td>412.399994</td>\n",
       "      <td>430.140015</td>\n",
       "      <td>19259900</td>\n",
       "      <td>0.0</td>\n",
       "      <td>0</td>\n",
       "    </tr>\n",
       "    <tr>\n",
       "      <th>2022-02-25</th>\n",
       "      <td>431.440002</td>\n",
       "      <td>439.769989</td>\n",
       "      <td>429.760010</td>\n",
       "      <td>439.609985</td>\n",
       "      <td>9651300</td>\n",
       "      <td>0.0</td>\n",
       "      <td>0</td>\n",
       "    </tr>\n",
       "    <tr>\n",
       "      <th>2022-02-28</th>\n",
       "      <td>433.929993</td>\n",
       "      <td>440.119995</td>\n",
       "      <td>432.600006</td>\n",
       "      <td>438.720001</td>\n",
       "      <td>11167900</td>\n",
       "      <td>0.0</td>\n",
       "      <td>0</td>\n",
       "    </tr>\n",
       "    <tr>\n",
       "      <th>2022-03-01</th>\n",
       "      <td>437.000000</td>\n",
       "      <td>439.089996</td>\n",
       "      <td>429.089996</td>\n",
       "      <td>431.920013</td>\n",
       "      <td>14286100</td>\n",
       "      <td>0.0</td>\n",
       "      <td>0</td>\n",
       "    </tr>\n",
       "  </tbody>\n",
       "</table>\n",
       "<p>2516 rows × 7 columns</p>\n",
       "</div>"
      ],
      "text/plain": [
       "                  Open        High         Low       Close    Volume  \\\n",
       "Date                                                                   \n",
       "2012-03-02  114.143598  114.250996  113.581850  113.879250   2574000   \n",
       "2012-03-05  113.614868  113.738779  112.995286  113.408340   2560000   \n",
       "2012-03-06  112.210520  112.260085  111.392667  111.657028   4195300   \n",
       "2012-03-07  111.979164  112.673093  111.855240  112.491348   2556000   \n",
       "2012-03-08  113.185280  113.837914  112.945714  113.598335   2587000   \n",
       "...                ...         ...         ...         ...       ...   \n",
       "2022-02-23  434.480011  435.149994  423.170013  423.480011  11345100   \n",
       "2022-02-24  412.799988  430.609985  412.399994  430.140015  19259900   \n",
       "2022-02-25  431.440002  439.769989  429.760010  439.609985   9651300   \n",
       "2022-02-28  433.929993  440.119995  432.600006  438.720001  11167900   \n",
       "2022-03-01  437.000000  439.089996  429.089996  431.920013  14286100   \n",
       "\n",
       "            Dividends  Stock Splits  \n",
       "Date                                 \n",
       "2012-03-02        0.0             0  \n",
       "2012-03-05        0.0             0  \n",
       "2012-03-06        0.0             0  \n",
       "2012-03-07        0.0             0  \n",
       "2012-03-08        0.0             0  \n",
       "...               ...           ...  \n",
       "2022-02-23        0.0             0  \n",
       "2022-02-24        0.0             0  \n",
       "2022-02-25        0.0             0  \n",
       "2022-02-28        0.0             0  \n",
       "2022-03-01        0.0             0  \n",
       "\n",
       "[2516 rows x 7 columns]"
      ]
     },
     "execution_count": 4,
     "metadata": {},
     "output_type": "execute_result"
    }
   ],
   "source": [
    "hist_tick"
   ]
  },
  {
   "cell_type": "code",
   "execution_count": 5,
   "metadata": {},
   "outputs": [],
   "source": [
    "hist_tick.to_csv('SP500.csv')"
   ]
  }
 ],
 "metadata": {
  "kernelspec": {
   "display_name": "Python 3",
   "language": "python",
   "name": "python3"
  },
  "language_info": {
   "codemirror_mode": {
    "name": "ipython",
    "version": 3
   },
   "file_extension": ".py",
   "mimetype": "text/x-python",
   "name": "python",
   "nbconvert_exporter": "python",
   "pygments_lexer": "ipython3",
   "version": "3.8.10"
  }
 },
 "nbformat": 4,
 "nbformat_minor": 4
}
