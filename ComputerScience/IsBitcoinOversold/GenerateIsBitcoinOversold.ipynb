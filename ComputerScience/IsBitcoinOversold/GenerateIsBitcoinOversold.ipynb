{
 "cells": [
  {
   "cell_type": "markdown",
   "metadata": {},
   "source": [
    "# Crypto Currencies Stock Data for Python Using Yahoo Finance API"
   ]
  },
  {
   "cell_type": "markdown",
   "metadata": {},
   "source": [
    "!pip3 install yfinance"
   ]
  },
  {
   "cell_type": "markdown",
   "metadata": {},
   "source": [
    "Note: Using the Public API (without authentication), you are limited to 2,000 requests per hour per IP (or up to a total of 48,000 requests a day)."
   ]
  },
  {
   "cell_type": "code",
   "execution_count": 1,
   "metadata": {},
   "outputs": [],
   "source": [
    "import yfinance as yf\n",
    "import pandas as pd\n",
    "import requests"
   ]
  },
  {
   "cell_type": "markdown",
   "metadata": {},
   "source": [
    "## Get Historical Market Data"
   ]
  },
  {
   "cell_type": "markdown",
   "metadata": {},
   "source": [
    "Based on [Dogecoin Crypto Currency Analysis](https://www.youtube.com/watch?v=XUsidyuMFsE) from [\n",
    "Computer Science](https://www.youtube.com/channel/UCbmb5IoBtHZTpYZCDBOC1CA) YouTube channel"
   ]
  },
  {
   "cell_type": "code",
   "execution_count": 2,
   "metadata": {},
   "outputs": [],
   "source": [
    "tick = \"BTC-USD\""
   ]
  },
  {
   "cell_type": "markdown",
   "metadata": {},
   "source": [
    "Get the closing price for the last 5 years for each tick."
   ]
  },
  {
   "cell_type": "code",
   "execution_count": 3,
   "metadata": {},
   "outputs": [],
   "source": [
    "ticker = yf.Ticker(tick)\n",
    "hist_tick = ticker.history(start=\"2019-12-09\", end=\"2021-05-22\")"
   ]
  },
  {
   "cell_type": "code",
   "execution_count": 4,
   "metadata": {},
   "outputs": [
    {
     "data": {
      "text/html": [
       "<div>\n",
       "<style scoped>\n",
       "    .dataframe tbody tr th:only-of-type {\n",
       "        vertical-align: middle;\n",
       "    }\n",
       "\n",
       "    .dataframe tbody tr th {\n",
       "        vertical-align: top;\n",
       "    }\n",
       "\n",
       "    .dataframe thead th {\n",
       "        text-align: right;\n",
       "    }\n",
       "</style>\n",
       "<table border=\"1\" class=\"dataframe\">\n",
       "  <thead>\n",
       "    <tr style=\"text-align: right;\">\n",
       "      <th></th>\n",
       "      <th>Open</th>\n",
       "      <th>High</th>\n",
       "      <th>Low</th>\n",
       "      <th>Close</th>\n",
       "      <th>Volume</th>\n",
       "      <th>Dividends</th>\n",
       "      <th>Stock Splits</th>\n",
       "    </tr>\n",
       "    <tr>\n",
       "      <th>Date</th>\n",
       "      <th></th>\n",
       "      <th></th>\n",
       "      <th></th>\n",
       "      <th></th>\n",
       "      <th></th>\n",
       "      <th></th>\n",
       "      <th></th>\n",
       "    </tr>\n",
       "  </thead>\n",
       "  <tbody>\n",
       "    <tr>\n",
       "      <th>2019-12-08</th>\n",
       "      <td>7551.338867</td>\n",
       "      <td>7634.606445</td>\n",
       "      <td>7476.091309</td>\n",
       "      <td>7564.345215</td>\n",
       "      <td>15409908086</td>\n",
       "      <td>0</td>\n",
       "      <td>0</td>\n",
       "    </tr>\n",
       "    <tr>\n",
       "      <th>2019-12-09</th>\n",
       "      <td>7561.795410</td>\n",
       "      <td>7618.091797</td>\n",
       "      <td>7365.985352</td>\n",
       "      <td>7400.899414</td>\n",
       "      <td>17872021272</td>\n",
       "      <td>0</td>\n",
       "      <td>0</td>\n",
       "    </tr>\n",
       "    <tr>\n",
       "      <th>2019-12-10</th>\n",
       "      <td>7397.134277</td>\n",
       "      <td>7424.022949</td>\n",
       "      <td>7246.043945</td>\n",
       "      <td>7278.119629</td>\n",
       "      <td>18249031195</td>\n",
       "      <td>0</td>\n",
       "      <td>0</td>\n",
       "    </tr>\n",
       "    <tr>\n",
       "      <th>2019-12-11</th>\n",
       "      <td>7277.197754</td>\n",
       "      <td>7324.156250</td>\n",
       "      <td>7195.527344</td>\n",
       "      <td>7217.427246</td>\n",
       "      <td>16350490689</td>\n",
       "      <td>0</td>\n",
       "      <td>0</td>\n",
       "    </tr>\n",
       "    <tr>\n",
       "      <th>2019-12-12</th>\n",
       "      <td>7216.738770</td>\n",
       "      <td>7266.639648</td>\n",
       "      <td>7164.741211</td>\n",
       "      <td>7243.134277</td>\n",
       "      <td>18927080224</td>\n",
       "      <td>0</td>\n",
       "      <td>0</td>\n",
       "    </tr>\n",
       "    <tr>\n",
       "      <th>...</th>\n",
       "      <td>...</td>\n",
       "      <td>...</td>\n",
       "      <td>...</td>\n",
       "      <td>...</td>\n",
       "      <td>...</td>\n",
       "      <td>...</td>\n",
       "      <td>...</td>\n",
       "    </tr>\n",
       "    <tr>\n",
       "      <th>2021-05-17</th>\n",
       "      <td>46415.898438</td>\n",
       "      <td>46623.558594</td>\n",
       "      <td>42207.289062</td>\n",
       "      <td>43537.511719</td>\n",
       "      <td>74903638450</td>\n",
       "      <td>0</td>\n",
       "      <td>0</td>\n",
       "    </tr>\n",
       "    <tr>\n",
       "      <th>2021-05-18</th>\n",
       "      <td>43488.058594</td>\n",
       "      <td>45812.457031</td>\n",
       "      <td>42367.832031</td>\n",
       "      <td>42909.402344</td>\n",
       "      <td>56187365084</td>\n",
       "      <td>0</td>\n",
       "      <td>0</td>\n",
       "    </tr>\n",
       "    <tr>\n",
       "      <th>2021-05-19</th>\n",
       "      <td>42944.976562</td>\n",
       "      <td>43546.117188</td>\n",
       "      <td>30681.496094</td>\n",
       "      <td>37002.441406</td>\n",
       "      <td>126358098747</td>\n",
       "      <td>0</td>\n",
       "      <td>0</td>\n",
       "    </tr>\n",
       "    <tr>\n",
       "      <th>2021-05-20</th>\n",
       "      <td>36753.667969</td>\n",
       "      <td>42462.984375</td>\n",
       "      <td>35050.617188</td>\n",
       "      <td>40782.738281</td>\n",
       "      <td>88281943359</td>\n",
       "      <td>0</td>\n",
       "      <td>0</td>\n",
       "    </tr>\n",
       "    <tr>\n",
       "      <th>2021-05-21</th>\n",
       "      <td>40596.949219</td>\n",
       "      <td>42172.171875</td>\n",
       "      <td>33616.453125</td>\n",
       "      <td>37304.691406</td>\n",
       "      <td>82051616861</td>\n",
       "      <td>0</td>\n",
       "      <td>0</td>\n",
       "    </tr>\n",
       "  </tbody>\n",
       "</table>\n",
       "<p>527 rows × 7 columns</p>\n",
       "</div>"
      ],
      "text/plain": [
       "                    Open          High           Low         Close  \\\n",
       "Date                                                                 \n",
       "2019-12-08   7551.338867   7634.606445   7476.091309   7564.345215   \n",
       "2019-12-09   7561.795410   7618.091797   7365.985352   7400.899414   \n",
       "2019-12-10   7397.134277   7424.022949   7246.043945   7278.119629   \n",
       "2019-12-11   7277.197754   7324.156250   7195.527344   7217.427246   \n",
       "2019-12-12   7216.738770   7266.639648   7164.741211   7243.134277   \n",
       "...                  ...           ...           ...           ...   \n",
       "2021-05-17  46415.898438  46623.558594  42207.289062  43537.511719   \n",
       "2021-05-18  43488.058594  45812.457031  42367.832031  42909.402344   \n",
       "2021-05-19  42944.976562  43546.117188  30681.496094  37002.441406   \n",
       "2021-05-20  36753.667969  42462.984375  35050.617188  40782.738281   \n",
       "2021-05-21  40596.949219  42172.171875  33616.453125  37304.691406   \n",
       "\n",
       "                  Volume  Dividends  Stock Splits  \n",
       "Date                                               \n",
       "2019-12-08   15409908086          0             0  \n",
       "2019-12-09   17872021272          0             0  \n",
       "2019-12-10   18249031195          0             0  \n",
       "2019-12-11   16350490689          0             0  \n",
       "2019-12-12   18927080224          0             0  \n",
       "...                  ...        ...           ...  \n",
       "2021-05-17   74903638450          0             0  \n",
       "2021-05-18   56187365084          0             0  \n",
       "2021-05-19  126358098747          0             0  \n",
       "2021-05-20   88281943359          0             0  \n",
       "2021-05-21   82051616861          0             0  \n",
       "\n",
       "[527 rows x 7 columns]"
      ]
     },
     "execution_count": 4,
     "metadata": {},
     "output_type": "execute_result"
    }
   ],
   "source": [
    "hist_tick"
   ]
  },
  {
   "cell_type": "code",
   "execution_count": 5,
   "metadata": {},
   "outputs": [],
   "source": [
    "hist_tick.to_csv('BTC.csv')"
   ]
  }
 ],
 "metadata": {
  "kernelspec": {
   "display_name": "Python 3",
   "language": "python",
   "name": "python3"
  },
  "language_info": {
   "codemirror_mode": {
    "name": "ipython",
    "version": 3
   },
   "file_extension": ".py",
   "mimetype": "text/x-python",
   "name": "python",
   "nbconvert_exporter": "python",
   "pygments_lexer": "ipython3",
   "version": "3.8.5"
  }
 },
 "nbformat": 4,
 "nbformat_minor": 4
}
