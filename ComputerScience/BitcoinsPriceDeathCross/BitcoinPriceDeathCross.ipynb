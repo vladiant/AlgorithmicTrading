{
 "cells": [
  {
   "cell_type": "markdown",
   "metadata": {},
   "source": [
    "# Death Cross Analysis of Bitcoins Price"
   ]
  },
  {
   "cell_type": "markdown",
   "metadata": {},
   "source": [
    "Based on [Use Python & Death Cross to Determine if Bitcoins Price will Fall](https://www.youtube.com/watch?v=EvcL_hgJQSg) from [Computer Science](https://www.youtube.com/channel/UCbmb5IoBtHZTpYZCDBOC1CA)"
   ]
  },
  {
   "cell_type": "markdown",
   "metadata": {},
   "source": [
    "**Disclaimer:** _Investing in the stock market involves risk and can lead to monetary loss. This material is purely for educational purposes and should not be taken as professional investment advice. Invest at your own discretion._"
   ]
  },
  {
   "cell_type": "code",
   "execution_count": 1,
   "metadata": {},
   "outputs": [],
   "source": [
    "import numpy as np\n",
    "import pandas as pd\n",
    "import matplotlib.pyplot as plt"
   ]
  },
  {
   "cell_type": "code",
   "execution_count": 2,
   "metadata": {},
   "outputs": [],
   "source": [
    "plt.style.use('fivethirtyeight')"
   ]
  },
  {
   "cell_type": "markdown",
   "metadata": {},
   "source": [
    "## Load Bitcoin data"
   ]
  },
  {
   "cell_type": "code",
   "execution_count": 3,
   "metadata": {},
   "outputs": [],
   "source": [
    "df = pd.read_csv('BTC.csv')"
   ]
  },
  {
   "cell_type": "markdown",
   "metadata": {},
   "source": [
    "Show the data"
   ]
  },
  {
   "cell_type": "code",
   "execution_count": 4,
   "metadata": {},
   "outputs": [
    {
     "data": {
      "text/html": [
       "<div>\n",
       "<style scoped>\n",
       "    .dataframe tbody tr th:only-of-type {\n",
       "        vertical-align: middle;\n",
       "    }\n",
       "\n",
       "    .dataframe tbody tr th {\n",
       "        vertical-align: top;\n",
       "    }\n",
       "\n",
       "    .dataframe thead th {\n",
       "        text-align: right;\n",
       "    }\n",
       "</style>\n",
       "<table border=\"1\" class=\"dataframe\">\n",
       "  <thead>\n",
       "    <tr style=\"text-align: right;\">\n",
       "      <th></th>\n",
       "      <th>Date</th>\n",
       "      <th>Open</th>\n",
       "      <th>High</th>\n",
       "      <th>Low</th>\n",
       "      <th>Close</th>\n",
       "      <th>Volume</th>\n",
       "      <th>Dividends</th>\n",
       "      <th>Stock Splits</th>\n",
       "    </tr>\n",
       "  </thead>\n",
       "  <tbody>\n",
       "    <tr>\n",
       "      <th>0</th>\n",
       "      <td>2016-12-15</td>\n",
       "      <td>780.070007</td>\n",
       "      <td>781.434998</td>\n",
       "      <td>777.802002</td>\n",
       "      <td>778.088013</td>\n",
       "      <td>81580096</td>\n",
       "      <td>0</td>\n",
       "      <td>0</td>\n",
       "    </tr>\n",
       "    <tr>\n",
       "      <th>1</th>\n",
       "      <td>2016-12-16</td>\n",
       "      <td>778.963013</td>\n",
       "      <td>785.031982</td>\n",
       "      <td>778.963013</td>\n",
       "      <td>784.906982</td>\n",
       "      <td>83608200</td>\n",
       "      <td>0</td>\n",
       "      <td>0</td>\n",
       "    </tr>\n",
       "    <tr>\n",
       "      <th>2</th>\n",
       "      <td>2016-12-17</td>\n",
       "      <td>785.166016</td>\n",
       "      <td>792.508972</td>\n",
       "      <td>784.864014</td>\n",
       "      <td>790.828979</td>\n",
       "      <td>78989800</td>\n",
       "      <td>0</td>\n",
       "      <td>0</td>\n",
       "    </tr>\n",
       "    <tr>\n",
       "      <th>3</th>\n",
       "      <td>2016-12-18</td>\n",
       "      <td>791.007996</td>\n",
       "      <td>794.737000</td>\n",
       "      <td>788.026001</td>\n",
       "      <td>790.530029</td>\n",
       "      <td>60524400</td>\n",
       "      <td>0</td>\n",
       "      <td>0</td>\n",
       "    </tr>\n",
       "    <tr>\n",
       "      <th>4</th>\n",
       "      <td>2016-12-19</td>\n",
       "      <td>790.692017</td>\n",
       "      <td>793.611023</td>\n",
       "      <td>790.320007</td>\n",
       "      <td>792.713989</td>\n",
       "      <td>74886400</td>\n",
       "      <td>0</td>\n",
       "      <td>0</td>\n",
       "    </tr>\n",
       "    <tr>\n",
       "      <th>...</th>\n",
       "      <td>...</td>\n",
       "      <td>...</td>\n",
       "      <td>...</td>\n",
       "      <td>...</td>\n",
       "      <td>...</td>\n",
       "      <td>...</td>\n",
       "      <td>...</td>\n",
       "      <td>...</td>\n",
       "    </tr>\n",
       "    <tr>\n",
       "      <th>1643</th>\n",
       "      <td>2021-06-19</td>\n",
       "      <td>35854.527344</td>\n",
       "      <td>36457.796875</td>\n",
       "      <td>34933.062500</td>\n",
       "      <td>35615.871094</td>\n",
       "      <td>31207279719</td>\n",
       "      <td>0</td>\n",
       "      <td>0</td>\n",
       "    </tr>\n",
       "    <tr>\n",
       "      <th>1644</th>\n",
       "      <td>2021-06-20</td>\n",
       "      <td>35563.140625</td>\n",
       "      <td>36059.484375</td>\n",
       "      <td>33432.074219</td>\n",
       "      <td>35698.296875</td>\n",
       "      <td>36664034054</td>\n",
       "      <td>0</td>\n",
       "      <td>0</td>\n",
       "    </tr>\n",
       "    <tr>\n",
       "      <th>1645</th>\n",
       "      <td>2021-06-21</td>\n",
       "      <td>35641.144531</td>\n",
       "      <td>35721.640625</td>\n",
       "      <td>31295.935547</td>\n",
       "      <td>31676.693359</td>\n",
       "      <td>52809038594</td>\n",
       "      <td>0</td>\n",
       "      <td>0</td>\n",
       "    </tr>\n",
       "    <tr>\n",
       "      <th>1646</th>\n",
       "      <td>2021-06-22</td>\n",
       "      <td>31622.376953</td>\n",
       "      <td>33292.453125</td>\n",
       "      <td>28893.621094</td>\n",
       "      <td>32505.660156</td>\n",
       "      <td>58964353058</td>\n",
       "      <td>0</td>\n",
       "      <td>0</td>\n",
       "    </tr>\n",
       "    <tr>\n",
       "      <th>1647</th>\n",
       "      <td>2021-06-23</td>\n",
       "      <td>32515.714844</td>\n",
       "      <td>34753.410156</td>\n",
       "      <td>31772.632812</td>\n",
       "      <td>33723.027344</td>\n",
       "      <td>46317108925</td>\n",
       "      <td>0</td>\n",
       "      <td>0</td>\n",
       "    </tr>\n",
       "  </tbody>\n",
       "</table>\n",
       "<p>1648 rows × 8 columns</p>\n",
       "</div>"
      ],
      "text/plain": [
       "            Date          Open          High           Low         Close  \\\n",
       "0     2016-12-15    780.070007    781.434998    777.802002    778.088013   \n",
       "1     2016-12-16    778.963013    785.031982    778.963013    784.906982   \n",
       "2     2016-12-17    785.166016    792.508972    784.864014    790.828979   \n",
       "3     2016-12-18    791.007996    794.737000    788.026001    790.530029   \n",
       "4     2016-12-19    790.692017    793.611023    790.320007    792.713989   \n",
       "...          ...           ...           ...           ...           ...   \n",
       "1643  2021-06-19  35854.527344  36457.796875  34933.062500  35615.871094   \n",
       "1644  2021-06-20  35563.140625  36059.484375  33432.074219  35698.296875   \n",
       "1645  2021-06-21  35641.144531  35721.640625  31295.935547  31676.693359   \n",
       "1646  2021-06-22  31622.376953  33292.453125  28893.621094  32505.660156   \n",
       "1647  2021-06-23  32515.714844  34753.410156  31772.632812  33723.027344   \n",
       "\n",
       "           Volume  Dividends  Stock Splits  \n",
       "0        81580096          0             0  \n",
       "1        83608200          0             0  \n",
       "2        78989800          0             0  \n",
       "3        60524400          0             0  \n",
       "4        74886400          0             0  \n",
       "...           ...        ...           ...  \n",
       "1643  31207279719          0             0  \n",
       "1644  36664034054          0             0  \n",
       "1645  52809038594          0             0  \n",
       "1646  58964353058          0             0  \n",
       "1647  46317108925          0             0  \n",
       "\n",
       "[1648 rows x 8 columns]"
      ]
     },
     "execution_count": 4,
     "metadata": {},
     "output_type": "execute_result"
    }
   ],
   "source": [
    "df"
   ]
  },
  {
   "cell_type": "markdown",
   "metadata": {},
   "source": [
    "Set the date as the index"
   ]
  },
  {
   "cell_type": "code",
   "execution_count": 5,
   "metadata": {},
   "outputs": [],
   "source": [
    "df = df.set_index(pd.DatetimeIndex(df['Date'].values))"
   ]
  },
  {
   "cell_type": "code",
   "execution_count": 6,
   "metadata": {},
   "outputs": [
    {
     "data": {
      "text/html": [
       "<div>\n",
       "<style scoped>\n",
       "    .dataframe tbody tr th:only-of-type {\n",
       "        vertical-align: middle;\n",
       "    }\n",
       "\n",
       "    .dataframe tbody tr th {\n",
       "        vertical-align: top;\n",
       "    }\n",
       "\n",
       "    .dataframe thead th {\n",
       "        text-align: right;\n",
       "    }\n",
       "</style>\n",
       "<table border=\"1\" class=\"dataframe\">\n",
       "  <thead>\n",
       "    <tr style=\"text-align: right;\">\n",
       "      <th></th>\n",
       "      <th>Date</th>\n",
       "      <th>Open</th>\n",
       "      <th>High</th>\n",
       "      <th>Low</th>\n",
       "      <th>Close</th>\n",
       "      <th>Volume</th>\n",
       "      <th>Dividends</th>\n",
       "      <th>Stock Splits</th>\n",
       "    </tr>\n",
       "  </thead>\n",
       "  <tbody>\n",
       "    <tr>\n",
       "      <th>2016-12-15</th>\n",
       "      <td>2016-12-15</td>\n",
       "      <td>780.070007</td>\n",
       "      <td>781.434998</td>\n",
       "      <td>777.802002</td>\n",
       "      <td>778.088013</td>\n",
       "      <td>81580096</td>\n",
       "      <td>0</td>\n",
       "      <td>0</td>\n",
       "    </tr>\n",
       "    <tr>\n",
       "      <th>2016-12-16</th>\n",
       "      <td>2016-12-16</td>\n",
       "      <td>778.963013</td>\n",
       "      <td>785.031982</td>\n",
       "      <td>778.963013</td>\n",
       "      <td>784.906982</td>\n",
       "      <td>83608200</td>\n",
       "      <td>0</td>\n",
       "      <td>0</td>\n",
       "    </tr>\n",
       "    <tr>\n",
       "      <th>2016-12-17</th>\n",
       "      <td>2016-12-17</td>\n",
       "      <td>785.166016</td>\n",
       "      <td>792.508972</td>\n",
       "      <td>784.864014</td>\n",
       "      <td>790.828979</td>\n",
       "      <td>78989800</td>\n",
       "      <td>0</td>\n",
       "      <td>0</td>\n",
       "    </tr>\n",
       "    <tr>\n",
       "      <th>2016-12-18</th>\n",
       "      <td>2016-12-18</td>\n",
       "      <td>791.007996</td>\n",
       "      <td>794.737000</td>\n",
       "      <td>788.026001</td>\n",
       "      <td>790.530029</td>\n",
       "      <td>60524400</td>\n",
       "      <td>0</td>\n",
       "      <td>0</td>\n",
       "    </tr>\n",
       "    <tr>\n",
       "      <th>2016-12-19</th>\n",
       "      <td>2016-12-19</td>\n",
       "      <td>790.692017</td>\n",
       "      <td>793.611023</td>\n",
       "      <td>790.320007</td>\n",
       "      <td>792.713989</td>\n",
       "      <td>74886400</td>\n",
       "      <td>0</td>\n",
       "      <td>0</td>\n",
       "    </tr>\n",
       "    <tr>\n",
       "      <th>...</th>\n",
       "      <td>...</td>\n",
       "      <td>...</td>\n",
       "      <td>...</td>\n",
       "      <td>...</td>\n",
       "      <td>...</td>\n",
       "      <td>...</td>\n",
       "      <td>...</td>\n",
       "      <td>...</td>\n",
       "    </tr>\n",
       "    <tr>\n",
       "      <th>2021-06-19</th>\n",
       "      <td>2021-06-19</td>\n",
       "      <td>35854.527344</td>\n",
       "      <td>36457.796875</td>\n",
       "      <td>34933.062500</td>\n",
       "      <td>35615.871094</td>\n",
       "      <td>31207279719</td>\n",
       "      <td>0</td>\n",
       "      <td>0</td>\n",
       "    </tr>\n",
       "    <tr>\n",
       "      <th>2021-06-20</th>\n",
       "      <td>2021-06-20</td>\n",
       "      <td>35563.140625</td>\n",
       "      <td>36059.484375</td>\n",
       "      <td>33432.074219</td>\n",
       "      <td>35698.296875</td>\n",
       "      <td>36664034054</td>\n",
       "      <td>0</td>\n",
       "      <td>0</td>\n",
       "    </tr>\n",
       "    <tr>\n",
       "      <th>2021-06-21</th>\n",
       "      <td>2021-06-21</td>\n",
       "      <td>35641.144531</td>\n",
       "      <td>35721.640625</td>\n",
       "      <td>31295.935547</td>\n",
       "      <td>31676.693359</td>\n",
       "      <td>52809038594</td>\n",
       "      <td>0</td>\n",
       "      <td>0</td>\n",
       "    </tr>\n",
       "    <tr>\n",
       "      <th>2021-06-22</th>\n",
       "      <td>2021-06-22</td>\n",
       "      <td>31622.376953</td>\n",
       "      <td>33292.453125</td>\n",
       "      <td>28893.621094</td>\n",
       "      <td>32505.660156</td>\n",
       "      <td>58964353058</td>\n",
       "      <td>0</td>\n",
       "      <td>0</td>\n",
       "    </tr>\n",
       "    <tr>\n",
       "      <th>2021-06-23</th>\n",
       "      <td>2021-06-23</td>\n",
       "      <td>32515.714844</td>\n",
       "      <td>34753.410156</td>\n",
       "      <td>31772.632812</td>\n",
       "      <td>33723.027344</td>\n",
       "      <td>46317108925</td>\n",
       "      <td>0</td>\n",
       "      <td>0</td>\n",
       "    </tr>\n",
       "  </tbody>\n",
       "</table>\n",
       "<p>1648 rows × 8 columns</p>\n",
       "</div>"
      ],
      "text/plain": [
       "                  Date          Open          High           Low  \\\n",
       "2016-12-15  2016-12-15    780.070007    781.434998    777.802002   \n",
       "2016-12-16  2016-12-16    778.963013    785.031982    778.963013   \n",
       "2016-12-17  2016-12-17    785.166016    792.508972    784.864014   \n",
       "2016-12-18  2016-12-18    791.007996    794.737000    788.026001   \n",
       "2016-12-19  2016-12-19    790.692017    793.611023    790.320007   \n",
       "...                ...           ...           ...           ...   \n",
       "2021-06-19  2021-06-19  35854.527344  36457.796875  34933.062500   \n",
       "2021-06-20  2021-06-20  35563.140625  36059.484375  33432.074219   \n",
       "2021-06-21  2021-06-21  35641.144531  35721.640625  31295.935547   \n",
       "2021-06-22  2021-06-22  31622.376953  33292.453125  28893.621094   \n",
       "2021-06-23  2021-06-23  32515.714844  34753.410156  31772.632812   \n",
       "\n",
       "                   Close       Volume  Dividends  Stock Splits  \n",
       "2016-12-15    778.088013     81580096          0             0  \n",
       "2016-12-16    784.906982     83608200          0             0  \n",
       "2016-12-17    790.828979     78989800          0             0  \n",
       "2016-12-18    790.530029     60524400          0             0  \n",
       "2016-12-19    792.713989     74886400          0             0  \n",
       "...                  ...          ...        ...           ...  \n",
       "2021-06-19  35615.871094  31207279719          0             0  \n",
       "2021-06-20  35698.296875  36664034054          0             0  \n",
       "2021-06-21  31676.693359  52809038594          0             0  \n",
       "2021-06-22  32505.660156  58964353058          0             0  \n",
       "2021-06-23  33723.027344  46317108925          0             0  \n",
       "\n",
       "[1648 rows x 8 columns]"
      ]
     },
     "execution_count": 6,
     "metadata": {},
     "output_type": "execute_result"
    }
   ],
   "source": [
    "df"
   ]
  },
  {
   "cell_type": "markdown",
   "metadata": {},
   "source": [
    "Create a function to get the simple movinga average (SMA)"
   ]
  },
  {
   "cell_type": "code",
   "execution_count": 7,
   "metadata": {},
   "outputs": [],
   "source": [
    "def SMA(data, period=30, column='Close'):\n",
    "    return data[column].rolling(window=period).mean()"
   ]
  },
  {
   "cell_type": "markdown",
   "metadata": {},
   "source": [
    "Create new columns to store the Short term SMA and Long term SMA"
   ]
  },
  {
   "cell_type": "code",
   "execution_count": 8,
   "metadata": {},
   "outputs": [],
   "source": [
    "df['ShortSMA'] = SMA(df, 50)\n",
    "df['LongSMA'] = SMA(df, 200)"
   ]
  },
  {
   "cell_type": "markdown",
   "metadata": {},
   "source": [
    "## Plot the chart"
   ]
  },
  {
   "cell_type": "markdown",
   "metadata": {},
   "source": [
    "List of columns to show"
   ]
  },
  {
   "cell_type": "code",
   "execution_count": 9,
   "metadata": {},
   "outputs": [],
   "source": [
    "column_list = ['ShortSMA', 'LongSMA', 'Close']"
   ]
  },
  {
   "cell_type": "code",
   "execution_count": 10,
   "metadata": {},
   "outputs": [
    {
     "data": {
      "image/png": "[encoded data removed]",
      "text/plain": [
       "<Figure size 878.4x460.8 with 1 Axes>"
      ]
     },
     "metadata": {},
     "output_type": "display_data"
    }
   ],
   "source": [
    "df[column_list].plot(figsize=(12.2, 6.4))\n",
    "plt.title('Death / Golden Cross')\n",
    "plt.show()"
   ]
  },
  {
   "cell_type": "markdown",
   "metadata": {},
   "source": [
    "Create a function to see the dates of each death cross and golden cross within the dataset"
   ]
  },
  {
   "cell_type": "code",
   "execution_count": 11,
   "metadata": {},
   "outputs": [],
   "source": [
    "def death_golden_cross():\n",
    "    first_cross = 0\n",
    "    # Loop through the length of the dataset \n",
    "    for i in range(0, len(df)):\n",
    "        if df['ShortSMA'][i] < df['LongSMA'][i] and first_cross == 0:\n",
    "            print('Death cross on day', df.index[i], ': expect the price to continue to fall')\n",
    "            first_cross = 1\n",
    "        elif df['ShortSMA'][i] > df['LongSMA'][i] and first_cross == 1:\n",
    "            print('Golden cross on day', df.index[i], ': expect the price to continue to rise')\n",
    "            first_cross = 0            "
   ]
  },
  {
   "cell_type": "markdown",
   "metadata": {},
   "source": [
    "Show the dates of each golden cross and each death cross"
   ]
  },
  {
   "cell_type": "code",
   "execution_count": 12,
   "metadata": {},
   "outputs": [
    {
     "name": "stdout",
     "output_type": "stream",
     "text": [
      "Death cross on day 2018-03-30 00:00:00 : expect the price to continue to fall\n",
      "Golden cross on day 2019-04-24 00:00:00 : expect the price to continue to rise\n",
      "Death cross on day 2019-10-26 00:00:00 : expect the price to continue to fall\n",
      "Golden cross on day 2020-02-19 00:00:00 : expect the price to continue to rise\n",
      "Death cross on day 2020-03-25 00:00:00 : expect the price to continue to fall\n",
      "Golden cross on day 2020-05-21 00:00:00 : expect the price to continue to rise\n",
      "Death cross on day 2021-06-19 00:00:00 : expect the price to continue to fall\n"
     ]
    }
   ],
   "source": [
    "death_golden_cross()"
   ]
  },
  {
   "cell_type": "markdown",
   "metadata": {},
   "source": [
    "**THIS IS NOT AN INVESTMENT ADVICE!**"
   ]
  }
 ],
 "metadata": {
  "kernelspec": {
   "display_name": "Python 3",
   "language": "python",
   "name": "python3"
  },
  "language_info": {
   "codemirror_mode": {
    "name": "ipython",
    "version": 3
   },
   "file_extension": ".py",
   "mimetype": "text/x-python",
   "name": "python",
   "nbconvert_exporter": "python",
   "pygments_lexer": "ipython3",
   "version": "3.8.5"
  }
 },
 "nbformat": 4,
 "nbformat_minor": 4
}
