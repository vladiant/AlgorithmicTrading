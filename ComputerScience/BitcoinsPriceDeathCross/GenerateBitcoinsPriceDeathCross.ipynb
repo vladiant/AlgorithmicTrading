{
 "cells": [
  {
   "cell_type": "markdown",
   "metadata": {},
   "source": [
    "# Crypto Currencies Stock Data for Python Using Yahoo Finance API"
   ]
  },
  {
   "cell_type": "markdown",
   "metadata": {},
   "source": [
    "!pip3 install yfinance"
   ]
  },
  {
   "cell_type": "markdown",
   "metadata": {},
   "source": [
    "Note: Using the Public API (without authentication), you are limited to 2,000 requests per hour per IP (or up to a total of 48,000 requests a day)."
   ]
  },
  {
   "cell_type": "code",
   "execution_count": 6,
   "metadata": {},
   "outputs": [],
   "source": [
    "import yfinance as yf\n",
    "import pandas as pd\n",
    "import requests"
   ]
  },
  {
   "cell_type": "markdown",
   "metadata": {},
   "source": [
    "## Get Historical Market Data"
   ]
  },
  {
   "cell_type": "code",
   "execution_count": 7,
   "metadata": {},
   "outputs": [],
   "source": [
    "tick = \"BTC-USD\""
   ]
  },
  {
   "cell_type": "markdown",
   "metadata": {},
   "source": [
    "Get the closing price for the last 5 years for each tick."
   ]
  },
  {
   "cell_type": "code",
   "execution_count": 8,
   "metadata": {},
   "outputs": [],
   "source": [
    "ticker = yf.Ticker(tick)\n",
    "hist_tick = ticker.history(start=\"2016-12-16\", end=\"2021-06-24\")"
   ]
  },
  {
   "cell_type": "code",
   "execution_count": 9,
   "metadata": {},
   "outputs": [
    {
     "data": {
      "text/html": [
       "<div>\n",
       "<style scoped>\n",
       "    .dataframe tbody tr th:only-of-type {\n",
       "        vertical-align: middle;\n",
       "    }\n",
       "\n",
       "    .dataframe tbody tr th {\n",
       "        vertical-align: top;\n",
       "    }\n",
       "\n",
       "    .dataframe thead th {\n",
       "        text-align: right;\n",
       "    }\n",
       "</style>\n",
       "<table border=\"1\" class=\"dataframe\">\n",
       "  <thead>\n",
       "    <tr style=\"text-align: right;\">\n",
       "      <th></th>\n",
       "      <th>Open</th>\n",
       "      <th>High</th>\n",
       "      <th>Low</th>\n",
       "      <th>Close</th>\n",
       "      <th>Volume</th>\n",
       "      <th>Dividends</th>\n",
       "      <th>Stock Splits</th>\n",
       "    </tr>\n",
       "    <tr>\n",
       "      <th>Date</th>\n",
       "      <th></th>\n",
       "      <th></th>\n",
       "      <th></th>\n",
       "      <th></th>\n",
       "      <th></th>\n",
       "      <th></th>\n",
       "      <th></th>\n",
       "    </tr>\n",
       "  </thead>\n",
       "  <tbody>\n",
       "    <tr>\n",
       "      <th>2016-12-15</th>\n",
       "      <td>780.070007</td>\n",
       "      <td>781.434998</td>\n",
       "      <td>777.802002</td>\n",
       "      <td>778.088013</td>\n",
       "      <td>81580096</td>\n",
       "      <td>0</td>\n",
       "      <td>0</td>\n",
       "    </tr>\n",
       "    <tr>\n",
       "      <th>2016-12-16</th>\n",
       "      <td>778.963013</td>\n",
       "      <td>785.031982</td>\n",
       "      <td>778.963013</td>\n",
       "      <td>784.906982</td>\n",
       "      <td>83608200</td>\n",
       "      <td>0</td>\n",
       "      <td>0</td>\n",
       "    </tr>\n",
       "    <tr>\n",
       "      <th>2016-12-17</th>\n",
       "      <td>785.166016</td>\n",
       "      <td>792.508972</td>\n",
       "      <td>784.864014</td>\n",
       "      <td>790.828979</td>\n",
       "      <td>78989800</td>\n",
       "      <td>0</td>\n",
       "      <td>0</td>\n",
       "    </tr>\n",
       "    <tr>\n",
       "      <th>2016-12-18</th>\n",
       "      <td>791.007996</td>\n",
       "      <td>794.737000</td>\n",
       "      <td>788.026001</td>\n",
       "      <td>790.530029</td>\n",
       "      <td>60524400</td>\n",
       "      <td>0</td>\n",
       "      <td>0</td>\n",
       "    </tr>\n",
       "    <tr>\n",
       "      <th>2016-12-19</th>\n",
       "      <td>790.692017</td>\n",
       "      <td>793.611023</td>\n",
       "      <td>790.320007</td>\n",
       "      <td>792.713989</td>\n",
       "      <td>74886400</td>\n",
       "      <td>0</td>\n",
       "      <td>0</td>\n",
       "    </tr>\n",
       "    <tr>\n",
       "      <th>...</th>\n",
       "      <td>...</td>\n",
       "      <td>...</td>\n",
       "      <td>...</td>\n",
       "      <td>...</td>\n",
       "      <td>...</td>\n",
       "      <td>...</td>\n",
       "      <td>...</td>\n",
       "    </tr>\n",
       "    <tr>\n",
       "      <th>2021-06-19</th>\n",
       "      <td>35854.527344</td>\n",
       "      <td>36457.796875</td>\n",
       "      <td>34933.062500</td>\n",
       "      <td>35615.871094</td>\n",
       "      <td>31207279719</td>\n",
       "      <td>0</td>\n",
       "      <td>0</td>\n",
       "    </tr>\n",
       "    <tr>\n",
       "      <th>2021-06-20</th>\n",
       "      <td>35563.140625</td>\n",
       "      <td>36059.484375</td>\n",
       "      <td>33432.074219</td>\n",
       "      <td>35698.296875</td>\n",
       "      <td>36664034054</td>\n",
       "      <td>0</td>\n",
       "      <td>0</td>\n",
       "    </tr>\n",
       "    <tr>\n",
       "      <th>2021-06-21</th>\n",
       "      <td>35641.144531</td>\n",
       "      <td>35721.640625</td>\n",
       "      <td>31295.935547</td>\n",
       "      <td>31676.693359</td>\n",
       "      <td>52809038594</td>\n",
       "      <td>0</td>\n",
       "      <td>0</td>\n",
       "    </tr>\n",
       "    <tr>\n",
       "      <th>2021-06-22</th>\n",
       "      <td>31622.376953</td>\n",
       "      <td>33292.453125</td>\n",
       "      <td>28893.621094</td>\n",
       "      <td>32505.660156</td>\n",
       "      <td>58964353058</td>\n",
       "      <td>0</td>\n",
       "      <td>0</td>\n",
       "    </tr>\n",
       "    <tr>\n",
       "      <th>2021-06-23</th>\n",
       "      <td>32515.714844</td>\n",
       "      <td>34753.410156</td>\n",
       "      <td>31772.632812</td>\n",
       "      <td>33723.027344</td>\n",
       "      <td>46317108925</td>\n",
       "      <td>0</td>\n",
       "      <td>0</td>\n",
       "    </tr>\n",
       "  </tbody>\n",
       "</table>\n",
       "<p>1648 rows × 7 columns</p>\n",
       "</div>"
      ],
      "text/plain": [
       "                    Open          High           Low         Close  \\\n",
       "Date                                                                 \n",
       "2016-12-15    780.070007    781.434998    777.802002    778.088013   \n",
       "2016-12-16    778.963013    785.031982    778.963013    784.906982   \n",
       "2016-12-17    785.166016    792.508972    784.864014    790.828979   \n",
       "2016-12-18    791.007996    794.737000    788.026001    790.530029   \n",
       "2016-12-19    790.692017    793.611023    790.320007    792.713989   \n",
       "...                  ...           ...           ...           ...   \n",
       "2021-06-19  35854.527344  36457.796875  34933.062500  35615.871094   \n",
       "2021-06-20  35563.140625  36059.484375  33432.074219  35698.296875   \n",
       "2021-06-21  35641.144531  35721.640625  31295.935547  31676.693359   \n",
       "2021-06-22  31622.376953  33292.453125  28893.621094  32505.660156   \n",
       "2021-06-23  32515.714844  34753.410156  31772.632812  33723.027344   \n",
       "\n",
       "                 Volume  Dividends  Stock Splits  \n",
       "Date                                              \n",
       "2016-12-15     81580096          0             0  \n",
       "2016-12-16     83608200          0             0  \n",
       "2016-12-17     78989800          0             0  \n",
       "2016-12-18     60524400          0             0  \n",
       "2016-12-19     74886400          0             0  \n",
       "...                 ...        ...           ...  \n",
       "2021-06-19  31207279719          0             0  \n",
       "2021-06-20  36664034054          0             0  \n",
       "2021-06-21  52809038594          0             0  \n",
       "2021-06-22  58964353058          0             0  \n",
       "2021-06-23  46317108925          0             0  \n",
       "\n",
       "[1648 rows x 7 columns]"
      ]
     },
     "execution_count": 9,
     "metadata": {},
     "output_type": "execute_result"
    }
   ],
   "source": [
    "hist_tick"
   ]
  },
  {
   "cell_type": "code",
   "execution_count": 10,
   "metadata": {},
   "outputs": [],
   "source": [
    "hist_tick.to_csv('BTC.csv')"
   ]
  }
 ],
 "metadata": {
  "kernelspec": {
   "display_name": "Python 3",
   "language": "python",
   "name": "python3"
  },
  "language_info": {
   "codemirror_mode": {
    "name": "ipython",
    "version": 3
   },
   "file_extension": ".py",
   "mimetype": "text/x-python",
   "name": "python",
   "nbconvert_exporter": "python",
   "pygments_lexer": "ipython3",
   "version": "3.8.5"
  }
 },
 "nbformat": 4,
 "nbformat_minor": 4
}
