{
 "cells": [
  {
   "cell_type": "markdown",
   "metadata": {},
   "source": [
    "# Stock Data for Python Using Yahoo Finance API"
   ]
  },
  {
   "cell_type": "markdown",
   "metadata": {},
   "source": [
    "!pip3 install yfinance"
   ]
  },
  {
   "cell_type": "markdown",
   "metadata": {},
   "source": [
    "Note: Using the Public API (without authentication), you are limited to 2,000 requests per hour per IP (or up to a total of 48,000 requests a day)."
   ]
  },
  {
   "cell_type": "code",
   "execution_count": 1,
   "metadata": {},
   "outputs": [],
   "source": [
    "import yfinance as yf\n",
    "import pandas as pd\n",
    "import requests"
   ]
  },
  {
   "cell_type": "markdown",
   "metadata": {},
   "source": [
    "## Get Historical Market Data"
   ]
  },
  {
   "cell_type": "markdown",
   "metadata": {},
   "source": [
    "Based on [Dogecoin Crypto Currency Analysis](https://www.youtube.com/watch?v=XUsidyuMFsE) from [\n",
    "Computer Science](https://www.youtube.com/channel/UCbmb5IoBtHZTpYZCDBOC1CA) YouTube channel"
   ]
  },
  {
   "cell_type": "code",
   "execution_count": 2,
   "metadata": {},
   "outputs": [],
   "source": [
    "tick = \"AAPL\""
   ]
  },
  {
   "cell_type": "code",
   "execution_count": 3,
   "metadata": {},
   "outputs": [],
   "source": [
    "ticker = yf.Ticker(tick)\n",
    "hist_tick = ticker.history(start=\"2021-01-04\", end=\"2021-10-01\")"
   ]
  },
  {
   "cell_type": "markdown",
   "metadata": {},
   "source": [
    "Generate dataset where each date has values"
   ]
  },
  {
   "cell_type": "code",
   "execution_count": 4,
   "metadata": {},
   "outputs": [
    {
     "data": {
      "text/html": [
       "<div>\n",
       "<style scoped>\n",
       "    .dataframe tbody tr th:only-of-type {\n",
       "        vertical-align: middle;\n",
       "    }\n",
       "\n",
       "    .dataframe tbody tr th {\n",
       "        vertical-align: top;\n",
       "    }\n",
       "\n",
       "    .dataframe thead th {\n",
       "        text-align: right;\n",
       "    }\n",
       "</style>\n",
       "<table border=\"1\" class=\"dataframe\">\n",
       "  <thead>\n",
       "    <tr style=\"text-align: right;\">\n",
       "      <th></th>\n",
       "      <th>Open</th>\n",
       "      <th>High</th>\n",
       "      <th>Low</th>\n",
       "      <th>Close</th>\n",
       "      <th>Volume</th>\n",
       "      <th>Dividends</th>\n",
       "      <th>Stock Splits</th>\n",
       "    </tr>\n",
       "    <tr>\n",
       "      <th>Date</th>\n",
       "      <th></th>\n",
       "      <th></th>\n",
       "      <th></th>\n",
       "      <th></th>\n",
       "      <th></th>\n",
       "      <th></th>\n",
       "      <th></th>\n",
       "    </tr>\n",
       "  </thead>\n",
       "  <tbody>\n",
       "    <tr>\n",
       "      <th>2021-01-04</th>\n",
       "      <td>132.895605</td>\n",
       "      <td>132.985181</td>\n",
       "      <td>126.167216</td>\n",
       "      <td>128.804825</td>\n",
       "      <td>143301900</td>\n",
       "      <td>0.0</td>\n",
       "      <td>0</td>\n",
       "    </tr>\n",
       "    <tr>\n",
       "      <th>2021-01-05</th>\n",
       "      <td>128.287243</td>\n",
       "      <td>131.123921</td>\n",
       "      <td>127.829387</td>\n",
       "      <td>130.397324</td>\n",
       "      <td>97664900</td>\n",
       "      <td>0.0</td>\n",
       "      <td>0</td>\n",
       "    </tr>\n",
       "    <tr>\n",
       "      <th>2021-01-06</th>\n",
       "      <td>127.122723</td>\n",
       "      <td>130.437152</td>\n",
       "      <td>125.788985</td>\n",
       "      <td>126.007957</td>\n",
       "      <td>155088000</td>\n",
       "      <td>0.0</td>\n",
       "      <td>0</td>\n",
       "    </tr>\n",
       "    <tr>\n",
       "      <th>2021-01-07</th>\n",
       "      <td>127.759729</td>\n",
       "      <td>131.014441</td>\n",
       "      <td>127.262067</td>\n",
       "      <td>130.307755</td>\n",
       "      <td>109578200</td>\n",
       "      <td>0.0</td>\n",
       "      <td>0</td>\n",
       "    </tr>\n",
       "    <tr>\n",
       "      <th>2021-01-08</th>\n",
       "      <td>131.810677</td>\n",
       "      <td>132.009754</td>\n",
       "      <td>129.620969</td>\n",
       "      <td>131.432465</td>\n",
       "      <td>105158200</td>\n",
       "      <td>0.0</td>\n",
       "      <td>0</td>\n",
       "    </tr>\n",
       "    <tr>\n",
       "      <th>...</th>\n",
       "      <td>...</td>\n",
       "      <td>...</td>\n",
       "      <td>...</td>\n",
       "      <td>...</td>\n",
       "      <td>...</td>\n",
       "      <td>...</td>\n",
       "      <td>...</td>\n",
       "    </tr>\n",
       "    <tr>\n",
       "      <th>2021-09-24</th>\n",
       "      <td>145.660004</td>\n",
       "      <td>147.470001</td>\n",
       "      <td>145.559998</td>\n",
       "      <td>146.919998</td>\n",
       "      <td>53477900</td>\n",
       "      <td>0.0</td>\n",
       "      <td>0</td>\n",
       "    </tr>\n",
       "    <tr>\n",
       "      <th>2021-09-27</th>\n",
       "      <td>145.470001</td>\n",
       "      <td>145.960007</td>\n",
       "      <td>143.820007</td>\n",
       "      <td>145.369995</td>\n",
       "      <td>74150700</td>\n",
       "      <td>0.0</td>\n",
       "      <td>0</td>\n",
       "    </tr>\n",
       "    <tr>\n",
       "      <th>2021-09-28</th>\n",
       "      <td>143.250000</td>\n",
       "      <td>144.750000</td>\n",
       "      <td>141.690002</td>\n",
       "      <td>141.910004</td>\n",
       "      <td>108972300</td>\n",
       "      <td>0.0</td>\n",
       "      <td>0</td>\n",
       "    </tr>\n",
       "    <tr>\n",
       "      <th>2021-09-29</th>\n",
       "      <td>142.470001</td>\n",
       "      <td>144.449997</td>\n",
       "      <td>142.029999</td>\n",
       "      <td>142.830002</td>\n",
       "      <td>74602000</td>\n",
       "      <td>0.0</td>\n",
       "      <td>0</td>\n",
       "    </tr>\n",
       "    <tr>\n",
       "      <th>2021-09-30</th>\n",
       "      <td>143.660004</td>\n",
       "      <td>144.380005</td>\n",
       "      <td>141.279999</td>\n",
       "      <td>141.500000</td>\n",
       "      <td>88934200</td>\n",
       "      <td>0.0</td>\n",
       "      <td>0</td>\n",
       "    </tr>\n",
       "  </tbody>\n",
       "</table>\n",
       "<p>188 rows × 7 columns</p>\n",
       "</div>"
      ],
      "text/plain": [
       "                  Open        High         Low       Close     Volume  \\\n",
       "Date                                                                    \n",
       "2021-01-04  132.895605  132.985181  126.167216  128.804825  143301900   \n",
       "2021-01-05  128.287243  131.123921  127.829387  130.397324   97664900   \n",
       "2021-01-06  127.122723  130.437152  125.788985  126.007957  155088000   \n",
       "2021-01-07  127.759729  131.014441  127.262067  130.307755  109578200   \n",
       "2021-01-08  131.810677  132.009754  129.620969  131.432465  105158200   \n",
       "...                ...         ...         ...         ...        ...   \n",
       "2021-09-24  145.660004  147.470001  145.559998  146.919998   53477900   \n",
       "2021-09-27  145.470001  145.960007  143.820007  145.369995   74150700   \n",
       "2021-09-28  143.250000  144.750000  141.690002  141.910004  108972300   \n",
       "2021-09-29  142.470001  144.449997  142.029999  142.830002   74602000   \n",
       "2021-09-30  143.660004  144.380005  141.279999  141.500000   88934200   \n",
       "\n",
       "            Dividends  Stock Splits  \n",
       "Date                                 \n",
       "2021-01-04        0.0             0  \n",
       "2021-01-05        0.0             0  \n",
       "2021-01-06        0.0             0  \n",
       "2021-01-07        0.0             0  \n",
       "2021-01-08        0.0             0  \n",
       "...               ...           ...  \n",
       "2021-09-24        0.0             0  \n",
       "2021-09-27        0.0             0  \n",
       "2021-09-28        0.0             0  \n",
       "2021-09-29        0.0             0  \n",
       "2021-09-30        0.0             0  \n",
       "\n",
       "[188 rows x 7 columns]"
      ]
     },
     "execution_count": 4,
     "metadata": {},
     "output_type": "execute_result"
    }
   ],
   "source": [
    "hist_tick"
   ]
  },
  {
   "cell_type": "code",
   "execution_count": 5,
   "metadata": {},
   "outputs": [],
   "source": [
    "hist_tick.to_csv('AAPL_Data.csv')"
   ]
  }
 ],
 "metadata": {
  "kernelspec": {
   "display_name": "Python 3",
   "language": "python",
   "name": "python3"
  },
  "language_info": {
   "codemirror_mode": {
    "name": "ipython",
    "version": 3
   },
   "file_extension": ".py",
   "mimetype": "text/x-python",
   "name": "python",
   "nbconvert_exporter": "python",
   "pygments_lexer": "ipython3",
   "version": "3.8.10"
  }
 },
 "nbformat": 4,
 "nbformat_minor": 4
}
