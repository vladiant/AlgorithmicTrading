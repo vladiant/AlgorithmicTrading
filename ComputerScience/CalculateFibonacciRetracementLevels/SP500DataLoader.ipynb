{
 "cells": [
  {
   "cell_type": "markdown",
   "metadata": {},
   "source": [
    "# Multiple Stock Data for Python Using Yahoo Finance API"
   ]
  },
  {
   "cell_type": "markdown",
   "metadata": {},
   "source": [
    "!pip3 install yfinance"
   ]
  },
  {
   "cell_type": "markdown",
   "metadata": {},
   "source": [
    "Note: Using the Public API (without authentication), you are limited to 2,000 requests per hour per IP (or up to a total of 48,000 requests a day)."
   ]
  },
  {
   "cell_type": "code",
   "execution_count": 1,
   "metadata": {},
   "outputs": [],
   "source": [
    "import yfinance as yf"
   ]
  },
  {
   "cell_type": "code",
   "execution_count": 2,
   "metadata": {},
   "outputs": [],
   "source": [
    "sp500 = yf.Ticker(\"^GSPC\")"
   ]
  },
  {
   "cell_type": "markdown",
   "metadata": {},
   "source": [
    "## Get Historical Market Data"
   ]
  },
  {
   "cell_type": "code",
   "execution_count": 3,
   "metadata": {},
   "outputs": [],
   "source": [
    "hist_sp500 = sp500.history(start=\"2020-03-1\", end=\"2020-08-18\")"
   ]
  },
  {
   "cell_type": "code",
   "execution_count": 4,
   "metadata": {},
   "outputs": [
    {
     "data": {
      "text/html": [
       "<div>\n",
       "<style scoped>\n",
       "    .dataframe tbody tr th:only-of-type {\n",
       "        vertical-align: middle;\n",
       "    }\n",
       "\n",
       "    .dataframe tbody tr th {\n",
       "        vertical-align: top;\n",
       "    }\n",
       "\n",
       "    .dataframe thead th {\n",
       "        text-align: right;\n",
       "    }\n",
       "</style>\n",
       "<table border=\"1\" class=\"dataframe\">\n",
       "  <thead>\n",
       "    <tr style=\"text-align: right;\">\n",
       "      <th></th>\n",
       "      <th>Open</th>\n",
       "      <th>High</th>\n",
       "      <th>Low</th>\n",
       "      <th>Close</th>\n",
       "      <th>Volume</th>\n",
       "      <th>Dividends</th>\n",
       "      <th>Stock Splits</th>\n",
       "    </tr>\n",
       "    <tr>\n",
       "      <th>Date</th>\n",
       "      <th></th>\n",
       "      <th></th>\n",
       "      <th></th>\n",
       "      <th></th>\n",
       "      <th></th>\n",
       "      <th></th>\n",
       "      <th></th>\n",
       "    </tr>\n",
       "  </thead>\n",
       "  <tbody>\n",
       "    <tr>\n",
       "      <th>2020-03-02</th>\n",
       "      <td>2974.280029</td>\n",
       "      <td>3090.959961</td>\n",
       "      <td>2945.189941</td>\n",
       "      <td>3090.229980</td>\n",
       "      <td>6376400000</td>\n",
       "      <td>0</td>\n",
       "      <td>0</td>\n",
       "    </tr>\n",
       "    <tr>\n",
       "      <th>2020-03-03</th>\n",
       "      <td>3096.459961</td>\n",
       "      <td>3136.719971</td>\n",
       "      <td>2976.629883</td>\n",
       "      <td>3003.370117</td>\n",
       "      <td>6355940000</td>\n",
       "      <td>0</td>\n",
       "      <td>0</td>\n",
       "    </tr>\n",
       "    <tr>\n",
       "      <th>2020-03-04</th>\n",
       "      <td>3045.750000</td>\n",
       "      <td>3130.969971</td>\n",
       "      <td>3034.379883</td>\n",
       "      <td>3130.120117</td>\n",
       "      <td>5035480000</td>\n",
       "      <td>0</td>\n",
       "      <td>0</td>\n",
       "    </tr>\n",
       "    <tr>\n",
       "      <th>2020-03-05</th>\n",
       "      <td>3075.699951</td>\n",
       "      <td>3083.040039</td>\n",
       "      <td>2999.830078</td>\n",
       "      <td>3023.939941</td>\n",
       "      <td>5575550000</td>\n",
       "      <td>0</td>\n",
       "      <td>0</td>\n",
       "    </tr>\n",
       "    <tr>\n",
       "      <th>2020-03-06</th>\n",
       "      <td>2954.199951</td>\n",
       "      <td>2985.929932</td>\n",
       "      <td>2901.540039</td>\n",
       "      <td>2972.370117</td>\n",
       "      <td>6552140000</td>\n",
       "      <td>0</td>\n",
       "      <td>0</td>\n",
       "    </tr>\n",
       "    <tr>\n",
       "      <th>...</th>\n",
       "      <td>...</td>\n",
       "      <td>...</td>\n",
       "      <td>...</td>\n",
       "      <td>...</td>\n",
       "      <td>...</td>\n",
       "      <td>...</td>\n",
       "      <td>...</td>\n",
       "    </tr>\n",
       "    <tr>\n",
       "      <th>2020-08-11</th>\n",
       "      <td>3370.340088</td>\n",
       "      <td>3381.010010</td>\n",
       "      <td>3326.439941</td>\n",
       "      <td>3333.689941</td>\n",
       "      <td>5087650000</td>\n",
       "      <td>0</td>\n",
       "      <td>0</td>\n",
       "    </tr>\n",
       "    <tr>\n",
       "      <th>2020-08-12</th>\n",
       "      <td>3355.459961</td>\n",
       "      <td>3387.889893</td>\n",
       "      <td>3355.459961</td>\n",
       "      <td>3380.350098</td>\n",
       "      <td>3768560000</td>\n",
       "      <td>0</td>\n",
       "      <td>0</td>\n",
       "    </tr>\n",
       "    <tr>\n",
       "      <th>2020-08-13</th>\n",
       "      <td>3372.949951</td>\n",
       "      <td>3387.239990</td>\n",
       "      <td>3363.350098</td>\n",
       "      <td>3373.429932</td>\n",
       "      <td>3648810000</td>\n",
       "      <td>0</td>\n",
       "      <td>0</td>\n",
       "    </tr>\n",
       "    <tr>\n",
       "      <th>2020-08-14</th>\n",
       "      <td>3368.659912</td>\n",
       "      <td>3378.510010</td>\n",
       "      <td>3361.639893</td>\n",
       "      <td>3372.850098</td>\n",
       "      <td>3193400000</td>\n",
       "      <td>0</td>\n",
       "      <td>0</td>\n",
       "    </tr>\n",
       "    <tr>\n",
       "      <th>2020-08-17</th>\n",
       "      <td>3380.860107</td>\n",
       "      <td>3387.590088</td>\n",
       "      <td>3379.219971</td>\n",
       "      <td>3381.989990</td>\n",
       "      <td>3671290000</td>\n",
       "      <td>0</td>\n",
       "      <td>0</td>\n",
       "    </tr>\n",
       "  </tbody>\n",
       "</table>\n",
       "<p>118 rows × 7 columns</p>\n",
       "</div>"
      ],
      "text/plain": [
       "                   Open         High          Low        Close      Volume  \\\n",
       "Date                                                                         \n",
       "2020-03-02  2974.280029  3090.959961  2945.189941  3090.229980  6376400000   \n",
       "2020-03-03  3096.459961  3136.719971  2976.629883  3003.370117  6355940000   \n",
       "2020-03-04  3045.750000  3130.969971  3034.379883  3130.120117  5035480000   \n",
       "2020-03-05  3075.699951  3083.040039  2999.830078  3023.939941  5575550000   \n",
       "2020-03-06  2954.199951  2985.929932  2901.540039  2972.370117  6552140000   \n",
       "...                 ...          ...          ...          ...         ...   \n",
       "2020-08-11  3370.340088  3381.010010  3326.439941  3333.689941  5087650000   \n",
       "2020-08-12  3355.459961  3387.889893  3355.459961  3380.350098  3768560000   \n",
       "2020-08-13  3372.949951  3387.239990  3363.350098  3373.429932  3648810000   \n",
       "2020-08-14  3368.659912  3378.510010  3361.639893  3372.850098  3193400000   \n",
       "2020-08-17  3380.860107  3387.590088  3379.219971  3381.989990  3671290000   \n",
       "\n",
       "            Dividends  Stock Splits  \n",
       "Date                                 \n",
       "2020-03-02          0             0  \n",
       "2020-03-03          0             0  \n",
       "2020-03-04          0             0  \n",
       "2020-03-05          0             0  \n",
       "2020-03-06          0             0  \n",
       "...               ...           ...  \n",
       "2020-08-11          0             0  \n",
       "2020-08-12          0             0  \n",
       "2020-08-13          0             0  \n",
       "2020-08-14          0             0  \n",
       "2020-08-17          0             0  \n",
       "\n",
       "[118 rows x 7 columns]"
      ]
     },
     "execution_count": 4,
     "metadata": {},
     "output_type": "execute_result"
    }
   ],
   "source": [
    "hist_sp500"
   ]
  },
  {
   "cell_type": "code",
   "execution_count": 5,
   "metadata": {},
   "outputs": [],
   "source": [
    "hist_sp500.to_csv(\"SP500.csv\")"
   ]
  },
  {
   "cell_type": "code",
   "execution_count": null,
   "metadata": {},
   "outputs": [],
   "source": []
  }
 ],
 "metadata": {
  "kernelspec": {
   "display_name": "Python 3",
   "language": "python",
   "name": "python3"
  },
  "language_info": {
   "codemirror_mode": {
    "name": "ipython",
    "version": 3
   },
   "file_extension": ".py",
   "mimetype": "text/x-python",
   "name": "python",
   "nbconvert_exporter": "python",
   "pygments_lexer": "ipython3",
   "version": "3.8.5"
  }
 },
 "nbformat": 4,
 "nbformat_minor": 4
}
