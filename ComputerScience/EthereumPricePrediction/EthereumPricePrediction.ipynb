{
 "cells": [
  {
   "cell_type": "markdown",
   "metadata": {},
   "source": [
    "# Ethereum Price Prediction"
   ]
  },
  {
   "cell_type": "markdown",
   "metadata": {},
   "source": [
    "Based on [Ethereum (ETH) Price Prediction using Machine Learning (SVR) & Python](https://www.youtube.com/watch?v=HiDEAWdAif0) from [Computer Science](https://www.youtube.com/channel/UCbmb5IoBtHZTpYZCDBOC1CA)"
   ]
  },
  {
   "cell_type": "markdown",
   "metadata": {},
   "source": [
    "**Disclaimer:** _Investing in the stock market involves risk and can lead to monetary loss. This material is purely for educational purposes and should not be taken as professional investment advice. Invest at your own discretion._"
   ]
  },
  {
   "cell_type": "code",
   "execution_count": 1,
   "metadata": {},
   "outputs": [],
   "source": [
    "import pandas as pd\n",
    "import numpy as np\n",
    "from sklearn.svm import SVR\n",
    "import matplotlib.pyplot as plt"
   ]
  },
  {
   "cell_type": "code",
   "execution_count": 2,
   "metadata": {},
   "outputs": [],
   "source": [
    "plt.style.use('fivethirtyeight')"
   ]
  },
  {
   "cell_type": "markdown",
   "metadata": {},
   "source": [
    "Load the Bitcoin data"
   ]
  },
  {
   "cell_type": "code",
   "execution_count": 3,
   "metadata": {},
   "outputs": [],
   "source": [
    "df = pd.read_csv(\"ETH.csv\")"
   ]
  },
  {
   "cell_type": "markdown",
   "metadata": {},
   "source": [
    "Set the date as index"
   ]
  },
  {
   "cell_type": "code",
   "execution_count": 4,
   "metadata": {},
   "outputs": [],
   "source": [
    "df = df.set_index(pd.DatetimeIndex(df['Date']))"
   ]
  },
  {
   "cell_type": "markdown",
   "metadata": {},
   "source": [
    "Show the data"
   ]
  },
  {
   "cell_type": "code",
   "execution_count": 5,
   "metadata": {},
   "outputs": [
    {
     "data": {
      "text/html": [
       "<div>\n",
       "<style scoped>\n",
       "    .dataframe tbody tr th:only-of-type {\n",
       "        vertical-align: middle;\n",
       "    }\n",
       "\n",
       "    .dataframe tbody tr th {\n",
       "        vertical-align: top;\n",
       "    }\n",
       "\n",
       "    .dataframe thead th {\n",
       "        text-align: right;\n",
       "    }\n",
       "</style>\n",
       "<table border=\"1\" class=\"dataframe\">\n",
       "  <thead>\n",
       "    <tr style=\"text-align: right;\">\n",
       "      <th></th>\n",
       "      <th>Date</th>\n",
       "      <th>Open</th>\n",
       "      <th>High</th>\n",
       "      <th>Low</th>\n",
       "      <th>Close</th>\n",
       "      <th>Volume</th>\n",
       "      <th>Dividends</th>\n",
       "      <th>Stock Splits</th>\n",
       "    </tr>\n",
       "    <tr>\n",
       "      <th>Date</th>\n",
       "      <th></th>\n",
       "      <th></th>\n",
       "      <th></th>\n",
       "      <th></th>\n",
       "      <th></th>\n",
       "      <th></th>\n",
       "      <th></th>\n",
       "      <th></th>\n",
       "    </tr>\n",
       "  </thead>\n",
       "  <tbody>\n",
       "    <tr>\n",
       "      <th>2021-01-01</th>\n",
       "      <td>2021-01-01</td>\n",
       "      <td>737.708374</td>\n",
       "      <td>749.201843</td>\n",
       "      <td>719.792236</td>\n",
       "      <td>730.367554</td>\n",
       "      <td>13652004358</td>\n",
       "      <td>0</td>\n",
       "      <td>0</td>\n",
       "    </tr>\n",
       "    <tr>\n",
       "      <th>2021-01-02</th>\n",
       "      <td>2021-01-02</td>\n",
       "      <td>730.402649</td>\n",
       "      <td>786.798462</td>\n",
       "      <td>718.109497</td>\n",
       "      <td>774.534973</td>\n",
       "      <td>19740771179</td>\n",
       "      <td>0</td>\n",
       "      <td>0</td>\n",
       "    </tr>\n",
       "    <tr>\n",
       "      <th>2021-01-03</th>\n",
       "      <td>2021-01-03</td>\n",
       "      <td>774.511841</td>\n",
       "      <td>1006.565002</td>\n",
       "      <td>771.561646</td>\n",
       "      <td>975.507690</td>\n",
       "      <td>45200463368</td>\n",
       "      <td>0</td>\n",
       "      <td>0</td>\n",
       "    </tr>\n",
       "    <tr>\n",
       "      <th>2021-01-04</th>\n",
       "      <td>2021-01-04</td>\n",
       "      <td>977.058838</td>\n",
       "      <td>1153.189209</td>\n",
       "      <td>912.305359</td>\n",
       "      <td>1040.233032</td>\n",
       "      <td>56945985763</td>\n",
       "      <td>0</td>\n",
       "      <td>0</td>\n",
       "    </tr>\n",
       "    <tr>\n",
       "      <th>2021-01-05</th>\n",
       "      <td>2021-01-05</td>\n",
       "      <td>1041.498779</td>\n",
       "      <td>1129.371460</td>\n",
       "      <td>986.811279</td>\n",
       "      <td>1100.006104</td>\n",
       "      <td>41535932781</td>\n",
       "      <td>0</td>\n",
       "      <td>0</td>\n",
       "    </tr>\n",
       "    <tr>\n",
       "      <th>...</th>\n",
       "      <td>...</td>\n",
       "      <td>...</td>\n",
       "      <td>...</td>\n",
       "      <td>...</td>\n",
       "      <td>...</td>\n",
       "      <td>...</td>\n",
       "      <td>...</td>\n",
       "      <td>...</td>\n",
       "    </tr>\n",
       "    <tr>\n",
       "      <th>2021-05-09</th>\n",
       "      <td>2021-05-09</td>\n",
       "      <td>3911.463135</td>\n",
       "      <td>3981.259033</td>\n",
       "      <td>3743.989014</td>\n",
       "      <td>3928.844727</td>\n",
       "      <td>50568290278</td>\n",
       "      <td>0</td>\n",
       "      <td>0</td>\n",
       "    </tr>\n",
       "    <tr>\n",
       "      <th>2021-05-10</th>\n",
       "      <td>2021-05-10</td>\n",
       "      <td>3924.413330</td>\n",
       "      <td>4197.473145</td>\n",
       "      <td>3684.451660</td>\n",
       "      <td>3952.293945</td>\n",
       "      <td>62691789007</td>\n",
       "      <td>0</td>\n",
       "      <td>0</td>\n",
       "    </tr>\n",
       "    <tr>\n",
       "      <th>2021-05-11</th>\n",
       "      <td>2021-05-11</td>\n",
       "      <td>3948.271973</td>\n",
       "      <td>4178.208984</td>\n",
       "      <td>3783.889404</td>\n",
       "      <td>4168.701172</td>\n",
       "      <td>52679737865</td>\n",
       "      <td>0</td>\n",
       "      <td>0</td>\n",
       "    </tr>\n",
       "    <tr>\n",
       "      <th>2021-05-12</th>\n",
       "      <td>2021-05-12</td>\n",
       "      <td>4174.635742</td>\n",
       "      <td>4362.350586</td>\n",
       "      <td>3785.848633</td>\n",
       "      <td>3785.848633</td>\n",
       "      <td>69023382175</td>\n",
       "      <td>0</td>\n",
       "      <td>0</td>\n",
       "    </tr>\n",
       "    <tr>\n",
       "      <th>2021-05-13</th>\n",
       "      <td>2021-05-13</td>\n",
       "      <td>3828.918457</td>\n",
       "      <td>4032.563477</td>\n",
       "      <td>3549.407227</td>\n",
       "      <td>3715.148438</td>\n",
       "      <td>78398214539</td>\n",
       "      <td>0</td>\n",
       "      <td>0</td>\n",
       "    </tr>\n",
       "  </tbody>\n",
       "</table>\n",
       "<p>133 rows × 8 columns</p>\n",
       "</div>"
      ],
      "text/plain": [
       "                  Date         Open         High          Low        Close  \\\n",
       "Date                                                                         \n",
       "2021-01-01  2021-01-01   737.708374   749.201843   719.792236   730.367554   \n",
       "2021-01-02  2021-01-02   730.402649   786.798462   718.109497   774.534973   \n",
       "2021-01-03  2021-01-03   774.511841  1006.565002   771.561646   975.507690   \n",
       "2021-01-04  2021-01-04   977.058838  1153.189209   912.305359  1040.233032   \n",
       "2021-01-05  2021-01-05  1041.498779  1129.371460   986.811279  1100.006104   \n",
       "...                ...          ...          ...          ...          ...   \n",
       "2021-05-09  2021-05-09  3911.463135  3981.259033  3743.989014  3928.844727   \n",
       "2021-05-10  2021-05-10  3924.413330  4197.473145  3684.451660  3952.293945   \n",
       "2021-05-11  2021-05-11  3948.271973  4178.208984  3783.889404  4168.701172   \n",
       "2021-05-12  2021-05-12  4174.635742  4362.350586  3785.848633  3785.848633   \n",
       "2021-05-13  2021-05-13  3828.918457  4032.563477  3549.407227  3715.148438   \n",
       "\n",
       "                 Volume  Dividends  Stock Splits  \n",
       "Date                                              \n",
       "2021-01-01  13652004358          0             0  \n",
       "2021-01-02  19740771179          0             0  \n",
       "2021-01-03  45200463368          0             0  \n",
       "2021-01-04  56945985763          0             0  \n",
       "2021-01-05  41535932781          0             0  \n",
       "...                 ...        ...           ...  \n",
       "2021-05-09  50568290278          0             0  \n",
       "2021-05-10  62691789007          0             0  \n",
       "2021-05-11  52679737865          0             0  \n",
       "2021-05-12  69023382175          0             0  \n",
       "2021-05-13  78398214539          0             0  \n",
       "\n",
       "[133 rows x 8 columns]"
      ]
     },
     "execution_count": 5,
     "metadata": {},
     "output_type": "execute_result"
    }
   ],
   "source": [
    "df"
   ]
  },
  {
   "cell_type": "code",
   "execution_count": 6,
   "metadata": {},
   "outputs": [],
   "source": [
    "future_days = 5"
   ]
  },
  {
   "cell_type": "markdown",
   "metadata": {},
   "source": [
    "Create a new column"
   ]
  },
  {
   "cell_type": "code",
   "execution_count": 7,
   "metadata": {},
   "outputs": [],
   "source": [
    "df[str(future_days)+\"_Day_Price_Forecast\"] = df[['Close']].shift(-future_days)"
   ]
  },
  {
   "cell_type": "markdown",
   "metadata": {},
   "source": [
    "Show the data"
   ]
  },
  {
   "cell_type": "code",
   "execution_count": 8,
   "metadata": {},
   "outputs": [
    {
     "data": {
      "text/html": [
       "<div>\n",
       "<style scoped>\n",
       "    .dataframe tbody tr th:only-of-type {\n",
       "        vertical-align: middle;\n",
       "    }\n",
       "\n",
       "    .dataframe tbody tr th {\n",
       "        vertical-align: top;\n",
       "    }\n",
       "\n",
       "    .dataframe thead th {\n",
       "        text-align: right;\n",
       "    }\n",
       "</style>\n",
       "<table border=\"1\" class=\"dataframe\">\n",
       "  <thead>\n",
       "    <tr style=\"text-align: right;\">\n",
       "      <th></th>\n",
       "      <th>Close</th>\n",
       "      <th>5_Day_Price_Forecast</th>\n",
       "    </tr>\n",
       "    <tr>\n",
       "      <th>Date</th>\n",
       "      <th></th>\n",
       "      <th></th>\n",
       "    </tr>\n",
       "  </thead>\n",
       "  <tbody>\n",
       "    <tr>\n",
       "      <th>2021-01-01</th>\n",
       "      <td>730.367554</td>\n",
       "      <td>1207.112183</td>\n",
       "    </tr>\n",
       "    <tr>\n",
       "      <th>2021-01-02</th>\n",
       "      <td>774.534973</td>\n",
       "      <td>1225.678101</td>\n",
       "    </tr>\n",
       "    <tr>\n",
       "      <th>2021-01-03</th>\n",
       "      <td>975.507690</td>\n",
       "      <td>1224.197144</td>\n",
       "    </tr>\n",
       "    <tr>\n",
       "      <th>2021-01-04</th>\n",
       "      <td>1040.233032</td>\n",
       "      <td>1281.077271</td>\n",
       "    </tr>\n",
       "    <tr>\n",
       "      <th>2021-01-05</th>\n",
       "      <td>1100.006104</td>\n",
       "      <td>1262.246704</td>\n",
       "    </tr>\n",
       "    <tr>\n",
       "      <th>...</th>\n",
       "      <td>...</td>\n",
       "      <td>...</td>\n",
       "    </tr>\n",
       "    <tr>\n",
       "      <th>2021-05-09</th>\n",
       "      <td>3928.844727</td>\n",
       "      <td>NaN</td>\n",
       "    </tr>\n",
       "    <tr>\n",
       "      <th>2021-05-10</th>\n",
       "      <td>3952.293945</td>\n",
       "      <td>NaN</td>\n",
       "    </tr>\n",
       "    <tr>\n",
       "      <th>2021-05-11</th>\n",
       "      <td>4168.701172</td>\n",
       "      <td>NaN</td>\n",
       "    </tr>\n",
       "    <tr>\n",
       "      <th>2021-05-12</th>\n",
       "      <td>3785.848633</td>\n",
       "      <td>NaN</td>\n",
       "    </tr>\n",
       "    <tr>\n",
       "      <th>2021-05-13</th>\n",
       "      <td>3715.148438</td>\n",
       "      <td>NaN</td>\n",
       "    </tr>\n",
       "  </tbody>\n",
       "</table>\n",
       "<p>133 rows × 2 columns</p>\n",
       "</div>"
      ],
      "text/plain": [
       "                  Close  5_Day_Price_Forecast\n",
       "Date                                         \n",
       "2021-01-01   730.367554           1207.112183\n",
       "2021-01-02   774.534973           1225.678101\n",
       "2021-01-03   975.507690           1224.197144\n",
       "2021-01-04  1040.233032           1281.077271\n",
       "2021-01-05  1100.006104           1262.246704\n",
       "...                 ...                   ...\n",
       "2021-05-09  3928.844727                   NaN\n",
       "2021-05-10  3952.293945                   NaN\n",
       "2021-05-11  4168.701172                   NaN\n",
       "2021-05-12  3785.848633                   NaN\n",
       "2021-05-13  3715.148438                   NaN\n",
       "\n",
       "[133 rows x 2 columns]"
      ]
     },
     "execution_count": 8,
     "metadata": {},
     "output_type": "execute_result"
    }
   ],
   "source": [
    "df[['Close', str(future_days)+\"_Day_Price_Forecast\"]]"
   ]
  },
  {
   "cell_type": "code",
   "execution_count": 9,
   "metadata": {},
   "outputs": [],
   "source": [
    "X = np.array(df[['Close']])"
   ]
  },
  {
   "cell_type": "code",
   "execution_count": 10,
   "metadata": {},
   "outputs": [],
   "source": [
    "X = X[:df.shape[0] - future_days]"
   ]
  },
  {
   "cell_type": "code",
   "execution_count": 11,
   "metadata": {},
   "outputs": [
    {
     "data": {
      "text/plain": [
       "array([[ 730.36755371],\n",
       "       [ 774.53497314],\n",
       "       [ 975.50769043],\n",
       "       [1040.23303223],\n",
       "       [1100.00610352],\n",
       "       [1207.11218262],\n",
       "       [1225.67810059],\n",
       "       [1224.19714355],\n",
       "       [1281.07727051],\n",
       "       [1262.2467041 ],\n",
       "       [1090.14538574],\n",
       "       [1043.43457031],\n",
       "       [1130.73937988],\n",
       "       [1218.45300293],\n",
       "       [1171.83459473],\n",
       "       [1233.53759766],\n",
       "       [1230.17224121],\n",
       "       [1257.27954102],\n",
       "       [1377.29589844],\n",
       "       [1382.27404785],\n",
       "       [1121.57092285],\n",
       "       [1236.51220703],\n",
       "       [1230.99060059],\n",
       "       [1391.609375  ],\n",
       "       [1324.41479492],\n",
       "       [1357.05810547],\n",
       "       [1253.18713379],\n",
       "       [1298.10180664],\n",
       "       [1382.52282715],\n",
       "       [1376.11547852],\n",
       "       [1314.98620605],\n",
       "       [1369.04052734],\n",
       "       [1515.19372559],\n",
       "       [1660.9095459 ],\n",
       "       [1594.76269531],\n",
       "       [1718.65087891],\n",
       "       [1677.84680176],\n",
       "       [1614.2277832 ],\n",
       "       [1746.61682129],\n",
       "       [1768.03503418],\n",
       "       [1744.2434082 ],\n",
       "       [1783.79797363],\n",
       "       [1843.53259277],\n",
       "       [1814.10986328],\n",
       "       [1805.08410645],\n",
       "       [1779.79101562],\n",
       "       [1781.06750488],\n",
       "       [1848.45825195],\n",
       "       [1937.44921875],\n",
       "       [1960.16479492],\n",
       "       [1919.53405762],\n",
       "       [1935.60107422],\n",
       "       [1781.99291992],\n",
       "       [1570.20397949],\n",
       "       [1626.57568359],\n",
       "       [1475.70373535],\n",
       "       [1446.03369141],\n",
       "       [1459.97314453],\n",
       "       [1416.0489502 ],\n",
       "       [1564.7076416 ],\n",
       "       [1492.60876465],\n",
       "       [1575.85314941],\n",
       "       [1541.91430664],\n",
       "       [1533.27502441],\n",
       "       [1654.74157715],\n",
       "       [1723.15380859],\n",
       "       [1834.72790527],\n",
       "       [1868.04882812],\n",
       "       [1799.16625977],\n",
       "       [1826.19494629],\n",
       "       [1772.10241699],\n",
       "       [1924.6854248 ],\n",
       "       [1854.56433105],\n",
       "       [1791.70227051],\n",
       "       [1806.97180176],\n",
       "       [1823.44934082],\n",
       "       [1782.85510254],\n",
       "       [1817.62414551],\n",
       "       [1812.63464355],\n",
       "       [1788.21704102],\n",
       "       [1691.33398438],\n",
       "       [1678.65014648],\n",
       "       [1593.41345215],\n",
       "       [1595.35925293],\n",
       "       [1702.84204102],\n",
       "       [1716.49462891],\n",
       "       [1691.35595703],\n",
       "       [1819.68493652],\n",
       "       [1846.03369141],\n",
       "       [1918.36206055],\n",
       "       [1977.27685547],\n",
       "       [2143.22558594],\n",
       "       [2028.42248535],\n",
       "       [2093.12280273],\n",
       "       [2107.88720703],\n",
       "       [2118.37890625],\n",
       "       [1971.07727051],\n",
       "       [2088.57373047],\n",
       "       [2072.10888672],\n",
       "       [2135.94213867],\n",
       "       [2157.65698242],\n",
       "       [2139.35327148],\n",
       "       [2299.18774414],\n",
       "       [2435.10498047],\n",
       "       [2519.11621094],\n",
       "       [2431.9465332 ],\n",
       "       [2344.89501953],\n",
       "       [2237.13696289],\n",
       "       [2166.1887207 ],\n",
       "       [2330.2109375 ],\n",
       "       [2364.75170898],\n",
       "       [2403.53515625],\n",
       "       [2363.58618164],\n",
       "       [2211.62573242],\n",
       "       [2316.05957031],\n",
       "       [2534.48168945],\n",
       "       [2662.86523438],\n",
       "       [2746.38012695],\n",
       "       [2756.87695312],\n",
       "       [2773.20703125],\n",
       "       [2945.89282227],\n",
       "       [2952.05615234],\n",
       "       [3431.08618164],\n",
       "       [3253.62939453],\n",
       "       [3522.78320312],\n",
       "       [3490.88037109],\n",
       "       [3484.72900391],\n",
       "       [3902.64770508]])"
      ]
     },
     "execution_count": 11,
     "metadata": {},
     "output_type": "execute_result"
    }
   ],
   "source": [
    "X"
   ]
  },
  {
   "cell_type": "code",
   "execution_count": 12,
   "metadata": {},
   "outputs": [],
   "source": [
    "y = np.array(df[str(future_days)+\"_Day_Price_Forecast\"])"
   ]
  },
  {
   "cell_type": "code",
   "execution_count": 13,
   "metadata": {},
   "outputs": [],
   "source": [
    "y = y[:-future_days]"
   ]
  },
  {
   "cell_type": "code",
   "execution_count": 14,
   "metadata": {},
   "outputs": [
    {
     "data": {
      "text/plain": [
       "array([1207.11218262, 1225.67810059, 1224.19714355, 1281.07727051,\n",
       "       1262.2467041 , 1090.14538574, 1043.43457031, 1130.73937988,\n",
       "       1218.45300293, 1171.83459473, 1233.53759766, 1230.17224121,\n",
       "       1257.27954102, 1377.29589844, 1382.27404785, 1121.57092285,\n",
       "       1236.51220703, 1230.99060059, 1391.609375  , 1324.41479492,\n",
       "       1357.05810547, 1253.18713379, 1298.10180664, 1382.52282715,\n",
       "       1376.11547852, 1314.98620605, 1369.04052734, 1515.19372559,\n",
       "       1660.9095459 , 1594.76269531, 1718.65087891, 1677.84680176,\n",
       "       1614.2277832 , 1746.61682129, 1768.03503418, 1744.2434082 ,\n",
       "       1783.79797363, 1843.53259277, 1814.10986328, 1805.08410645,\n",
       "       1779.79101562, 1781.06750488, 1848.45825195, 1937.44921875,\n",
       "       1960.16479492, 1919.53405762, 1935.60107422, 1781.99291992,\n",
       "       1570.20397949, 1626.57568359, 1475.70373535, 1446.03369141,\n",
       "       1459.97314453, 1416.0489502 , 1564.7076416 , 1492.60876465,\n",
       "       1575.85314941, 1541.91430664, 1533.27502441, 1654.74157715,\n",
       "       1723.15380859, 1834.72790527, 1868.04882812, 1799.16625977,\n",
       "       1826.19494629, 1772.10241699, 1924.6854248 , 1854.56433105,\n",
       "       1791.70227051, 1806.97180176, 1823.44934082, 1782.85510254,\n",
       "       1817.62414551, 1812.63464355, 1788.21704102, 1691.33398438,\n",
       "       1678.65014648, 1593.41345215, 1595.35925293, 1702.84204102,\n",
       "       1716.49462891, 1691.35595703, 1819.68493652, 1846.03369141,\n",
       "       1918.36206055, 1977.27685547, 2143.22558594, 2028.42248535,\n",
       "       2093.12280273, 2107.88720703, 2118.37890625, 1971.07727051,\n",
       "       2088.57373047, 2072.10888672, 2135.94213867, 2157.65698242,\n",
       "       2139.35327148, 2299.18774414, 2435.10498047, 2519.11621094,\n",
       "       2431.9465332 , 2344.89501953, 2237.13696289, 2166.1887207 ,\n",
       "       2330.2109375 , 2364.75170898, 2403.53515625, 2363.58618164,\n",
       "       2211.62573242, 2316.05957031, 2534.48168945, 2662.86523438,\n",
       "       2746.38012695, 2756.87695312, 2773.20703125, 2945.89282227,\n",
       "       2952.05615234, 3431.08618164, 3253.62939453, 3522.78320312,\n",
       "       3490.88037109, 3484.72900391, 3902.64770508, 3928.84472656,\n",
       "       3952.29394531, 4168.70117188, 3785.84863281, 3715.1484375 ])"
      ]
     },
     "execution_count": 14,
     "metadata": {},
     "output_type": "execute_result"
    }
   ],
   "source": [
    "y"
   ]
  },
  {
   "cell_type": "markdown",
   "metadata": {},
   "source": [
    "Split the data"
   ]
  },
  {
   "cell_type": "code",
   "execution_count": 15,
   "metadata": {},
   "outputs": [],
   "source": [
    "from sklearn.model_selection import train_test_split"
   ]
  },
  {
   "cell_type": "code",
   "execution_count": 16,
   "metadata": {},
   "outputs": [],
   "source": [
    "x_train, x_test, y_train, y_test = train_test_split(X, y, test_size=0.2, random_state=1)"
   ]
  },
  {
   "cell_type": "code",
   "execution_count": 17,
   "metadata": {},
   "outputs": [],
   "source": [
    "from sklearn.svm import SVR"
   ]
  },
  {
   "cell_type": "code",
   "execution_count": 18,
   "metadata": {},
   "outputs": [],
   "source": [
    "svr_rbf = SVR(kernel='rbf', C=5e3, gamma=0.00001)"
   ]
  },
  {
   "cell_type": "code",
   "execution_count": 19,
   "metadata": {},
   "outputs": [
    {
     "data": {
      "text/plain": [
       "SVR(C=5000.0, gamma=1e-05)"
      ]
     },
     "execution_count": 19,
     "metadata": {},
     "output_type": "execute_result"
    }
   ],
   "source": [
    "svr_rbf.fit(x_train, y_train)"
   ]
  },
  {
   "cell_type": "code",
   "execution_count": 20,
   "metadata": {},
   "outputs": [],
   "source": [
    "svr_rbf_confidendce = svr_rbf.score(x_test, y_test)"
   ]
  },
  {
   "cell_type": "code",
   "execution_count": 21,
   "metadata": {},
   "outputs": [
    {
     "data": {
      "text/plain": [
       "0.8750280640633803"
      ]
     },
     "execution_count": 21,
     "metadata": {},
     "output_type": "execute_result"
    }
   ],
   "source": [
    "svr_rbf_confidendce"
   ]
  },
  {
   "cell_type": "code",
   "execution_count": 22,
   "metadata": {},
   "outputs": [],
   "source": [
    "svm_predicition = svr_rbf.predict(x_test)"
   ]
  },
  {
   "cell_type": "code",
   "execution_count": 23,
   "metadata": {},
   "outputs": [
    {
     "data": {
      "text/plain": [
       "array([3493.23872896, 2907.40722772, 1684.61184499, 1611.74218871,\n",
       "       1822.86331441, 3443.39688125, 3852.75993918, 1789.01000338,\n",
       "       1414.61716107, 2003.55711285, 2370.70271094, 2721.58310492,\n",
       "       1268.28196492, 1870.05315517, 2506.26171183, 2007.55721189,\n",
       "       1781.24156429, 1826.00244166, 2194.24162927, 2568.04968357,\n",
       "       3824.34243721, 1276.0036667 , 1829.83373709, 3278.05428696,\n",
       "       2598.10724261, 2412.64585715])"
      ]
     },
     "execution_count": 23,
     "metadata": {},
     "output_type": "execute_result"
    }
   ],
   "source": [
    "svm_predicition"
   ]
  },
  {
   "cell_type": "code",
   "execution_count": 24,
   "metadata": {},
   "outputs": [
    {
     "name": "stdout",
     "output_type": "stream",
     "text": [
      "[3484.72900391 2330.2109375  1492.60876465 1575.85314941 1746.61682129\n",
      " 3253.62939453 3902.64770508 1744.2434082  1677.84680176 1446.03369141\n",
      " 2211.62573242 2166.1887207  1262.2467041  1854.56433105 2237.13696289\n",
      " 1570.20397949 1935.60107422 1654.74157715 2088.57373047 2403.53515625\n",
      " 4168.70117188 1224.19714355 1416.0489502  2952.05615234 2534.48168945\n",
      " 2756.87695312]\n"
     ]
    }
   ],
   "source": [
    "print(y_test)"
   ]
  },
  {
   "cell_type": "code",
   "execution_count": 25,
   "metadata": {},
   "outputs": [
    {
     "data": {
      "image/png": "[encoded data removed]",
      "text/plain": [
       "<Figure size 864x288 with 1 Axes>"
      ]
     },
     "metadata": {},
     "output_type": "display_data"
    }
   ],
   "source": [
    "plt.figure(figsize=(12,4))\n",
    "plt.plot(svm_predicition, label=\"Prediciton\", lw=2, alpha=0.7)\n",
    "plt.plot(y_test, label=\"Actual\", lw=2, alpha=0.7)\n",
    "plt.title(\"Prediction vs Actual\")\n",
    "plt.ylabel(\"Price in USD\")\n",
    "plt.xlabel(\"Time\")\n",
    "plt.legend()\n",
    "plt.xticks(rotation=45)\n",
    "plt.show()"
   ]
  },
  {
   "cell_type": "markdown",
   "metadata": {},
   "source": [
    "**THIS IS NOT AN INVESTMENT ADVICE!**"
   ]
  }
 ],
 "metadata": {
  "kernelspec": {
   "display_name": "Python 3",
   "language": "python",
   "name": "python3"
  },
  "language_info": {
   "codemirror_mode": {
    "name": "ipython",
    "version": 3
   },
   "file_extension": ".py",
   "mimetype": "text/x-python",
   "name": "python",
   "nbconvert_exporter": "python",
   "pygments_lexer": "ipython3",
   "version": "3.8.10"
  }
 },
 "nbformat": 4,
 "nbformat_minor": 4
}
