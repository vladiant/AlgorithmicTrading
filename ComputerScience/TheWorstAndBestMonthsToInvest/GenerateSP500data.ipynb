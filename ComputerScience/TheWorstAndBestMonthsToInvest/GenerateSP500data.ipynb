{
 "cells": [
  {
   "cell_type": "markdown",
   "metadata": {},
   "source": [
    "# S&P 500 ETF Data for Python Using Yahoo Finance API"
   ]
  },
  {
   "cell_type": "markdown",
   "metadata": {},
   "source": [
    "!pip3 install yfinance"
   ]
  },
  {
   "cell_type": "markdown",
   "metadata": {},
   "source": [
    "Note: Using the Public API (without authentication), you are limited to 2,000 requests per hour per IP (or up to a total of 48,000 requests a day)."
   ]
  },
  {
   "cell_type": "code",
   "execution_count": 1,
   "metadata": {},
   "outputs": [],
   "source": [
    "import yfinance as yf\n",
    "import pandas as pd\n",
    "import requests"
   ]
  },
  {
   "cell_type": "markdown",
   "metadata": {},
   "source": [
    "## Get Historical Market Data"
   ]
  },
  {
   "cell_type": "code",
   "execution_count": 2,
   "metadata": {},
   "outputs": [],
   "source": [
    "tick = \"IVV\""
   ]
  },
  {
   "cell_type": "markdown",
   "metadata": {},
   "source": [
    "Get the closing price for the last 5 years for each tick."
   ]
  },
  {
   "cell_type": "code",
   "execution_count": 3,
   "metadata": {},
   "outputs": [],
   "source": [
    "ticker = yf.Ticker(tick)\n",
    "hist_tick = ticker.history(period=\"30y\")"
   ]
  },
  {
   "cell_type": "code",
   "execution_count": 4,
   "metadata": {},
   "outputs": [
    {
     "data": {
      "text/html": [
       "<div>\n",
       "<style scoped>\n",
       "    .dataframe tbody tr th:only-of-type {\n",
       "        vertical-align: middle;\n",
       "    }\n",
       "\n",
       "    .dataframe tbody tr th {\n",
       "        vertical-align: top;\n",
       "    }\n",
       "\n",
       "    .dataframe thead th {\n",
       "        text-align: right;\n",
       "    }\n",
       "</style>\n",
       "<table border=\"1\" class=\"dataframe\">\n",
       "  <thead>\n",
       "    <tr style=\"text-align: right;\">\n",
       "      <th></th>\n",
       "      <th>Open</th>\n",
       "      <th>High</th>\n",
       "      <th>Low</th>\n",
       "      <th>Close</th>\n",
       "      <th>Volume</th>\n",
       "      <th>Dividends</th>\n",
       "      <th>Stock Splits</th>\n",
       "    </tr>\n",
       "    <tr>\n",
       "      <th>Date</th>\n",
       "      <th></th>\n",
       "      <th></th>\n",
       "      <th></th>\n",
       "      <th></th>\n",
       "      <th></th>\n",
       "      <th></th>\n",
       "      <th></th>\n",
       "    </tr>\n",
       "  </thead>\n",
       "  <tbody>\n",
       "    <tr>\n",
       "      <th>2000-05-19</th>\n",
       "      <td>96.106028</td>\n",
       "      <td>96.106028</td>\n",
       "      <td>94.484962</td>\n",
       "      <td>94.779701</td>\n",
       "      <td>775500</td>\n",
       "      <td>0.0</td>\n",
       "      <td>0</td>\n",
       "    </tr>\n",
       "    <tr>\n",
       "      <th>2000-05-22</th>\n",
       "      <td>94.716551</td>\n",
       "      <td>94.716551</td>\n",
       "      <td>92.169162</td>\n",
       "      <td>94.190231</td>\n",
       "      <td>1850600</td>\n",
       "      <td>0.0</td>\n",
       "      <td>0</td>\n",
       "    </tr>\n",
       "    <tr>\n",
       "      <th>2000-05-23</th>\n",
       "      <td>94.463952</td>\n",
       "      <td>94.463952</td>\n",
       "      <td>92.758675</td>\n",
       "      <td>92.758675</td>\n",
       "      <td>373900</td>\n",
       "      <td>0.0</td>\n",
       "      <td>0</td>\n",
       "    </tr>\n",
       "    <tr>\n",
       "      <th>2000-05-24</th>\n",
       "      <td>92.800753</td>\n",
       "      <td>94.358660</td>\n",
       "      <td>92.063905</td>\n",
       "      <td>94.148132</td>\n",
       "      <td>400300</td>\n",
       "      <td>0.0</td>\n",
       "      <td>0</td>\n",
       "    </tr>\n",
       "    <tr>\n",
       "      <th>2000-05-25</th>\n",
       "      <td>94.337613</td>\n",
       "      <td>94.948145</td>\n",
       "      <td>92.884970</td>\n",
       "      <td>93.284973</td>\n",
       "      <td>69600</td>\n",
       "      <td>0.0</td>\n",
       "      <td>0</td>\n",
       "    </tr>\n",
       "    <tr>\n",
       "      <th>...</th>\n",
       "      <td>...</td>\n",
       "      <td>...</td>\n",
       "      <td>...</td>\n",
       "      <td>...</td>\n",
       "      <td>...</td>\n",
       "      <td>...</td>\n",
       "      <td>...</td>\n",
       "    </tr>\n",
       "    <tr>\n",
       "      <th>2021-09-08</th>\n",
       "      <td>452.899994</td>\n",
       "      <td>453.679993</td>\n",
       "      <td>450.869995</td>\n",
       "      <td>453.000000</td>\n",
       "      <td>4076800</td>\n",
       "      <td>0.0</td>\n",
       "      <td>0</td>\n",
       "    </tr>\n",
       "    <tr>\n",
       "      <th>2021-09-09</th>\n",
       "      <td>452.690002</td>\n",
       "      <td>454.579987</td>\n",
       "      <td>450.730011</td>\n",
       "      <td>450.980011</td>\n",
       "      <td>3851600</td>\n",
       "      <td>0.0</td>\n",
       "      <td>0</td>\n",
       "    </tr>\n",
       "    <tr>\n",
       "      <th>2021-09-10</th>\n",
       "      <td>453.059998</td>\n",
       "      <td>453.510010</td>\n",
       "      <td>447.299988</td>\n",
       "      <td>447.540009</td>\n",
       "      <td>3023500</td>\n",
       "      <td>0.0</td>\n",
       "      <td>0</td>\n",
       "    </tr>\n",
       "    <tr>\n",
       "      <th>2021-09-13</th>\n",
       "      <td>450.679993</td>\n",
       "      <td>450.929993</td>\n",
       "      <td>446.089996</td>\n",
       "      <td>448.579987</td>\n",
       "      <td>3007400</td>\n",
       "      <td>0.0</td>\n",
       "      <td>0</td>\n",
       "    </tr>\n",
       "    <tr>\n",
       "      <th>2021-09-14</th>\n",
       "      <td>450.079987</td>\n",
       "      <td>450.320007</td>\n",
       "      <td>445.200012</td>\n",
       "      <td>446.190002</td>\n",
       "      <td>3658400</td>\n",
       "      <td>0.0</td>\n",
       "      <td>0</td>\n",
       "    </tr>\n",
       "  </tbody>\n",
       "</table>\n",
       "<p>5364 rows × 7 columns</p>\n",
       "</div>"
      ],
      "text/plain": [
       "                  Open        High         Low       Close   Volume  \\\n",
       "Date                                                                  \n",
       "2000-05-19   96.106028   96.106028   94.484962   94.779701   775500   \n",
       "2000-05-22   94.716551   94.716551   92.169162   94.190231  1850600   \n",
       "2000-05-23   94.463952   94.463952   92.758675   92.758675   373900   \n",
       "2000-05-24   92.800753   94.358660   92.063905   94.148132   400300   \n",
       "2000-05-25   94.337613   94.948145   92.884970   93.284973    69600   \n",
       "...                ...         ...         ...         ...      ...   \n",
       "2021-09-08  452.899994  453.679993  450.869995  453.000000  4076800   \n",
       "2021-09-09  452.690002  454.579987  450.730011  450.980011  3851600   \n",
       "2021-09-10  453.059998  453.510010  447.299988  447.540009  3023500   \n",
       "2021-09-13  450.679993  450.929993  446.089996  448.579987  3007400   \n",
       "2021-09-14  450.079987  450.320007  445.200012  446.190002  3658400   \n",
       "\n",
       "            Dividends  Stock Splits  \n",
       "Date                                 \n",
       "2000-05-19        0.0             0  \n",
       "2000-05-22        0.0             0  \n",
       "2000-05-23        0.0             0  \n",
       "2000-05-24        0.0             0  \n",
       "2000-05-25        0.0             0  \n",
       "...               ...           ...  \n",
       "2021-09-08        0.0             0  \n",
       "2021-09-09        0.0             0  \n",
       "2021-09-10        0.0             0  \n",
       "2021-09-13        0.0             0  \n",
       "2021-09-14        0.0             0  \n",
       "\n",
       "[5364 rows x 7 columns]"
      ]
     },
     "execution_count": 4,
     "metadata": {},
     "output_type": "execute_result"
    }
   ],
   "source": [
    "hist_tick"
   ]
  },
  {
   "cell_type": "code",
   "execution_count": 5,
   "metadata": {},
   "outputs": [],
   "source": [
    "hist_tick.to_csv('SP500.csv')"
   ]
  }
 ],
 "metadata": {
  "kernelspec": {
   "display_name": "Python 3",
   "language": "python",
   "name": "python3"
  },
  "language_info": {
   "codemirror_mode": {
    "name": "ipython",
    "version": 3
   },
   "file_extension": ".py",
   "mimetype": "text/x-python",
   "name": "python",
   "nbconvert_exporter": "python",
   "pygments_lexer": "ipython3",
   "version": "3.8.10"
  }
 },
 "nbformat": 4,
 "nbformat_minor": 4
}
