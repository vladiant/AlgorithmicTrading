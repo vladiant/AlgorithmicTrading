{
 "cells": [
  {
   "cell_type": "markdown",
   "metadata": {},
   "source": [
    "# Crypto Currencies Stock Data for Python Using Yahoo Finance API"
   ]
  },
  {
   "cell_type": "markdown",
   "metadata": {},
   "source": [
    "!pip3 install yfinance"
   ]
  },
  {
   "cell_type": "markdown",
   "metadata": {},
   "source": [
    "Note: Using the Public API (without authentication), you are limited to 2,000 requests per hour per IP (or up to a total of 48,000 requests a day)."
   ]
  },
  {
   "cell_type": "code",
   "execution_count": 1,
   "metadata": {},
   "outputs": [],
   "source": [
    "import yfinance as yf\n",
    "import pandas as pd\n",
    "import requests"
   ]
  },
  {
   "cell_type": "markdown",
   "metadata": {},
   "source": [
    "## Get Historical Market Data"
   ]
  },
  {
   "cell_type": "code",
   "execution_count": 2,
   "metadata": {},
   "outputs": [],
   "source": [
    "tick = \"HDFCBANK.NS\""
   ]
  },
  {
   "cell_type": "markdown",
   "metadata": {},
   "source": [
    "Get the closing price for the last 5 years for each tick."
   ]
  },
  {
   "cell_type": "code",
   "execution_count": 3,
   "metadata": {},
   "outputs": [],
   "source": [
    "ticker = yf.Ticker(tick)\n",
    "hist_tick = ticker.history(start=\"2016-08-31\", end=\"2020-01-10\")"
   ]
  },
  {
   "cell_type": "code",
   "execution_count": 4,
   "metadata": {},
   "outputs": [
    {
     "data": {
      "text/html": [
       "<div>\n",
       "<style scoped>\n",
       "    .dataframe tbody tr th:only-of-type {\n",
       "        vertical-align: middle;\n",
       "    }\n",
       "\n",
       "    .dataframe tbody tr th {\n",
       "        vertical-align: top;\n",
       "    }\n",
       "\n",
       "    .dataframe thead th {\n",
       "        text-align: right;\n",
       "    }\n",
       "</style>\n",
       "<table border=\"1\" class=\"dataframe\">\n",
       "  <thead>\n",
       "    <tr style=\"text-align: right;\">\n",
       "      <th></th>\n",
       "      <th>Open</th>\n",
       "      <th>High</th>\n",
       "      <th>Low</th>\n",
       "      <th>Close</th>\n",
       "      <th>Volume</th>\n",
       "      <th>Dividends</th>\n",
       "      <th>Stock Splits</th>\n",
       "    </tr>\n",
       "    <tr>\n",
       "      <th>Date</th>\n",
       "      <th></th>\n",
       "      <th></th>\n",
       "      <th></th>\n",
       "      <th></th>\n",
       "      <th></th>\n",
       "      <th></th>\n",
       "      <th></th>\n",
       "    </tr>\n",
       "  </thead>\n",
       "  <tbody>\n",
       "    <tr>\n",
       "      <th>2016-08-31</th>\n",
       "      <td>621.060490</td>\n",
       "      <td>633.785134</td>\n",
       "      <td>619.347557</td>\n",
       "      <td>631.925354</td>\n",
       "      <td>5580682</td>\n",
       "      <td>0.0</td>\n",
       "      <td>0.0</td>\n",
       "    </tr>\n",
       "    <tr>\n",
       "      <th>2016-09-01</th>\n",
       "      <td>630.359306</td>\n",
       "      <td>631.338125</td>\n",
       "      <td>624.192760</td>\n",
       "      <td>628.254822</td>\n",
       "      <td>2612338</td>\n",
       "      <td>0.0</td>\n",
       "      <td>0.0</td>\n",
       "    </tr>\n",
       "    <tr>\n",
       "      <th>2016-09-02</th>\n",
       "      <td>629.135778</td>\n",
       "      <td>630.848711</td>\n",
       "      <td>627.006859</td>\n",
       "      <td>628.940002</td>\n",
       "      <td>1977594</td>\n",
       "      <td>0.0</td>\n",
       "      <td>0.0</td>\n",
       "    </tr>\n",
       "    <tr>\n",
       "      <th>2016-09-06</th>\n",
       "      <td>631.362664</td>\n",
       "      <td>638.140973</td>\n",
       "      <td>631.362664</td>\n",
       "      <td>636.428040</td>\n",
       "      <td>2754442</td>\n",
       "      <td>0.0</td>\n",
       "      <td>0.0</td>\n",
       "    </tr>\n",
       "    <tr>\n",
       "      <th>2016-09-07</th>\n",
       "      <td>636.721643</td>\n",
       "      <td>638.679280</td>\n",
       "      <td>627.961202</td>\n",
       "      <td>629.747559</td>\n",
       "      <td>2008222</td>\n",
       "      <td>0.0</td>\n",
       "      <td>0.0</td>\n",
       "    </tr>\n",
       "    <tr>\n",
       "      <th>...</th>\n",
       "      <td>...</td>\n",
       "      <td>...</td>\n",
       "      <td>...</td>\n",
       "      <td>...</td>\n",
       "      <td>...</td>\n",
       "      <td>...</td>\n",
       "      <td>...</td>\n",
       "    </tr>\n",
       "    <tr>\n",
       "      <th>2020-01-03</th>\n",
       "      <td>1282.199951</td>\n",
       "      <td>1285.000000</td>\n",
       "      <td>1263.599976</td>\n",
       "      <td>1268.400024</td>\n",
       "      <td>5427775</td>\n",
       "      <td>0.0</td>\n",
       "      <td>0.0</td>\n",
       "    </tr>\n",
       "    <tr>\n",
       "      <th>2020-01-06</th>\n",
       "      <td>1260.000000</td>\n",
       "      <td>1261.800049</td>\n",
       "      <td>1236.000000</td>\n",
       "      <td>1240.949951</td>\n",
       "      <td>5445093</td>\n",
       "      <td>0.0</td>\n",
       "      <td>0.0</td>\n",
       "    </tr>\n",
       "    <tr>\n",
       "      <th>2020-01-07</th>\n",
       "      <td>1258.900024</td>\n",
       "      <td>1271.449951</td>\n",
       "      <td>1252.250000</td>\n",
       "      <td>1260.599976</td>\n",
       "      <td>7362247</td>\n",
       "      <td>0.0</td>\n",
       "      <td>0.0</td>\n",
       "    </tr>\n",
       "    <tr>\n",
       "      <th>2020-01-08</th>\n",
       "      <td>1246.949951</td>\n",
       "      <td>1262.150024</td>\n",
       "      <td>1240.050049</td>\n",
       "      <td>1257.300049</td>\n",
       "      <td>5666055</td>\n",
       "      <td>0.0</td>\n",
       "      <td>0.0</td>\n",
       "    </tr>\n",
       "    <tr>\n",
       "      <th>2020-01-09</th>\n",
       "      <td>1265.000000</td>\n",
       "      <td>1275.800049</td>\n",
       "      <td>1263.099976</td>\n",
       "      <td>1271.400024</td>\n",
       "      <td>4773158</td>\n",
       "      <td>0.0</td>\n",
       "      <td>0.0</td>\n",
       "    </tr>\n",
       "  </tbody>\n",
       "</table>\n",
       "<p>825 rows × 7 columns</p>\n",
       "</div>"
      ],
      "text/plain": [
       "                   Open         High          Low        Close   Volume  \\\n",
       "Date                                                                      \n",
       "2016-08-31   621.060490   633.785134   619.347557   631.925354  5580682   \n",
       "2016-09-01   630.359306   631.338125   624.192760   628.254822  2612338   \n",
       "2016-09-02   629.135778   630.848711   627.006859   628.940002  1977594   \n",
       "2016-09-06   631.362664   638.140973   631.362664   636.428040  2754442   \n",
       "2016-09-07   636.721643   638.679280   627.961202   629.747559  2008222   \n",
       "...                 ...          ...          ...          ...      ...   \n",
       "2020-01-03  1282.199951  1285.000000  1263.599976  1268.400024  5427775   \n",
       "2020-01-06  1260.000000  1261.800049  1236.000000  1240.949951  5445093   \n",
       "2020-01-07  1258.900024  1271.449951  1252.250000  1260.599976  7362247   \n",
       "2020-01-08  1246.949951  1262.150024  1240.050049  1257.300049  5666055   \n",
       "2020-01-09  1265.000000  1275.800049  1263.099976  1271.400024  4773158   \n",
       "\n",
       "            Dividends  Stock Splits  \n",
       "Date                                 \n",
       "2016-08-31        0.0           0.0  \n",
       "2016-09-01        0.0           0.0  \n",
       "2016-09-02        0.0           0.0  \n",
       "2016-09-06        0.0           0.0  \n",
       "2016-09-07        0.0           0.0  \n",
       "...               ...           ...  \n",
       "2020-01-03        0.0           0.0  \n",
       "2020-01-06        0.0           0.0  \n",
       "2020-01-07        0.0           0.0  \n",
       "2020-01-08        0.0           0.0  \n",
       "2020-01-09        0.0           0.0  \n",
       "\n",
       "[825 rows x 7 columns]"
      ]
     },
     "execution_count": 4,
     "metadata": {},
     "output_type": "execute_result"
    }
   ],
   "source": [
    "hist_tick"
   ]
  },
  {
   "cell_type": "code",
   "execution_count": 5,
   "metadata": {},
   "outputs": [],
   "source": [
    "hist_tick.to_csv('HDFC.csv')"
   ]
  }
 ],
 "metadata": {
  "kernelspec": {
   "display_name": "Python 3",
   "language": "python",
   "name": "python3"
  },
  "language_info": {
   "codemirror_mode": {
    "name": "ipython",
    "version": 3
   },
   "file_extension": ".py",
   "mimetype": "text/x-python",
   "name": "python",
   "nbconvert_exporter": "python",
   "pygments_lexer": "ipython3",
   "version": "3.8.5"
  }
 },
 "nbformat": 4,
 "nbformat_minor": 4
}
