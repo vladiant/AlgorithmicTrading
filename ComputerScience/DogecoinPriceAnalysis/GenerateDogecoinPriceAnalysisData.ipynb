{
 "cells": [
  {
   "cell_type": "markdown",
   "metadata": {},
   "source": [
    "# Crypto Currencies Stock Data for Python Using Yahoo Finance API"
   ]
  },
  {
   "cell_type": "markdown",
   "metadata": {},
   "source": [
    "!pip3 install yfinance"
   ]
  },
  {
   "cell_type": "markdown",
   "metadata": {},
   "source": [
    "Note: Using the Public API (without authentication), you are limited to 2,000 requests per hour per IP (or up to a total of 48,000 requests a day)."
   ]
  },
  {
   "cell_type": "code",
   "execution_count": 1,
   "metadata": {},
   "outputs": [],
   "source": [
    "import yfinance as yf\n",
    "import pandas as pd\n",
    "import requests"
   ]
  },
  {
   "cell_type": "markdown",
   "metadata": {},
   "source": [
    "## Get Historical Market Data"
   ]
  },
  {
   "cell_type": "markdown",
   "metadata": {},
   "source": [
    "Based on [Dogecoin Crypto Currency Analysis](https://www.youtube.com/watch?v=XUsidyuMFsE) from [\n",
    "Computer Science](https://www.youtube.com/channel/UCbmb5IoBtHZTpYZCDBOC1CA) YouTube channel"
   ]
  },
  {
   "cell_type": "code",
   "execution_count": 2,
   "metadata": {},
   "outputs": [],
   "source": [
    "tick = \"DOGE-USD\""
   ]
  },
  {
   "cell_type": "markdown",
   "metadata": {},
   "source": [
    "Get the closing price for the last 5 years for each tick."
   ]
  },
  {
   "cell_type": "code",
   "execution_count": 5,
   "metadata": {},
   "outputs": [],
   "source": [
    "ticker = yf.Ticker(tick)\n",
    "hist_tick = ticker.history(start=\"2019-12-07\", end=\"2021-05-28\")"
   ]
  },
  {
   "cell_type": "code",
   "execution_count": 6,
   "metadata": {},
   "outputs": [
    {
     "data": {
      "text/html": [
       "<div>\n",
       "<style scoped>\n",
       "    .dataframe tbody tr th:only-of-type {\n",
       "        vertical-align: middle;\n",
       "    }\n",
       "\n",
       "    .dataframe tbody tr th {\n",
       "        vertical-align: top;\n",
       "    }\n",
       "\n",
       "    .dataframe thead th {\n",
       "        text-align: right;\n",
       "    }\n",
       "</style>\n",
       "<table border=\"1\" class=\"dataframe\">\n",
       "  <thead>\n",
       "    <tr style=\"text-align: right;\">\n",
       "      <th></th>\n",
       "      <th>Open</th>\n",
       "      <th>High</th>\n",
       "      <th>Low</th>\n",
       "      <th>Close</th>\n",
       "      <th>Volume</th>\n",
       "      <th>Dividends</th>\n",
       "      <th>Stock Splits</th>\n",
       "    </tr>\n",
       "    <tr>\n",
       "      <th>Date</th>\n",
       "      <th></th>\n",
       "      <th></th>\n",
       "      <th></th>\n",
       "      <th></th>\n",
       "      <th></th>\n",
       "      <th></th>\n",
       "      <th></th>\n",
       "    </tr>\n",
       "  </thead>\n",
       "  <tbody>\n",
       "    <tr>\n",
       "      <th>2019-11-29</th>\n",
       "      <td>0.002315</td>\n",
       "      <td>0.002458</td>\n",
       "      <td>0.002305</td>\n",
       "      <td>0.002456</td>\n",
       "      <td>97859845</td>\n",
       "      <td>0</td>\n",
       "      <td>0</td>\n",
       "    </tr>\n",
       "    <tr>\n",
       "      <th>2019-11-30</th>\n",
       "      <td>0.002456</td>\n",
       "      <td>0.002474</td>\n",
       "      <td>0.002314</td>\n",
       "      <td>0.002320</td>\n",
       "      <td>89565611</td>\n",
       "      <td>0</td>\n",
       "      <td>0</td>\n",
       "    </tr>\n",
       "    <tr>\n",
       "      <th>2019-12-01</th>\n",
       "      <td>0.002320</td>\n",
       "      <td>0.002394</td>\n",
       "      <td>0.002257</td>\n",
       "      <td>0.002292</td>\n",
       "      <td>77007809</td>\n",
       "      <td>0</td>\n",
       "      <td>0</td>\n",
       "    </tr>\n",
       "    <tr>\n",
       "      <th>2019-12-02</th>\n",
       "      <td>0.002293</td>\n",
       "      <td>0.002312</td>\n",
       "      <td>0.002204</td>\n",
       "      <td>0.002235</td>\n",
       "      <td>66782510</td>\n",
       "      <td>0</td>\n",
       "      <td>0</td>\n",
       "    </tr>\n",
       "    <tr>\n",
       "      <th>2019-12-03</th>\n",
       "      <td>0.002234</td>\n",
       "      <td>0.002256</td>\n",
       "      <td>0.002167</td>\n",
       "      <td>0.002217</td>\n",
       "      <td>62508732</td>\n",
       "      <td>0</td>\n",
       "      <td>0</td>\n",
       "    </tr>\n",
       "    <tr>\n",
       "      <th>...</th>\n",
       "      <td>...</td>\n",
       "      <td>...</td>\n",
       "      <td>...</td>\n",
       "      <td>...</td>\n",
       "      <td>...</td>\n",
       "      <td>...</td>\n",
       "      <td>...</td>\n",
       "    </tr>\n",
       "    <tr>\n",
       "      <th>2021-05-23</th>\n",
       "      <td>0.342522</td>\n",
       "      <td>0.350863</td>\n",
       "      <td>0.249437</td>\n",
       "      <td>0.308071</td>\n",
       "      <td>7143545371</td>\n",
       "      <td>0</td>\n",
       "      <td>0</td>\n",
       "    </tr>\n",
       "    <tr>\n",
       "      <th>2021-05-24</th>\n",
       "      <td>0.306715</td>\n",
       "      <td>0.371485</td>\n",
       "      <td>0.296291</td>\n",
       "      <td>0.366162</td>\n",
       "      <td>6821088755</td>\n",
       "      <td>0</td>\n",
       "      <td>0</td>\n",
       "    </tr>\n",
       "    <tr>\n",
       "      <th>2021-05-25</th>\n",
       "      <td>0.366041</td>\n",
       "      <td>0.380010</td>\n",
       "      <td>0.323497</td>\n",
       "      <td>0.346302</td>\n",
       "      <td>5544552739</td>\n",
       "      <td>0</td>\n",
       "      <td>0</td>\n",
       "    </tr>\n",
       "    <tr>\n",
       "      <th>2021-05-26</th>\n",
       "      <td>0.346396</td>\n",
       "      <td>0.365920</td>\n",
       "      <td>0.338857</td>\n",
       "      <td>0.353693</td>\n",
       "      <td>3355793260</td>\n",
       "      <td>0</td>\n",
       "      <td>0</td>\n",
       "    </tr>\n",
       "    <tr>\n",
       "      <th>2021-05-27</th>\n",
       "      <td>0.353463</td>\n",
       "      <td>0.353463</td>\n",
       "      <td>0.328144</td>\n",
       "      <td>0.332945</td>\n",
       "      <td>2485942309</td>\n",
       "      <td>0</td>\n",
       "      <td>0</td>\n",
       "    </tr>\n",
       "  </tbody>\n",
       "</table>\n",
       "<p>542 rows × 7 columns</p>\n",
       "</div>"
      ],
      "text/plain": [
       "                Open      High       Low     Close      Volume  Dividends  \\\n",
       "Date                                                                        \n",
       "2019-11-29  0.002315  0.002458  0.002305  0.002456    97859845          0   \n",
       "2019-11-30  0.002456  0.002474  0.002314  0.002320    89565611          0   \n",
       "2019-12-01  0.002320  0.002394  0.002257  0.002292    77007809          0   \n",
       "2019-12-02  0.002293  0.002312  0.002204  0.002235    66782510          0   \n",
       "2019-12-03  0.002234  0.002256  0.002167  0.002217    62508732          0   \n",
       "...              ...       ...       ...       ...         ...        ...   \n",
       "2021-05-23  0.342522  0.350863  0.249437  0.308071  7143545371          0   \n",
       "2021-05-24  0.306715  0.371485  0.296291  0.366162  6821088755          0   \n",
       "2021-05-25  0.366041  0.380010  0.323497  0.346302  5544552739          0   \n",
       "2021-05-26  0.346396  0.365920  0.338857  0.353693  3355793260          0   \n",
       "2021-05-27  0.353463  0.353463  0.328144  0.332945  2485942309          0   \n",
       "\n",
       "            Stock Splits  \n",
       "Date                      \n",
       "2019-11-29             0  \n",
       "2019-11-30             0  \n",
       "2019-12-01             0  \n",
       "2019-12-02             0  \n",
       "2019-12-03             0  \n",
       "...                  ...  \n",
       "2021-05-23             0  \n",
       "2021-05-24             0  \n",
       "2021-05-25             0  \n",
       "2021-05-26             0  \n",
       "2021-05-27             0  \n",
       "\n",
       "[542 rows x 7 columns]"
      ]
     },
     "execution_count": 6,
     "metadata": {},
     "output_type": "execute_result"
    }
   ],
   "source": [
    "hist_tick"
   ]
  },
  {
   "cell_type": "code",
   "execution_count": 7,
   "metadata": {},
   "outputs": [],
   "source": [
    "hist_tick.to_csv('Crypto_Data_Full.csv')"
   ]
  }
 ],
 "metadata": {
  "kernelspec": {
   "display_name": "Python 3",
   "language": "python",
   "name": "python3"
  },
  "language_info": {
   "codemirror_mode": {
    "name": "ipython",
    "version": 3
   },
   "file_extension": ".py",
   "mimetype": "text/x-python",
   "name": "python",
   "nbconvert_exporter": "python",
   "pygments_lexer": "ipython3",
   "version": "3.8.5"
  }
 },
 "nbformat": 4,
 "nbformat_minor": 4
}
