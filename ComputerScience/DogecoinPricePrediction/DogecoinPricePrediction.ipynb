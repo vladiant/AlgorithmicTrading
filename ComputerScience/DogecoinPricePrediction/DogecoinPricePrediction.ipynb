{
 "cells": [
  {
   "cell_type": "markdown",
   "metadata": {},
   "source": [
    "# Dogecoin Price Prediction"
   ]
  },
  {
   "cell_type": "markdown",
   "metadata": {},
   "source": [
    "Based on [Dogecoin Price Prediction Using Python & Machine Learning](https://www.youtube.com/watch?v=FMKnvsKoQxE) from [Computer Science](https://www.youtube.com/channel/UCbmb5IoBtHZTpYZCDBOC1CA)\n",
    "\n",
    "This program attempts to predict future price of Dogecoin"
   ]
  },
  {
   "cell_type": "markdown",
   "metadata": {},
   "source": [
    "**Disclaimer:** _Investing in the stock market involves risk and can lead to monetary loss. This material is purely for educational purposes and should not be taken as professional investment advice. Invest at your own discretion._"
   ]
  },
  {
   "cell_type": "markdown",
   "metadata": {},
   "source": [
    "Import libraries"
   ]
  },
  {
   "cell_type": "code",
   "execution_count": 1,
   "metadata": {},
   "outputs": [],
   "source": [
    "import pandas as pd\n",
    "import numpy as np\n",
    "import matplotlib.pyplot as plt"
   ]
  },
  {
   "cell_type": "markdown",
   "metadata": {},
   "source": [
    "Load the data"
   ]
  },
  {
   "cell_type": "code",
   "execution_count": 2,
   "metadata": {},
   "outputs": [],
   "source": [
    "df = pd.read_csv('DogecoinPricePredictionData.csv')"
   ]
  },
  {
   "cell_type": "markdown",
   "metadata": {},
   "source": [
    "Show the data"
   ]
  },
  {
   "cell_type": "code",
   "execution_count": 3,
   "metadata": {},
   "outputs": [
    {
     "data": {
      "text/html": [
       "<div>\n",
       "<style scoped>\n",
       "    .dataframe tbody tr th:only-of-type {\n",
       "        vertical-align: middle;\n",
       "    }\n",
       "\n",
       "    .dataframe tbody tr th {\n",
       "        vertical-align: top;\n",
       "    }\n",
       "\n",
       "    .dataframe thead th {\n",
       "        text-align: right;\n",
       "    }\n",
       "</style>\n",
       "<table border=\"1\" class=\"dataframe\">\n",
       "  <thead>\n",
       "    <tr style=\"text-align: right;\">\n",
       "      <th></th>\n",
       "      <th>Date</th>\n",
       "      <th>Close</th>\n",
       "    </tr>\n",
       "  </thead>\n",
       "  <tbody>\n",
       "    <tr>\n",
       "      <th>0</th>\n",
       "      <td>2020-12-01</td>\n",
       "      <td>0.003335</td>\n",
       "    </tr>\n",
       "    <tr>\n",
       "      <th>1</th>\n",
       "      <td>2020-12-02</td>\n",
       "      <td>0.003374</td>\n",
       "    </tr>\n",
       "    <tr>\n",
       "      <th>2</th>\n",
       "      <td>2020-12-03</td>\n",
       "      <td>0.003428</td>\n",
       "    </tr>\n",
       "    <tr>\n",
       "      <th>3</th>\n",
       "      <td>2020-12-04</td>\n",
       "      <td>0.003298</td>\n",
       "    </tr>\n",
       "    <tr>\n",
       "      <th>4</th>\n",
       "      <td>2020-12-05</td>\n",
       "      <td>0.003397</td>\n",
       "    </tr>\n",
       "    <tr>\n",
       "      <th>...</th>\n",
       "      <td>...</td>\n",
       "      <td>...</td>\n",
       "    </tr>\n",
       "    <tr>\n",
       "      <th>132</th>\n",
       "      <td>2021-04-12</td>\n",
       "      <td>0.070767</td>\n",
       "    </tr>\n",
       "    <tr>\n",
       "      <th>133</th>\n",
       "      <td>2021-04-13</td>\n",
       "      <td>0.093445</td>\n",
       "    </tr>\n",
       "    <tr>\n",
       "      <th>134</th>\n",
       "      <td>2021-04-14</td>\n",
       "      <td>0.121517</td>\n",
       "    </tr>\n",
       "    <tr>\n",
       "      <th>135</th>\n",
       "      <td>2021-04-15</td>\n",
       "      <td>0.182207</td>\n",
       "    </tr>\n",
       "    <tr>\n",
       "      <th>136</th>\n",
       "      <td>2021-04-16</td>\n",
       "      <td>0.365870</td>\n",
       "    </tr>\n",
       "  </tbody>\n",
       "</table>\n",
       "<p>137 rows × 2 columns</p>\n",
       "</div>"
      ],
      "text/plain": [
       "           Date     Close\n",
       "0    2020-12-01  0.003335\n",
       "1    2020-12-02  0.003374\n",
       "2    2020-12-03  0.003428\n",
       "3    2020-12-04  0.003298\n",
       "4    2020-12-05  0.003397\n",
       "..          ...       ...\n",
       "132  2021-04-12  0.070767\n",
       "133  2021-04-13  0.093445\n",
       "134  2021-04-14  0.121517\n",
       "135  2021-04-15  0.182207\n",
       "136  2021-04-16  0.365870\n",
       "\n",
       "[137 rows x 2 columns]"
      ]
     },
     "execution_count": 3,
     "metadata": {},
     "output_type": "execute_result"
    }
   ],
   "source": [
    "df"
   ]
  },
  {
   "cell_type": "markdown",
   "metadata": {},
   "source": [
    "Set the date as index"
   ]
  },
  {
   "cell_type": "code",
   "execution_count": 4,
   "metadata": {},
   "outputs": [],
   "source": [
    "df = df.set_index(pd.DatetimeIndex(df['Date'].values))"
   ]
  },
  {
   "cell_type": "markdown",
   "metadata": {},
   "source": [
    "Show the data"
   ]
  },
  {
   "cell_type": "code",
   "execution_count": 5,
   "metadata": {},
   "outputs": [
    {
     "data": {
      "text/html": [
       "<div>\n",
       "<style scoped>\n",
       "    .dataframe tbody tr th:only-of-type {\n",
       "        vertical-align: middle;\n",
       "    }\n",
       "\n",
       "    .dataframe tbody tr th {\n",
       "        vertical-align: top;\n",
       "    }\n",
       "\n",
       "    .dataframe thead th {\n",
       "        text-align: right;\n",
       "    }\n",
       "</style>\n",
       "<table border=\"1\" class=\"dataframe\">\n",
       "  <thead>\n",
       "    <tr style=\"text-align: right;\">\n",
       "      <th></th>\n",
       "      <th>Date</th>\n",
       "      <th>Close</th>\n",
       "    </tr>\n",
       "  </thead>\n",
       "  <tbody>\n",
       "    <tr>\n",
       "      <th>2020-12-01</th>\n",
       "      <td>2020-12-01</td>\n",
       "      <td>0.003335</td>\n",
       "    </tr>\n",
       "    <tr>\n",
       "      <th>2020-12-02</th>\n",
       "      <td>2020-12-02</td>\n",
       "      <td>0.003374</td>\n",
       "    </tr>\n",
       "    <tr>\n",
       "      <th>2020-12-03</th>\n",
       "      <td>2020-12-03</td>\n",
       "      <td>0.003428</td>\n",
       "    </tr>\n",
       "    <tr>\n",
       "      <th>2020-12-04</th>\n",
       "      <td>2020-12-04</td>\n",
       "      <td>0.003298</td>\n",
       "    </tr>\n",
       "    <tr>\n",
       "      <th>2020-12-05</th>\n",
       "      <td>2020-12-05</td>\n",
       "      <td>0.003397</td>\n",
       "    </tr>\n",
       "    <tr>\n",
       "      <th>...</th>\n",
       "      <td>...</td>\n",
       "      <td>...</td>\n",
       "    </tr>\n",
       "    <tr>\n",
       "      <th>2021-04-12</th>\n",
       "      <td>2021-04-12</td>\n",
       "      <td>0.070767</td>\n",
       "    </tr>\n",
       "    <tr>\n",
       "      <th>2021-04-13</th>\n",
       "      <td>2021-04-13</td>\n",
       "      <td>0.093445</td>\n",
       "    </tr>\n",
       "    <tr>\n",
       "      <th>2021-04-14</th>\n",
       "      <td>2021-04-14</td>\n",
       "      <td>0.121517</td>\n",
       "    </tr>\n",
       "    <tr>\n",
       "      <th>2021-04-15</th>\n",
       "      <td>2021-04-15</td>\n",
       "      <td>0.182207</td>\n",
       "    </tr>\n",
       "    <tr>\n",
       "      <th>2021-04-16</th>\n",
       "      <td>2021-04-16</td>\n",
       "      <td>0.365870</td>\n",
       "    </tr>\n",
       "  </tbody>\n",
       "</table>\n",
       "<p>137 rows × 2 columns</p>\n",
       "</div>"
      ],
      "text/plain": [
       "                  Date     Close\n",
       "2020-12-01  2020-12-01  0.003335\n",
       "2020-12-02  2020-12-02  0.003374\n",
       "2020-12-03  2020-12-03  0.003428\n",
       "2020-12-04  2020-12-04  0.003298\n",
       "2020-12-05  2020-12-05  0.003397\n",
       "...                ...       ...\n",
       "2021-04-12  2021-04-12  0.070767\n",
       "2021-04-13  2021-04-13  0.093445\n",
       "2021-04-14  2021-04-14  0.121517\n",
       "2021-04-15  2021-04-15  0.182207\n",
       "2021-04-16  2021-04-16  0.365870\n",
       "\n",
       "[137 rows x 2 columns]"
      ]
     },
     "execution_count": 5,
     "metadata": {},
     "output_type": "execute_result"
    }
   ],
   "source": [
    "df"
   ]
  },
  {
   "cell_type": "markdown",
   "metadata": {},
   "source": [
    "Get the close price"
   ]
  },
  {
   "cell_type": "code",
   "execution_count": 6,
   "metadata": {},
   "outputs": [],
   "source": [
    "df = df[['Close']]"
   ]
  },
  {
   "cell_type": "markdown",
   "metadata": {},
   "source": [
    "Show the data"
   ]
  },
  {
   "cell_type": "code",
   "execution_count": 7,
   "metadata": {},
   "outputs": [
    {
     "data": {
      "text/html": [
       "<div>\n",
       "<style scoped>\n",
       "    .dataframe tbody tr th:only-of-type {\n",
       "        vertical-align: middle;\n",
       "    }\n",
       "\n",
       "    .dataframe tbody tr th {\n",
       "        vertical-align: top;\n",
       "    }\n",
       "\n",
       "    .dataframe thead th {\n",
       "        text-align: right;\n",
       "    }\n",
       "</style>\n",
       "<table border=\"1\" class=\"dataframe\">\n",
       "  <thead>\n",
       "    <tr style=\"text-align: right;\">\n",
       "      <th></th>\n",
       "      <th>Close</th>\n",
       "    </tr>\n",
       "  </thead>\n",
       "  <tbody>\n",
       "    <tr>\n",
       "      <th>2020-12-01</th>\n",
       "      <td>0.003335</td>\n",
       "    </tr>\n",
       "    <tr>\n",
       "      <th>2020-12-02</th>\n",
       "      <td>0.003374</td>\n",
       "    </tr>\n",
       "    <tr>\n",
       "      <th>2020-12-03</th>\n",
       "      <td>0.003428</td>\n",
       "    </tr>\n",
       "    <tr>\n",
       "      <th>2020-12-04</th>\n",
       "      <td>0.003298</td>\n",
       "    </tr>\n",
       "    <tr>\n",
       "      <th>2020-12-05</th>\n",
       "      <td>0.003397</td>\n",
       "    </tr>\n",
       "    <tr>\n",
       "      <th>...</th>\n",
       "      <td>...</td>\n",
       "    </tr>\n",
       "    <tr>\n",
       "      <th>2021-04-12</th>\n",
       "      <td>0.070767</td>\n",
       "    </tr>\n",
       "    <tr>\n",
       "      <th>2021-04-13</th>\n",
       "      <td>0.093445</td>\n",
       "    </tr>\n",
       "    <tr>\n",
       "      <th>2021-04-14</th>\n",
       "      <td>0.121517</td>\n",
       "    </tr>\n",
       "    <tr>\n",
       "      <th>2021-04-15</th>\n",
       "      <td>0.182207</td>\n",
       "    </tr>\n",
       "    <tr>\n",
       "      <th>2021-04-16</th>\n",
       "      <td>0.365870</td>\n",
       "    </tr>\n",
       "  </tbody>\n",
       "</table>\n",
       "<p>137 rows × 1 columns</p>\n",
       "</div>"
      ],
      "text/plain": [
       "               Close\n",
       "2020-12-01  0.003335\n",
       "2020-12-02  0.003374\n",
       "2020-12-03  0.003428\n",
       "2020-12-04  0.003298\n",
       "2020-12-05  0.003397\n",
       "...              ...\n",
       "2021-04-12  0.070767\n",
       "2021-04-13  0.093445\n",
       "2021-04-14  0.121517\n",
       "2021-04-15  0.182207\n",
       "2021-04-16  0.365870\n",
       "\n",
       "[137 rows x 1 columns]"
      ]
     },
     "execution_count": 7,
     "metadata": {},
     "output_type": "execute_result"
    }
   ],
   "source": [
    "df"
   ]
  },
  {
   "cell_type": "markdown",
   "metadata": {},
   "source": [
    "Create a variable to store the number of days into the future that we want to predict"
   ]
  },
  {
   "cell_type": "code",
   "execution_count": 8,
   "metadata": {},
   "outputs": [],
   "source": [
    "prediction_days = 1"
   ]
  },
  {
   "cell_type": "markdown",
   "metadata": {},
   "source": [
    "Create a new column called _Prediction_"
   ]
  },
  {
   "cell_type": "code",
   "execution_count": 9,
   "metadata": {},
   "outputs": [],
   "source": [
    "df['Prediction'] = df[['Close']].shift(-prediction_days)"
   ]
  },
  {
   "cell_type": "markdown",
   "metadata": {},
   "source": [
    "Show the data"
   ]
  },
  {
   "cell_type": "code",
   "execution_count": 10,
   "metadata": {},
   "outputs": [
    {
     "data": {
      "text/html": [
       "<div>\n",
       "<style scoped>\n",
       "    .dataframe tbody tr th:only-of-type {\n",
       "        vertical-align: middle;\n",
       "    }\n",
       "\n",
       "    .dataframe tbody tr th {\n",
       "        vertical-align: top;\n",
       "    }\n",
       "\n",
       "    .dataframe thead th {\n",
       "        text-align: right;\n",
       "    }\n",
       "</style>\n",
       "<table border=\"1\" class=\"dataframe\">\n",
       "  <thead>\n",
       "    <tr style=\"text-align: right;\">\n",
       "      <th></th>\n",
       "      <th>Close</th>\n",
       "      <th>Prediction</th>\n",
       "    </tr>\n",
       "  </thead>\n",
       "  <tbody>\n",
       "    <tr>\n",
       "      <th>2020-12-01</th>\n",
       "      <td>0.003335</td>\n",
       "      <td>0.003374</td>\n",
       "    </tr>\n",
       "    <tr>\n",
       "      <th>2020-12-02</th>\n",
       "      <td>0.003374</td>\n",
       "      <td>0.003428</td>\n",
       "    </tr>\n",
       "    <tr>\n",
       "      <th>2020-12-03</th>\n",
       "      <td>0.003428</td>\n",
       "      <td>0.003298</td>\n",
       "    </tr>\n",
       "    <tr>\n",
       "      <th>2020-12-04</th>\n",
       "      <td>0.003298</td>\n",
       "      <td>0.003397</td>\n",
       "    </tr>\n",
       "    <tr>\n",
       "      <th>2020-12-05</th>\n",
       "      <td>0.003397</td>\n",
       "      <td>0.003388</td>\n",
       "    </tr>\n",
       "    <tr>\n",
       "      <th>...</th>\n",
       "      <td>...</td>\n",
       "      <td>...</td>\n",
       "    </tr>\n",
       "    <tr>\n",
       "      <th>2021-04-12</th>\n",
       "      <td>0.070767</td>\n",
       "      <td>0.093445</td>\n",
       "    </tr>\n",
       "    <tr>\n",
       "      <th>2021-04-13</th>\n",
       "      <td>0.093445</td>\n",
       "      <td>0.121517</td>\n",
       "    </tr>\n",
       "    <tr>\n",
       "      <th>2021-04-14</th>\n",
       "      <td>0.121517</td>\n",
       "      <td>0.182207</td>\n",
       "    </tr>\n",
       "    <tr>\n",
       "      <th>2021-04-15</th>\n",
       "      <td>0.182207</td>\n",
       "      <td>0.365870</td>\n",
       "    </tr>\n",
       "    <tr>\n",
       "      <th>2021-04-16</th>\n",
       "      <td>0.365870</td>\n",
       "      <td>NaN</td>\n",
       "    </tr>\n",
       "  </tbody>\n",
       "</table>\n",
       "<p>137 rows × 2 columns</p>\n",
       "</div>"
      ],
      "text/plain": [
       "               Close  Prediction\n",
       "2020-12-01  0.003335    0.003374\n",
       "2020-12-02  0.003374    0.003428\n",
       "2020-12-03  0.003428    0.003298\n",
       "2020-12-04  0.003298    0.003397\n",
       "2020-12-05  0.003397    0.003388\n",
       "...              ...         ...\n",
       "2021-04-12  0.070767    0.093445\n",
       "2021-04-13  0.093445    0.121517\n",
       "2021-04-14  0.121517    0.182207\n",
       "2021-04-15  0.182207    0.365870\n",
       "2021-04-16  0.365870         NaN\n",
       "\n",
       "[137 rows x 2 columns]"
      ]
     },
     "execution_count": 10,
     "metadata": {},
     "output_type": "execute_result"
    }
   ],
   "source": [
    "df"
   ]
  },
  {
   "cell_type": "markdown",
   "metadata": {},
   "source": [
    "Create the independent dataset (X)"
   ]
  },
  {
   "cell_type": "code",
   "execution_count": 11,
   "metadata": {},
   "outputs": [],
   "source": [
    "X = np.array(df.drop(['Prediction'], 1))"
   ]
  },
  {
   "cell_type": "markdown",
   "metadata": {},
   "source": [
    "Remove the last n+1 rows of data where n is the prediction_days"
   ]
  },
  {
   "cell_type": "code",
   "execution_count": 12,
   "metadata": {},
   "outputs": [],
   "source": [
    "X = X[:len(df)-prediction_days-1]"
   ]
  },
  {
   "cell_type": "markdown",
   "metadata": {},
   "source": [
    "Print the data"
   ]
  },
  {
   "cell_type": "code",
   "execution_count": 13,
   "metadata": {},
   "outputs": [
    {
     "name": "stdout",
     "output_type": "stream",
     "text": [
      "[[0.003335]\n",
      " [0.003374]\n",
      " [0.003428]\n",
      " [0.003298]\n",
      " [0.003397]\n",
      " [0.003388]\n",
      " [0.003342]\n",
      " [0.003179]\n",
      " [0.003158]\n",
      " [0.003105]\n",
      " [0.003079]\n",
      " [0.003163]\n",
      " [0.003256]\n",
      " [0.003231]\n",
      " [0.003206]\n",
      " [0.003416]\n",
      " [0.00373 ]\n",
      " [0.003858]\n",
      " [0.003927]\n",
      " [0.004625]\n",
      " [0.004787]\n",
      " [0.004508]\n",
      " [0.003768]\n",
      " [0.00457 ]\n",
      " [0.004582]\n",
      " [0.004494]\n",
      " [0.004548]\n",
      " [0.004592]\n",
      " [0.004486]\n",
      " [0.004636]\n",
      " [0.004682]\n",
      " [0.005685]\n",
      " [0.010615]\n",
      " [0.009771]\n",
      " [0.009767]\n",
      " [0.00992 ]\n",
      " [0.010465]\n",
      " [0.009742]\n",
      " [0.009846]\n",
      " [0.010194]\n",
      " [0.00986 ]\n",
      " [0.008835]\n",
      " [0.008063]\n",
      " [0.008616]\n",
      " [0.009397]\n",
      " [0.009369]\n",
      " [0.009265]\n",
      " [0.009067]\n",
      " [0.009171]\n",
      " [0.009098]\n",
      " [0.00906 ]\n",
      " [0.008166]\n",
      " [0.008524]\n",
      " [0.008579]\n",
      " [0.008727]\n",
      " [0.008383]\n",
      " [0.008255]\n",
      " [0.007482]\n",
      " [0.012555]\n",
      " [0.047162]\n",
      " [0.028176]\n",
      " [0.037196]\n",
      " [0.034875]\n",
      " [0.03152 ]\n",
      " [0.03712 ]\n",
      " [0.053289]\n",
      " [0.046935]\n",
      " [0.057595]\n",
      " [0.078782]\n",
      " [0.078825]\n",
      " [0.07007 ]\n",
      " [0.072896]\n",
      " [0.069676]\n",
      " [0.070069]\n",
      " [0.06645 ]\n",
      " [0.062537]\n",
      " [0.056591]\n",
      " [0.05352 ]\n",
      " [0.049376]\n",
      " [0.059541]\n",
      " [0.055139]\n",
      " [0.054384]\n",
      " [0.05598 ]\n",
      " [0.053725]\n",
      " [0.047392]\n",
      " [0.056555]\n",
      " [0.050167]\n",
      " [0.05048 ]\n",
      " [0.050083]\n",
      " [0.048052]\n",
      " [0.050599]\n",
      " [0.050262]\n",
      " [0.050592]\n",
      " [0.050048]\n",
      " [0.049609]\n",
      " [0.050984]\n",
      " [0.052122]\n",
      " [0.061949]\n",
      " [0.057998]\n",
      " [0.056004]\n",
      " [0.055918]\n",
      " [0.055349]\n",
      " [0.062432]\n",
      " [0.058592]\n",
      " [0.057088]\n",
      " [0.058607]\n",
      " [0.057653]\n",
      " [0.057383]\n",
      " [0.058328]\n",
      " [0.058961]\n",
      " [0.057234]\n",
      " [0.054962]\n",
      " [0.053556]\n",
      " [0.051702]\n",
      " [0.051448]\n",
      " [0.053952]\n",
      " [0.054377]\n",
      " [0.053698]\n",
      " [0.054052]\n",
      " [0.0539  ]\n",
      " [0.053657]\n",
      " [0.061986]\n",
      " [0.057664]\n",
      " [0.055804]\n",
      " [0.057404]\n",
      " [0.059696]\n",
      " [0.064458]\n",
      " [0.059028]\n",
      " [0.061464]\n",
      " [0.061684]\n",
      " [0.063845]\n",
      " [0.074649]\n",
      " [0.070767]\n",
      " [0.093445]\n",
      " [0.121517]]\n"
     ]
    }
   ],
   "source": [
    "print(X)"
   ]
  },
  {
   "cell_type": "markdown",
   "metadata": {},
   "source": [
    "Create a dependent dataset (y)"
   ]
  },
  {
   "cell_type": "code",
   "execution_count": 14,
   "metadata": {},
   "outputs": [],
   "source": [
    "y = np.array(df['Prediction'])"
   ]
  },
  {
   "cell_type": "markdown",
   "metadata": {},
   "source": [
    "Get all of the y values except the last n+1 rows"
   ]
  },
  {
   "cell_type": "code",
   "execution_count": 15,
   "metadata": {},
   "outputs": [],
   "source": [
    "y = y[:-prediction_days-1]"
   ]
  },
  {
   "cell_type": "markdown",
   "metadata": {},
   "source": [
    "Show the data"
   ]
  },
  {
   "cell_type": "code",
   "execution_count": 16,
   "metadata": {},
   "outputs": [
    {
     "name": "stdout",
     "output_type": "stream",
     "text": [
      "[0.003374 0.003428 0.003298 0.003397 0.003388 0.003342 0.003179 0.003158\n",
      " 0.003105 0.003079 0.003163 0.003256 0.003231 0.003206 0.003416 0.00373\n",
      " 0.003858 0.003927 0.004625 0.004787 0.004508 0.003768 0.00457  0.004582\n",
      " 0.004494 0.004548 0.004592 0.004486 0.004636 0.004682 0.005685 0.010615\n",
      " 0.009771 0.009767 0.00992  0.010465 0.009742 0.009846 0.010194 0.00986\n",
      " 0.008835 0.008063 0.008616 0.009397 0.009369 0.009265 0.009067 0.009171\n",
      " 0.009098 0.00906  0.008166 0.008524 0.008579 0.008727 0.008383 0.008255\n",
      " 0.007482 0.012555 0.047162 0.028176 0.037196 0.034875 0.03152  0.03712\n",
      " 0.053289 0.046935 0.057595 0.078782 0.078825 0.07007  0.072896 0.069676\n",
      " 0.070069 0.06645  0.062537 0.056591 0.05352  0.049376 0.059541 0.055139\n",
      " 0.054384 0.05598  0.053725 0.047392 0.056555 0.050167 0.05048  0.050083\n",
      " 0.048052 0.050599 0.050262 0.050592 0.050048 0.049609 0.050984 0.052122\n",
      " 0.061949 0.057998 0.056004 0.055918 0.055349 0.062432 0.058592 0.057088\n",
      " 0.058607 0.057653 0.057383 0.058328 0.058961 0.057234 0.054962 0.053556\n",
      " 0.051702 0.051448 0.053952 0.054377 0.053698 0.054052 0.0539   0.053657\n",
      " 0.061986 0.057664 0.055804 0.057404 0.059696 0.064458 0.059028 0.061464\n",
      " 0.061684 0.063845 0.074649 0.070767 0.093445 0.121517 0.182207]\n"
     ]
    }
   ],
   "source": [
    "print(y)"
   ]
  },
  {
   "cell_type": "markdown",
   "metadata": {},
   "source": [
    "Split the data into 80% training dataset and a 20% testing dataset"
   ]
  },
  {
   "cell_type": "code",
   "execution_count": 17,
   "metadata": {},
   "outputs": [],
   "source": [
    "from sklearn.model_selection import train_test_split"
   ]
  },
  {
   "cell_type": "code",
   "execution_count": 18,
   "metadata": {},
   "outputs": [],
   "source": [
    "x_train, x_test, y_train, y_test = train_test_split(X, y, test_size=0.2, random_state=587)"
   ]
  },
  {
   "cell_type": "markdown",
   "metadata": {},
   "source": [
    "Use the Random Forest Regressor for the model"
   ]
  },
  {
   "cell_type": "code",
   "execution_count": 19,
   "metadata": {},
   "outputs": [],
   "source": [
    "from sklearn.ensemble import RandomForestRegressor"
   ]
  },
  {
   "cell_type": "code",
   "execution_count": 20,
   "metadata": {},
   "outputs": [],
   "source": [
    "forest = RandomForestRegressor(n_estimators=2, random_state=587)"
   ]
  },
  {
   "cell_type": "code",
   "execution_count": 21,
   "metadata": {},
   "outputs": [
    {
     "data": {
      "text/plain": [
       "RandomForestRegressor(n_estimators=2, random_state=587)"
      ]
     },
     "execution_count": 21,
     "metadata": {},
     "output_type": "execute_result"
    }
   ],
   "source": [
    "forest.fit(x_train, y_train)"
   ]
  },
  {
   "cell_type": "code",
   "execution_count": 22,
   "metadata": {},
   "outputs": [
    {
     "name": "stdout",
     "output_type": "stream",
     "text": [
      "0.9591014354445532\n"
     ]
    }
   ],
   "source": [
    "print(forest.score(x_test, y_test))"
   ]
  },
  {
   "cell_type": "code",
   "execution_count": 23,
   "metadata": {},
   "outputs": [
    {
     "name": "stdout",
     "output_type": "stream",
     "text": [
      "0.985503448560508\n"
     ]
    }
   ],
   "source": [
    "print(forest.score(x_train, y_train))"
   ]
  },
  {
   "cell_type": "markdown",
   "metadata": {},
   "source": [
    "Show how close the predicted values and the actual values are"
   ]
  },
  {
   "cell_type": "code",
   "execution_count": 24,
   "metadata": {},
   "outputs": [],
   "source": [
    "prediction = forest.predict(x_test)"
   ]
  },
  {
   "cell_type": "markdown",
   "metadata": {},
   "source": [
    "Print the predicted test values"
   ]
  },
  {
   "cell_type": "code",
   "execution_count": 25,
   "metadata": {},
   "outputs": [
    {
     "name": "stdout",
     "output_type": "stream",
     "text": [
      "[0.003231  0.048052  0.069676  0.008383  0.037158  0.0580245 0.058328\n",
      " 0.0051835 0.003408  0.0607545 0.00857   0.053657  0.003256  0.050539\n",
      " 0.053952  0.037158  0.004548  0.003408  0.0573825 0.053952  0.059028\n",
      " 0.008481  0.0085515 0.059028  0.008481  0.053698  0.049266 ]\n"
     ]
    }
   ],
   "source": [
    "print(prediction)"
   ]
  },
  {
   "cell_type": "markdown",
   "metadata": {},
   "source": [
    "Print the actual values"
   ]
  },
  {
   "cell_type": "code",
   "execution_count": 26,
   "metadata": {},
   "outputs": [
    {
     "name": "stdout",
     "output_type": "stream",
     "text": [
      "[0.003397 0.059541 0.070767 0.008063 0.053289 0.057653 0.059696 0.004508\n",
      " 0.003298 0.061684 0.007482 0.054377 0.003105 0.046935 0.051448 0.034875\n",
      " 0.003768 0.00373  0.056004 0.061949 0.062537 0.008727 0.008255 0.074649\n",
      " 0.009397 0.05598  0.050592]\n"
     ]
    }
   ],
   "source": [
    "print(y_test)"
   ]
  },
  {
   "cell_type": "markdown",
   "metadata": {},
   "source": [
    "Get the validation data for the model"
   ]
  },
  {
   "cell_type": "markdown",
   "metadata": {},
   "source": [
    "Create a variable to store all of the rows in the data set except the last n rows"
   ]
  },
  {
   "cell_type": "code",
   "execution_count": 27,
   "metadata": {},
   "outputs": [],
   "source": [
    "temp_df = df[:-prediction_days]"
   ]
  },
  {
   "cell_type": "markdown",
   "metadata": {},
   "source": [
    "Create a variable to store the independent price value"
   ]
  },
  {
   "cell_type": "code",
   "execution_count": 28,
   "metadata": {},
   "outputs": [],
   "source": [
    "x_val = temp_df.tail(1)['Close'][0]"
   ]
  },
  {
   "cell_type": "markdown",
   "metadata": {},
   "source": [
    "Show the data"
   ]
  },
  {
   "cell_type": "code",
   "execution_count": 29,
   "metadata": {},
   "outputs": [
    {
     "name": "stdout",
     "output_type": "stream",
     "text": [
      "0.182207003235817\n"
     ]
    }
   ],
   "source": [
    "print(x_val)"
   ]
  },
  {
   "cell_type": "code",
   "execution_count": 30,
   "metadata": {},
   "outputs": [],
   "source": [
    "prediction = forest.predict([[x_val]])"
   ]
  },
  {
   "cell_type": "markdown",
   "metadata": {},
   "source": [
    "Print the price of Dogecoin for the next n days"
   ]
  },
  {
   "cell_type": "code",
   "execution_count": 31,
   "metadata": {},
   "outputs": [
    {
     "name": "stdout",
     "output_type": "stream",
     "text": [
      "The price of Dogecoin in 1 day(s) is predicted to be [0.182207]\n"
     ]
    }
   ],
   "source": [
    "print('The price of Dogecoin in', prediction_days, 'day(s) is predicted to be', prediction)"
   ]
  },
  {
   "cell_type": "markdown",
   "metadata": {},
   "source": [
    "Print the actual value for the next n days"
   ]
  },
  {
   "cell_type": "code",
   "execution_count": 32,
   "metadata": {},
   "outputs": [
    {
     "name": "stdout",
     "output_type": "stream",
     "text": [
      "The actual price was 0.365869998931885\n"
     ]
    }
   ],
   "source": [
    "print('The actual price was', temp_df.tail(1)['Prediction'][0])"
   ]
  },
  {
   "cell_type": "markdown",
   "metadata": {},
   "source": [
    "Plot predicted vs actual values"
   ]
  },
  {
   "cell_type": "code",
   "execution_count": 33,
   "metadata": {},
   "outputs": [],
   "source": [
    "prediction = forest.predict(X)"
   ]
  },
  {
   "cell_type": "code",
   "execution_count": 34,
   "metadata": {},
   "outputs": [
    {
     "data": {
      "image/png": "[encoded data removed]",
      "text/plain": [
       "<Figure size 1080x720 with 1 Axes>"
      ]
     },
     "metadata": {
      "needs_background": "light"
     },
     "output_type": "display_data"
    }
   ],
   "source": [
    "plt.figure(figsize=(15,10))\n",
    "plt.plot(df.index[:-prediction_days-1], prediction, label='Prediction', lw=2, alpha = 0.7)\n",
    "plt.plot(df.index[:-prediction_days-1], y, label='Actual', lw=2, alpha=0.7)\n",
    "plt.title('Predicition vs Actual')\n",
    "plt.ylabel('Dogecoin Price')\n",
    "plt.xlabel('Date')\n",
    "plt.xticks(rotation=45)\n",
    "plt.legend()\n",
    "plt.show()"
   ]
  },
  {
   "cell_type": "markdown",
   "metadata": {},
   "source": [
    "**THIS IS NOT AN INVESTMENT ADVICE!**"
   ]
  }
 ],
 "metadata": {
  "kernelspec": {
   "display_name": "Python 3",
   "language": "python",
   "name": "python3"
  },
  "language_info": {
   "codemirror_mode": {
    "name": "ipython",
    "version": 3
   },
   "file_extension": ".py",
   "mimetype": "text/x-python",
   "name": "python",
   "nbconvert_exporter": "python",
   "pygments_lexer": "ipython3",
   "version": "3.8.5"
  }
 },
 "nbformat": 4,
 "nbformat_minor": 4
}
