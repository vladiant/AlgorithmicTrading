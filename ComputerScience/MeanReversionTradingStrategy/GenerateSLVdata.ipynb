{
 "cells": [
  {
   "cell_type": "markdown",
   "metadata": {},
   "source": [
    "# SLV ETF Data for Python Using Yahoo Finance API"
   ]
  },
  {
   "cell_type": "markdown",
   "metadata": {},
   "source": [
    "!pip3 install yfinance"
   ]
  },
  {
   "cell_type": "markdown",
   "metadata": {},
   "source": [
    "Note: Using the Public API (without authentication), you are limited to 2,000 requests per hour per IP (or up to a total of 48,000 requests a day)."
   ]
  },
  {
   "cell_type": "code",
   "execution_count": 1,
   "metadata": {},
   "outputs": [],
   "source": [
    "import yfinance as yf\n",
    "import pandas as pd\n",
    "import requests"
   ]
  },
  {
   "cell_type": "markdown",
   "metadata": {},
   "source": [
    "## Get Historical Market Data"
   ]
  },
  {
   "cell_type": "code",
   "execution_count": 2,
   "metadata": {},
   "outputs": [],
   "source": [
    "tick = \"SLV\""
   ]
  },
  {
   "cell_type": "markdown",
   "metadata": {},
   "source": [
    "Get the closing price for the last 5 years for each tick."
   ]
  },
  {
   "cell_type": "code",
   "execution_count": 3,
   "metadata": {},
   "outputs": [],
   "source": [
    "ticker = yf.Ticker(tick)\n",
    "hist_tick = ticker.history(start=\"2016-05-14\", end=\"2021-12-14\")"
   ]
  },
  {
   "cell_type": "code",
   "execution_count": 4,
   "metadata": {},
   "outputs": [
    {
     "data": {
      "text/html": [
       "<div>\n",
       "<style scoped>\n",
       "    .dataframe tbody tr th:only-of-type {\n",
       "        vertical-align: middle;\n",
       "    }\n",
       "\n",
       "    .dataframe tbody tr th {\n",
       "        vertical-align: top;\n",
       "    }\n",
       "\n",
       "    .dataframe thead th {\n",
       "        text-align: right;\n",
       "    }\n",
       "</style>\n",
       "<table border=\"1\" class=\"dataframe\">\n",
       "  <thead>\n",
       "    <tr style=\"text-align: right;\">\n",
       "      <th></th>\n",
       "      <th>Open</th>\n",
       "      <th>High</th>\n",
       "      <th>Low</th>\n",
       "      <th>Close</th>\n",
       "      <th>Volume</th>\n",
       "      <th>Dividends</th>\n",
       "      <th>Stock Splits</th>\n",
       "    </tr>\n",
       "    <tr>\n",
       "      <th>Date</th>\n",
       "      <th></th>\n",
       "      <th></th>\n",
       "      <th></th>\n",
       "      <th></th>\n",
       "      <th></th>\n",
       "      <th></th>\n",
       "      <th></th>\n",
       "    </tr>\n",
       "  </thead>\n",
       "  <tbody>\n",
       "    <tr>\n",
       "      <th>2016-05-13</th>\n",
       "      <td>16.160000</td>\n",
       "      <td>16.290001</td>\n",
       "      <td>16.080000</td>\n",
       "      <td>16.280001</td>\n",
       "      <td>6156500</td>\n",
       "      <td>0</td>\n",
       "      <td>0</td>\n",
       "    </tr>\n",
       "    <tr>\n",
       "      <th>2016-05-16</th>\n",
       "      <td>16.480000</td>\n",
       "      <td>16.549999</td>\n",
       "      <td>16.270000</td>\n",
       "      <td>16.320000</td>\n",
       "      <td>6588700</td>\n",
       "      <td>0</td>\n",
       "      <td>0</td>\n",
       "    </tr>\n",
       "    <tr>\n",
       "      <th>2016-05-17</th>\n",
       "      <td>16.309999</td>\n",
       "      <td>16.500000</td>\n",
       "      <td>16.290001</td>\n",
       "      <td>16.410000</td>\n",
       "      <td>5992300</td>\n",
       "      <td>0</td>\n",
       "      <td>0</td>\n",
       "    </tr>\n",
       "    <tr>\n",
       "      <th>2016-05-18</th>\n",
       "      <td>16.160000</td>\n",
       "      <td>16.320000</td>\n",
       "      <td>15.900000</td>\n",
       "      <td>16.000000</td>\n",
       "      <td>13533300</td>\n",
       "      <td>0</td>\n",
       "      <td>0</td>\n",
       "    </tr>\n",
       "    <tr>\n",
       "      <th>2016-05-19</th>\n",
       "      <td>15.570000</td>\n",
       "      <td>15.720000</td>\n",
       "      <td>15.530000</td>\n",
       "      <td>15.670000</td>\n",
       "      <td>17547100</td>\n",
       "      <td>0</td>\n",
       "      <td>0</td>\n",
       "    </tr>\n",
       "    <tr>\n",
       "      <th>...</th>\n",
       "      <td>...</td>\n",
       "      <td>...</td>\n",
       "      <td>...</td>\n",
       "      <td>...</td>\n",
       "      <td>...</td>\n",
       "      <td>...</td>\n",
       "      <td>...</td>\n",
       "    </tr>\n",
       "    <tr>\n",
       "      <th>2021-12-07</th>\n",
       "      <td>20.680000</td>\n",
       "      <td>20.910000</td>\n",
       "      <td>20.670000</td>\n",
       "      <td>20.809999</td>\n",
       "      <td>18763300</td>\n",
       "      <td>0</td>\n",
       "      <td>0</td>\n",
       "    </tr>\n",
       "    <tr>\n",
       "      <th>2021-12-08</th>\n",
       "      <td>20.700001</td>\n",
       "      <td>20.799999</td>\n",
       "      <td>20.629999</td>\n",
       "      <td>20.760000</td>\n",
       "      <td>14075400</td>\n",
       "      <td>0</td>\n",
       "      <td>0</td>\n",
       "    </tr>\n",
       "    <tr>\n",
       "      <th>2021-12-09</th>\n",
       "      <td>20.459999</td>\n",
       "      <td>20.490000</td>\n",
       "      <td>20.270000</td>\n",
       "      <td>20.299999</td>\n",
       "      <td>23767500</td>\n",
       "      <td>0</td>\n",
       "      <td>0</td>\n",
       "    </tr>\n",
       "    <tr>\n",
       "      <th>2021-12-10</th>\n",
       "      <td>20.520000</td>\n",
       "      <td>20.540001</td>\n",
       "      <td>20.400000</td>\n",
       "      <td>20.500000</td>\n",
       "      <td>17760800</td>\n",
       "      <td>0</td>\n",
       "      <td>0</td>\n",
       "    </tr>\n",
       "    <tr>\n",
       "      <th>2021-12-13</th>\n",
       "      <td>20.650000</td>\n",
       "      <td>20.740000</td>\n",
       "      <td>20.590000</td>\n",
       "      <td>20.610001</td>\n",
       "      <td>16422300</td>\n",
       "      <td>0</td>\n",
       "      <td>0</td>\n",
       "    </tr>\n",
       "  </tbody>\n",
       "</table>\n",
       "<p>1407 rows × 7 columns</p>\n",
       "</div>"
      ],
      "text/plain": [
       "                 Open       High        Low      Close    Volume  Dividends  \\\n",
       "Date                                                                          \n",
       "2016-05-13  16.160000  16.290001  16.080000  16.280001   6156500          0   \n",
       "2016-05-16  16.480000  16.549999  16.270000  16.320000   6588700          0   \n",
       "2016-05-17  16.309999  16.500000  16.290001  16.410000   5992300          0   \n",
       "2016-05-18  16.160000  16.320000  15.900000  16.000000  13533300          0   \n",
       "2016-05-19  15.570000  15.720000  15.530000  15.670000  17547100          0   \n",
       "...               ...        ...        ...        ...       ...        ...   \n",
       "2021-12-07  20.680000  20.910000  20.670000  20.809999  18763300          0   \n",
       "2021-12-08  20.700001  20.799999  20.629999  20.760000  14075400          0   \n",
       "2021-12-09  20.459999  20.490000  20.270000  20.299999  23767500          0   \n",
       "2021-12-10  20.520000  20.540001  20.400000  20.500000  17760800          0   \n",
       "2021-12-13  20.650000  20.740000  20.590000  20.610001  16422300          0   \n",
       "\n",
       "            Stock Splits  \n",
       "Date                      \n",
       "2016-05-13             0  \n",
       "2016-05-16             0  \n",
       "2016-05-17             0  \n",
       "2016-05-18             0  \n",
       "2016-05-19             0  \n",
       "...                  ...  \n",
       "2021-12-07             0  \n",
       "2021-12-08             0  \n",
       "2021-12-09             0  \n",
       "2021-12-10             0  \n",
       "2021-12-13             0  \n",
       "\n",
       "[1407 rows x 7 columns]"
      ]
     },
     "execution_count": 4,
     "metadata": {},
     "output_type": "execute_result"
    }
   ],
   "source": [
    "hist_tick"
   ]
  },
  {
   "cell_type": "code",
   "execution_count": 5,
   "metadata": {},
   "outputs": [],
   "source": [
    "hist_tick.to_csv('SLV.csv')"
   ]
  }
 ],
 "metadata": {
  "kernelspec": {
   "display_name": "Python 3",
   "language": "python",
   "name": "python3"
  },
  "language_info": {
   "codemirror_mode": {
    "name": "ipython",
    "version": 3
   },
   "file_extension": ".py",
   "mimetype": "text/x-python",
   "name": "python",
   "nbconvert_exporter": "python",
   "pygments_lexer": "ipython3",
   "version": "3.8.10"
  }
 },
 "nbformat": 4,
 "nbformat_minor": 4
}
