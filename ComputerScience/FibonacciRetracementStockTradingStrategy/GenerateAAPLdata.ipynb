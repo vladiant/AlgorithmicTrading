{
 "cells": [
  {
   "cell_type": "markdown",
   "metadata": {},
   "source": [
    "# Stock Data for Python Using Yahoo Finance API"
   ]
  },
  {
   "cell_type": "markdown",
   "metadata": {},
   "source": [
    "!pip3 install yfinance"
   ]
  },
  {
   "cell_type": "markdown",
   "metadata": {},
   "source": [
    "Note: Using the Public API (without authentication), you are limited to 2,000 requests per hour per IP (or up to a total of 48,000 requests a day)."
   ]
  },
  {
   "cell_type": "code",
   "execution_count": 1,
   "metadata": {},
   "outputs": [],
   "source": [
    "import yfinance as yf\n",
    "import pandas as pd\n",
    "import requests"
   ]
  },
  {
   "cell_type": "markdown",
   "metadata": {},
   "source": [
    "## Get Historical Market Data"
   ]
  },
  {
   "cell_type": "markdown",
   "metadata": {},
   "source": [
    "Based on [Dogecoin Crypto Currency Analysis](https://www.youtube.com/watch?v=XUsidyuMFsE) from [\n",
    "Computer Science](https://www.youtube.com/channel/UCbmb5IoBtHZTpYZCDBOC1CA) YouTube channel"
   ]
  },
  {
   "cell_type": "code",
   "execution_count": 2,
   "metadata": {},
   "outputs": [],
   "source": [
    "tick = \"AAPL\""
   ]
  },
  {
   "cell_type": "code",
   "execution_count": 3,
   "metadata": {},
   "outputs": [],
   "source": [
    "def get_company_name(symbol):\n",
    "    url = 'http://d.yimg.com/autoc.finance.yahoo.com/autoc?query='+symbol+'&region=1&lang=en'\n",
    "    result = requests.get(url).json()\n",
    "    for r in result['ResultSet']['Result']:\n",
    "        if r['symbol']==symbol:\n",
    "            return r['name']"
   ]
  },
  {
   "cell_type": "code",
   "execution_count": 4,
   "metadata": {},
   "outputs": [
    {
     "name": "stdout",
     "output_type": "stream",
     "text": [
      "AAPL Apple Inc.\n"
     ]
    }
   ],
   "source": [
    "company_name = get_company_name(tick)\n",
    "print(tick, company_name)"
   ]
  },
  {
   "cell_type": "markdown",
   "metadata": {},
   "source": [
    "Get the closing price for the last 5 years for each tick."
   ]
  },
  {
   "cell_type": "code",
   "execution_count": 7,
   "metadata": {},
   "outputs": [],
   "source": [
    "ticker = yf.Ticker(tick)\n",
    "hist_tick = ticker.history(start=\"2017-04-21\", end=\"2017-08-25\")"
   ]
  },
  {
   "cell_type": "markdown",
   "metadata": {},
   "source": [
    "Generate dataset where each date has values"
   ]
  },
  {
   "cell_type": "code",
   "execution_count": 8,
   "metadata": {},
   "outputs": [
    {
     "data": {
      "text/html": [
       "<div>\n",
       "<style scoped>\n",
       "    .dataframe tbody tr th:only-of-type {\n",
       "        vertical-align: middle;\n",
       "    }\n",
       "\n",
       "    .dataframe tbody tr th {\n",
       "        vertical-align: top;\n",
       "    }\n",
       "\n",
       "    .dataframe thead th {\n",
       "        text-align: right;\n",
       "    }\n",
       "</style>\n",
       "<table border=\"1\" class=\"dataframe\">\n",
       "  <thead>\n",
       "    <tr style=\"text-align: right;\">\n",
       "      <th></th>\n",
       "      <th>Open</th>\n",
       "      <th>High</th>\n",
       "      <th>Low</th>\n",
       "      <th>Close</th>\n",
       "      <th>Volume</th>\n",
       "      <th>Dividends</th>\n",
       "      <th>Stock Splits</th>\n",
       "    </tr>\n",
       "    <tr>\n",
       "      <th>Date</th>\n",
       "      <th></th>\n",
       "      <th></th>\n",
       "      <th></th>\n",
       "      <th></th>\n",
       "      <th></th>\n",
       "      <th></th>\n",
       "      <th></th>\n",
       "    </tr>\n",
       "  </thead>\n",
       "  <tbody>\n",
       "    <tr>\n",
       "      <th>2017-04-20</th>\n",
       "      <td>33.474826</td>\n",
       "      <td>33.877794</td>\n",
       "      <td>33.460604</td>\n",
       "      <td>33.764015</td>\n",
       "      <td>93278400</td>\n",
       "      <td>0.0</td>\n",
       "      <td>0</td>\n",
       "    </tr>\n",
       "    <tr>\n",
       "      <th>2017-04-21</th>\n",
       "      <td>33.764013</td>\n",
       "      <td>33.820900</td>\n",
       "      <td>33.624160</td>\n",
       "      <td>33.723717</td>\n",
       "      <td>69283600</td>\n",
       "      <td>0.0</td>\n",
       "      <td>0</td>\n",
       "    </tr>\n",
       "    <tr>\n",
       "      <th>2017-04-24</th>\n",
       "      <td>34.015276</td>\n",
       "      <td>34.121944</td>\n",
       "      <td>33.939422</td>\n",
       "      <td>34.048462</td>\n",
       "      <td>68537200</td>\n",
       "      <td>0.0</td>\n",
       "      <td>0</td>\n",
       "    </tr>\n",
       "    <tr>\n",
       "      <th>2017-04-25</th>\n",
       "      <td>34.112466</td>\n",
       "      <td>34.347134</td>\n",
       "      <td>34.102982</td>\n",
       "      <td>34.259430</td>\n",
       "      <td>75486000</td>\n",
       "      <td>0.0</td>\n",
       "      <td>0</td>\n",
       "    </tr>\n",
       "    <tr>\n",
       "      <th>2017-04-26</th>\n",
       "      <td>34.245201</td>\n",
       "      <td>34.276018</td>\n",
       "      <td>33.986828</td>\n",
       "      <td>34.057938</td>\n",
       "      <td>80164800</td>\n",
       "      <td>0.0</td>\n",
       "      <td>0</td>\n",
       "    </tr>\n",
       "    <tr>\n",
       "      <th>...</th>\n",
       "      <td>...</td>\n",
       "      <td>...</td>\n",
       "      <td>...</td>\n",
       "      <td>...</td>\n",
       "      <td>...</td>\n",
       "      <td>...</td>\n",
       "      <td>...</td>\n",
       "    </tr>\n",
       "    <tr>\n",
       "      <th>2017-08-18</th>\n",
       "      <td>37.721174</td>\n",
       "      <td>38.113058</td>\n",
       "      <td>37.448768</td>\n",
       "      <td>37.635151</td>\n",
       "      <td>109712400</td>\n",
       "      <td>0.0</td>\n",
       "      <td>0</td>\n",
       "    </tr>\n",
       "    <tr>\n",
       "      <th>2017-08-21</th>\n",
       "      <td>37.635159</td>\n",
       "      <td>37.728351</td>\n",
       "      <td>37.064061</td>\n",
       "      <td>37.565865</td>\n",
       "      <td>105474000</td>\n",
       "      <td>0.0</td>\n",
       "      <td>0</td>\n",
       "    </tr>\n",
       "    <tr>\n",
       "      <th>2017-08-22</th>\n",
       "      <td>37.809591</td>\n",
       "      <td>38.232540</td>\n",
       "      <td>37.759413</td>\n",
       "      <td>38.179970</td>\n",
       "      <td>86418400</td>\n",
       "      <td>0.0</td>\n",
       "      <td>0</td>\n",
       "    </tr>\n",
       "    <tr>\n",
       "      <th>2017-08-23</th>\n",
       "      <td>38.010308</td>\n",
       "      <td>38.344841</td>\n",
       "      <td>37.964906</td>\n",
       "      <td>38.227753</td>\n",
       "      <td>77596400</td>\n",
       "      <td>0.0</td>\n",
       "      <td>0</td>\n",
       "    </tr>\n",
       "    <tr>\n",
       "      <th>2017-08-24</th>\n",
       "      <td>38.335289</td>\n",
       "      <td>38.409367</td>\n",
       "      <td>37.886059</td>\n",
       "      <td>38.058105</td>\n",
       "      <td>79275600</td>\n",
       "      <td>0.0</td>\n",
       "      <td>0</td>\n",
       "    </tr>\n",
       "  </tbody>\n",
       "</table>\n",
       "<p>89 rows × 7 columns</p>\n",
       "</div>"
      ],
      "text/plain": [
       "                 Open       High        Low      Close     Volume  Dividends  \\\n",
       "Date                                                                           \n",
       "2017-04-20  33.474826  33.877794  33.460604  33.764015   93278400        0.0   \n",
       "2017-04-21  33.764013  33.820900  33.624160  33.723717   69283600        0.0   \n",
       "2017-04-24  34.015276  34.121944  33.939422  34.048462   68537200        0.0   \n",
       "2017-04-25  34.112466  34.347134  34.102982  34.259430   75486000        0.0   \n",
       "2017-04-26  34.245201  34.276018  33.986828  34.057938   80164800        0.0   \n",
       "...               ...        ...        ...        ...        ...        ...   \n",
       "2017-08-18  37.721174  38.113058  37.448768  37.635151  109712400        0.0   \n",
       "2017-08-21  37.635159  37.728351  37.064061  37.565865  105474000        0.0   \n",
       "2017-08-22  37.809591  38.232540  37.759413  38.179970   86418400        0.0   \n",
       "2017-08-23  38.010308  38.344841  37.964906  38.227753   77596400        0.0   \n",
       "2017-08-24  38.335289  38.409367  37.886059  38.058105   79275600        0.0   \n",
       "\n",
       "            Stock Splits  \n",
       "Date                      \n",
       "2017-04-20             0  \n",
       "2017-04-21             0  \n",
       "2017-04-24             0  \n",
       "2017-04-25             0  \n",
       "2017-04-26             0  \n",
       "...                  ...  \n",
       "2017-08-18             0  \n",
       "2017-08-21             0  \n",
       "2017-08-22             0  \n",
       "2017-08-23             0  \n",
       "2017-08-24             0  \n",
       "\n",
       "[89 rows x 7 columns]"
      ]
     },
     "execution_count": 8,
     "metadata": {},
     "output_type": "execute_result"
    }
   ],
   "source": [
    "hist_tick"
   ]
  },
  {
   "cell_type": "code",
   "execution_count": 9,
   "metadata": {},
   "outputs": [],
   "source": [
    "hist_tick.to_csv('AAPL_Data.csv')"
   ]
  }
 ],
 "metadata": {
  "kernelspec": {
   "display_name": "Python 3",
   "language": "python",
   "name": "python3"
  },
  "language_info": {
   "codemirror_mode": {
    "name": "ipython",
    "version": 3
   },
   "file_extension": ".py",
   "mimetype": "text/x-python",
   "name": "python",
   "nbconvert_exporter": "python",
   "pygments_lexer": "ipython3",
   "version": "3.8.5"
  }
 },
 "nbformat": 4,
 "nbformat_minor": 4
}
