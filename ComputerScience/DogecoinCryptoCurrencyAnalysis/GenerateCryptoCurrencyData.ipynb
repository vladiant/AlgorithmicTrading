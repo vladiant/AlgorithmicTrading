{
 "cells": [
  {
   "cell_type": "markdown",
   "metadata": {},
   "source": [
    "# Crypto Currencies Stock Data for Python Using Yahoo Finance API"
   ]
  },
  {
   "cell_type": "markdown",
   "metadata": {},
   "source": [
    "!pip3 install yfinance"
   ]
  },
  {
   "cell_type": "markdown",
   "metadata": {},
   "source": [
    "Note: Using the Public API (without authentication), you are limited to 2,000 requests per hour per IP (or up to a total of 48,000 requests a day)."
   ]
  },
  {
   "cell_type": "code",
   "execution_count": 1,
   "metadata": {},
   "outputs": [],
   "source": [
    "import yfinance as yf\n",
    "import pandas as pd\n",
    "import requests"
   ]
  },
  {
   "cell_type": "markdown",
   "metadata": {},
   "source": [
    "## Get Historical Market Data"
   ]
  },
  {
   "cell_type": "markdown",
   "metadata": {},
   "source": [
    "Based on [Dogecoin Crypto Currency Analysis](https://www.youtube.com/watch?v=XUsidyuMFsE) from [\n",
    "Computer Science](https://www.youtube.com/channel/UCbmb5IoBtHZTpYZCDBOC1CA) YouTube channel"
   ]
  },
  {
   "cell_type": "code",
   "execution_count": 2,
   "metadata": {},
   "outputs": [],
   "source": [
    "ticks_list = [\n",
    "    \"BTC-USD\", \"LTC-USD\", \"DOGE-USD\", \"ETH-USD\"\n",
    "]"
   ]
  },
  {
   "cell_type": "code",
   "execution_count": 3,
   "metadata": {},
   "outputs": [],
   "source": [
    "def get_company_name(symbol):\n",
    "    url = 'http://d.yimg.com/autoc.finance.yahoo.com/autoc?query='+symbol+'&region=1&lang=en'\n",
    "    result = requests.get(url).json()\n",
    "    for r in result['ResultSet']['Result']:\n",
    "        if r['symbol']==symbol:\n",
    "            return r['name']"
   ]
  },
  {
   "cell_type": "code",
   "execution_count": 4,
   "metadata": {},
   "outputs": [
    {
     "name": "stdout",
     "output_type": "stream",
     "text": [
      "BTC-USD None\n",
      "LTC-USD None\n",
      "DOGE-USD None\n",
      "ETH-USD None\n"
     ]
    }
   ],
   "source": [
    "company_name = []\n",
    "for symbol in ticks_list:\n",
    "    name = get_company_name(symbol)\n",
    "    company_name.append(name)\n",
    "    print(symbol, name)"
   ]
  },
  {
   "cell_type": "markdown",
   "metadata": {},
   "source": [
    "Get the closing price for the last 5 years for each tick."
   ]
  },
  {
   "cell_type": "code",
   "execution_count": 5,
   "metadata": {},
   "outputs": [],
   "source": [
    "stock_data = []\n",
    "for tick in ticks_list:\n",
    "    ticker = yf.Ticker(tick)\n",
    "    hist_tick = ticker.history(start=\"2016-01-02\", end=\"2021-02-19\")\n",
    "    if 'Close' in hist_tick.columns:\n",
    "        stock_tick = hist_tick[['Close']].copy()\n",
    "        stock_tick.rename(columns={'Close': tick}, inplace=True)\n",
    "        stock_data.append(stock_tick)"
   ]
  },
  {
   "cell_type": "markdown",
   "metadata": {},
   "source": [
    "Generate dataset where each date has values"
   ]
  },
  {
   "cell_type": "code",
   "execution_count": 6,
   "metadata": {},
   "outputs": [],
   "source": [
    "price_data_inner = pd.concat(stock_data, axis=1, join='inner')"
   ]
  },
  {
   "cell_type": "code",
   "execution_count": 7,
   "metadata": {},
   "outputs": [
    {
     "data": {
      "text/html": [
       "<div>\n",
       "<style scoped>\n",
       "    .dataframe tbody tr th:only-of-type {\n",
       "        vertical-align: middle;\n",
       "    }\n",
       "\n",
       "    .dataframe tbody tr th {\n",
       "        vertical-align: top;\n",
       "    }\n",
       "\n",
       "    .dataframe thead th {\n",
       "        text-align: right;\n",
       "    }\n",
       "</style>\n",
       "<table border=\"1\" class=\"dataframe\">\n",
       "  <thead>\n",
       "    <tr style=\"text-align: right;\">\n",
       "      <th></th>\n",
       "      <th>BTC-USD</th>\n",
       "      <th>LTC-USD</th>\n",
       "      <th>DOGE-USD</th>\n",
       "      <th>ETH-USD</th>\n",
       "    </tr>\n",
       "    <tr>\n",
       "      <th>Date</th>\n",
       "      <th></th>\n",
       "      <th></th>\n",
       "      <th></th>\n",
       "      <th></th>\n",
       "    </tr>\n",
       "  </thead>\n",
       "  <tbody>\n",
       "    <tr>\n",
       "      <th>2016-01-01</th>\n",
       "      <td>434.334015</td>\n",
       "      <td>3.508980</td>\n",
       "      <td>0.000154</td>\n",
       "      <td>0.948024</td>\n",
       "    </tr>\n",
       "    <tr>\n",
       "      <th>2016-01-02</th>\n",
       "      <td>433.437988</td>\n",
       "      <td>3.502160</td>\n",
       "      <td>0.000151</td>\n",
       "      <td>0.937124</td>\n",
       "    </tr>\n",
       "    <tr>\n",
       "      <th>2016-01-03</th>\n",
       "      <td>430.010986</td>\n",
       "      <td>3.483070</td>\n",
       "      <td>0.000146</td>\n",
       "      <td>0.971905</td>\n",
       "    </tr>\n",
       "    <tr>\n",
       "      <th>2016-01-04</th>\n",
       "      <td>433.091003</td>\n",
       "      <td>3.495390</td>\n",
       "      <td>0.000144</td>\n",
       "      <td>0.954480</td>\n",
       "    </tr>\n",
       "    <tr>\n",
       "      <th>2016-01-05</th>\n",
       "      <td>431.959991</td>\n",
       "      <td>3.469670</td>\n",
       "      <td>0.000137</td>\n",
       "      <td>0.950176</td>\n",
       "    </tr>\n",
       "    <tr>\n",
       "      <th>...</th>\n",
       "      <td>...</td>\n",
       "      <td>...</td>\n",
       "      <td>...</td>\n",
       "      <td>...</td>\n",
       "    </tr>\n",
       "    <tr>\n",
       "      <th>2021-02-14</th>\n",
       "      <td>48717.289062</td>\n",
       "      <td>214.430267</td>\n",
       "      <td>0.062537</td>\n",
       "      <td>1805.084106</td>\n",
       "    </tr>\n",
       "    <tr>\n",
       "      <th>2021-02-15</th>\n",
       "      <td>47945.058594</td>\n",
       "      <td>207.681015</td>\n",
       "      <td>0.056591</td>\n",
       "      <td>1779.791016</td>\n",
       "    </tr>\n",
       "    <tr>\n",
       "      <th>2021-02-16</th>\n",
       "      <td>49199.871094</td>\n",
       "      <td>210.546570</td>\n",
       "      <td>0.053520</td>\n",
       "      <td>1781.067505</td>\n",
       "    </tr>\n",
       "    <tr>\n",
       "      <th>2021-02-17</th>\n",
       "      <td>52149.007812</td>\n",
       "      <td>236.973526</td>\n",
       "      <td>0.049376</td>\n",
       "      <td>1848.458252</td>\n",
       "    </tr>\n",
       "    <tr>\n",
       "      <th>2021-02-18</th>\n",
       "      <td>51679.796875</td>\n",
       "      <td>226.869553</td>\n",
       "      <td>0.059541</td>\n",
       "      <td>1937.449219</td>\n",
       "    </tr>\n",
       "  </tbody>\n",
       "</table>\n",
       "<p>1872 rows × 4 columns</p>\n",
       "</div>"
      ],
      "text/plain": [
       "                 BTC-USD     LTC-USD  DOGE-USD      ETH-USD\n",
       "Date                                                       \n",
       "2016-01-01    434.334015    3.508980  0.000154     0.948024\n",
       "2016-01-02    433.437988    3.502160  0.000151     0.937124\n",
       "2016-01-03    430.010986    3.483070  0.000146     0.971905\n",
       "2016-01-04    433.091003    3.495390  0.000144     0.954480\n",
       "2016-01-05    431.959991    3.469670  0.000137     0.950176\n",
       "...                  ...         ...       ...          ...\n",
       "2021-02-14  48717.289062  214.430267  0.062537  1805.084106\n",
       "2021-02-15  47945.058594  207.681015  0.056591  1779.791016\n",
       "2021-02-16  49199.871094  210.546570  0.053520  1781.067505\n",
       "2021-02-17  52149.007812  236.973526  0.049376  1848.458252\n",
       "2021-02-18  51679.796875  226.869553  0.059541  1937.449219\n",
       "\n",
       "[1872 rows x 4 columns]"
      ]
     },
     "execution_count": 7,
     "metadata": {},
     "output_type": "execute_result"
    }
   ],
   "source": [
    "price_data_inner"
   ]
  },
  {
   "cell_type": "code",
   "execution_count": 8,
   "metadata": {},
   "outputs": [],
   "source": [
    "price_data_inner.to_csv('Crypto_Data.csv')"
   ]
  }
 ],
 "metadata": {
  "kernelspec": {
   "display_name": "Python 3",
   "language": "python",
   "name": "python3"
  },
  "language_info": {
   "codemirror_mode": {
    "name": "ipython",
    "version": 3
   },
   "file_extension": ".py",
   "mimetype": "text/x-python",
   "name": "python",
   "nbconvert_exporter": "python",
   "pygments_lexer": "ipython3",
   "version": "3.8.5"
  }
 },
 "nbformat": 4,
 "nbformat_minor": 4
}
