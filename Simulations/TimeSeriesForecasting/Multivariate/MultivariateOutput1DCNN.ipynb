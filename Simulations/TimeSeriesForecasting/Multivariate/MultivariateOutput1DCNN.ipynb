{
 "cells": [
  {
   "cell_type": "markdown",
   "metadata": {},
   "source": [
    "# Multivariate  Output  1D CNN Example"
   ]
  },
  {
   "cell_type": "markdown",
   "metadata": {},
   "source": [
    "Based on:\n",
    "* [Time Series Forecasting on Stock Prices](https://www.youtube.com/watch?v=j05UUs99eNQ) from [Coding Tech](https://www.youtube.com/channel/UCtxCXg-UvSnTKPOzLH4wJaQ)\n",
    "* https://machinelearningmastery.com/how-to-develop-convolutional-neural-network-models-for-time-series-forecasting/"
   ]
  },
  {
   "cell_type": "markdown",
   "metadata": {},
   "source": [
    "**Disclaimer:** _Investing in the stock market involves risk and can lead to monetary loss. This material is purely for educational purposes and should not be taken as professional investment advice. Invest at your own discretion._"
   ]
  },
  {
   "cell_type": "markdown",
   "metadata": {},
   "source": [
    "Import the libraries"
   ]
  },
  {
   "cell_type": "code",
   "execution_count": 1,
   "metadata": {},
   "outputs": [],
   "source": [
    "import pandas as pd\n",
    "import numpy as np\n",
    "\n",
    "from tensorflow.keras.models import Model\n",
    "from tensorflow.keras.layers import Input, Conv1D, MaxPooling1D, Flatten, Dense\n",
    "\n",
    "import matplotlib.pyplot as plt"
   ]
  },
  {
   "cell_type": "markdown",
   "metadata": {},
   "source": [
    "Load the data"
   ]
  },
  {
   "cell_type": "code",
   "execution_count": 2,
   "metadata": {},
   "outputs": [],
   "source": [
    "df = pd.read_csv(\"SP500.csv\")"
   ]
  },
  {
   "cell_type": "markdown",
   "metadata": {},
   "source": [
    "Show the data"
   ]
  },
  {
   "cell_type": "code",
   "execution_count": 3,
   "metadata": {},
   "outputs": [
    {
     "data": {
      "text/html": [
       "<div>\n",
       "<style scoped>\n",
       "    .dataframe tbody tr th:only-of-type {\n",
       "        vertical-align: middle;\n",
       "    }\n",
       "\n",
       "    .dataframe tbody tr th {\n",
       "        vertical-align: top;\n",
       "    }\n",
       "\n",
       "    .dataframe thead th {\n",
       "        text-align: right;\n",
       "    }\n",
       "</style>\n",
       "<table border=\"1\" class=\"dataframe\">\n",
       "  <thead>\n",
       "    <tr style=\"text-align: right;\">\n",
       "      <th></th>\n",
       "      <th>Date</th>\n",
       "      <th>Open</th>\n",
       "      <th>High</th>\n",
       "      <th>Low</th>\n",
       "      <th>Close</th>\n",
       "      <th>Volume</th>\n",
       "      <th>Dividends</th>\n",
       "      <th>Stock Splits</th>\n",
       "    </tr>\n",
       "  </thead>\n",
       "  <tbody>\n",
       "    <tr>\n",
       "      <th>0</th>\n",
       "      <td>2000-05-19</td>\n",
       "      <td>96.106028</td>\n",
       "      <td>96.106028</td>\n",
       "      <td>94.484962</td>\n",
       "      <td>94.779701</td>\n",
       "      <td>775500</td>\n",
       "      <td>0.0</td>\n",
       "      <td>0</td>\n",
       "    </tr>\n",
       "    <tr>\n",
       "      <th>1</th>\n",
       "      <td>2000-05-22</td>\n",
       "      <td>94.716551</td>\n",
       "      <td>94.716551</td>\n",
       "      <td>92.169162</td>\n",
       "      <td>94.190231</td>\n",
       "      <td>1850600</td>\n",
       "      <td>0.0</td>\n",
       "      <td>0</td>\n",
       "    </tr>\n",
       "    <tr>\n",
       "      <th>2</th>\n",
       "      <td>2000-05-23</td>\n",
       "      <td>94.463952</td>\n",
       "      <td>94.463952</td>\n",
       "      <td>92.758675</td>\n",
       "      <td>92.758675</td>\n",
       "      <td>373900</td>\n",
       "      <td>0.0</td>\n",
       "      <td>0</td>\n",
       "    </tr>\n",
       "    <tr>\n",
       "      <th>3</th>\n",
       "      <td>2000-05-24</td>\n",
       "      <td>92.800753</td>\n",
       "      <td>94.358660</td>\n",
       "      <td>92.063905</td>\n",
       "      <td>94.148132</td>\n",
       "      <td>400300</td>\n",
       "      <td>0.0</td>\n",
       "      <td>0</td>\n",
       "    </tr>\n",
       "    <tr>\n",
       "      <th>4</th>\n",
       "      <td>2000-05-25</td>\n",
       "      <td>94.337613</td>\n",
       "      <td>94.948145</td>\n",
       "      <td>92.884970</td>\n",
       "      <td>93.284973</td>\n",
       "      <td>69600</td>\n",
       "      <td>0.0</td>\n",
       "      <td>0</td>\n",
       "    </tr>\n",
       "    <tr>\n",
       "      <th>...</th>\n",
       "      <td>...</td>\n",
       "      <td>...</td>\n",
       "      <td>...</td>\n",
       "      <td>...</td>\n",
       "      <td>...</td>\n",
       "      <td>...</td>\n",
       "      <td>...</td>\n",
       "      <td>...</td>\n",
       "    </tr>\n",
       "    <tr>\n",
       "      <th>5359</th>\n",
       "      <td>2021-09-08</td>\n",
       "      <td>452.899994</td>\n",
       "      <td>453.679993</td>\n",
       "      <td>450.869995</td>\n",
       "      <td>453.000000</td>\n",
       "      <td>4076800</td>\n",
       "      <td>0.0</td>\n",
       "      <td>0</td>\n",
       "    </tr>\n",
       "    <tr>\n",
       "      <th>5360</th>\n",
       "      <td>2021-09-09</td>\n",
       "      <td>452.690002</td>\n",
       "      <td>454.579987</td>\n",
       "      <td>450.730011</td>\n",
       "      <td>450.980011</td>\n",
       "      <td>3851600</td>\n",
       "      <td>0.0</td>\n",
       "      <td>0</td>\n",
       "    </tr>\n",
       "    <tr>\n",
       "      <th>5361</th>\n",
       "      <td>2021-09-10</td>\n",
       "      <td>453.059998</td>\n",
       "      <td>453.510010</td>\n",
       "      <td>447.299988</td>\n",
       "      <td>447.540009</td>\n",
       "      <td>3023500</td>\n",
       "      <td>0.0</td>\n",
       "      <td>0</td>\n",
       "    </tr>\n",
       "    <tr>\n",
       "      <th>5362</th>\n",
       "      <td>2021-09-13</td>\n",
       "      <td>450.679993</td>\n",
       "      <td>450.929993</td>\n",
       "      <td>446.089996</td>\n",
       "      <td>448.579987</td>\n",
       "      <td>3007400</td>\n",
       "      <td>0.0</td>\n",
       "      <td>0</td>\n",
       "    </tr>\n",
       "    <tr>\n",
       "      <th>5363</th>\n",
       "      <td>2021-09-14</td>\n",
       "      <td>450.079987</td>\n",
       "      <td>450.320007</td>\n",
       "      <td>445.200012</td>\n",
       "      <td>446.190002</td>\n",
       "      <td>3658400</td>\n",
       "      <td>0.0</td>\n",
       "      <td>0</td>\n",
       "    </tr>\n",
       "  </tbody>\n",
       "</table>\n",
       "<p>5364 rows × 8 columns</p>\n",
       "</div>"
      ],
      "text/plain": [
       "            Date        Open        High         Low       Close   Volume  \\\n",
       "0     2000-05-19   96.106028   96.106028   94.484962   94.779701   775500   \n",
       "1     2000-05-22   94.716551   94.716551   92.169162   94.190231  1850600   \n",
       "2     2000-05-23   94.463952   94.463952   92.758675   92.758675   373900   \n",
       "3     2000-05-24   92.800753   94.358660   92.063905   94.148132   400300   \n",
       "4     2000-05-25   94.337613   94.948145   92.884970   93.284973    69600   \n",
       "...          ...         ...         ...         ...         ...      ...   \n",
       "5359  2021-09-08  452.899994  453.679993  450.869995  453.000000  4076800   \n",
       "5360  2021-09-09  452.690002  454.579987  450.730011  450.980011  3851600   \n",
       "5361  2021-09-10  453.059998  453.510010  447.299988  447.540009  3023500   \n",
       "5362  2021-09-13  450.679993  450.929993  446.089996  448.579987  3007400   \n",
       "5363  2021-09-14  450.079987  450.320007  445.200012  446.190002  3658400   \n",
       "\n",
       "      Dividends  Stock Splits  \n",
       "0           0.0             0  \n",
       "1           0.0             0  \n",
       "2           0.0             0  \n",
       "3           0.0             0  \n",
       "4           0.0             0  \n",
       "...         ...           ...  \n",
       "5359        0.0             0  \n",
       "5360        0.0             0  \n",
       "5361        0.0             0  \n",
       "5362        0.0             0  \n",
       "5363        0.0             0  \n",
       "\n",
       "[5364 rows x 8 columns]"
      ]
     },
     "execution_count": 3,
     "metadata": {},
     "output_type": "execute_result"
    }
   ],
   "source": [
    "df"
   ]
  },
  {
   "cell_type": "markdown",
   "metadata": {},
   "source": [
    "Add indices for every day in the period"
   ]
  },
  {
   "cell_type": "code",
   "execution_count": 4,
   "metadata": {},
   "outputs": [],
   "source": [
    "start_date = df.Date.min()\n",
    "end_date = df.Date.max()"
   ]
  },
  {
   "cell_type": "code",
   "execution_count": 5,
   "metadata": {},
   "outputs": [],
   "source": [
    "df_date = pd.date_range(start=start_date, end=end_date).to_frame(name=\"Date\")\n",
    "df_date.reset_index(drop=True, inplace=True) "
   ]
  },
  {
   "cell_type": "code",
   "execution_count": 6,
   "metadata": {},
   "outputs": [],
   "source": [
    "df[\"Date\"] = pd.to_datetime(df[\"Date\"])\n",
    "df = df.merge(df_date, how='right')"
   ]
  },
  {
   "cell_type": "markdown",
   "metadata": {},
   "source": [
    "Interpolate missing values"
   ]
  },
  {
   "cell_type": "code",
   "execution_count": 7,
   "metadata": {},
   "outputs": [],
   "source": [
    "df = df.interpolate(method='linear', limit_direction='both')"
   ]
  },
  {
   "cell_type": "markdown",
   "metadata": {},
   "source": [
    "Remove not needed columns"
   ]
  },
  {
   "cell_type": "code",
   "execution_count": 8,
   "metadata": {},
   "outputs": [],
   "source": [
    "df = df[['Date', 'Close']].copy()"
   ]
  },
  {
   "cell_type": "code",
   "execution_count": 9,
   "metadata": {},
   "outputs": [
    {
     "data": {
      "text/html": [
       "<div>\n",
       "<style scoped>\n",
       "    .dataframe tbody tr th:only-of-type {\n",
       "        vertical-align: middle;\n",
       "    }\n",
       "\n",
       "    .dataframe tbody tr th {\n",
       "        vertical-align: top;\n",
       "    }\n",
       "\n",
       "    .dataframe thead th {\n",
       "        text-align: right;\n",
       "    }\n",
       "</style>\n",
       "<table border=\"1\" class=\"dataframe\">\n",
       "  <thead>\n",
       "    <tr style=\"text-align: right;\">\n",
       "      <th></th>\n",
       "      <th>Date</th>\n",
       "      <th>Close</th>\n",
       "    </tr>\n",
       "  </thead>\n",
       "  <tbody>\n",
       "    <tr>\n",
       "      <th>0</th>\n",
       "      <td>2000-05-19</td>\n",
       "      <td>94.779701</td>\n",
       "    </tr>\n",
       "    <tr>\n",
       "      <th>1</th>\n",
       "      <td>2000-05-20</td>\n",
       "      <td>94.583211</td>\n",
       "    </tr>\n",
       "    <tr>\n",
       "      <th>2</th>\n",
       "      <td>2000-05-21</td>\n",
       "      <td>94.386721</td>\n",
       "    </tr>\n",
       "    <tr>\n",
       "      <th>3</th>\n",
       "      <td>2000-05-22</td>\n",
       "      <td>94.190231</td>\n",
       "    </tr>\n",
       "    <tr>\n",
       "      <th>4</th>\n",
       "      <td>2000-05-23</td>\n",
       "      <td>92.758675</td>\n",
       "    </tr>\n",
       "    <tr>\n",
       "      <th>...</th>\n",
       "      <td>...</td>\n",
       "      <td>...</td>\n",
       "    </tr>\n",
       "    <tr>\n",
       "      <th>7784</th>\n",
       "      <td>2021-09-10</td>\n",
       "      <td>447.540009</td>\n",
       "    </tr>\n",
       "    <tr>\n",
       "      <th>7785</th>\n",
       "      <td>2021-09-11</td>\n",
       "      <td>447.886668</td>\n",
       "    </tr>\n",
       "    <tr>\n",
       "      <th>7786</th>\n",
       "      <td>2021-09-12</td>\n",
       "      <td>448.233327</td>\n",
       "    </tr>\n",
       "    <tr>\n",
       "      <th>7787</th>\n",
       "      <td>2021-09-13</td>\n",
       "      <td>448.579987</td>\n",
       "    </tr>\n",
       "    <tr>\n",
       "      <th>7788</th>\n",
       "      <td>2021-09-14</td>\n",
       "      <td>446.190002</td>\n",
       "    </tr>\n",
       "  </tbody>\n",
       "</table>\n",
       "<p>7789 rows × 2 columns</p>\n",
       "</div>"
      ],
      "text/plain": [
       "           Date       Close\n",
       "0    2000-05-19   94.779701\n",
       "1    2000-05-20   94.583211\n",
       "2    2000-05-21   94.386721\n",
       "3    2000-05-22   94.190231\n",
       "4    2000-05-23   92.758675\n",
       "...         ...         ...\n",
       "7784 2021-09-10  447.540009\n",
       "7785 2021-09-11  447.886668\n",
       "7786 2021-09-12  448.233327\n",
       "7787 2021-09-13  448.579987\n",
       "7788 2021-09-14  446.190002\n",
       "\n",
       "[7789 rows x 2 columns]"
      ]
     },
     "execution_count": 9,
     "metadata": {},
     "output_type": "execute_result"
    }
   ],
   "source": [
    "df"
   ]
  },
  {
   "cell_type": "markdown",
   "metadata": {},
   "source": [
    "**Simple Moving Average**\n",
    "* Example periods: 15, 30 or 45 days"
   ]
  },
  {
   "cell_type": "code",
   "execution_count": 10,
   "metadata": {},
   "outputs": [],
   "source": [
    "def computeSMA(data, period, column='Close'):\n",
    "    return data[column].rolling(window=period).mean()"
   ]
  },
  {
   "cell_type": "code",
   "execution_count": 11,
   "metadata": {},
   "outputs": [],
   "source": [
    "df['SMA'] = computeSMA(df, period=15)"
   ]
  },
  {
   "cell_type": "markdown",
   "metadata": {},
   "source": [
    "**Exponential Moving Averages**\n",
    "* Example periods: 15, 30 or 45 days"
   ]
  },
  {
   "cell_type": "code",
   "execution_count": 12,
   "metadata": {},
   "outputs": [],
   "source": [
    "def computeEMA(data, period, column='Close'):\n",
    "    return data[column].ewm(span=period, adjust=False).mean()"
   ]
  },
  {
   "cell_type": "code",
   "execution_count": 13,
   "metadata": {},
   "outputs": [],
   "source": [
    "df['EMA'] = computeEMA(df, period=15)"
   ]
  },
  {
   "cell_type": "markdown",
   "metadata": {},
   "source": [
    "**Relative Strength Index**"
   ]
  },
  {
   "cell_type": "code",
   "execution_count": 14,
   "metadata": {},
   "outputs": [],
   "source": [
    "def computeRSI(data, period=14, column='Close'):\n",
    "    delta = data[column].diff(1)\n",
    "    delta = delta.dropna()\n",
    "    up = delta.copy()\n",
    "    down = delta.copy()\n",
    "    up[up < 0] = 0\n",
    "    down[down > 0] = 0\n",
    "    data['up'] = up\n",
    "    data['down'] = down\n",
    "    AVG_Gain = computeSMA(data, period, column='up')\n",
    "    AVG_Loss = abs(computeSMA(data, period, column='down'))\n",
    "    RS = AVG_Gain / AVG_Loss\n",
    "    RSI = 100.0 - (100.0 / (1.0 + RS))\n",
    "    return RSI"
   ]
  },
  {
   "cell_type": "code",
   "execution_count": 15,
   "metadata": {},
   "outputs": [],
   "source": [
    "df['RSI'] = computeRSI(df, period=14)"
   ]
  },
  {
   "cell_type": "markdown",
   "metadata": {},
   "source": [
    "**Moving Average Convergence Divergence**"
   ]
  },
  {
   "cell_type": "code",
   "execution_count": 16,
   "metadata": {},
   "outputs": [],
   "source": [
    "def MACD(data, period1=26, period2=12, signal=9, column='Close'):\n",
    "    exp1 = computeEMA(data,period1, column=column)\n",
    "    exp2 = computeEMA(data,period2, column=column)\n",
    "    data['MACD'] = exp2 - exp1\n",
    "    data['Signal Line'] = computeSMA(data, signal, column='MACD')"
   ]
  },
  {
   "cell_type": "code",
   "execution_count": 17,
   "metadata": {},
   "outputs": [],
   "source": [
    "MACD(df)"
   ]
  },
  {
   "cell_type": "markdown",
   "metadata": {},
   "source": [
    "Remove NaNs"
   ]
  },
  {
   "cell_type": "code",
   "execution_count": 18,
   "metadata": {},
   "outputs": [],
   "source": [
    "df = df.dropna()"
   ]
  },
  {
   "cell_type": "code",
   "execution_count": 19,
   "metadata": {},
   "outputs": [
    {
     "data": {
      "text/html": [
       "<div>\n",
       "<style scoped>\n",
       "    .dataframe tbody tr th:only-of-type {\n",
       "        vertical-align: middle;\n",
       "    }\n",
       "\n",
       "    .dataframe tbody tr th {\n",
       "        vertical-align: top;\n",
       "    }\n",
       "\n",
       "    .dataframe thead th {\n",
       "        text-align: right;\n",
       "    }\n",
       "</style>\n",
       "<table border=\"1\" class=\"dataframe\">\n",
       "  <thead>\n",
       "    <tr style=\"text-align: right;\">\n",
       "      <th></th>\n",
       "      <th>Date</th>\n",
       "      <th>Close</th>\n",
       "      <th>SMA</th>\n",
       "      <th>EMA</th>\n",
       "      <th>up</th>\n",
       "      <th>down</th>\n",
       "      <th>RSI</th>\n",
       "      <th>MACD</th>\n",
       "      <th>Signal Line</th>\n",
       "    </tr>\n",
       "  </thead>\n",
       "  <tbody>\n",
       "    <tr>\n",
       "      <th>14</th>\n",
       "      <td>2000-06-02</td>\n",
       "      <td>99.663971</td>\n",
       "      <td>94.910938</td>\n",
       "      <td>95.600925</td>\n",
       "      <td>1.936874</td>\n",
       "      <td>0.000000</td>\n",
       "      <td>71.245582</td>\n",
       "      <td>0.680463</td>\n",
       "      <td>-0.042866</td>\n",
       "    </tr>\n",
       "    <tr>\n",
       "      <th>15</th>\n",
       "      <td>2000-06-03</td>\n",
       "      <td>99.446431</td>\n",
       "      <td>95.222053</td>\n",
       "      <td>96.081613</td>\n",
       "      <td>0.000000</td>\n",
       "      <td>-0.217539</td>\n",
       "      <td>71.115354</td>\n",
       "      <td>0.916439</td>\n",
       "      <td>0.090681</td>\n",
       "    </tr>\n",
       "    <tr>\n",
       "      <th>16</th>\n",
       "      <td>2000-06-04</td>\n",
       "      <td>99.228892</td>\n",
       "      <td>95.531765</td>\n",
       "      <td>96.475023</td>\n",
       "      <td>0.000000</td>\n",
       "      <td>-0.217539</td>\n",
       "      <td>70.985601</td>\n",
       "      <td>1.073524</td>\n",
       "      <td>0.250695</td>\n",
       "    </tr>\n",
       "    <tr>\n",
       "      <th>17</th>\n",
       "      <td>2000-06-05</td>\n",
       "      <td>99.011353</td>\n",
       "      <td>95.840074</td>\n",
       "      <td>96.792064</td>\n",
       "      <td>0.000000</td>\n",
       "      <td>-0.217539</td>\n",
       "      <td>70.856321</td>\n",
       "      <td>1.167008</td>\n",
       "      <td>0.420929</td>\n",
       "    </tr>\n",
       "    <tr>\n",
       "      <th>18</th>\n",
       "      <td>2000-06-06</td>\n",
       "      <td>98.506065</td>\n",
       "      <td>96.127796</td>\n",
       "      <td>97.006314</td>\n",
       "      <td>0.000000</td>\n",
       "      <td>-0.505287</td>\n",
       "      <td>77.029581</td>\n",
       "      <td>1.186644</td>\n",
       "      <td>0.585988</td>\n",
       "    </tr>\n",
       "    <tr>\n",
       "      <th>...</th>\n",
       "      <td>...</td>\n",
       "      <td>...</td>\n",
       "      <td>...</td>\n",
       "      <td>...</td>\n",
       "      <td>...</td>\n",
       "      <td>...</td>\n",
       "      <td>...</td>\n",
       "      <td>...</td>\n",
       "      <td>...</td>\n",
       "    </tr>\n",
       "    <tr>\n",
       "      <th>7784</th>\n",
       "      <td>2021-09-10</td>\n",
       "      <td>447.540009</td>\n",
       "      <td>453.257671</td>\n",
       "      <td>451.878931</td>\n",
       "      <td>0.000000</td>\n",
       "      <td>-3.440002</td>\n",
       "      <td>30.279938</td>\n",
       "      <td>1.487905</td>\n",
       "      <td>2.619024</td>\n",
       "    </tr>\n",
       "    <tr>\n",
       "      <th>7785</th>\n",
       "      <td>2021-09-11</td>\n",
       "      <td>447.886668</td>\n",
       "      <td>452.970782</td>\n",
       "      <td>451.379898</td>\n",
       "      <td>0.346659</td>\n",
       "      <td>0.000000</td>\n",
       "      <td>28.313930</td>\n",
       "      <td>1.046934</td>\n",
       "      <td>2.394046</td>\n",
       "    </tr>\n",
       "    <tr>\n",
       "      <th>7786</th>\n",
       "      <td>2021-09-12</td>\n",
       "      <td>448.233327</td>\n",
       "      <td>452.662337</td>\n",
       "      <td>450.986577</td>\n",
       "      <td>0.346659</td>\n",
       "      <td>0.000000</td>\n",
       "      <td>26.233827</td>\n",
       "      <td>0.717167</td>\n",
       "      <td>2.129901</td>\n",
       "    </tr>\n",
       "    <tr>\n",
       "      <th>7787</th>\n",
       "      <td>2021-09-13</td>\n",
       "      <td>448.579987</td>\n",
       "      <td>452.332335</td>\n",
       "      <td>450.685753</td>\n",
       "      <td>0.346659</td>\n",
       "      <td>0.000000</td>\n",
       "      <td>24.029401</td>\n",
       "      <td>0.478284</td>\n",
       "      <td>1.844411</td>\n",
       "    </tr>\n",
       "    <tr>\n",
       "      <th>7788</th>\n",
       "      <td>2021-09-14</td>\n",
       "      <td>446.190002</td>\n",
       "      <td>451.798335</td>\n",
       "      <td>450.123784</td>\n",
       "      <td>0.000000</td>\n",
       "      <td>-2.389984</td>\n",
       "      <td>20.440156</td>\n",
       "      <td>0.095020</td>\n",
       "      <td>1.527523</td>\n",
       "    </tr>\n",
       "  </tbody>\n",
       "</table>\n",
       "<p>7775 rows × 9 columns</p>\n",
       "</div>"
      ],
      "text/plain": [
       "           Date       Close         SMA         EMA        up      down  \\\n",
       "14   2000-06-02   99.663971   94.910938   95.600925  1.936874  0.000000   \n",
       "15   2000-06-03   99.446431   95.222053   96.081613  0.000000 -0.217539   \n",
       "16   2000-06-04   99.228892   95.531765   96.475023  0.000000 -0.217539   \n",
       "17   2000-06-05   99.011353   95.840074   96.792064  0.000000 -0.217539   \n",
       "18   2000-06-06   98.506065   96.127796   97.006314  0.000000 -0.505287   \n",
       "...         ...         ...         ...         ...       ...       ...   \n",
       "7784 2021-09-10  447.540009  453.257671  451.878931  0.000000 -3.440002   \n",
       "7785 2021-09-11  447.886668  452.970782  451.379898  0.346659  0.000000   \n",
       "7786 2021-09-12  448.233327  452.662337  450.986577  0.346659  0.000000   \n",
       "7787 2021-09-13  448.579987  452.332335  450.685753  0.346659  0.000000   \n",
       "7788 2021-09-14  446.190002  451.798335  450.123784  0.000000 -2.389984   \n",
       "\n",
       "            RSI      MACD  Signal Line  \n",
       "14    71.245582  0.680463    -0.042866  \n",
       "15    71.115354  0.916439     0.090681  \n",
       "16    70.985601  1.073524     0.250695  \n",
       "17    70.856321  1.167008     0.420929  \n",
       "18    77.029581  1.186644     0.585988  \n",
       "...         ...       ...          ...  \n",
       "7784  30.279938  1.487905     2.619024  \n",
       "7785  28.313930  1.046934     2.394046  \n",
       "7786  26.233827  0.717167     2.129901  \n",
       "7787  24.029401  0.478284     1.844411  \n",
       "7788  20.440156  0.095020     1.527523  \n",
       "\n",
       "[7775 rows x 9 columns]"
      ]
     },
     "execution_count": 19,
     "metadata": {},
     "output_type": "execute_result"
    }
   ],
   "source": [
    "df"
   ]
  },
  {
   "cell_type": "markdown",
   "metadata": {},
   "source": [
    "Separate a multivariate sequence into samples"
   ]
  },
  {
   "cell_type": "code",
   "execution_count": 20,
   "metadata": {},
   "outputs": [],
   "source": [
    "def split_sequences(sequences, n_steps):\n",
    "    X, y = list(), list()\n",
    "    for i in range(len(sequences)):\n",
    "        # Find the end of the pattern\n",
    "        end_ix = i + n_steps\n",
    "        # Check if we are bound by sequence\n",
    "        if end_ix > len(sequences) - 1:\n",
    "            break\n",
    "        # Gather input and output parts of the pattern\n",
    "        seq_x, seq_y = sequences[i:end_ix, :], sequences[end_ix, :]\n",
    "        X.append(seq_x)\n",
    "        y.append(seq_y)\n",
    "    \n",
    "    return np.array(X), np.array(y)"
   ]
  },
  {
   "cell_type": "markdown",
   "metadata": {},
   "source": [
    "Define input sequence"
   ]
  },
  {
   "cell_type": "code",
   "execution_count": 21,
   "metadata": {},
   "outputs": [],
   "source": [
    "in_seq1 = df['SMA'].values\n",
    "in_seq2 = df['EMA'].values\n",
    "in_seq3 = df['RSI'].values\n",
    "in_seq4 = df['MACD'].values\n",
    "in_seq5 = df['Signal Line'].values\n",
    "out_seq = df['Close'].values"
   ]
  },
  {
   "cell_type": "markdown",
   "metadata": {},
   "source": [
    "Convert to [rows, columns] structure"
   ]
  },
  {
   "cell_type": "code",
   "execution_count": 22,
   "metadata": {},
   "outputs": [],
   "source": [
    "in_seq1 = in_seq1.reshape((len(in_seq1), 1))\n",
    "in_seq2 = in_seq2.reshape((len(in_seq2), 1))\n",
    "in_seq3 = in_seq3.reshape((len(in_seq3), 1))\n",
    "in_seq4 = in_seq4.reshape((len(in_seq4), 1))\n",
    "in_seq5 = in_seq5.reshape((len(in_seq5), 1))\n",
    "out_seq = out_seq.reshape((len(out_seq), 1))"
   ]
  },
  {
   "cell_type": "markdown",
   "metadata": {},
   "source": [
    "Horizontally stack columns"
   ]
  },
  {
   "cell_type": "code",
   "execution_count": 23,
   "metadata": {},
   "outputs": [],
   "source": [
    "dataset = np.hstack((in_seq1, in_seq2, in_seq3, in_seq4, in_seq5, out_seq))"
   ]
  },
  {
   "cell_type": "markdown",
   "metadata": {},
   "source": [
    "Choose a number of time steps"
   ]
  },
  {
   "cell_type": "code",
   "execution_count": 24,
   "metadata": {},
   "outputs": [],
   "source": [
    "n_steps = 10"
   ]
  },
  {
   "cell_type": "markdown",
   "metadata": {},
   "source": [
    "Convert into input/output"
   ]
  },
  {
   "cell_type": "code",
   "execution_count": 25,
   "metadata": {},
   "outputs": [],
   "source": [
    "X, y = split_sequences(dataset, n_steps)"
   ]
  },
  {
   "cell_type": "markdown",
   "metadata": {},
   "source": [
    "The dataset knows the number of the features, e.g. 2"
   ]
  },
  {
   "cell_type": "code",
   "execution_count": 26,
   "metadata": {},
   "outputs": [],
   "source": [
    "n_features = X.shape[2]"
   ]
  },
  {
   "cell_type": "markdown",
   "metadata": {},
   "source": [
    "Separate output"
   ]
  },
  {
   "cell_type": "code",
   "execution_count": 27,
   "metadata": {},
   "outputs": [],
   "source": [
    "y1 = y[:,0].reshape((y.shape[0], 1))\n",
    "y2 = y[:,1].reshape((y.shape[0], 1))\n",
    "y3 = y[:,2].reshape((y.shape[0], 1))\n",
    "y4 = y[:,3].reshape((y.shape[0], 1))\n",
    "y5 = y[:,4].reshape((y.shape[0], 1))\n",
    "y6 = y[:,5].reshape((y.shape[0], 1))"
   ]
  },
  {
   "cell_type": "markdown",
   "metadata": {},
   "source": [
    "Set test data"
   ]
  },
  {
   "cell_type": "code",
   "execution_count": 28,
   "metadata": {},
   "outputs": [],
   "source": [
    "test_size = n_steps\n",
    "prediction_size = n_features"
   ]
  },
  {
   "cell_type": "code",
   "execution_count": 29,
   "metadata": {},
   "outputs": [],
   "source": [
    "y1_test = y1[-test_size-prediction_size:-prediction_size]\n",
    "y2_test = y2[-test_size-prediction_size:-prediction_size]\n",
    "y3_test = y3[-test_size-prediction_size:-prediction_size]\n",
    "y4_test = y4[-test_size-prediction_size:-prediction_size]\n",
    "y5_test = y5[-test_size-prediction_size:-prediction_size]\n",
    "y6_test = y6[-test_size-prediction_size:-prediction_size]"
   ]
  },
  {
   "cell_type": "code",
   "execution_count": 30,
   "metadata": {},
   "outputs": [],
   "source": [
    "X_test = X[-test_size-prediction_size:-prediction_size]"
   ]
  },
  {
   "cell_type": "code",
   "execution_count": 31,
   "metadata": {},
   "outputs": [],
   "source": [
    "y1_expected = y1[-prediction_size:]\n",
    "y2_expected = y2[-prediction_size:]\n",
    "y3_expected = y3[-prediction_size:]\n",
    "y4_expected = y4[-prediction_size:]\n",
    "y5_expected = y5[-prediction_size:]\n",
    "y6_expected = y6[-prediction_size:]"
   ]
  },
  {
   "cell_type": "code",
   "execution_count": 32,
   "metadata": {},
   "outputs": [],
   "source": [
    "y1 = y1[:-test_size-prediction_size]\n",
    "y2 = y2[:-test_size-prediction_size]\n",
    "y3 = y3[:-test_size-prediction_size]\n",
    "y4 = y4[:-test_size-prediction_size]\n",
    "y5 = y5[:-test_size-prediction_size]\n",
    "y6 = y6[:-test_size-prediction_size]"
   ]
  },
  {
   "cell_type": "code",
   "execution_count": 33,
   "metadata": {},
   "outputs": [],
   "source": [
    "X = X[:-test_size-prediction_size]"
   ]
  },
  {
   "cell_type": "markdown",
   "metadata": {},
   "source": [
    "Define model"
   ]
  },
  {
   "cell_type": "code",
   "execution_count": 34,
   "metadata": {},
   "outputs": [],
   "source": [
    "visible = Input(shape=(n_steps, n_features))\n",
    "cnn = Conv1D(filters=64, kernel_size=2, activation='relu')(visible)\n",
    "cnn = MaxPooling1D(pool_size=2)(cnn)\n",
    "cnn = Flatten()(cnn)\n",
    "cnn = Dense(50, activation='relu')(cnn)"
   ]
  },
  {
   "cell_type": "markdown",
   "metadata": {},
   "source": [
    "Define output 1"
   ]
  },
  {
   "cell_type": "code",
   "execution_count": 35,
   "metadata": {},
   "outputs": [],
   "source": [
    "output1 = Dense(1)(cnn)"
   ]
  },
  {
   "cell_type": "markdown",
   "metadata": {},
   "source": [
    "Define output 2"
   ]
  },
  {
   "cell_type": "code",
   "execution_count": 36,
   "metadata": {},
   "outputs": [],
   "source": [
    "output2 = Dense(1)(cnn)"
   ]
  },
  {
   "cell_type": "markdown",
   "metadata": {},
   "source": [
    "Define output 3"
   ]
  },
  {
   "cell_type": "code",
   "execution_count": 37,
   "metadata": {},
   "outputs": [],
   "source": [
    "output3 = Dense(1)(cnn)"
   ]
  },
  {
   "cell_type": "markdown",
   "metadata": {},
   "source": [
    "Define output 4"
   ]
  },
  {
   "cell_type": "code",
   "execution_count": 38,
   "metadata": {},
   "outputs": [],
   "source": [
    "output4 = Dense(1)(cnn)"
   ]
  },
  {
   "cell_type": "markdown",
   "metadata": {},
   "source": [
    "Define output 5"
   ]
  },
  {
   "cell_type": "code",
   "execution_count": 39,
   "metadata": {},
   "outputs": [],
   "source": [
    "output5 = Dense(1)(cnn)"
   ]
  },
  {
   "cell_type": "markdown",
   "metadata": {},
   "source": [
    "Define output 6"
   ]
  },
  {
   "cell_type": "code",
   "execution_count": 40,
   "metadata": {},
   "outputs": [],
   "source": [
    "output6 = Dense(1)(cnn)"
   ]
  },
  {
   "cell_type": "markdown",
   "metadata": {},
   "source": [
    "Tie together"
   ]
  },
  {
   "cell_type": "code",
   "execution_count": 41,
   "metadata": {},
   "outputs": [],
   "source": [
    "model = Model(inputs=visible, outputs=[output1, output2, output3, output4, output5, output6])"
   ]
  },
  {
   "cell_type": "code",
   "execution_count": 42,
   "metadata": {},
   "outputs": [],
   "source": [
    "model.compile(optimizer='adam', loss='mse')"
   ]
  },
  {
   "cell_type": "markdown",
   "metadata": {},
   "source": [
    "Fit model"
   ]
  },
  {
   "cell_type": "code",
   "execution_count": 43,
   "metadata": {},
   "outputs": [
    {
     "name": "stdout",
     "output_type": "stream",
     "text": [
      "Epoch 1/300\n",
      "243/243 [==============================] - 0s 890us/step - loss: 1760.5887 - dense_1_loss: 277.4461 - dense_2_loss: 323.2195 - dense_3_loss: 460.9644 - dense_4_loss: 28.8217 - dense_5_loss: 59.2095 - dense_6_loss: 610.9277\n",
      "Epoch 2/300\n",
      "243/243 [==============================] - 0s 872us/step - loss: 207.4059 - dense_1_loss: 3.3101 - dense_2_loss: 5.1139 - dense_3_loss: 180.5543 - dense_4_loss: 2.2655 - dense_5_loss: 2.6749 - dense_6_loss: 13.4872\n",
      "Epoch 3/300\n",
      "243/243 [==============================] - 0s 880us/step - loss: 172.8909 - dense_1_loss: 2.6413 - dense_2_loss: 4.8447 - dense_3_loss: 149.7491 - dense_4_loss: 1.3142 - dense_5_loss: 2.1469 - dense_6_loss: 12.1947\n",
      "Epoch 4/300\n",
      "243/243 [==============================] - 0s 948us/step - loss: 158.7495 - dense_1_loss: 2.4156 - dense_2_loss: 4.0891 - dense_3_loss: 138.0170 - dense_4_loss: 1.0750 - dense_5_loss: 1.7031 - dense_6_loss: 11.4498\n",
      "Epoch 5/300\n",
      "243/243 [==============================] - 0s 877us/step - loss: 149.9712 - dense_1_loss: 1.8207 - dense_2_loss: 3.3326 - dense_3_loss: 131.7600 - dense_4_loss: 1.0007 - dense_5_loss: 1.4655 - dense_6_loss: 10.5917\n",
      "Epoch 6/300\n",
      "243/243 [==============================] - 0s 874us/step - loss: 146.5485 - dense_1_loss: 1.6102 - dense_2_loss: 3.6989 - dense_3_loss: 128.0295 - dense_4_loss: 1.2404 - dense_5_loss: 1.4698 - dense_6_loss: 10.4997\n",
      "Epoch 7/300\n",
      "243/243 [==============================] - 0s 886us/step - loss: 142.8931 - dense_1_loss: 1.6053 - dense_2_loss: 2.8616 - dense_3_loss: 125.8295 - dense_4_loss: 1.0456 - dense_5_loss: 1.4608 - dense_6_loss: 10.0902\n",
      "Epoch 8/300\n",
      "243/243 [==============================] - 0s 865us/step - loss: 138.3314 - dense_1_loss: 1.4935 - dense_2_loss: 2.7464 - dense_3_loss: 122.1570 - dense_4_loss: 0.8917 - dense_5_loss: 1.5162 - dense_6_loss: 9.5266\n",
      "Epoch 9/300\n",
      "243/243 [==============================] - 0s 861us/step - loss: 137.3559 - dense_1_loss: 1.1528 - dense_2_loss: 2.4762 - dense_3_loss: 122.1252 - dense_4_loss: 1.0375 - dense_5_loss: 1.1150 - dense_6_loss: 9.4492\n",
      "Epoch 10/300\n",
      "243/243 [==============================] - 0s 880us/step - loss: 136.0728 - dense_1_loss: 1.3610 - dense_2_loss: 2.3647 - dense_3_loss: 119.9265 - dense_4_loss: 1.3995 - dense_5_loss: 1.0095 - dense_6_loss: 10.0115\n",
      "Epoch 11/300\n",
      "243/243 [==============================] - 0s 844us/step - loss: 130.2257 - dense_1_loss: 1.2659 - dense_2_loss: 1.8145 - dense_3_loss: 117.0111 - dense_4_loss: 0.6679 - dense_5_loss: 0.9161 - dense_6_loss: 8.5502\n",
      "Epoch 12/300\n",
      "243/243 [==============================] - 0s 877us/step - loss: 132.6529 - dense_1_loss: 1.7948 - dense_2_loss: 1.6730 - dense_3_loss: 118.1194 - dense_4_loss: 0.9831 - dense_5_loss: 1.4326 - dense_6_loss: 8.6500\n",
      "Epoch 13/300\n",
      "243/243 [==============================] - 0s 849us/step - loss: 129.0049 - dense_1_loss: 1.6908 - dense_2_loss: 1.2836 - dense_3_loss: 115.8014 - dense_4_loss: 0.6781 - dense_5_loss: 1.0545 - dense_6_loss: 8.4966\n",
      "Epoch 14/300\n",
      "243/243 [==============================] - 0s 857us/step - loss: 128.7677 - dense_1_loss: 1.6635 - dense_2_loss: 1.5356 - dense_3_loss: 114.9648 - dense_4_loss: 1.0128 - dense_5_loss: 1.0068 - dense_6_loss: 8.5842\n",
      "Epoch 15/300\n",
      "243/243 [==============================] - 0s 861us/step - loss: 125.6896 - dense_1_loss: 1.7724 - dense_2_loss: 1.5507 - dense_3_loss: 112.5137 - dense_4_loss: 0.7606 - dense_5_loss: 1.0681 - dense_6_loss: 8.0241\n",
      "Epoch 16/300\n",
      "243/243 [==============================] - 0s 863us/step - loss: 126.1306 - dense_1_loss: 1.9133 - dense_2_loss: 1.4492 - dense_3_loss: 112.8592 - dense_4_loss: 0.7255 - dense_5_loss: 0.8353 - dense_6_loss: 8.3480\n",
      "Epoch 17/300\n",
      "243/243 [==============================] - 0s 870us/step - loss: 130.2842 - dense_1_loss: 2.4754 - dense_2_loss: 1.7652 - dense_3_loss: 115.0706 - dense_4_loss: 1.4320 - dense_5_loss: 1.4990 - dense_6_loss: 8.0421\n",
      "Epoch 18/300\n",
      "243/243 [==============================] - 0s 862us/step - loss: 121.5871 - dense_1_loss: 1.9769 - dense_2_loss: 1.6919 - dense_3_loss: 108.7850 - dense_4_loss: 0.5492 - dense_5_loss: 0.5267 - dense_6_loss: 8.0574\n",
      "Epoch 19/300\n",
      "243/243 [==============================] - 0s 883us/step - loss: 123.7113 - dense_1_loss: 2.4607 - dense_2_loss: 1.5823 - dense_3_loss: 109.7631 - dense_4_loss: 0.8718 - dense_5_loss: 0.8639 - dense_6_loss: 8.1696\n",
      "Epoch 20/300\n",
      "243/243 [==============================] - 0s 892us/step - loss: 122.3963 - dense_1_loss: 1.9850 - dense_2_loss: 1.5086 - dense_3_loss: 109.1434 - dense_4_loss: 0.7204 - dense_5_loss: 0.7060 - dense_6_loss: 8.3329\n",
      "Epoch 21/300\n",
      "243/243 [==============================] - 0s 852us/step - loss: 120.9803 - dense_1_loss: 1.8923 - dense_2_loss: 1.4633 - dense_3_loss: 108.7707 - dense_4_loss: 0.6620 - dense_5_loss: 0.6682 - dense_6_loss: 7.5239\n",
      "Epoch 22/300\n",
      "243/243 [==============================] - 0s 890us/step - loss: 122.0688 - dense_1_loss: 1.8089 - dense_2_loss: 1.2527 - dense_3_loss: 109.9107 - dense_4_loss: 0.8399 - dense_5_loss: 0.5814 - dense_6_loss: 7.6752\n",
      "Epoch 23/300\n",
      "243/243 [==============================] - 0s 869us/step - loss: 122.2961 - dense_1_loss: 2.3597 - dense_2_loss: 1.7385 - dense_3_loss: 108.6182 - dense_4_loss: 0.7129 - dense_5_loss: 0.6467 - dense_6_loss: 8.2200\n",
      "Epoch 24/300\n",
      "243/243 [==============================] - 0s 875us/step - loss: 116.7940 - dense_1_loss: 1.2296 - dense_2_loss: 1.0303 - dense_3_loss: 106.5122 - dense_4_loss: 0.6142 - dense_5_loss: 0.4629 - dense_6_loss: 6.9448\n",
      "Epoch 25/300\n",
      "243/243 [==============================] - 0s 887us/step - loss: 117.4012 - dense_1_loss: 1.5092 - dense_2_loss: 1.1391 - dense_3_loss: 106.7783 - dense_4_loss: 0.4596 - dense_5_loss: 0.5080 - dense_6_loss: 7.0070\n",
      "Epoch 26/300\n",
      "243/243 [==============================] - 0s 882us/step - loss: 121.1589 - dense_1_loss: 2.3460 - dense_2_loss: 1.7180 - dense_3_loss: 107.7892 - dense_4_loss: 0.7049 - dense_5_loss: 0.5740 - dense_6_loss: 8.0268\n",
      "Epoch 27/300\n",
      "243/243 [==============================] - 0s 853us/step - loss: 117.0349 - dense_1_loss: 1.4887 - dense_2_loss: 1.1350 - dense_3_loss: 106.3654 - dense_4_loss: 0.5382 - dense_5_loss: 0.4744 - dense_6_loss: 7.0331\n",
      "Epoch 28/300\n",
      "243/243 [==============================] - 0s 882us/step - loss: 121.7695 - dense_1_loss: 2.4642 - dense_2_loss: 1.7603 - dense_3_loss: 108.5686 - dense_4_loss: 0.7011 - dense_5_loss: 0.6331 - dense_6_loss: 7.6421\n",
      "Epoch 29/300\n",
      "243/243 [==============================] - 0s 978us/step - loss: 118.0566 - dense_1_loss: 2.0463 - dense_2_loss: 1.4936 - dense_3_loss: 105.8883 - dense_4_loss: 0.6027 - dense_5_loss: 0.5551 - dense_6_loss: 7.4704\n",
      "Epoch 30/300\n",
      "243/243 [==============================] - 0s 932us/step - loss: 116.6345 - dense_1_loss: 1.6846 - dense_2_loss: 1.4683 - dense_3_loss: 105.5503 - dense_4_loss: 0.4839 - dense_5_loss: 0.3551 - dense_6_loss: 7.0923\n",
      "Epoch 31/300\n",
      "243/243 [==============================] - 0s 888us/step - loss: 119.2367 - dense_1_loss: 2.4326 - dense_2_loss: 1.9976 - dense_3_loss: 105.8888 - dense_4_loss: 0.4655 - dense_5_loss: 0.3400 - dense_6_loss: 8.1122\n",
      "Epoch 32/300\n",
      "243/243 [==============================] - 0s 888us/step - loss: 115.0036 - dense_1_loss: 1.6918 - dense_2_loss: 1.3003 - dense_3_loss: 104.2030 - dense_4_loss: 0.4622 - dense_5_loss: 0.3898 - dense_6_loss: 6.9567\n",
      "Epoch 33/300\n",
      "243/243 [==============================] - 0s 890us/step - loss: 114.6085 - dense_1_loss: 1.5407 - dense_2_loss: 1.2453 - dense_3_loss: 104.5189 - dense_4_loss: 0.4284 - dense_5_loss: 0.3742 - dense_6_loss: 6.5011\n",
      "Epoch 34/300\n",
      "243/243 [==============================] - 0s 882us/step - loss: 117.7214 - dense_1_loss: 1.6155 - dense_2_loss: 1.2204 - dense_3_loss: 107.1690 - dense_4_loss: 0.6518 - dense_5_loss: 0.4278 - dense_6_loss: 6.6369\n",
      "Epoch 35/300\n",
      "243/243 [==============================] - 0s 873us/step - loss: 114.1422 - dense_1_loss: 1.3888 - dense_2_loss: 1.0373 - dense_3_loss: 104.3398 - dense_4_loss: 0.4029 - dense_5_loss: 0.3759 - dense_6_loss: 6.5976\n",
      "Epoch 36/300\n",
      "243/243 [==============================] - 0s 889us/step - loss: 115.9309 - dense_1_loss: 1.9382 - dense_2_loss: 1.4624 - dense_3_loss: 104.6509 - dense_4_loss: 0.5529 - dense_5_loss: 0.4332 - dense_6_loss: 6.8933\n",
      "Epoch 37/300\n"
     ]
    },
    {
     "name": "stdout",
     "output_type": "stream",
     "text": [
      "243/243 [==============================] - 0s 876us/step - loss: 112.7468 - dense_1_loss: 1.2087 - dense_2_loss: 1.1866 - dense_3_loss: 103.0710 - dense_4_loss: 0.3773 - dense_5_loss: 0.3130 - dense_6_loss: 6.5903\n",
      "Epoch 38/300\n",
      "243/243 [==============================] - 0s 867us/step - loss: 112.7762 - dense_1_loss: 1.4577 - dense_2_loss: 1.1820 - dense_3_loss: 103.0584 - dense_4_loss: 0.2667 - dense_5_loss: 0.2651 - dense_6_loss: 6.5463\n",
      "Epoch 39/300\n",
      "243/243 [==============================] - 0s 901us/step - loss: 111.3110 - dense_1_loss: 1.2125 - dense_2_loss: 1.0781 - dense_3_loss: 101.9357 - dense_4_loss: 0.3483 - dense_5_loss: 0.2329 - dense_6_loss: 6.5034\n",
      "Epoch 40/300\n",
      "243/243 [==============================] - 0s 881us/step - loss: 115.3460 - dense_1_loss: 2.0554 - dense_2_loss: 1.8140 - dense_3_loss: 103.4124 - dense_4_loss: 0.3661 - dense_5_loss: 0.3299 - dense_6_loss: 7.3680\n",
      "Epoch 41/300\n",
      "243/243 [==============================] - 0s 877us/step - loss: 113.5442 - dense_1_loss: 1.5055 - dense_2_loss: 1.0868 - dense_3_loss: 103.7531 - dense_4_loss: 0.4591 - dense_5_loss: 0.4049 - dense_6_loss: 6.3348\n",
      "Epoch 42/300\n",
      "243/243 [==============================] - 0s 877us/step - loss: 108.9726 - dense_1_loss: 1.0822 - dense_2_loss: 0.9249 - dense_3_loss: 100.4667 - dense_4_loss: 0.3670 - dense_5_loss: 0.2625 - dense_6_loss: 5.8692\n",
      "Epoch 43/300\n",
      "243/243 [==============================] - 0s 910us/step - loss: 109.2716 - dense_1_loss: 1.1310 - dense_2_loss: 1.0198 - dense_3_loss: 100.6573 - dense_4_loss: 0.3593 - dense_5_loss: 0.3131 - dense_6_loss: 5.7911\n",
      "Epoch 44/300\n",
      "243/243 [==============================] - 0s 860us/step - loss: 110.8242 - dense_1_loss: 1.5695 - dense_2_loss: 1.4771 - dense_3_loss: 100.2499 - dense_4_loss: 0.3737 - dense_5_loss: 0.3164 - dense_6_loss: 6.8374\n",
      "Epoch 45/300\n",
      "243/243 [==============================] - 0s 859us/step - loss: 109.9973 - dense_1_loss: 1.2443 - dense_2_loss: 1.1546 - dense_3_loss: 100.7039 - dense_4_loss: 0.3183 - dense_5_loss: 0.3051 - dense_6_loss: 6.2710\n",
      "Epoch 46/300\n",
      "243/243 [==============================] - 0s 865us/step - loss: 111.3921 - dense_1_loss: 1.0808 - dense_2_loss: 0.9561 - dense_3_loss: 102.7010 - dense_4_loss: 0.3496 - dense_5_loss: 0.2873 - dense_6_loss: 6.0173\n",
      "Epoch 47/300\n",
      "243/243 [==============================] - 0s 876us/step - loss: 112.3242 - dense_1_loss: 1.7195 - dense_2_loss: 1.7076 - dense_3_loss: 101.3855 - dense_4_loss: 0.3173 - dense_5_loss: 0.2390 - dense_6_loss: 6.9551\n",
      "Epoch 48/300\n",
      "243/243 [==============================] - 0s 863us/step - loss: 112.1068 - dense_1_loss: 1.9493 - dense_2_loss: 1.8710 - dense_3_loss: 100.6458 - dense_4_loss: 0.2023 - dense_5_loss: 0.2499 - dense_6_loss: 7.1885\n",
      "Epoch 49/300\n",
      "243/243 [==============================] - 0s 868us/step - loss: 109.6240 - dense_1_loss: 0.9560 - dense_2_loss: 0.9649 - dense_3_loss: 101.3584 - dense_4_loss: 0.2728 - dense_5_loss: 0.1784 - dense_6_loss: 5.8935\n",
      "Epoch 50/300\n",
      "243/243 [==============================] - 0s 892us/step - loss: 111.7191 - dense_1_loss: 1.4662 - dense_2_loss: 1.4161 - dense_3_loss: 101.8614 - dense_4_loss: 0.3055 - dense_5_loss: 0.2238 - dense_6_loss: 6.4461\n",
      "Epoch 51/300\n",
      "243/243 [==============================] - 0s 866us/step - loss: 108.6904 - dense_1_loss: 0.9243 - dense_2_loss: 0.9061 - dense_3_loss: 100.5324 - dense_4_loss: 0.2250 - dense_5_loss: 0.2391 - dense_6_loss: 5.8635\n",
      "Epoch 52/300\n",
      "243/243 [==============================] - 0s 869us/step - loss: 108.6836 - dense_1_loss: 1.2944 - dense_2_loss: 1.3420 - dense_3_loss: 99.0777 - dense_4_loss: 0.2745 - dense_5_loss: 0.2274 - dense_6_loss: 6.4677\n",
      "Epoch 53/300\n",
      "243/243 [==============================] - 0s 878us/step - loss: 107.8778 - dense_1_loss: 1.0146 - dense_2_loss: 1.0285 - dense_3_loss: 99.5184 - dense_4_loss: 0.2339 - dense_5_loss: 0.2247 - dense_6_loss: 5.8576\n",
      "Epoch 54/300\n",
      "243/243 [==============================] - 0s 856us/step - loss: 110.4942 - dense_1_loss: 1.4894 - dense_2_loss: 1.4747 - dense_3_loss: 100.5510 - dense_4_loss: 0.2591 - dense_5_loss: 0.2628 - dense_6_loss: 6.4573\n",
      "Epoch 55/300\n",
      "243/243 [==============================] - 0s 849us/step - loss: 106.7190 - dense_1_loss: 0.9129 - dense_2_loss: 0.9881 - dense_3_loss: 98.6028 - dense_4_loss: 0.2186 - dense_5_loss: 0.1333 - dense_6_loss: 5.8631\n",
      "Epoch 56/300\n",
      "243/243 [==============================] - 0s 883us/step - loss: 106.4362 - dense_1_loss: 1.1803 - dense_2_loss: 1.1795 - dense_3_loss: 97.5153 - dense_4_loss: 0.1707 - dense_5_loss: 0.1691 - dense_6_loss: 6.2212\n",
      "Epoch 57/300\n",
      "243/243 [==============================] - 0s 873us/step - loss: 106.4583 - dense_1_loss: 1.1210 - dense_2_loss: 1.2156 - dense_3_loss: 97.4584 - dense_4_loss: 0.2081 - dense_5_loss: 0.1345 - dense_6_loss: 6.3206\n",
      "Epoch 58/300\n",
      "243/243 [==============================] - 0s 863us/step - loss: 112.9936 - dense_1_loss: 1.3714 - dense_2_loss: 1.4043 - dense_3_loss: 102.9573 - dense_4_loss: 0.2934 - dense_5_loss: 0.3183 - dense_6_loss: 6.6489\n",
      "Epoch 59/300\n",
      "243/243 [==============================] - 0s 849us/step - loss: 108.4211 - dense_1_loss: 1.2417 - dense_2_loss: 1.2505 - dense_3_loss: 99.2539 - dense_4_loss: 0.2174 - dense_5_loss: 0.1721 - dense_6_loss: 6.2856\n",
      "Epoch 60/300\n",
      "243/243 [==============================] - 0s 865us/step - loss: 109.6350 - dense_1_loss: 0.9627 - dense_2_loss: 1.0006 - dense_3_loss: 100.9740 - dense_4_loss: 0.2702 - dense_5_loss: 0.2788 - dense_6_loss: 6.1488\n",
      "Epoch 61/300\n",
      "243/243 [==============================] - 0s 882us/step - loss: 105.3195 - dense_1_loss: 0.7252 - dense_2_loss: 0.7635 - dense_3_loss: 97.9719 - dense_4_loss: 0.1749 - dense_5_loss: 0.1251 - dense_6_loss: 5.5589\n",
      "Epoch 62/300\n",
      "243/243 [==============================] - 0s 866us/step - loss: 105.3480 - dense_1_loss: 0.9455 - dense_2_loss: 0.9985 - dense_3_loss: 97.2676 - dense_4_loss: 0.1755 - dense_5_loss: 0.0984 - dense_6_loss: 5.8624\n",
      "Epoch 63/300\n",
      "243/243 [==============================] - 0s 897us/step - loss: 106.5022 - dense_1_loss: 0.7821 - dense_2_loss: 0.8187 - dense_3_loss: 98.9287 - dense_4_loss: 0.2181 - dense_5_loss: 0.1864 - dense_6_loss: 5.5681\n",
      "Epoch 64/300\n",
      "243/243 [==============================] - 0s 912us/step - loss: 105.7821 - dense_1_loss: 1.2113 - dense_2_loss: 1.2994 - dense_3_loss: 96.9149 - dense_4_loss: 0.1950 - dense_5_loss: 0.1683 - dense_6_loss: 5.9933\n",
      "Epoch 65/300\n",
      "243/243 [==============================] - 0s 876us/step - loss: 105.9131 - dense_1_loss: 1.0850 - dense_2_loss: 1.1129 - dense_3_loss: 97.4650 - dense_4_loss: 0.1875 - dense_5_loss: 0.1759 - dense_6_loss: 5.8868\n",
      "Epoch 66/300\n",
      "243/243 [==============================] - 0s 874us/step - loss: 106.3323 - dense_1_loss: 1.1173 - dense_2_loss: 1.1294 - dense_3_loss: 97.4301 - dense_4_loss: 0.2519 - dense_5_loss: 0.2265 - dense_6_loss: 6.1770\n",
      "Epoch 67/300\n",
      "243/243 [==============================] - 0s 871us/step - loss: 106.9666 - dense_1_loss: 1.1725 - dense_2_loss: 1.2622 - dense_3_loss: 97.8685 - dense_4_loss: 0.2408 - dense_5_loss: 0.1862 - dense_6_loss: 6.2364\n",
      "Epoch 68/300\n",
      "243/243 [==============================] - 0s 863us/step - loss: 105.8255 - dense_1_loss: 0.7835 - dense_2_loss: 0.7969 - dense_3_loss: 98.2759 - dense_4_loss: 0.2383 - dense_5_loss: 0.1675 - dense_6_loss: 5.5633\n",
      "Epoch 69/300\n",
      "243/243 [==============================] - 0s 884us/step - loss: 107.7641 - dense_1_loss: 1.2257 - dense_2_loss: 1.1861 - dense_3_loss: 98.6907 - dense_4_loss: 0.2134 - dense_5_loss: 0.2156 - dense_6_loss: 6.2327\n",
      "Epoch 70/300\n",
      "243/243 [==============================] - 0s 872us/step - loss: 107.0483 - dense_1_loss: 1.2639 - dense_2_loss: 1.2954 - dense_3_loss: 98.0767 - dense_4_loss: 0.1833 - dense_5_loss: 0.2099 - dense_6_loss: 6.0192\n",
      "Epoch 71/300\n",
      "243/243 [==============================] - 0s 869us/step - loss: 107.1842 - dense_1_loss: 1.0777 - dense_2_loss: 1.0625 - dense_3_loss: 98.4207 - dense_4_loss: 0.2131 - dense_5_loss: 0.2356 - dense_6_loss: 6.1746\n",
      "Epoch 72/300\n",
      "243/243 [==============================] - 0s 878us/step - loss: 108.0401 - dense_1_loss: 1.5853 - dense_2_loss: 1.7222 - dense_3_loss: 97.7404 - dense_4_loss: 0.2124 - dense_5_loss: 0.1344 - dense_6_loss: 6.6454\n",
      "Epoch 73/300\n"
     ]
    },
    {
     "name": "stdout",
     "output_type": "stream",
     "text": [
      "243/243 [==============================] - 0s 883us/step - loss: 104.8796 - dense_1_loss: 1.0046 - dense_2_loss: 1.0230 - dense_3_loss: 96.7534 - dense_4_loss: 0.1746 - dense_5_loss: 0.1545 - dense_6_loss: 5.7694\n",
      "Epoch 74/300\n",
      "243/243 [==============================] - 0s 862us/step - loss: 106.8285 - dense_1_loss: 0.9027 - dense_2_loss: 0.9494 - dense_3_loss: 98.9055 - dense_4_loss: 0.2053 - dense_5_loss: 0.2020 - dense_6_loss: 5.6635\n",
      "Epoch 75/300\n",
      "243/243 [==============================] - 0s 854us/step - loss: 103.3724 - dense_1_loss: 0.8320 - dense_2_loss: 0.9424 - dense_3_loss: 95.7506 - dense_4_loss: 0.1790 - dense_5_loss: 0.1232 - dense_6_loss: 5.5452\n",
      "Epoch 76/300\n",
      "243/243 [==============================] - 0s 882us/step - loss: 104.2998 - dense_1_loss: 1.1038 - dense_2_loss: 1.2679 - dense_3_loss: 95.7937 - dense_4_loss: 0.2185 - dense_5_loss: 0.1340 - dense_6_loss: 5.7819\n",
      "Epoch 77/300\n",
      "243/243 [==============================] - 0s 857us/step - loss: 103.8631 - dense_1_loss: 0.7721 - dense_2_loss: 0.8576 - dense_3_loss: 96.3372 - dense_4_loss: 0.1715 - dense_5_loss: 0.1822 - dense_6_loss: 5.5424\n",
      "Epoch 78/300\n",
      "243/243 [==============================] - 0s 879us/step - loss: 106.6226 - dense_1_loss: 1.3137 - dense_2_loss: 1.3422 - dense_3_loss: 96.9661 - dense_4_loss: 0.4526 - dense_5_loss: 0.2130 - dense_6_loss: 6.3351\n",
      "Epoch 79/300\n",
      "243/243 [==============================] - 0s 856us/step - loss: 106.3807 - dense_1_loss: 1.2328 - dense_2_loss: 1.2698 - dense_3_loss: 97.4658 - dense_4_loss: 0.2322 - dense_5_loss: 0.2278 - dense_6_loss: 5.9523\n",
      "Epoch 80/300\n",
      "243/243 [==============================] - 0s 852us/step - loss: 104.7400 - dense_1_loss: 0.9547 - dense_2_loss: 1.1102 - dense_3_loss: 96.5157 - dense_4_loss: 0.2150 - dense_5_loss: 0.1694 - dense_6_loss: 5.7750\n",
      "Epoch 81/300\n",
      "243/243 [==============================] - 0s 1ms/step - loss: 104.3629 - dense_1_loss: 1.0116 - dense_2_loss: 1.0804 - dense_3_loss: 96.0829 - dense_4_loss: 0.1772 - dense_5_loss: 0.1355 - dense_6_loss: 5.8754\n",
      "Epoch 82/300\n",
      "243/243 [==============================] - 0s 845us/step - loss: 103.9725 - dense_1_loss: 0.8108 - dense_2_loss: 0.8868 - dense_3_loss: 96.4657 - dense_4_loss: 0.1743 - dense_5_loss: 0.1930 - dense_6_loss: 5.4420\n",
      "Epoch 83/300\n",
      "243/243 [==============================] - 0s 873us/step - loss: 104.3056 - dense_1_loss: 1.1510 - dense_2_loss: 1.2523 - dense_3_loss: 95.5347 - dense_4_loss: 0.1989 - dense_5_loss: 0.1503 - dense_6_loss: 6.0184\n",
      "Epoch 84/300\n",
      "243/243 [==============================] - 0s 850us/step - loss: 103.2849 - dense_1_loss: 0.9332 - dense_2_loss: 1.0553 - dense_3_loss: 95.2719 - dense_4_loss: 0.1844 - dense_5_loss: 0.1643 - dense_6_loss: 5.6757\n",
      "Epoch 85/300\n",
      "243/243 [==============================] - 0s 861us/step - loss: 104.4440 - dense_1_loss: 1.0872 - dense_2_loss: 1.0950 - dense_3_loss: 96.1852 - dense_4_loss: 0.2218 - dense_5_loss: 0.1977 - dense_6_loss: 5.6571\n",
      "Epoch 86/300\n",
      "243/243 [==============================] - 0s 835us/step - loss: 107.4591 - dense_1_loss: 1.1703 - dense_2_loss: 1.2983 - dense_3_loss: 98.3300 - dense_4_loss: 0.2593 - dense_5_loss: 0.2723 - dense_6_loss: 6.1288\n",
      "Epoch 87/300\n",
      "243/243 [==============================] - 0s 870us/step - loss: 105.9403 - dense_1_loss: 1.2461 - dense_2_loss: 1.3446 - dense_3_loss: 96.9376 - dense_4_loss: 0.1822 - dense_5_loss: 0.2205 - dense_6_loss: 6.0092\n",
      "Epoch 88/300\n",
      "243/243 [==============================] - 0s 867us/step - loss: 105.4081 - dense_1_loss: 1.0660 - dense_2_loss: 1.1792 - dense_3_loss: 96.8087 - dense_4_loss: 0.1969 - dense_5_loss: 0.2033 - dense_6_loss: 5.9540\n",
      "Epoch 89/300\n",
      "243/243 [==============================] - 0s 859us/step - loss: 105.1002 - dense_1_loss: 1.0830 - dense_2_loss: 1.1993 - dense_3_loss: 96.4869 - dense_4_loss: 0.2593 - dense_5_loss: 0.3066 - dense_6_loss: 5.7651\n",
      "Epoch 90/300\n",
      "243/243 [==============================] - 0s 836us/step - loss: 105.2645 - dense_1_loss: 1.4965 - dense_2_loss: 1.5977 - dense_3_loss: 95.4486 - dense_4_loss: 0.2152 - dense_5_loss: 0.1568 - dense_6_loss: 6.3497\n",
      "Epoch 91/300\n",
      "243/243 [==============================] - 0s 892us/step - loss: 104.1552 - dense_1_loss: 0.7683 - dense_2_loss: 0.8706 - dense_3_loss: 96.6434 - dense_4_loss: 0.1834 - dense_5_loss: 0.1811 - dense_6_loss: 5.5084\n",
      "Epoch 92/300\n",
      "243/243 [==============================] - 0s 885us/step - loss: 102.4584 - dense_1_loss: 1.1657 - dense_2_loss: 1.2068 - dense_3_loss: 94.0659 - dense_4_loss: 0.1811 - dense_5_loss: 0.1010 - dense_6_loss: 5.7379\n",
      "Epoch 93/300\n",
      "243/243 [==============================] - 0s 841us/step - loss: 105.8076 - dense_1_loss: 0.8580 - dense_2_loss: 0.9384 - dense_3_loss: 97.9072 - dense_4_loss: 0.2673 - dense_5_loss: 0.2433 - dense_6_loss: 5.5934\n",
      "Epoch 94/300\n",
      "243/243 [==============================] - 0s 862us/step - loss: 101.9584 - dense_1_loss: 0.8251 - dense_2_loss: 0.9072 - dense_3_loss: 94.3733 - dense_4_loss: 0.2177 - dense_5_loss: 0.1605 - dense_6_loss: 5.4746\n",
      "Epoch 95/300\n",
      "243/243 [==============================] - 0s 856us/step - loss: 104.3160 - dense_1_loss: 0.9622 - dense_2_loss: 1.0816 - dense_3_loss: 96.2223 - dense_4_loss: 0.1886 - dense_5_loss: 0.1913 - dense_6_loss: 5.6701\n",
      "Epoch 96/300\n",
      "243/243 [==============================] - 0s 889us/step - loss: 101.8459 - dense_1_loss: 1.1403 - dense_2_loss: 1.2116 - dense_3_loss: 93.4886 - dense_4_loss: 0.1645 - dense_5_loss: 0.0787 - dense_6_loss: 5.7623\n",
      "Epoch 97/300\n",
      "243/243 [==============================] - 0s 860us/step - loss: 103.2301 - dense_1_loss: 0.9275 - dense_2_loss: 0.9941 - dense_3_loss: 95.2499 - dense_4_loss: 0.1878 - dense_5_loss: 0.1853 - dense_6_loss: 5.6855\n",
      "Epoch 98/300\n",
      "243/243 [==============================] - 0s 872us/step - loss: 102.1472 - dense_1_loss: 0.8386 - dense_2_loss: 0.9069 - dense_3_loss: 94.6668 - dense_4_loss: 0.1680 - dense_5_loss: 0.1448 - dense_6_loss: 5.4221\n",
      "Epoch 99/300\n",
      "243/243 [==============================] - 0s 863us/step - loss: 103.3966 - dense_1_loss: 1.2858 - dense_2_loss: 1.4124 - dense_3_loss: 94.1436 - dense_4_loss: 0.1747 - dense_5_loss: 0.1405 - dense_6_loss: 6.2396\n",
      "Epoch 100/300\n",
      "243/243 [==============================] - 0s 921us/step - loss: 101.5537 - dense_1_loss: 0.7433 - dense_2_loss: 0.9054 - dense_3_loss: 94.0994 - dense_4_loss: 0.2510 - dense_5_loss: 0.1982 - dense_6_loss: 5.3564\n",
      "Epoch 101/300\n",
      "243/243 [==============================] - 0s 857us/step - loss: 101.7787 - dense_1_loss: 0.9102 - dense_2_loss: 0.9971 - dense_3_loss: 93.8939 - dense_4_loss: 0.2385 - dense_5_loss: 0.1862 - dense_6_loss: 5.5529\n",
      "Epoch 102/300\n",
      "243/243 [==============================] - 0s 894us/step - loss: 101.9614 - dense_1_loss: 1.1026 - dense_2_loss: 1.2247 - dense_3_loss: 93.4405 - dense_4_loss: 0.1479 - dense_5_loss: 0.1587 - dense_6_loss: 5.8870\n",
      "Epoch 103/300\n",
      "243/243 [==============================] - 0s 889us/step - loss: 99.9081 - dense_1_loss: 0.6922 - dense_2_loss: 0.7569 - dense_3_loss: 92.9174 - dense_4_loss: 0.1702 - dense_5_loss: 0.1173 - dense_6_loss: 5.2542\n",
      "Epoch 104/300\n",
      "243/243 [==============================] - 0s 869us/step - loss: 102.9743 - dense_1_loss: 0.8693 - dense_2_loss: 0.9571 - dense_3_loss: 95.2528 - dense_4_loss: 0.2092 - dense_5_loss: 0.1511 - dense_6_loss: 5.5347\n",
      "Epoch 105/300\n",
      "243/243 [==============================] - 0s 928us/step - loss: 101.7569 - dense_1_loss: 0.7958 - dense_2_loss: 0.9101 - dense_3_loss: 94.2643 - dense_4_loss: 0.1787 - dense_5_loss: 0.1316 - dense_6_loss: 5.4764\n",
      "Epoch 106/300\n",
      "243/243 [==============================] - 0s 847us/step - loss: 101.0875 - dense_1_loss: 1.1002 - dense_2_loss: 1.1487 - dense_3_loss: 92.7829 - dense_4_loss: 0.1547 - dense_5_loss: 0.0889 - dense_6_loss: 5.8122\n",
      "Epoch 107/300\n",
      "243/243 [==============================] - 0s 857us/step - loss: 102.2466 - dense_1_loss: 1.4413 - dense_2_loss: 1.5452 - dense_3_loss: 92.9652 - dense_4_loss: 0.2142 - dense_5_loss: 0.1911 - dense_6_loss: 5.8895\n",
      "Epoch 108/300\n",
      "243/243 [==============================] - 0s 925us/step - loss: 102.4812 - dense_1_loss: 1.0612 - dense_2_loss: 1.1258 - dense_3_loss: 94.0640 - dense_4_loss: 0.2092 - dense_5_loss: 0.1715 - dense_6_loss: 5.8495\n",
      "Epoch 109/300\n"
     ]
    },
    {
     "name": "stdout",
     "output_type": "stream",
     "text": [
      "243/243 [==============================] - 0s 865us/step - loss: 101.0152 - dense_1_loss: 0.7193 - dense_2_loss: 0.8644 - dense_3_loss: 93.6710 - dense_4_loss: 0.2267 - dense_5_loss: 0.2206 - dense_6_loss: 5.3132\n",
      "Epoch 110/300\n",
      "243/243 [==============================] - 0s 846us/step - loss: 103.5620 - dense_1_loss: 1.4549 - dense_2_loss: 1.4950 - dense_3_loss: 93.9830 - dense_4_loss: 0.1642 - dense_5_loss: 0.1246 - dense_6_loss: 6.3403\n",
      "Epoch 111/300\n",
      "243/243 [==============================] - 0s 862us/step - loss: 99.9662 - dense_1_loss: 0.6120 - dense_2_loss: 0.7055 - dense_3_loss: 93.0592 - dense_4_loss: 0.1642 - dense_5_loss: 0.1324 - dense_6_loss: 5.2929\n",
      "Epoch 112/300\n",
      "243/243 [==============================] - 0s 862us/step - loss: 99.2237 - dense_1_loss: 0.5989 - dense_2_loss: 0.6806 - dense_3_loss: 92.4697 - dense_4_loss: 0.2017 - dense_5_loss: 0.1497 - dense_6_loss: 5.1231\n",
      "Epoch 113/300\n",
      "243/243 [==============================] - 0s 853us/step - loss: 101.6105 - dense_1_loss: 1.1935 - dense_2_loss: 1.1928 - dense_3_loss: 93.0575 - dense_4_loss: 0.1946 - dense_5_loss: 0.1711 - dense_6_loss: 5.8010\n",
      "Epoch 114/300\n",
      "243/243 [==============================] - 0s 840us/step - loss: 100.4949 - dense_1_loss: 0.8953 - dense_2_loss: 0.9564 - dense_3_loss: 92.9444 - dense_4_loss: 0.2203 - dense_5_loss: 0.1730 - dense_6_loss: 5.3056\n",
      "Epoch 115/300\n",
      "243/243 [==============================] - 0s 874us/step - loss: 102.4076 - dense_1_loss: 0.7613 - dense_2_loss: 0.9539 - dense_3_loss: 94.7133 - dense_4_loss: 0.3014 - dense_5_loss: 0.2621 - dense_6_loss: 5.4157\n",
      "Epoch 116/300\n",
      "243/243 [==============================] - 0s 873us/step - loss: 101.9964 - dense_1_loss: 1.2279 - dense_2_loss: 1.2823 - dense_3_loss: 93.1189 - dense_4_loss: 0.2421 - dense_5_loss: 0.1947 - dense_6_loss: 5.9305\n",
      "Epoch 117/300\n",
      "243/243 [==============================] - 0s 847us/step - loss: 97.7070 - dense_1_loss: 0.5717 - dense_2_loss: 0.6724 - dense_3_loss: 90.9885 - dense_4_loss: 0.1742 - dense_5_loss: 0.1299 - dense_6_loss: 5.1703\n",
      "Epoch 118/300\n",
      "243/243 [==============================] - 0s 858us/step - loss: 103.4844 - dense_1_loss: 0.8003 - dense_2_loss: 0.8325 - dense_3_loss: 95.9973 - dense_4_loss: 0.3232 - dense_5_loss: 0.2638 - dense_6_loss: 5.2672\n",
      "Epoch 119/300\n",
      "243/243 [==============================] - 0s 859us/step - loss: 102.4194 - dense_1_loss: 1.2890 - dense_2_loss: 1.3324 - dense_3_loss: 93.3074 - dense_4_loss: 0.2325 - dense_5_loss: 0.2153 - dense_6_loss: 6.0429\n",
      "Epoch 120/300\n",
      "243/243 [==============================] - 0s 847us/step - loss: 99.6597 - dense_1_loss: 0.9484 - dense_2_loss: 1.0414 - dense_3_loss: 91.8045 - dense_4_loss: 0.2244 - dense_5_loss: 0.1609 - dense_6_loss: 5.4802\n",
      "Epoch 121/300\n",
      "243/243 [==============================] - 0s 878us/step - loss: 100.0921 - dense_1_loss: 0.9029 - dense_2_loss: 0.9660 - dense_3_loss: 92.5435 - dense_4_loss: 0.2395 - dense_5_loss: 0.1706 - dense_6_loss: 5.2696\n",
      "Epoch 122/300\n",
      "243/243 [==============================] - 0s 864us/step - loss: 100.7898 - dense_1_loss: 0.9876 - dense_2_loss: 1.0783 - dense_3_loss: 92.7523 - dense_4_loss: 0.1753 - dense_5_loss: 0.1685 - dense_6_loss: 5.6277\n",
      "Epoch 123/300\n",
      "243/243 [==============================] - 0s 856us/step - loss: 100.0636 - dense_1_loss: 0.7929 - dense_2_loss: 0.9130 - dense_3_loss: 92.6401 - dense_4_loss: 0.1729 - dense_5_loss: 0.1773 - dense_6_loss: 5.3674\n",
      "Epoch 124/300\n",
      "243/243 [==============================] - 0s 872us/step - loss: 100.3140 - dense_1_loss: 0.8128 - dense_2_loss: 0.9726 - dense_3_loss: 92.7454 - dense_4_loss: 0.1999 - dense_5_loss: 0.1515 - dense_6_loss: 5.4318\n",
      "Epoch 125/300\n",
      "243/243 [==============================] - 0s 836us/step - loss: 100.1358 - dense_1_loss: 0.8649 - dense_2_loss: 0.9537 - dense_3_loss: 92.4782 - dense_4_loss: 0.1703 - dense_5_loss: 0.1117 - dense_6_loss: 5.5569\n",
      "Epoch 126/300\n",
      "243/243 [==============================] - 0s 899us/step - loss: 99.6936 - dense_1_loss: 0.8771 - dense_2_loss: 1.0067 - dense_3_loss: 92.0188 - dense_4_loss: 0.1825 - dense_5_loss: 0.1420 - dense_6_loss: 5.4664\n",
      "Epoch 127/300\n",
      "243/243 [==============================] - 0s 880us/step - loss: 101.4924 - dense_1_loss: 1.1426 - dense_2_loss: 1.2181 - dense_3_loss: 93.1466 - dense_4_loss: 0.1760 - dense_5_loss: 0.1894 - dense_6_loss: 5.6198\n",
      "Epoch 128/300\n",
      "243/243 [==============================] - 0s 855us/step - loss: 99.0694 - dense_1_loss: 0.7910 - dense_2_loss: 0.8594 - dense_3_loss: 91.8650 - dense_4_loss: 0.1560 - dense_5_loss: 0.1040 - dense_6_loss: 5.2938\n",
      "Epoch 129/300\n",
      "243/243 [==============================] - 0s 854us/step - loss: 98.6131 - dense_1_loss: 0.9693 - dense_2_loss: 1.0871 - dense_3_loss: 90.7079 - dense_4_loss: 0.1552 - dense_5_loss: 0.1127 - dense_6_loss: 5.5809\n",
      "Epoch 130/300\n",
      "243/243 [==============================] - 0s 890us/step - loss: 99.6879 - dense_1_loss: 0.9769 - dense_2_loss: 1.1253 - dense_3_loss: 91.7504 - dense_4_loss: 0.1615 - dense_5_loss: 0.1141 - dense_6_loss: 5.5598\n",
      "Epoch 131/300\n",
      "243/243 [==============================] - 0s 860us/step - loss: 99.2698 - dense_1_loss: 0.6335 - dense_2_loss: 0.7740 - dense_3_loss: 92.3493 - dense_4_loss: 0.1429 - dense_5_loss: 0.1081 - dense_6_loss: 5.2620\n",
      "Epoch 132/300\n",
      "243/243 [==============================] - 0s 884us/step - loss: 100.5612 - dense_1_loss: 0.6266 - dense_2_loss: 0.7480 - dense_3_loss: 93.6051 - dense_4_loss: 0.2187 - dense_5_loss: 0.2123 - dense_6_loss: 5.1503\n",
      "Epoch 133/300\n",
      "243/243 [==============================] - 0s 870us/step - loss: 97.3691 - dense_1_loss: 0.8339 - dense_2_loss: 0.9304 - dense_3_loss: 90.1017 - dense_4_loss: 0.1504 - dense_5_loss: 0.1161 - dense_6_loss: 5.2365\n",
      "Epoch 134/300\n",
      "243/243 [==============================] - 0s 1ms/step - loss: 97.8430 - dense_1_loss: 0.5231 - dense_2_loss: 0.6238 - dense_3_loss: 91.4751 - dense_4_loss: 0.1795 - dense_5_loss: 0.1795 - dense_6_loss: 4.8619\n",
      "Epoch 135/300\n",
      "243/243 [==============================] - 0s 866us/step - loss: 100.5660 - dense_1_loss: 0.8088 - dense_2_loss: 0.8938 - dense_3_loss: 93.1569 - dense_4_loss: 0.2107 - dense_5_loss: 0.1800 - dense_6_loss: 5.3157\n",
      "Epoch 136/300\n",
      "243/243 [==============================] - 0s 871us/step - loss: 99.3969 - dense_1_loss: 0.8556 - dense_2_loss: 0.9720 - dense_3_loss: 91.7511 - dense_4_loss: 0.1731 - dense_5_loss: 0.1349 - dense_6_loss: 5.5102\n",
      "Epoch 137/300\n",
      "243/243 [==============================] - 0s 860us/step - loss: 98.5396 - dense_1_loss: 0.9469 - dense_2_loss: 1.0835 - dense_3_loss: 90.6248 - dense_4_loss: 0.1714 - dense_5_loss: 0.1273 - dense_6_loss: 5.5856\n",
      "Epoch 138/300\n",
      "243/243 [==============================] - 0s 847us/step - loss: 97.6890 - dense_1_loss: 0.6613 - dense_2_loss: 0.7746 - dense_3_loss: 90.8218 - dense_4_loss: 0.1451 - dense_5_loss: 0.1029 - dense_6_loss: 5.1833\n",
      "Epoch 139/300\n",
      "243/243 [==============================] - 0s 860us/step - loss: 99.1476 - dense_1_loss: 0.8773 - dense_2_loss: 1.0483 - dense_3_loss: 91.3770 - dense_4_loss: 0.1625 - dense_5_loss: 0.1532 - dense_6_loss: 5.5292\n",
      "Epoch 140/300\n",
      "243/243 [==============================] - 0s 859us/step - loss: 98.7597 - dense_1_loss: 0.8290 - dense_2_loss: 0.9287 - dense_3_loss: 91.2951 - dense_4_loss: 0.1690 - dense_5_loss: 0.1219 - dense_6_loss: 5.4159\n",
      "Epoch 141/300\n",
      "243/243 [==============================] - 0s 873us/step - loss: 98.5088 - dense_1_loss: 0.7125 - dense_2_loss: 0.8070 - dense_3_loss: 91.5444 - dense_4_loss: 0.1729 - dense_5_loss: 0.1495 - dense_6_loss: 5.1224\n",
      "Epoch 142/300\n",
      "243/243 [==============================] - 0s 869us/step - loss: 99.3026 - dense_1_loss: 0.7420 - dense_2_loss: 0.8712 - dense_3_loss: 92.1046 - dense_4_loss: 0.1729 - dense_5_loss: 0.1718 - dense_6_loss: 5.2401\n",
      "Epoch 143/300\n",
      "243/243 [==============================] - 0s 866us/step - loss: 96.2195 - dense_1_loss: 0.4890 - dense_2_loss: 0.5956 - dense_3_loss: 89.8780 - dense_4_loss: 0.1544 - dense_5_loss: 0.1213 - dense_6_loss: 4.9811\n",
      "Epoch 144/300\n",
      "243/243 [==============================] - 0s 868us/step - loss: 96.4561 - dense_1_loss: 0.6114 - dense_2_loss: 0.7318 - dense_3_loss: 89.8731 - dense_4_loss: 0.1479 - dense_5_loss: 0.0887 - dense_6_loss: 5.0031\n",
      "Epoch 145/300\n"
     ]
    },
    {
     "name": "stdout",
     "output_type": "stream",
     "text": [
      "243/243 [==============================] - 0s 887us/step - loss: 99.9404 - dense_1_loss: 0.8098 - dense_2_loss: 0.9130 - dense_3_loss: 92.5985 - dense_4_loss: 0.1765 - dense_5_loss: 0.1526 - dense_6_loss: 5.2900\n",
      "Epoch 146/300\n",
      "243/243 [==============================] - 0s 882us/step - loss: 97.7401 - dense_1_loss: 0.8169 - dense_2_loss: 0.9454 - dense_3_loss: 90.3244 - dense_4_loss: 0.1537 - dense_5_loss: 0.1179 - dense_6_loss: 5.3818\n",
      "Epoch 147/300\n",
      "243/243 [==============================] - 0s 843us/step - loss: 96.5605 - dense_1_loss: 0.6749 - dense_2_loss: 0.7895 - dense_3_loss: 89.7693 - dense_4_loss: 0.1597 - dense_5_loss: 0.0909 - dense_6_loss: 5.0763\n",
      "Epoch 148/300\n",
      "243/243 [==============================] - 0s 863us/step - loss: 102.9798 - dense_1_loss: 1.3422 - dense_2_loss: 1.4660 - dense_3_loss: 93.4256 - dense_4_loss: 0.2054 - dense_5_loss: 0.1570 - dense_6_loss: 6.3836\n",
      "Epoch 149/300\n",
      "243/243 [==============================] - 0s 864us/step - loss: 100.2906 - dense_1_loss: 0.7007 - dense_2_loss: 0.7938 - dense_3_loss: 93.0881 - dense_4_loss: 0.1899 - dense_5_loss: 0.1581 - dense_6_loss: 5.3600\n",
      "Epoch 150/300\n",
      "243/243 [==============================] - 0s 865us/step - loss: 99.9052 - dense_1_loss: 1.0139 - dense_2_loss: 1.0895 - dense_3_loss: 92.0558 - dense_4_loss: 0.1701 - dense_5_loss: 0.1424 - dense_6_loss: 5.4336\n",
      "Epoch 151/300\n",
      "243/243 [==============================] - 0s 845us/step - loss: 99.2239 - dense_1_loss: 1.1249 - dense_2_loss: 1.2763 - dense_3_loss: 90.7220 - dense_4_loss: 0.1773 - dense_5_loss: 0.1399 - dense_6_loss: 5.7835\n",
      "Epoch 152/300\n",
      "243/243 [==============================] - 0s 862us/step - loss: 96.6907 - dense_1_loss: 0.5634 - dense_2_loss: 0.6810 - dense_3_loss: 90.1594 - dense_4_loss: 0.1745 - dense_5_loss: 0.1760 - dense_6_loss: 4.9364\n",
      "Epoch 153/300\n",
      "243/243 [==============================] - 0s 873us/step - loss: 96.5551 - dense_1_loss: 0.5681 - dense_2_loss: 0.6993 - dense_3_loss: 90.1248 - dense_4_loss: 0.1621 - dense_5_loss: 0.1481 - dense_6_loss: 4.8526\n",
      "Epoch 154/300\n",
      "243/243 [==============================] - 0s 878us/step - loss: 97.7555 - dense_1_loss: 0.6726 - dense_2_loss: 0.7640 - dense_3_loss: 90.8824 - dense_4_loss: 0.1691 - dense_5_loss: 0.1639 - dense_6_loss: 5.1036\n",
      "Epoch 155/300\n",
      "243/243 [==============================] - 0s 873us/step - loss: 98.2605 - dense_1_loss: 1.0424 - dense_2_loss: 0.8097 - dense_3_loss: 90.7909 - dense_4_loss: 0.3866 - dense_5_loss: 0.1521 - dense_6_loss: 5.0787\n",
      "Epoch 156/300\n",
      "243/243 [==============================] - 0s 859us/step - loss: 99.5364 - dense_1_loss: 1.0228 - dense_2_loss: 1.1568 - dense_3_loss: 91.4108 - dense_4_loss: 0.2306 - dense_5_loss: 0.2183 - dense_6_loss: 5.4973\n",
      "Epoch 157/300\n",
      "243/243 [==============================] - 0s 875us/step - loss: 96.1018 - dense_1_loss: 0.6217 - dense_2_loss: 0.7399 - dense_3_loss: 89.3844 - dense_4_loss: 0.1853 - dense_5_loss: 0.1504 - dense_6_loss: 5.0201\n",
      "Epoch 158/300\n",
      "243/243 [==============================] - 0s 843us/step - loss: 99.4847 - dense_1_loss: 1.0432 - dense_2_loss: 1.1501 - dense_3_loss: 91.2817 - dense_4_loss: 0.1782 - dense_5_loss: 0.1657 - dense_6_loss: 5.6659\n",
      "Epoch 159/300\n",
      "243/243 [==============================] - 0s 863us/step - loss: 97.5047 - dense_1_loss: 0.6623 - dense_2_loss: 0.8276 - dense_3_loss: 90.6541 - dense_4_loss: 0.1682 - dense_5_loss: 0.1650 - dense_6_loss: 5.0275\n",
      "Epoch 160/300\n",
      "243/243 [==============================] - 0s 883us/step - loss: 96.1306 - dense_1_loss: 0.6654 - dense_2_loss: 0.7882 - dense_3_loss: 89.3540 - dense_4_loss: 0.1756 - dense_5_loss: 0.1281 - dense_6_loss: 5.0192\n",
      "Epoch 161/300\n",
      "243/243 [==============================] - 0s 867us/step - loss: 97.0347 - dense_1_loss: 0.6838 - dense_2_loss: 0.7787 - dense_3_loss: 90.1127 - dense_4_loss: 0.1696 - dense_5_loss: 0.1386 - dense_6_loss: 5.1513\n",
      "Epoch 162/300\n",
      "243/243 [==============================] - 0s 868us/step - loss: 99.1438 - dense_1_loss: 0.8760 - dense_2_loss: 0.9663 - dense_3_loss: 91.8149 - dense_4_loss: 0.1900 - dense_5_loss: 0.1501 - dense_6_loss: 5.1465\n",
      "Epoch 163/300\n",
      "243/243 [==============================] - 0s 891us/step - loss: 100.0773 - dense_1_loss: 1.4123 - dense_2_loss: 1.4540 - dense_3_loss: 90.8089 - dense_4_loss: 0.2093 - dense_5_loss: 0.2074 - dense_6_loss: 5.9856\n",
      "Epoch 164/300\n",
      "243/243 [==============================] - 0s 842us/step - loss: 98.4964 - dense_1_loss: 0.6412 - dense_2_loss: 0.7509 - dense_3_loss: 91.7737 - dense_4_loss: 0.1858 - dense_5_loss: 0.1344 - dense_6_loss: 5.0102\n",
      "Epoch 165/300\n",
      "243/243 [==============================] - 0s 853us/step - loss: 96.3571 - dense_1_loss: 0.5798 - dense_2_loss: 0.7122 - dense_3_loss: 89.7132 - dense_4_loss: 0.1919 - dense_5_loss: 0.1645 - dense_6_loss: 4.9955\n",
      "Epoch 166/300\n",
      "243/243 [==============================] - 0s 882us/step - loss: 97.9389 - dense_1_loss: 0.9124 - dense_2_loss: 0.9815 - dense_3_loss: 90.6650 - dense_4_loss: 0.1653 - dense_5_loss: 0.1204 - dense_6_loss: 5.0945\n",
      "Epoch 167/300\n",
      "243/243 [==============================] - 0s 885us/step - loss: 94.9446 - dense_1_loss: 0.5301 - dense_2_loss: 0.6256 - dense_3_loss: 88.7199 - dense_4_loss: 0.1386 - dense_5_loss: 0.0809 - dense_6_loss: 4.8494\n",
      "Epoch 168/300\n",
      "243/243 [==============================] - 0s 858us/step - loss: 97.6579 - dense_1_loss: 0.6130 - dense_2_loss: 0.7119 - dense_3_loss: 91.1430 - dense_4_loss: 0.1913 - dense_5_loss: 0.1361 - dense_6_loss: 4.8625\n",
      "Epoch 169/300\n",
      "243/243 [==============================] - 0s 861us/step - loss: 96.4293 - dense_1_loss: 0.8261 - dense_2_loss: 0.9126 - dense_3_loss: 89.2524 - dense_4_loss: 0.1479 - dense_5_loss: 0.1318 - dense_6_loss: 5.1585\n",
      "Epoch 170/300\n",
      "243/243 [==============================] - 0s 867us/step - loss: 96.8158 - dense_1_loss: 0.6986 - dense_2_loss: 0.7906 - dense_3_loss: 89.9344 - dense_4_loss: 0.1725 - dense_5_loss: 0.1404 - dense_6_loss: 5.0794\n",
      "Epoch 171/300\n",
      "243/243 [==============================] - 0s 890us/step - loss: 98.5395 - dense_1_loss: 0.8185 - dense_2_loss: 0.9166 - dense_3_loss: 91.3331 - dense_4_loss: 0.1644 - dense_5_loss: 0.1576 - dense_6_loss: 5.1494\n",
      "Epoch 172/300\n",
      "243/243 [==============================] - 0s 876us/step - loss: 97.3917 - dense_1_loss: 0.7217 - dense_2_loss: 0.8161 - dense_3_loss: 90.6568 - dense_4_loss: 0.1358 - dense_5_loss: 0.0983 - dense_6_loss: 4.9631\n",
      "Epoch 173/300\n",
      "243/243 [==============================] - 0s 868us/step - loss: 95.4369 - dense_1_loss: 0.7264 - dense_2_loss: 0.8538 - dense_3_loss: 88.6367 - dense_4_loss: 0.1469 - dense_5_loss: 0.0800 - dense_6_loss: 4.9930\n",
      "Epoch 174/300\n",
      "243/243 [==============================] - 0s 847us/step - loss: 97.7313 - dense_1_loss: 0.6602 - dense_2_loss: 0.7863 - dense_3_loss: 90.9859 - dense_4_loss: 0.1549 - dense_5_loss: 0.1566 - dense_6_loss: 4.9874\n",
      "Epoch 175/300\n",
      "243/243 [==============================] - 0s 861us/step - loss: 96.5211 - dense_1_loss: 0.7553 - dense_2_loss: 0.7999 - dense_3_loss: 89.7467 - dense_4_loss: 0.1591 - dense_5_loss: 0.0938 - dense_6_loss: 4.9663\n",
      "Epoch 176/300\n",
      "243/243 [==============================] - 0s 867us/step - loss: 95.8819 - dense_1_loss: 0.9818 - dense_2_loss: 1.0291 - dense_3_loss: 88.3725 - dense_4_loss: 0.1394 - dense_5_loss: 0.0865 - dense_6_loss: 5.2726\n",
      "Epoch 177/300\n",
      "243/243 [==============================] - 0s 841us/step - loss: 94.6729 - dense_1_loss: 0.5908 - dense_2_loss: 0.6648 - dense_3_loss: 88.2912 - dense_4_loss: 0.1231 - dense_5_loss: 0.0702 - dense_6_loss: 4.9327\n",
      "Epoch 178/300\n",
      "243/243 [==============================] - 0s 883us/step - loss: 97.4586 - dense_1_loss: 0.6323 - dense_2_loss: 0.7399 - dense_3_loss: 90.9042 - dense_4_loss: 0.1618 - dense_5_loss: 0.1710 - dense_6_loss: 4.8493\n",
      "Epoch 179/300\n",
      "243/243 [==============================] - 0s 887us/step - loss: 96.2388 - dense_1_loss: 0.6620 - dense_2_loss: 0.7751 - dense_3_loss: 89.5491 - dense_4_loss: 0.1658 - dense_5_loss: 0.1655 - dense_6_loss: 4.9214\n",
      "Epoch 180/300\n",
      "243/243 [==============================] - 0s 870us/step - loss: 96.6017 - dense_1_loss: 0.8333 - dense_2_loss: 0.9071 - dense_3_loss: 89.4455 - dense_4_loss: 0.1458 - dense_5_loss: 0.0713 - dense_6_loss: 5.1987\n",
      "Epoch 181/300\n"
     ]
    },
    {
     "name": "stdout",
     "output_type": "stream",
     "text": [
      "243/243 [==============================] - 0s 896us/step - loss: 96.5882 - dense_1_loss: 0.7314 - dense_2_loss: 0.8320 - dense_3_loss: 89.6972 - dense_4_loss: 0.1921 - dense_5_loss: 0.1782 - dense_6_loss: 4.9573\n",
      "Epoch 182/300\n",
      "243/243 [==============================] - 0s 832us/step - loss: 96.0091 - dense_1_loss: 0.8629 - dense_2_loss: 0.9251 - dense_3_loss: 88.8497 - dense_4_loss: 0.1378 - dense_5_loss: 0.1082 - dense_6_loss: 5.1255\n",
      "Epoch 183/300\n",
      "243/243 [==============================] - 0s 838us/step - loss: 96.6286 - dense_1_loss: 0.6999 - dense_2_loss: 0.7870 - dense_3_loss: 89.7335 - dense_4_loss: 0.1603 - dense_5_loss: 0.1551 - dense_6_loss: 5.0927\n",
      "Epoch 184/300\n",
      "243/243 [==============================] - 0s 842us/step - loss: 96.0397 - dense_1_loss: 0.7897 - dense_2_loss: 0.8226 - dense_3_loss: 89.0964 - dense_4_loss: 0.1807 - dense_5_loss: 0.1623 - dense_6_loss: 4.9880\n",
      "Epoch 185/300\n",
      "243/243 [==============================] - 0s 855us/step - loss: 98.0055 - dense_1_loss: 0.7502 - dense_2_loss: 0.8250 - dense_3_loss: 90.8875 - dense_4_loss: 0.1904 - dense_5_loss: 0.1831 - dense_6_loss: 5.1692\n",
      "Epoch 186/300\n",
      "243/243 [==============================] - 0s 845us/step - loss: 96.0749 - dense_1_loss: 0.8581 - dense_2_loss: 0.9439 - dense_3_loss: 88.5958 - dense_4_loss: 0.1511 - dense_5_loss: 0.1196 - dense_6_loss: 5.4064\n",
      "Epoch 187/300\n",
      "243/243 [==============================] - 0s 1ms/step - loss: 100.3484 - dense_1_loss: 0.8561 - dense_2_loss: 0.8695 - dense_3_loss: 93.1781 - dense_4_loss: 0.1563 - dense_5_loss: 0.1891 - dense_6_loss: 5.0993\n",
      "Epoch 188/300\n",
      "243/243 [==============================] - 0s 844us/step - loss: 97.2106 - dense_1_loss: 0.9699 - dense_2_loss: 0.9906 - dense_3_loss: 89.6976 - dense_4_loss: 0.1439 - dense_5_loss: 0.1187 - dense_6_loss: 5.2898\n",
      "Epoch 189/300\n",
      "243/243 [==============================] - 0s 861us/step - loss: 94.7161 - dense_1_loss: 0.6307 - dense_2_loss: 0.7112 - dense_3_loss: 88.3346 - dense_4_loss: 0.1333 - dense_5_loss: 0.1065 - dense_6_loss: 4.7998\n",
      "Epoch 190/300\n",
      "243/243 [==============================] - 0s 868us/step - loss: 93.6911 - dense_1_loss: 0.4364 - dense_2_loss: 0.5266 - dense_3_loss: 87.8900 - dense_4_loss: 0.1229 - dense_5_loss: 0.0937 - dense_6_loss: 4.6214\n",
      "Epoch 191/300\n",
      "243/243 [==============================] - 0s 850us/step - loss: 94.0910 - dense_1_loss: 0.5207 - dense_2_loss: 0.5914 - dense_3_loss: 88.0476 - dense_4_loss: 0.1205 - dense_5_loss: 0.0718 - dense_6_loss: 4.7391\n",
      "Epoch 192/300\n",
      "243/243 [==============================] - 0s 872us/step - loss: 93.5353 - dense_1_loss: 0.4853 - dense_2_loss: 0.5787 - dense_3_loss: 87.6678 - dense_4_loss: 0.1191 - dense_5_loss: 0.0806 - dense_6_loss: 4.6038\n",
      "Epoch 193/300\n",
      "243/243 [==============================] - 0s 848us/step - loss: 94.4479 - dense_1_loss: 0.5919 - dense_2_loss: 0.6404 - dense_3_loss: 88.2080 - dense_4_loss: 0.1274 - dense_5_loss: 0.1239 - dense_6_loss: 4.7564\n",
      "Epoch 194/300\n",
      "243/243 [==============================] - 0s 867us/step - loss: 95.4345 - dense_1_loss: 0.7317 - dense_2_loss: 0.7891 - dense_3_loss: 88.7497 - dense_4_loss: 0.1258 - dense_5_loss: 0.0867 - dense_6_loss: 4.9515\n",
      "Epoch 195/300\n",
      "243/243 [==============================] - 0s 845us/step - loss: 94.5663 - dense_1_loss: 0.5292 - dense_2_loss: 0.6379 - dense_3_loss: 88.3361 - dense_4_loss: 0.1279 - dense_5_loss: 0.0920 - dense_6_loss: 4.8433\n",
      "Epoch 196/300\n",
      "243/243 [==============================] - 0s 850us/step - loss: 93.7491 - dense_1_loss: 0.4220 - dense_2_loss: 0.5384 - dense_3_loss: 87.9530 - dense_4_loss: 0.1442 - dense_5_loss: 0.1236 - dense_6_loss: 4.5677\n",
      "Epoch 197/300\n",
      "243/243 [==============================] - 0s 852us/step - loss: 98.1135 - dense_1_loss: 0.7783 - dense_2_loss: 0.8507 - dense_3_loss: 91.1740 - dense_4_loss: 0.1224 - dense_5_loss: 0.1628 - dense_6_loss: 5.0253\n",
      "Epoch 198/300\n",
      "243/243 [==============================] - 0s 893us/step - loss: 94.6186 - dense_1_loss: 0.5913 - dense_2_loss: 0.6381 - dense_3_loss: 88.5120 - dense_4_loss: 0.1424 - dense_5_loss: 0.1499 - dense_6_loss: 4.5850\n",
      "Epoch 199/300\n",
      "243/243 [==============================] - 0s 869us/step - loss: 94.4799 - dense_1_loss: 0.5895 - dense_2_loss: 0.6339 - dense_3_loss: 88.2424 - dense_4_loss: 0.1248 - dense_5_loss: 0.0924 - dense_6_loss: 4.7969\n",
      "Epoch 200/300\n",
      "243/243 [==============================] - 0s 851us/step - loss: 96.8089 - dense_1_loss: 0.9656 - dense_2_loss: 0.9943 - dense_3_loss: 89.2906 - dense_4_loss: 0.1614 - dense_5_loss: 0.1508 - dense_6_loss: 5.2463\n",
      "Epoch 201/300\n",
      "243/243 [==============================] - 0s 855us/step - loss: 98.1001 - dense_1_loss: 0.7756 - dense_2_loss: 0.8384 - dense_3_loss: 91.2037 - dense_4_loss: 0.1419 - dense_5_loss: 0.1739 - dense_6_loss: 4.9668\n",
      "Epoch 202/300\n",
      "243/243 [==============================] - 0s 874us/step - loss: 94.8717 - dense_1_loss: 0.5374 - dense_2_loss: 0.5734 - dense_3_loss: 88.8226 - dense_4_loss: 0.1651 - dense_5_loss: 0.1273 - dense_6_loss: 4.6458\n",
      "Epoch 203/300\n",
      "243/243 [==============================] - 0s 898us/step - loss: 95.0384 - dense_1_loss: 0.6307 - dense_2_loss: 0.7062 - dense_3_loss: 88.7535 - dense_4_loss: 0.1409 - dense_5_loss: 0.0965 - dense_6_loss: 4.7107\n",
      "Epoch 204/300\n",
      "243/243 [==============================] - 0s 875us/step - loss: 93.5355 - dense_1_loss: 0.5693 - dense_2_loss: 0.6331 - dense_3_loss: 87.5869 - dense_4_loss: 0.1114 - dense_5_loss: 0.0790 - dense_6_loss: 4.5558\n",
      "Epoch 205/300\n",
      "243/243 [==============================] - 0s 847us/step - loss: 95.8522 - dense_1_loss: 0.6072 - dense_2_loss: 0.6072 - dense_3_loss: 89.7845 - dense_4_loss: 0.1733 - dense_5_loss: 0.2027 - dense_6_loss: 4.4772\n",
      "Epoch 206/300\n",
      "243/243 [==============================] - 0s 873us/step - loss: 95.1569 - dense_1_loss: 0.7621 - dense_2_loss: 0.8232 - dense_3_loss: 88.4105 - dense_4_loss: 0.1377 - dense_5_loss: 0.1131 - dense_6_loss: 4.9104\n",
      "Epoch 207/300\n",
      "243/243 [==============================] - 0s 836us/step - loss: 93.9636 - dense_1_loss: 0.4869 - dense_2_loss: 0.5375 - dense_3_loss: 88.1722 - dense_4_loss: 0.1429 - dense_5_loss: 0.1438 - dense_6_loss: 4.4802\n",
      "Epoch 208/300\n",
      "243/243 [==============================] - 0s 890us/step - loss: 95.7022 - dense_1_loss: 0.5299 - dense_2_loss: 0.6016 - dense_3_loss: 89.5145 - dense_4_loss: 0.1339 - dense_5_loss: 0.1040 - dense_6_loss: 4.8182\n",
      "Epoch 209/300\n",
      "243/243 [==============================] - 0s 865us/step - loss: 95.6548 - dense_1_loss: 0.5331 - dense_2_loss: 0.6130 - dense_3_loss: 89.4813 - dense_4_loss: 0.1290 - dense_5_loss: 0.0922 - dense_6_loss: 4.8061\n",
      "Epoch 210/300\n",
      "243/243 [==============================] - 0s 881us/step - loss: 94.2039 - dense_1_loss: 0.6063 - dense_2_loss: 0.6890 - dense_3_loss: 87.8201 - dense_4_loss: 0.1304 - dense_5_loss: 0.1140 - dense_6_loss: 4.8442\n",
      "Epoch 211/300\n",
      "243/243 [==============================] - 0s 858us/step - loss: 95.7199 - dense_1_loss: 0.5992 - dense_2_loss: 0.6848 - dense_3_loss: 89.3312 - dense_4_loss: 0.1236 - dense_5_loss: 0.1347 - dense_6_loss: 4.8464\n",
      "Epoch 212/300\n",
      "243/243 [==============================] - 0s 881us/step - loss: 93.4186 - dense_1_loss: 0.5542 - dense_2_loss: 0.6533 - dense_3_loss: 87.4158 - dense_4_loss: 0.1133 - dense_5_loss: 0.0923 - dense_6_loss: 4.5897\n",
      "Epoch 213/300\n",
      "243/243 [==============================] - 0s 896us/step - loss: 94.0047 - dense_1_loss: 0.6598 - dense_2_loss: 0.6824 - dense_3_loss: 87.6803 - dense_4_loss: 0.1062 - dense_5_loss: 0.0639 - dense_6_loss: 4.8120\n",
      "Epoch 214/300\n",
      "243/243 [==============================] - 0s 855us/step - loss: 96.0552 - dense_1_loss: 0.7271 - dense_2_loss: 0.8031 - dense_3_loss: 89.2747 - dense_4_loss: 0.1200 - dense_5_loss: 0.1430 - dense_6_loss: 4.9874\n",
      "Epoch 215/300\n",
      "243/243 [==============================] - 0s 856us/step - loss: 97.5750 - dense_1_loss: 0.6202 - dense_2_loss: 0.6402 - dense_3_loss: 91.2416 - dense_4_loss: 0.1444 - dense_5_loss: 0.1759 - dense_6_loss: 4.7527\n",
      "Epoch 216/300\n",
      "243/243 [==============================] - 0s 844us/step - loss: 93.6454 - dense_1_loss: 0.6671 - dense_2_loss: 0.7014 - dense_3_loss: 87.3750 - dense_4_loss: 0.1171 - dense_5_loss: 0.1099 - dense_6_loss: 4.6748\n",
      "Epoch 217/300\n"
     ]
    },
    {
     "name": "stdout",
     "output_type": "stream",
     "text": [
      "243/243 [==============================] - 0s 885us/step - loss: 93.9360 - dense_1_loss: 0.7597 - dense_2_loss: 0.8146 - dense_3_loss: 87.3732 - dense_4_loss: 0.1247 - dense_5_loss: 0.1140 - dense_6_loss: 4.7497\n",
      "Epoch 218/300\n",
      "243/243 [==============================] - 0s 850us/step - loss: 93.9763 - dense_1_loss: 0.6501 - dense_2_loss: 0.6972 - dense_3_loss: 87.5610 - dense_4_loss: 0.1334 - dense_5_loss: 0.1185 - dense_6_loss: 4.8161\n",
      "Epoch 219/300\n",
      "243/243 [==============================] - 0s 872us/step - loss: 94.0195 - dense_1_loss: 0.6017 - dense_2_loss: 0.6902 - dense_3_loss: 87.6771 - dense_4_loss: 0.1241 - dense_5_loss: 0.1236 - dense_6_loss: 4.8029\n",
      "Epoch 220/300\n",
      "243/243 [==============================] - 0s 870us/step - loss: 93.4857 - dense_1_loss: 0.5824 - dense_2_loss: 0.6570 - dense_3_loss: 87.3421 - dense_4_loss: 0.1157 - dense_5_loss: 0.1250 - dense_6_loss: 4.6635\n",
      "Epoch 221/300\n",
      "243/243 [==============================] - 0s 889us/step - loss: 94.9911 - dense_1_loss: 0.6522 - dense_2_loss: 0.7240 - dense_3_loss: 88.6378 - dense_4_loss: 0.1342 - dense_5_loss: 0.1702 - dense_6_loss: 4.6727\n",
      "Epoch 222/300\n",
      "243/243 [==============================] - 0s 862us/step - loss: 96.5628 - dense_1_loss: 0.9561 - dense_2_loss: 1.0322 - dense_3_loss: 89.1108 - dense_4_loss: 0.1551 - dense_5_loss: 0.1486 - dense_6_loss: 5.1602\n",
      "Epoch 223/300\n",
      "243/243 [==============================] - 0s 864us/step - loss: 95.2347 - dense_1_loss: 0.5717 - dense_2_loss: 0.7111 - dense_3_loss: 88.7876 - dense_4_loss: 0.1393 - dense_5_loss: 0.1456 - dense_6_loss: 4.8795\n",
      "Epoch 224/300\n",
      "243/243 [==============================] - 0s 870us/step - loss: 96.3662 - dense_1_loss: 0.8839 - dense_2_loss: 0.9828 - dense_3_loss: 89.1595 - dense_4_loss: 0.1390 - dense_5_loss: 0.1155 - dense_6_loss: 5.0854\n",
      "Epoch 225/300\n",
      "243/243 [==============================] - 0s 859us/step - loss: 98.3206 - dense_1_loss: 0.7194 - dense_2_loss: 0.7952 - dense_3_loss: 91.4990 - dense_4_loss: 0.1255 - dense_5_loss: 0.1359 - dense_6_loss: 5.0457\n",
      "Epoch 226/300\n",
      "243/243 [==============================] - 0s 850us/step - loss: 95.2455 - dense_1_loss: 0.5885 - dense_2_loss: 0.6798 - dense_3_loss: 88.9633 - dense_4_loss: 0.1178 - dense_5_loss: 0.1051 - dense_6_loss: 4.7909\n",
      "Epoch 227/300\n",
      "243/243 [==============================] - 0s 879us/step - loss: 95.5169 - dense_1_loss: 0.4271 - dense_2_loss: 0.5133 - dense_3_loss: 89.7889 - dense_4_loss: 0.1213 - dense_5_loss: 0.1289 - dense_6_loss: 4.5374\n",
      "Epoch 228/300\n",
      "243/243 [==============================] - 0s 858us/step - loss: 98.8602 - dense_1_loss: 0.7178 - dense_2_loss: 0.7896 - dense_3_loss: 92.0573 - dense_4_loss: 0.1332 - dense_5_loss: 0.1743 - dense_6_loss: 4.9879\n",
      "Epoch 229/300\n",
      "243/243 [==============================] - 0s 838us/step - loss: 96.1089 - dense_1_loss: 0.6478 - dense_2_loss: 0.7474 - dense_3_loss: 89.5754 - dense_4_loss: 0.1111 - dense_5_loss: 0.0843 - dense_6_loss: 4.9429\n",
      "Epoch 230/300\n",
      "243/243 [==============================] - 0s 846us/step - loss: 97.7756 - dense_1_loss: 0.6858 - dense_2_loss: 0.7673 - dense_3_loss: 90.9335 - dense_4_loss: 0.1576 - dense_5_loss: 0.1230 - dense_6_loss: 5.1084\n",
      "Epoch 231/300\n",
      "243/243 [==============================] - 0s 885us/step - loss: 95.4376 - dense_1_loss: 0.4615 - dense_2_loss: 0.5559 - dense_3_loss: 89.4618 - dense_4_loss: 0.1133 - dense_5_loss: 0.0952 - dense_6_loss: 4.7499\n",
      "Epoch 232/300\n",
      "243/243 [==============================] - 0s 837us/step - loss: 95.0560 - dense_1_loss: 0.5499 - dense_2_loss: 0.6131 - dense_3_loss: 88.9172 - dense_4_loss: 0.1179 - dense_5_loss: 0.1012 - dense_6_loss: 4.7566\n",
      "Epoch 233/300\n",
      "243/243 [==============================] - 0s 862us/step - loss: 94.0641 - dense_1_loss: 0.4281 - dense_2_loss: 0.5527 - dense_3_loss: 88.2902 - dense_4_loss: 0.1134 - dense_5_loss: 0.1071 - dense_6_loss: 4.5724\n",
      "Epoch 234/300\n",
      "243/243 [==============================] - 0s 835us/step - loss: 95.3516 - dense_1_loss: 0.5296 - dense_2_loss: 0.6457 - dense_3_loss: 89.1699 - dense_4_loss: 0.1186 - dense_5_loss: 0.1137 - dense_6_loss: 4.7742\n",
      "Epoch 235/300\n",
      "243/243 [==============================] - 0s 919us/step - loss: 96.1838 - dense_1_loss: 0.7741 - dense_2_loss: 0.8958 - dense_3_loss: 89.2182 - dense_4_loss: 0.1498 - dense_5_loss: 0.1449 - dense_6_loss: 5.0011\n",
      "Epoch 236/300\n",
      "243/243 [==============================] - 0s 884us/step - loss: 96.7449 - dense_1_loss: 0.7018 - dense_2_loss: 0.7774 - dense_3_loss: 89.9518 - dense_4_loss: 0.1606 - dense_5_loss: 0.1859 - dense_6_loss: 4.9674\n",
      "Epoch 237/300\n",
      "243/243 [==============================] - 0s 856us/step - loss: 95.4643 - dense_1_loss: 0.4986 - dense_2_loss: 0.6115 - dense_3_loss: 89.4367 - dense_4_loss: 0.1303 - dense_5_loss: 0.1782 - dense_6_loss: 4.6089\n",
      "Epoch 238/300\n",
      "243/243 [==============================] - 0s 846us/step - loss: 94.6861 - dense_1_loss: 0.5763 - dense_2_loss: 0.6609 - dense_3_loss: 88.5663 - dense_4_loss: 0.1111 - dense_5_loss: 0.0635 - dense_6_loss: 4.7080\n",
      "Epoch 239/300\n",
      "243/243 [==============================] - 0s 857us/step - loss: 95.4493 - dense_1_loss: 0.5514 - dense_2_loss: 0.6735 - dense_3_loss: 89.2902 - dense_4_loss: 0.1382 - dense_5_loss: 0.1256 - dense_6_loss: 4.6704\n",
      "Epoch 240/300\n",
      "243/243 [==============================] - 0s 1ms/step - loss: 96.1844 - dense_1_loss: 0.6798 - dense_2_loss: 0.7419 - dense_3_loss: 89.6460 - dense_4_loss: 0.1315 - dense_5_loss: 0.1266 - dense_6_loss: 4.8587\n",
      "Epoch 241/300\n",
      "243/243 [==============================] - 0s 986us/step - loss: 95.0658 - dense_1_loss: 0.4988 - dense_2_loss: 0.5772 - dense_3_loss: 89.2040 - dense_4_loss: 0.1283 - dense_5_loss: 0.1230 - dense_6_loss: 4.5344\n",
      "Epoch 242/300\n",
      "243/243 [==============================] - 0s 903us/step - loss: 94.9828 - dense_1_loss: 0.5284 - dense_2_loss: 0.6211 - dense_3_loss: 88.9828 - dense_4_loss: 0.1200 - dense_5_loss: 0.0897 - dense_6_loss: 4.6408\n",
      "Epoch 243/300\n",
      "243/243 [==============================] - 0s 900us/step - loss: 99.2264 - dense_1_loss: 0.7142 - dense_2_loss: 0.7882 - dense_3_loss: 92.4081 - dense_4_loss: 0.1323 - dense_5_loss: 0.1257 - dense_6_loss: 5.0581\n",
      "Epoch 244/300\n",
      "243/243 [==============================] - 0s 913us/step - loss: 94.0200 - dense_1_loss: 0.5614 - dense_2_loss: 0.6398 - dense_3_loss: 87.9697 - dense_4_loss: 0.1174 - dense_5_loss: 0.0739 - dense_6_loss: 4.6577\n",
      "Epoch 245/300\n",
      "243/243 [==============================] - 0s 883us/step - loss: 94.7501 - dense_1_loss: 0.5821 - dense_2_loss: 0.6924 - dense_3_loss: 88.5531 - dense_4_loss: 0.1331 - dense_5_loss: 0.0893 - dense_6_loss: 4.7000\n",
      "Epoch 246/300\n",
      "243/243 [==============================] - 0s 978us/step - loss: 95.7509 - dense_1_loss: 0.6412 - dense_2_loss: 0.7206 - dense_3_loss: 89.4973 - dense_4_loss: 0.1271 - dense_5_loss: 0.1315 - dense_6_loss: 4.6332\n",
      "Epoch 247/300\n",
      "243/243 [==============================] - 0s 919us/step - loss: 95.1652 - dense_1_loss: 0.5610 - dense_2_loss: 0.6302 - dense_3_loss: 88.9864 - dense_4_loss: 0.1367 - dense_5_loss: 0.1311 - dense_6_loss: 4.7198\n",
      "Epoch 248/300\n",
      "243/243 [==============================] - 0s 900us/step - loss: 94.4878 - dense_1_loss: 0.5538 - dense_2_loss: 0.6151 - dense_3_loss: 88.4772 - dense_4_loss: 0.1111 - dense_5_loss: 0.0992 - dense_6_loss: 4.6315\n",
      "Epoch 249/300\n",
      "243/243 [==============================] - 0s 862us/step - loss: 94.7914 - dense_1_loss: 0.7648 - dense_2_loss: 0.8610 - dense_3_loss: 88.1459 - dense_4_loss: 0.1121 - dense_5_loss: 0.0671 - dense_6_loss: 4.8406\n",
      "Epoch 250/300\n",
      "243/243 [==============================] - 0s 843us/step - loss: 93.7280 - dense_1_loss: 0.5196 - dense_2_loss: 0.6042 - dense_3_loss: 87.8420 - dense_4_loss: 0.1310 - dense_5_loss: 0.0827 - dense_6_loss: 4.5485\n",
      "Epoch 251/300\n",
      "243/243 [==============================] - 0s 838us/step - loss: 95.3406 - dense_1_loss: 0.5694 - dense_2_loss: 0.6671 - dense_3_loss: 89.2896 - dense_4_loss: 0.1105 - dense_5_loss: 0.1057 - dense_6_loss: 4.5984\n",
      "Epoch 252/300\n",
      "243/243 [==============================] - 0s 861us/step - loss: 94.6649 - dense_1_loss: 0.6383 - dense_2_loss: 0.7034 - dense_3_loss: 88.3660 - dense_4_loss: 0.1336 - dense_5_loss: 0.0740 - dense_6_loss: 4.7497\n",
      "Epoch 253/300\n"
     ]
    },
    {
     "name": "stdout",
     "output_type": "stream",
     "text": [
      "243/243 [==============================] - 0s 853us/step - loss: 94.3075 - dense_1_loss: 0.4959 - dense_2_loss: 0.6036 - dense_3_loss: 88.3763 - dense_4_loss: 0.1352 - dense_5_loss: 0.0899 - dense_6_loss: 4.6065\n",
      "Epoch 254/300\n",
      "243/243 [==============================] - 0s 833us/step - loss: 94.7444 - dense_1_loss: 0.7127 - dense_2_loss: 0.8037 - dense_3_loss: 88.2377 - dense_4_loss: 0.1356 - dense_5_loss: 0.0875 - dense_6_loss: 4.7672\n",
      "Epoch 255/300\n",
      "243/243 [==============================] - 0s 953us/step - loss: 94.6279 - dense_1_loss: 0.5531 - dense_2_loss: 0.6349 - dense_3_loss: 88.6613 - dense_4_loss: 0.1279 - dense_5_loss: 0.0803 - dense_6_loss: 4.5702\n",
      "Epoch 256/300\n",
      "243/243 [==============================] - 0s 926us/step - loss: 95.1931 - dense_1_loss: 0.6594 - dense_2_loss: 0.7475 - dense_3_loss: 88.5562 - dense_4_loss: 0.1332 - dense_5_loss: 0.1017 - dense_6_loss: 4.9951\n",
      "Epoch 257/300\n",
      "243/243 [==============================] - 0s 887us/step - loss: 93.9933 - dense_1_loss: 0.5291 - dense_2_loss: 0.6144 - dense_3_loss: 88.0112 - dense_4_loss: 0.1292 - dense_5_loss: 0.0843 - dense_6_loss: 4.6252\n",
      "Epoch 258/300\n",
      "243/243 [==============================] - 0s 841us/step - loss: 95.2836 - dense_1_loss: 0.6588 - dense_2_loss: 0.7761 - dense_3_loss: 88.7665 - dense_4_loss: 0.1692 - dense_5_loss: 0.1491 - dense_6_loss: 4.7640\n",
      "Epoch 259/300\n",
      "243/243 [==============================] - 0s 883us/step - loss: 95.1070 - dense_1_loss: 0.5973 - dense_2_loss: 0.6799 - dense_3_loss: 88.9596 - dense_4_loss: 0.1494 - dense_5_loss: 0.1206 - dense_6_loss: 4.6003\n",
      "Epoch 260/300\n",
      "243/243 [==============================] - 0s 886us/step - loss: 92.7640 - dense_1_loss: 0.6156 - dense_2_loss: 0.7084 - dense_3_loss: 86.5810 - dense_4_loss: 0.1103 - dense_5_loss: 0.0466 - dense_6_loss: 4.7021\n",
      "Epoch 261/300\n",
      "243/243 [==============================] - 0s 1ms/step - loss: 94.9525 - dense_1_loss: 0.6503 - dense_2_loss: 0.7769 - dense_3_loss: 88.4886 - dense_4_loss: 0.1319 - dense_5_loss: 0.1223 - dense_6_loss: 4.7825\n",
      "Epoch 262/300\n",
      "243/243 [==============================] - 0s 916us/step - loss: 92.4079 - dense_1_loss: 0.3702 - dense_2_loss: 0.4704 - dense_3_loss: 87.0252 - dense_4_loss: 0.1151 - dense_5_loss: 0.0502 - dense_6_loss: 4.3768\n",
      "Epoch 263/300\n",
      "243/243 [==============================] - 0s 843us/step - loss: 93.6358 - dense_1_loss: 0.4908 - dense_2_loss: 0.5818 - dense_3_loss: 87.8525 - dense_4_loss: 0.1282 - dense_5_loss: 0.0859 - dense_6_loss: 4.4966\n",
      "Epoch 264/300\n",
      "243/243 [==============================] - 0s 985us/step - loss: 95.3611 - dense_1_loss: 0.8275 - dense_2_loss: 0.9381 - dense_3_loss: 88.3843 - dense_4_loss: 0.1259 - dense_5_loss: 0.0719 - dense_6_loss: 5.0134\n",
      "Epoch 265/300\n",
      "243/243 [==============================] - 0s 935us/step - loss: 94.4954 - dense_1_loss: 0.4949 - dense_2_loss: 0.5942 - dense_3_loss: 88.5873 - dense_4_loss: 0.1417 - dense_5_loss: 0.0962 - dense_6_loss: 4.5810\n",
      "Epoch 266/300\n",
      "243/243 [==============================] - 0s 919us/step - loss: 95.5042 - dense_1_loss: 0.8682 - dense_2_loss: 0.9876 - dense_3_loss: 88.2763 - dense_4_loss: 0.1607 - dense_5_loss: 0.0972 - dense_6_loss: 5.1142\n",
      "Epoch 267/300\n",
      "243/243 [==============================] - 0s 892us/step - loss: 96.0201 - dense_1_loss: 1.0556 - dense_2_loss: 1.1278 - dense_3_loss: 88.6129 - dense_4_loss: 0.1244 - dense_5_loss: 0.0718 - dense_6_loss: 5.0275\n",
      "Epoch 268/300\n",
      "243/243 [==============================] - 0s 911us/step - loss: 93.7617 - dense_1_loss: 0.7185 - dense_2_loss: 0.8313 - dense_3_loss: 87.1833 - dense_4_loss: 0.1391 - dense_5_loss: 0.0795 - dense_6_loss: 4.8101\n",
      "Epoch 269/300\n",
      "243/243 [==============================] - 0s 980us/step - loss: 93.2938 - dense_1_loss: 0.5791 - dense_2_loss: 0.6770 - dense_3_loss: 87.2643 - dense_4_loss: 0.1245 - dense_5_loss: 0.0681 - dense_6_loss: 4.5808\n",
      "Epoch 270/300\n",
      "243/243 [==============================] - 0s 921us/step - loss: 93.4610 - dense_1_loss: 0.4180 - dense_2_loss: 0.5599 - dense_3_loss: 87.5415 - dense_4_loss: 0.1391 - dense_5_loss: 0.0674 - dense_6_loss: 4.7351\n",
      "Epoch 271/300\n",
      "243/243 [==============================] - 0s 893us/step - loss: 93.5376 - dense_1_loss: 0.7002 - dense_2_loss: 0.7923 - dense_3_loss: 87.1371 - dense_4_loss: 0.1297 - dense_5_loss: 0.0634 - dense_6_loss: 4.7150\n",
      "Epoch 272/300\n",
      "243/243 [==============================] - 0s 950us/step - loss: 92.9826 - dense_1_loss: 0.6629 - dense_2_loss: 0.7419 - dense_3_loss: 86.7590 - dense_4_loss: 0.1139 - dense_5_loss: 0.0609 - dense_6_loss: 4.6439\n",
      "Epoch 273/300\n",
      "243/243 [==============================] - 0s 983us/step - loss: 93.1379 - dense_1_loss: 0.6295 - dense_2_loss: 0.7308 - dense_3_loss: 86.7707 - dense_4_loss: 0.1204 - dense_5_loss: 0.0463 - dense_6_loss: 4.8403\n",
      "Epoch 274/300\n",
      "243/243 [==============================] - 0s 955us/step - loss: 93.5155 - dense_1_loss: 0.6225 - dense_2_loss: 0.7214 - dense_3_loss: 87.2920 - dense_4_loss: 0.1673 - dense_5_loss: 0.0826 - dense_6_loss: 4.6298\n",
      "Epoch 275/300\n",
      "243/243 [==============================] - 0s 912us/step - loss: 94.3365 - dense_1_loss: 0.6633 - dense_2_loss: 0.7618 - dense_3_loss: 87.8268 - dense_4_loss: 0.1688 - dense_5_loss: 0.0936 - dense_6_loss: 4.8223\n",
      "Epoch 276/300\n",
      "243/243 [==============================] - 0s 944us/step - loss: 93.8947 - dense_1_loss: 0.5273 - dense_2_loss: 0.6349 - dense_3_loss: 87.9296 - dense_4_loss: 0.1626 - dense_5_loss: 0.0776 - dense_6_loss: 4.5627\n",
      "Epoch 277/300\n",
      "243/243 [==============================] - 0s 859us/step - loss: 92.9248 - dense_1_loss: 0.4327 - dense_2_loss: 0.5454 - dense_3_loss: 87.1677 - dense_4_loss: 0.1514 - dense_5_loss: 0.0853 - dense_6_loss: 4.5422\n",
      "Epoch 278/300\n",
      "243/243 [==============================] - 0s 927us/step - loss: 93.7990 - dense_1_loss: 0.6627 - dense_2_loss: 0.7547 - dense_3_loss: 87.2843 - dense_4_loss: 0.1777 - dense_5_loss: 0.1174 - dense_6_loss: 4.8023\n",
      "Epoch 279/300\n",
      "243/243 [==============================] - 0s 846us/step - loss: 95.3149 - dense_1_loss: 0.6476 - dense_2_loss: 0.7395 - dense_3_loss: 89.0094 - dense_4_loss: 0.1522 - dense_5_loss: 0.1029 - dense_6_loss: 4.6633\n",
      "Epoch 280/300\n",
      "243/243 [==============================] - 0s 886us/step - loss: 93.0239 - dense_1_loss: 0.4578 - dense_2_loss: 0.5768 - dense_3_loss: 87.3789 - dense_4_loss: 0.1336 - dense_5_loss: 0.0706 - dense_6_loss: 4.4061\n",
      "Epoch 281/300\n",
      "243/243 [==============================] - 0s 871us/step - loss: 93.6816 - dense_1_loss: 0.6502 - dense_2_loss: 0.7319 - dense_3_loss: 87.2315 - dense_4_loss: 0.1316 - dense_5_loss: 0.0750 - dense_6_loss: 4.8614\n",
      "Epoch 282/300\n",
      "243/243 [==============================] - 0s 909us/step - loss: 92.8076 - dense_1_loss: 0.6144 - dense_2_loss: 0.7215 - dense_3_loss: 86.5592 - dense_4_loss: 0.1308 - dense_5_loss: 0.0773 - dense_6_loss: 4.7045\n",
      "Epoch 283/300\n",
      "243/243 [==============================] - 0s 1ms/step - loss: 94.2547 - dense_1_loss: 0.6192 - dense_2_loss: 0.7185 - dense_3_loss: 88.0959 - dense_4_loss: 0.1334 - dense_5_loss: 0.0773 - dense_6_loss: 4.6105\n",
      "Epoch 284/300\n",
      "243/243 [==============================] - 0s 1ms/step - loss: 94.3118 - dense_1_loss: 0.5704 - dense_2_loss: 0.6534 - dense_3_loss: 88.2409 - dense_4_loss: 0.1325 - dense_5_loss: 0.0525 - dense_6_loss: 4.6621\n",
      "Epoch 285/300\n",
      "243/243 [==============================] - 0s 931us/step - loss: 93.6085 - dense_1_loss: 0.6562 - dense_2_loss: 0.7674 - dense_3_loss: 87.2423 - dense_4_loss: 0.1783 - dense_5_loss: 0.0862 - dense_6_loss: 4.6780\n",
      "Epoch 286/300\n",
      "243/243 [==============================] - 0s 913us/step - loss: 92.6652 - dense_1_loss: 0.5847 - dense_2_loss: 0.6930 - dense_3_loss: 86.6101 - dense_4_loss: 0.1270 - dense_5_loss: 0.0502 - dense_6_loss: 4.6003\n",
      "Epoch 287/300\n",
      "243/243 [==============================] - 0s 908us/step - loss: 92.8380 - dense_1_loss: 0.6272 - dense_2_loss: 0.7271 - dense_3_loss: 86.5668 - dense_4_loss: 0.1487 - dense_5_loss: 0.0841 - dense_6_loss: 4.6841\n",
      "Epoch 288/300\n",
      "243/243 [==============================] - 0s 852us/step - loss: 93.3332 - dense_1_loss: 0.6268 - dense_2_loss: 0.7285 - dense_3_loss: 87.2649 - dense_4_loss: 0.1415 - dense_5_loss: 0.0619 - dense_6_loss: 4.5096\n",
      "Epoch 289/300\n"
     ]
    },
    {
     "name": "stdout",
     "output_type": "stream",
     "text": [
      "243/243 [==============================] - 0s 854us/step - loss: 92.9580 - dense_1_loss: 0.5699 - dense_2_loss: 0.6918 - dense_3_loss: 86.9553 - dense_4_loss: 0.1468 - dense_5_loss: 0.0569 - dense_6_loss: 4.5373\n",
      "Epoch 290/300\n",
      "243/243 [==============================] - 0s 851us/step - loss: 94.6925 - dense_1_loss: 1.2536 - dense_2_loss: 1.3087 - dense_3_loss: 86.6875 - dense_4_loss: 0.1433 - dense_5_loss: 0.0454 - dense_6_loss: 5.2540\n",
      "Epoch 291/300\n",
      "243/243 [==============================] - 0s 910us/step - loss: 92.3213 - dense_1_loss: 0.6127 - dense_2_loss: 0.7081 - dense_3_loss: 86.1974 - dense_4_loss: 0.1189 - dense_5_loss: 0.0450 - dense_6_loss: 4.6392\n",
      "Epoch 292/300\n",
      "243/243 [==============================] - 0s 959us/step - loss: 93.6080 - dense_1_loss: 0.6397 - dense_2_loss: 0.7513 - dense_3_loss: 87.3280 - dense_4_loss: 0.1498 - dense_5_loss: 0.0571 - dense_6_loss: 4.6822\n",
      "Epoch 293/300\n",
      "243/243 [==============================] - 0s 1ms/step - loss: 92.5352 - dense_1_loss: 0.4414 - dense_2_loss: 0.5781 - dense_3_loss: 86.7349 - dense_4_loss: 0.1953 - dense_5_loss: 0.0611 - dense_6_loss: 4.5243\n",
      "Epoch 294/300\n",
      "243/243 [==============================] - 0s 1ms/step - loss: 94.0515 - dense_1_loss: 0.5143 - dense_2_loss: 0.6256 - dense_3_loss: 88.0364 - dense_4_loss: 0.1518 - dense_5_loss: 0.0510 - dense_6_loss: 4.6725\n",
      "Epoch 295/300\n",
      "243/243 [==============================] - 0s 1ms/step - loss: 92.8164 - dense_1_loss: 0.5749 - dense_2_loss: 0.6762 - dense_3_loss: 86.7348 - dense_4_loss: 0.1526 - dense_5_loss: 0.0520 - dense_6_loss: 4.6259\n",
      "Epoch 296/300\n",
      "243/243 [==============================] - 0s 1ms/step - loss: 94.0210 - dense_1_loss: 0.7784 - dense_2_loss: 0.8514 - dense_3_loss: 87.4362 - dense_4_loss: 0.1704 - dense_5_loss: 0.0487 - dense_6_loss: 4.7360\n",
      "Epoch 297/300\n",
      "243/243 [==============================] - 0s 830us/step - loss: 93.1920 - dense_1_loss: 0.6297 - dense_2_loss: 0.6939 - dense_3_loss: 87.0306 - dense_4_loss: 0.1499 - dense_5_loss: 0.0467 - dense_6_loss: 4.6413\n",
      "Epoch 298/300\n",
      "243/243 [==============================] - 0s 837us/step - loss: 95.6849 - dense_1_loss: 1.0407 - dense_2_loss: 1.0774 - dense_3_loss: 88.1908 - dense_4_loss: 0.1789 - dense_5_loss: 0.0620 - dense_6_loss: 5.1350\n",
      "Epoch 299/300\n",
      "243/243 [==============================] - 0s 891us/step - loss: 92.0828 - dense_1_loss: 0.4774 - dense_2_loss: 0.5836 - dense_3_loss: 86.2432 - dense_4_loss: 0.1365 - dense_5_loss: 0.0380 - dense_6_loss: 4.6040\n",
      "Epoch 300/300\n",
      "243/243 [==============================] - 0s 824us/step - loss: 92.8386 - dense_1_loss: 0.8880 - dense_2_loss: 0.9420 - dense_3_loss: 86.0681 - dense_4_loss: 0.1497 - dense_5_loss: 0.0441 - dense_6_loss: 4.7467\n"
     ]
    },
    {
     "data": {
      "text/plain": [
       "<tensorflow.python.keras.callbacks.History at 0x7f984b2404c0>"
      ]
     },
     "execution_count": 43,
     "metadata": {},
     "output_type": "execute_result"
    }
   ],
   "source": [
    "model.fit(X, [y1, y2, y3, y4, y5, y6], epochs=300)"
   ]
  },
  {
   "cell_type": "markdown",
   "metadata": {},
   "source": [
    "Demonstrate training"
   ]
  },
  {
   "cell_type": "code",
   "execution_count": 44,
   "metadata": {},
   "outputs": [],
   "source": [
    "yhat = model.predict(X)"
   ]
  },
  {
   "cell_type": "code",
   "execution_count": 45,
   "metadata": {},
   "outputs": [
    {
     "data": {
      "image/png": "[encoded data removed]",
      "text/plain": [
       "<Figure size 432x288 with 1 Axes>"
      ]
     },
     "metadata": {
      "needs_background": "light"
     },
     "output_type": "display_data"
    }
   ],
   "source": [
    "plt.plot(y1)\n",
    "plt.plot(yhat[0])\n",
    "plt.show()"
   ]
  },
  {
   "cell_type": "code",
   "execution_count": 46,
   "metadata": {},
   "outputs": [
    {
     "data": {
      "image/png": "[encoded data removed]",
      "text/plain": [
       "<Figure size 432x288 with 1 Axes>"
      ]
     },
     "metadata": {
      "needs_background": "light"
     },
     "output_type": "display_data"
    }
   ],
   "source": [
    "plt.plot(y2)\n",
    "plt.plot(yhat[1])\n",
    "plt.show()"
   ]
  },
  {
   "cell_type": "code",
   "execution_count": 47,
   "metadata": {},
   "outputs": [
    {
     "data": {
      "image/png": "[encoded data removed]",
      "text/plain": [
       "<Figure size 432x288 with 1 Axes>"
      ]
     },
     "metadata": {
      "needs_background": "light"
     },
     "output_type": "display_data"
    }
   ],
   "source": [
    "plt.plot(y3)\n",
    "plt.plot(yhat[2])\n",
    "plt.show()"
   ]
  },
  {
   "cell_type": "code",
   "execution_count": 48,
   "metadata": {},
   "outputs": [
    {
     "data": {
      "image/png": "[encoded data removed]",
      "text/plain": [
       "<Figure size 432x288 with 1 Axes>"
      ]
     },
     "metadata": {
      "needs_background": "light"
     },
     "output_type": "display_data"
    }
   ],
   "source": [
    "plt.plot(y4)\n",
    "plt.plot(yhat[3])\n",
    "plt.show()"
   ]
  },
  {
   "cell_type": "code",
   "execution_count": 49,
   "metadata": {},
   "outputs": [
    {
     "data": {
      "image/png": "[encoded data removed]",
      "text/plain": [
       "<Figure size 432x288 with 1 Axes>"
      ]
     },
     "metadata": {
      "needs_background": "light"
     },
     "output_type": "display_data"
    }
   ],
   "source": [
    "plt.plot(y5)\n",
    "plt.plot(yhat[4])\n",
    "plt.show()"
   ]
  },
  {
   "cell_type": "code",
   "execution_count": 50,
   "metadata": {},
   "outputs": [
    {
     "data": {
      "image/png": "[encoded data removed]",
      "text/plain": [
       "<Figure size 432x288 with 1 Axes>"
      ]
     },
     "metadata": {
      "needs_background": "light"
     },
     "output_type": "display_data"
    }
   ],
   "source": [
    "plt.plot(y6)\n",
    "plt.plot(yhat[5])\n",
    "plt.show()"
   ]
  },
  {
   "cell_type": "markdown",
   "metadata": {},
   "source": [
    "Demonstrate prediction"
   ]
  },
  {
   "cell_type": "code",
   "execution_count": 51,
   "metadata": {},
   "outputs": [],
   "source": [
    "yhat = model.predict(X_test)"
   ]
  },
  {
   "cell_type": "code",
   "execution_count": 52,
   "metadata": {},
   "outputs": [
    {
     "name": "stdout",
     "output_type": "stream",
     "text": [
      "Predicted: 447.96  Expected: 453.31\n"
     ]
    }
   ],
   "source": [
    "print(f\"Predicted: {yhat[0][0][0]:.2f}  Expected: {y1_expected[0][0]:.2f}\")"
   ]
  },
  {
   "cell_type": "markdown",
   "metadata": {},
   "source": [
    "**THIS IS NOT AN INVESTMENT ADVICE!**"
   ]
  }
 ],
 "metadata": {
  "kernelspec": {
   "display_name": "Python 3",
   "language": "python",
   "name": "python3"
  },
  "language_info": {
   "codemirror_mode": {
    "name": "ipython",
    "version": 3
   },
   "file_extension": ".py",
   "mimetype": "text/x-python",
   "name": "python",
   "nbconvert_exporter": "python",
   "pygments_lexer": "ipython3",
   "version": "3.8.10"
  }
 },
 "nbformat": 4,
 "nbformat_minor": 4
}
