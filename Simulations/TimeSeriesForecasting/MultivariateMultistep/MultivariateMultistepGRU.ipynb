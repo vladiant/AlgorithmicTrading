{
 "cells": [
  {
   "cell_type": "markdown",
   "metadata": {},
   "source": [
    "# Multivariate Multistep GRU Example"
   ]
  },
  {
   "cell_type": "markdown",
   "metadata": {},
   "source": [
    "Based on:\n",
    "* [Time Series Forecasting on Stock Prices](https://www.youtube.com/watch?v=j05UUs99eNQ) from [Coding Tech](https://www.youtube.com/channel/UCtxCXg-UvSnTKPOzLH4wJaQ)\n",
    "* https://machinelearningmastery.com/multivariate-time-series-forecasting-lstms-keras/\n",
    "* https://github.com/ogniandantchev/dilated_causal_cnn_time_series/blob/00116a919725633f1b19d776e8fd4bdb934591c8/02_GRU_RNN_model.ipynb"
   ]
  },
  {
   "cell_type": "markdown",
   "metadata": {},
   "source": [
    "**Disclaimer:** _Investing in the stock market involves risk and can lead to monetary loss. This material is purely for educational purposes and should not be taken as professional investment advice. Invest at your own discretion._"
   ]
  },
  {
   "cell_type": "markdown",
   "metadata": {},
   "source": [
    "Import the libraries"
   ]
  },
  {
   "cell_type": "code",
   "execution_count": 1,
   "metadata": {},
   "outputs": [],
   "source": [
    "import pandas as pd\n",
    "import numpy as np\n",
    "\n",
    "from sklearn.preprocessing import LabelEncoder, MinMaxScaler\n",
    "from sklearn.metrics import mean_squared_error\n",
    "\n",
    "from tensorflow.keras.models import Sequential\n",
    "from tensorflow.keras.layers import Dense, GRU\n",
    "\n",
    "import matplotlib.pyplot as plt"
   ]
  },
  {
   "cell_type": "markdown",
   "metadata": {},
   "source": [
    "Load the data"
   ]
  },
  {
   "cell_type": "code",
   "execution_count": 2,
   "metadata": {},
   "outputs": [],
   "source": [
    "df = pd.read_csv(\"SP500.csv\")"
   ]
  },
  {
   "cell_type": "markdown",
   "metadata": {},
   "source": [
    "Show the data"
   ]
  },
  {
   "cell_type": "code",
   "execution_count": 3,
   "metadata": {},
   "outputs": [
    {
     "data": {
      "text/html": [
       "<div>\n",
       "<style scoped>\n",
       "    .dataframe tbody tr th:only-of-type {\n",
       "        vertical-align: middle;\n",
       "    }\n",
       "\n",
       "    .dataframe tbody tr th {\n",
       "        vertical-align: top;\n",
       "    }\n",
       "\n",
       "    .dataframe thead th {\n",
       "        text-align: right;\n",
       "    }\n",
       "</style>\n",
       "<table border=\"1\" class=\"dataframe\">\n",
       "  <thead>\n",
       "    <tr style=\"text-align: right;\">\n",
       "      <th></th>\n",
       "      <th>Date</th>\n",
       "      <th>Open</th>\n",
       "      <th>High</th>\n",
       "      <th>Low</th>\n",
       "      <th>Close</th>\n",
       "      <th>Volume</th>\n",
       "      <th>Dividends</th>\n",
       "      <th>Stock Splits</th>\n",
       "    </tr>\n",
       "  </thead>\n",
       "  <tbody>\n",
       "    <tr>\n",
       "      <th>0</th>\n",
       "      <td>2000-05-19</td>\n",
       "      <td>96.106028</td>\n",
       "      <td>96.106028</td>\n",
       "      <td>94.484962</td>\n",
       "      <td>94.779701</td>\n",
       "      <td>775500</td>\n",
       "      <td>0.0</td>\n",
       "      <td>0</td>\n",
       "    </tr>\n",
       "    <tr>\n",
       "      <th>1</th>\n",
       "      <td>2000-05-22</td>\n",
       "      <td>94.716551</td>\n",
       "      <td>94.716551</td>\n",
       "      <td>92.169162</td>\n",
       "      <td>94.190231</td>\n",
       "      <td>1850600</td>\n",
       "      <td>0.0</td>\n",
       "      <td>0</td>\n",
       "    </tr>\n",
       "    <tr>\n",
       "      <th>2</th>\n",
       "      <td>2000-05-23</td>\n",
       "      <td>94.463952</td>\n",
       "      <td>94.463952</td>\n",
       "      <td>92.758675</td>\n",
       "      <td>92.758675</td>\n",
       "      <td>373900</td>\n",
       "      <td>0.0</td>\n",
       "      <td>0</td>\n",
       "    </tr>\n",
       "    <tr>\n",
       "      <th>3</th>\n",
       "      <td>2000-05-24</td>\n",
       "      <td>92.800753</td>\n",
       "      <td>94.358660</td>\n",
       "      <td>92.063905</td>\n",
       "      <td>94.148132</td>\n",
       "      <td>400300</td>\n",
       "      <td>0.0</td>\n",
       "      <td>0</td>\n",
       "    </tr>\n",
       "    <tr>\n",
       "      <th>4</th>\n",
       "      <td>2000-05-25</td>\n",
       "      <td>94.337613</td>\n",
       "      <td>94.948145</td>\n",
       "      <td>92.884970</td>\n",
       "      <td>93.284973</td>\n",
       "      <td>69600</td>\n",
       "      <td>0.0</td>\n",
       "      <td>0</td>\n",
       "    </tr>\n",
       "    <tr>\n",
       "      <th>...</th>\n",
       "      <td>...</td>\n",
       "      <td>...</td>\n",
       "      <td>...</td>\n",
       "      <td>...</td>\n",
       "      <td>...</td>\n",
       "      <td>...</td>\n",
       "      <td>...</td>\n",
       "      <td>...</td>\n",
       "    </tr>\n",
       "    <tr>\n",
       "      <th>5359</th>\n",
       "      <td>2021-09-08</td>\n",
       "      <td>452.899994</td>\n",
       "      <td>453.679993</td>\n",
       "      <td>450.869995</td>\n",
       "      <td>453.000000</td>\n",
       "      <td>4076800</td>\n",
       "      <td>0.0</td>\n",
       "      <td>0</td>\n",
       "    </tr>\n",
       "    <tr>\n",
       "      <th>5360</th>\n",
       "      <td>2021-09-09</td>\n",
       "      <td>452.690002</td>\n",
       "      <td>454.579987</td>\n",
       "      <td>450.730011</td>\n",
       "      <td>450.980011</td>\n",
       "      <td>3851600</td>\n",
       "      <td>0.0</td>\n",
       "      <td>0</td>\n",
       "    </tr>\n",
       "    <tr>\n",
       "      <th>5361</th>\n",
       "      <td>2021-09-10</td>\n",
       "      <td>453.059998</td>\n",
       "      <td>453.510010</td>\n",
       "      <td>447.299988</td>\n",
       "      <td>447.540009</td>\n",
       "      <td>3023500</td>\n",
       "      <td>0.0</td>\n",
       "      <td>0</td>\n",
       "    </tr>\n",
       "    <tr>\n",
       "      <th>5362</th>\n",
       "      <td>2021-09-13</td>\n",
       "      <td>450.679993</td>\n",
       "      <td>450.929993</td>\n",
       "      <td>446.089996</td>\n",
       "      <td>448.579987</td>\n",
       "      <td>3007400</td>\n",
       "      <td>0.0</td>\n",
       "      <td>0</td>\n",
       "    </tr>\n",
       "    <tr>\n",
       "      <th>5363</th>\n",
       "      <td>2021-09-14</td>\n",
       "      <td>450.079987</td>\n",
       "      <td>450.320007</td>\n",
       "      <td>445.200012</td>\n",
       "      <td>446.190002</td>\n",
       "      <td>3658400</td>\n",
       "      <td>0.0</td>\n",
       "      <td>0</td>\n",
       "    </tr>\n",
       "  </tbody>\n",
       "</table>\n",
       "<p>5364 rows × 8 columns</p>\n",
       "</div>"
      ],
      "text/plain": [
       "            Date        Open        High         Low       Close   Volume  \\\n",
       "0     2000-05-19   96.106028   96.106028   94.484962   94.779701   775500   \n",
       "1     2000-05-22   94.716551   94.716551   92.169162   94.190231  1850600   \n",
       "2     2000-05-23   94.463952   94.463952   92.758675   92.758675   373900   \n",
       "3     2000-05-24   92.800753   94.358660   92.063905   94.148132   400300   \n",
       "4     2000-05-25   94.337613   94.948145   92.884970   93.284973    69600   \n",
       "...          ...         ...         ...         ...         ...      ...   \n",
       "5359  2021-09-08  452.899994  453.679993  450.869995  453.000000  4076800   \n",
       "5360  2021-09-09  452.690002  454.579987  450.730011  450.980011  3851600   \n",
       "5361  2021-09-10  453.059998  453.510010  447.299988  447.540009  3023500   \n",
       "5362  2021-09-13  450.679993  450.929993  446.089996  448.579987  3007400   \n",
       "5363  2021-09-14  450.079987  450.320007  445.200012  446.190002  3658400   \n",
       "\n",
       "      Dividends  Stock Splits  \n",
       "0           0.0             0  \n",
       "1           0.0             0  \n",
       "2           0.0             0  \n",
       "3           0.0             0  \n",
       "4           0.0             0  \n",
       "...         ...           ...  \n",
       "5359        0.0             0  \n",
       "5360        0.0             0  \n",
       "5361        0.0             0  \n",
       "5362        0.0             0  \n",
       "5363        0.0             0  \n",
       "\n",
       "[5364 rows x 8 columns]"
      ]
     },
     "execution_count": 3,
     "metadata": {},
     "output_type": "execute_result"
    }
   ],
   "source": [
    "df"
   ]
  },
  {
   "cell_type": "markdown",
   "metadata": {},
   "source": [
    "Add indices for every day in the period"
   ]
  },
  {
   "cell_type": "code",
   "execution_count": 4,
   "metadata": {},
   "outputs": [],
   "source": [
    "start_date = df.Date.min()\n",
    "end_date = df.Date.max()"
   ]
  },
  {
   "cell_type": "code",
   "execution_count": 5,
   "metadata": {},
   "outputs": [],
   "source": [
    "df_date = pd.date_range(start=start_date, end=end_date).to_frame(name=\"Date\")\n",
    "df_date.reset_index(drop=True, inplace=True) "
   ]
  },
  {
   "cell_type": "code",
   "execution_count": 6,
   "metadata": {},
   "outputs": [],
   "source": [
    "df[\"Date\"] = pd.to_datetime(df[\"Date\"])\n",
    "df = df.merge(df_date, how='right')"
   ]
  },
  {
   "cell_type": "markdown",
   "metadata": {},
   "source": [
    "Interpolate missing values"
   ]
  },
  {
   "cell_type": "code",
   "execution_count": 7,
   "metadata": {},
   "outputs": [],
   "source": [
    "df = df.interpolate(method='linear', limit_direction='both')"
   ]
  },
  {
   "cell_type": "markdown",
   "metadata": {},
   "source": [
    "Remove not needed columns"
   ]
  },
  {
   "cell_type": "code",
   "execution_count": 8,
   "metadata": {},
   "outputs": [],
   "source": [
    "df = df[['Date', 'Close']].copy()"
   ]
  },
  {
   "cell_type": "code",
   "execution_count": 9,
   "metadata": {},
   "outputs": [
    {
     "data": {
      "text/html": [
       "<div>\n",
       "<style scoped>\n",
       "    .dataframe tbody tr th:only-of-type {\n",
       "        vertical-align: middle;\n",
       "    }\n",
       "\n",
       "    .dataframe tbody tr th {\n",
       "        vertical-align: top;\n",
       "    }\n",
       "\n",
       "    .dataframe thead th {\n",
       "        text-align: right;\n",
       "    }\n",
       "</style>\n",
       "<table border=\"1\" class=\"dataframe\">\n",
       "  <thead>\n",
       "    <tr style=\"text-align: right;\">\n",
       "      <th></th>\n",
       "      <th>Date</th>\n",
       "      <th>Close</th>\n",
       "    </tr>\n",
       "  </thead>\n",
       "  <tbody>\n",
       "    <tr>\n",
       "      <th>0</th>\n",
       "      <td>2000-05-19</td>\n",
       "      <td>94.779701</td>\n",
       "    </tr>\n",
       "    <tr>\n",
       "      <th>1</th>\n",
       "      <td>2000-05-20</td>\n",
       "      <td>94.583211</td>\n",
       "    </tr>\n",
       "    <tr>\n",
       "      <th>2</th>\n",
       "      <td>2000-05-21</td>\n",
       "      <td>94.386721</td>\n",
       "    </tr>\n",
       "    <tr>\n",
       "      <th>3</th>\n",
       "      <td>2000-05-22</td>\n",
       "      <td>94.190231</td>\n",
       "    </tr>\n",
       "    <tr>\n",
       "      <th>4</th>\n",
       "      <td>2000-05-23</td>\n",
       "      <td>92.758675</td>\n",
       "    </tr>\n",
       "    <tr>\n",
       "      <th>...</th>\n",
       "      <td>...</td>\n",
       "      <td>...</td>\n",
       "    </tr>\n",
       "    <tr>\n",
       "      <th>7784</th>\n",
       "      <td>2021-09-10</td>\n",
       "      <td>447.540009</td>\n",
       "    </tr>\n",
       "    <tr>\n",
       "      <th>7785</th>\n",
       "      <td>2021-09-11</td>\n",
       "      <td>447.886668</td>\n",
       "    </tr>\n",
       "    <tr>\n",
       "      <th>7786</th>\n",
       "      <td>2021-09-12</td>\n",
       "      <td>448.233327</td>\n",
       "    </tr>\n",
       "    <tr>\n",
       "      <th>7787</th>\n",
       "      <td>2021-09-13</td>\n",
       "      <td>448.579987</td>\n",
       "    </tr>\n",
       "    <tr>\n",
       "      <th>7788</th>\n",
       "      <td>2021-09-14</td>\n",
       "      <td>446.190002</td>\n",
       "    </tr>\n",
       "  </tbody>\n",
       "</table>\n",
       "<p>7789 rows × 2 columns</p>\n",
       "</div>"
      ],
      "text/plain": [
       "           Date       Close\n",
       "0    2000-05-19   94.779701\n",
       "1    2000-05-20   94.583211\n",
       "2    2000-05-21   94.386721\n",
       "3    2000-05-22   94.190231\n",
       "4    2000-05-23   92.758675\n",
       "...         ...         ...\n",
       "7784 2021-09-10  447.540009\n",
       "7785 2021-09-11  447.886668\n",
       "7786 2021-09-12  448.233327\n",
       "7787 2021-09-13  448.579987\n",
       "7788 2021-09-14  446.190002\n",
       "\n",
       "[7789 rows x 2 columns]"
      ]
     },
     "execution_count": 9,
     "metadata": {},
     "output_type": "execute_result"
    }
   ],
   "source": [
    "df"
   ]
  },
  {
   "cell_type": "markdown",
   "metadata": {},
   "source": [
    "**Simple Moving Average**\n",
    "* Example periods: 15, 30 or 45 days"
   ]
  },
  {
   "cell_type": "code",
   "execution_count": 10,
   "metadata": {},
   "outputs": [],
   "source": [
    "def computeSMA(data, period, column='Close'):\n",
    "    return data[column].rolling(window=period).mean()"
   ]
  },
  {
   "cell_type": "code",
   "execution_count": 11,
   "metadata": {},
   "outputs": [],
   "source": [
    "df['SMA'] = computeSMA(df, period=15)"
   ]
  },
  {
   "cell_type": "markdown",
   "metadata": {},
   "source": [
    "**Exponential Moving Averages**\n",
    "* Example periods: 15, 30 or 45 days"
   ]
  },
  {
   "cell_type": "code",
   "execution_count": 12,
   "metadata": {},
   "outputs": [],
   "source": [
    "def computeEMA(data, period, column='Close'):\n",
    "    return data[column].ewm(span=period, adjust=False).mean()"
   ]
  },
  {
   "cell_type": "code",
   "execution_count": 13,
   "metadata": {},
   "outputs": [],
   "source": [
    "df['EMA'] = computeEMA(df, period=15)"
   ]
  },
  {
   "cell_type": "markdown",
   "metadata": {},
   "source": [
    "**Relative Strength Index**"
   ]
  },
  {
   "cell_type": "code",
   "execution_count": 14,
   "metadata": {},
   "outputs": [],
   "source": [
    "def computeRSI(data, period=14, column='Close'):\n",
    "    delta = data[column].diff(1)\n",
    "    delta = delta.dropna()\n",
    "    up = delta.copy()\n",
    "    down = delta.copy()\n",
    "    up[up < 0] = 0\n",
    "    down[down > 0] = 0\n",
    "    data['up'] = up\n",
    "    data['down'] = down\n",
    "    AVG_Gain = computeSMA(data, period, column='up')\n",
    "    AVG_Loss = abs(computeSMA(data, period, column='down'))\n",
    "    RS = AVG_Gain / AVG_Loss\n",
    "    RSI = 100.0 - (100.0 / (1.0 + RS))\n",
    "    return RSI"
   ]
  },
  {
   "cell_type": "code",
   "execution_count": 15,
   "metadata": {},
   "outputs": [],
   "source": [
    "df['RSI'] = computeRSI(df, period=14)"
   ]
  },
  {
   "cell_type": "markdown",
   "metadata": {},
   "source": [
    "**Moving Average Convergence Divergence**"
   ]
  },
  {
   "cell_type": "code",
   "execution_count": 16,
   "metadata": {},
   "outputs": [],
   "source": [
    "def MACD(data, period1=26, period2=12, signal=9, column='Close'):\n",
    "    exp1 = computeEMA(data,period1, column=column)\n",
    "    exp2 = computeEMA(data,period2, column=column)\n",
    "    data['MACD'] = exp2 - exp1\n",
    "    data['Signal Line'] = computeSMA(data, signal, column='MACD')"
   ]
  },
  {
   "cell_type": "code",
   "execution_count": 17,
   "metadata": {},
   "outputs": [],
   "source": [
    "MACD(df)"
   ]
  },
  {
   "cell_type": "markdown",
   "metadata": {},
   "source": [
    "Remove NaNs"
   ]
  },
  {
   "cell_type": "code",
   "execution_count": 18,
   "metadata": {},
   "outputs": [],
   "source": [
    "df = df.dropna()"
   ]
  },
  {
   "cell_type": "code",
   "execution_count": 19,
   "metadata": {},
   "outputs": [
    {
     "data": {
      "text/html": [
       "<div>\n",
       "<style scoped>\n",
       "    .dataframe tbody tr th:only-of-type {\n",
       "        vertical-align: middle;\n",
       "    }\n",
       "\n",
       "    .dataframe tbody tr th {\n",
       "        vertical-align: top;\n",
       "    }\n",
       "\n",
       "    .dataframe thead th {\n",
       "        text-align: right;\n",
       "    }\n",
       "</style>\n",
       "<table border=\"1\" class=\"dataframe\">\n",
       "  <thead>\n",
       "    <tr style=\"text-align: right;\">\n",
       "      <th></th>\n",
       "      <th>Date</th>\n",
       "      <th>Close</th>\n",
       "      <th>SMA</th>\n",
       "      <th>EMA</th>\n",
       "      <th>up</th>\n",
       "      <th>down</th>\n",
       "      <th>RSI</th>\n",
       "      <th>MACD</th>\n",
       "      <th>Signal Line</th>\n",
       "    </tr>\n",
       "  </thead>\n",
       "  <tbody>\n",
       "    <tr>\n",
       "      <th>14</th>\n",
       "      <td>2000-06-02</td>\n",
       "      <td>99.663971</td>\n",
       "      <td>94.910938</td>\n",
       "      <td>95.600925</td>\n",
       "      <td>1.936874</td>\n",
       "      <td>0.000000</td>\n",
       "      <td>71.245582</td>\n",
       "      <td>0.680463</td>\n",
       "      <td>-0.042866</td>\n",
       "    </tr>\n",
       "    <tr>\n",
       "      <th>15</th>\n",
       "      <td>2000-06-03</td>\n",
       "      <td>99.446431</td>\n",
       "      <td>95.222053</td>\n",
       "      <td>96.081613</td>\n",
       "      <td>0.000000</td>\n",
       "      <td>-0.217539</td>\n",
       "      <td>71.115354</td>\n",
       "      <td>0.916439</td>\n",
       "      <td>0.090681</td>\n",
       "    </tr>\n",
       "    <tr>\n",
       "      <th>16</th>\n",
       "      <td>2000-06-04</td>\n",
       "      <td>99.228892</td>\n",
       "      <td>95.531765</td>\n",
       "      <td>96.475023</td>\n",
       "      <td>0.000000</td>\n",
       "      <td>-0.217539</td>\n",
       "      <td>70.985601</td>\n",
       "      <td>1.073524</td>\n",
       "      <td>0.250695</td>\n",
       "    </tr>\n",
       "    <tr>\n",
       "      <th>17</th>\n",
       "      <td>2000-06-05</td>\n",
       "      <td>99.011353</td>\n",
       "      <td>95.840074</td>\n",
       "      <td>96.792064</td>\n",
       "      <td>0.000000</td>\n",
       "      <td>-0.217539</td>\n",
       "      <td>70.856321</td>\n",
       "      <td>1.167008</td>\n",
       "      <td>0.420929</td>\n",
       "    </tr>\n",
       "    <tr>\n",
       "      <th>18</th>\n",
       "      <td>2000-06-06</td>\n",
       "      <td>98.506065</td>\n",
       "      <td>96.127796</td>\n",
       "      <td>97.006314</td>\n",
       "      <td>0.000000</td>\n",
       "      <td>-0.505287</td>\n",
       "      <td>77.029581</td>\n",
       "      <td>1.186644</td>\n",
       "      <td>0.585988</td>\n",
       "    </tr>\n",
       "    <tr>\n",
       "      <th>...</th>\n",
       "      <td>...</td>\n",
       "      <td>...</td>\n",
       "      <td>...</td>\n",
       "      <td>...</td>\n",
       "      <td>...</td>\n",
       "      <td>...</td>\n",
       "      <td>...</td>\n",
       "      <td>...</td>\n",
       "      <td>...</td>\n",
       "    </tr>\n",
       "    <tr>\n",
       "      <th>7784</th>\n",
       "      <td>2021-09-10</td>\n",
       "      <td>447.540009</td>\n",
       "      <td>453.257671</td>\n",
       "      <td>451.878931</td>\n",
       "      <td>0.000000</td>\n",
       "      <td>-3.440002</td>\n",
       "      <td>30.279938</td>\n",
       "      <td>1.487905</td>\n",
       "      <td>2.619024</td>\n",
       "    </tr>\n",
       "    <tr>\n",
       "      <th>7785</th>\n",
       "      <td>2021-09-11</td>\n",
       "      <td>447.886668</td>\n",
       "      <td>452.970782</td>\n",
       "      <td>451.379898</td>\n",
       "      <td>0.346659</td>\n",
       "      <td>0.000000</td>\n",
       "      <td>28.313930</td>\n",
       "      <td>1.046934</td>\n",
       "      <td>2.394046</td>\n",
       "    </tr>\n",
       "    <tr>\n",
       "      <th>7786</th>\n",
       "      <td>2021-09-12</td>\n",
       "      <td>448.233327</td>\n",
       "      <td>452.662337</td>\n",
       "      <td>450.986577</td>\n",
       "      <td>0.346659</td>\n",
       "      <td>0.000000</td>\n",
       "      <td>26.233827</td>\n",
       "      <td>0.717167</td>\n",
       "      <td>2.129901</td>\n",
       "    </tr>\n",
       "    <tr>\n",
       "      <th>7787</th>\n",
       "      <td>2021-09-13</td>\n",
       "      <td>448.579987</td>\n",
       "      <td>452.332335</td>\n",
       "      <td>450.685753</td>\n",
       "      <td>0.346659</td>\n",
       "      <td>0.000000</td>\n",
       "      <td>24.029401</td>\n",
       "      <td>0.478284</td>\n",
       "      <td>1.844411</td>\n",
       "    </tr>\n",
       "    <tr>\n",
       "      <th>7788</th>\n",
       "      <td>2021-09-14</td>\n",
       "      <td>446.190002</td>\n",
       "      <td>451.798335</td>\n",
       "      <td>450.123784</td>\n",
       "      <td>0.000000</td>\n",
       "      <td>-2.389984</td>\n",
       "      <td>20.440156</td>\n",
       "      <td>0.095020</td>\n",
       "      <td>1.527523</td>\n",
       "    </tr>\n",
       "  </tbody>\n",
       "</table>\n",
       "<p>7775 rows × 9 columns</p>\n",
       "</div>"
      ],
      "text/plain": [
       "           Date       Close         SMA         EMA        up      down  \\\n",
       "14   2000-06-02   99.663971   94.910938   95.600925  1.936874  0.000000   \n",
       "15   2000-06-03   99.446431   95.222053   96.081613  0.000000 -0.217539   \n",
       "16   2000-06-04   99.228892   95.531765   96.475023  0.000000 -0.217539   \n",
       "17   2000-06-05   99.011353   95.840074   96.792064  0.000000 -0.217539   \n",
       "18   2000-06-06   98.506065   96.127796   97.006314  0.000000 -0.505287   \n",
       "...         ...         ...         ...         ...       ...       ...   \n",
       "7784 2021-09-10  447.540009  453.257671  451.878931  0.000000 -3.440002   \n",
       "7785 2021-09-11  447.886668  452.970782  451.379898  0.346659  0.000000   \n",
       "7786 2021-09-12  448.233327  452.662337  450.986577  0.346659  0.000000   \n",
       "7787 2021-09-13  448.579987  452.332335  450.685753  0.346659  0.000000   \n",
       "7788 2021-09-14  446.190002  451.798335  450.123784  0.000000 -2.389984   \n",
       "\n",
       "            RSI      MACD  Signal Line  \n",
       "14    71.245582  0.680463    -0.042866  \n",
       "15    71.115354  0.916439     0.090681  \n",
       "16    70.985601  1.073524     0.250695  \n",
       "17    70.856321  1.167008     0.420929  \n",
       "18    77.029581  1.186644     0.585988  \n",
       "...         ...       ...          ...  \n",
       "7784  30.279938  1.487905     2.619024  \n",
       "7785  28.313930  1.046934     2.394046  \n",
       "7786  26.233827  0.717167     2.129901  \n",
       "7787  24.029401  0.478284     1.844411  \n",
       "7788  20.440156  0.095020     1.527523  \n",
       "\n",
       "[7775 rows x 9 columns]"
      ]
     },
     "execution_count": 19,
     "metadata": {},
     "output_type": "execute_result"
    }
   ],
   "source": [
    "df"
   ]
  },
  {
   "cell_type": "markdown",
   "metadata": {},
   "source": [
    "Convert series to supervised learning"
   ]
  },
  {
   "cell_type": "code",
   "execution_count": 20,
   "metadata": {},
   "outputs": [],
   "source": [
    "def series_to_supervised(data, n_in=1, n_out=1, dropnan=True):\n",
    "    n_vars = 1 if type(data) is list else data.shape[1]\n",
    "    df = pd.DataFrame(data)\n",
    "    cols, names = list(), list()\n",
    "\n",
    "    # Input sequence (t-n, ..., t-1)\n",
    "    for i in range(n_in, 0, -1):\n",
    "        cols.append(df.shift(i))\n",
    "        names += [(f'var{j+1}(t-{i})') for j in range(n_vars)]\n",
    "\n",
    "    # Forecast sequence\n",
    "    for i in range(0, n_out):\n",
    "        cols.append(df.shift(-i))\n",
    "        if i == 0:\n",
    "            names += [(f'var{j+1}(t)') for j in range(n_vars)]\n",
    "        else:\n",
    "            names += [(f'var{j+1}(t+{i})') for j in range(n_vars)]\n",
    "    \n",
    "    # Put it all together\n",
    "    agg = pd.concat(cols, axis=1)\n",
    "    agg.columns = names\n",
    "    \n",
    "    # Drop rows with NaN values\n",
    "    if dropnan:\n",
    "        agg.dropna(inplace=True)\n",
    "        \n",
    "    return agg"
   ]
  },
  {
   "cell_type": "markdown",
   "metadata": {},
   "source": [
    "Define input sequence"
   ]
  },
  {
   "cell_type": "code",
   "execution_count": 21,
   "metadata": {},
   "outputs": [],
   "source": [
    "dataset = df.drop([\"Date\",\"up\", \"down\"], axis=1)\n",
    "values = dataset.values"
   ]
  },
  {
   "cell_type": "markdown",
   "metadata": {},
   "source": [
    "Normalize features"
   ]
  },
  {
   "cell_type": "code",
   "execution_count": 22,
   "metadata": {},
   "outputs": [],
   "source": [
    "scaler = MinMaxScaler(feature_range=(0, 1))\n",
    "scaled = scaler.fit_transform(values)"
   ]
  },
  {
   "cell_type": "markdown",
   "metadata": {},
   "source": [
    "Specify number of lag steps"
   ]
  },
  {
   "cell_type": "code",
   "execution_count": 23,
   "metadata": {},
   "outputs": [],
   "source": [
    "n_days = 3\n",
    "n_features = 6 # Close, SMA, EMA, RSI, MACD, Signal Line"
   ]
  },
  {
   "cell_type": "markdown",
   "metadata": {},
   "source": [
    "Frame as supervised learning"
   ]
  },
  {
   "cell_type": "code",
   "execution_count": 24,
   "metadata": {},
   "outputs": [],
   "source": [
    "reframed = series_to_supervised(scaled, n_days, 1)"
   ]
  },
  {
   "cell_type": "code",
   "execution_count": 25,
   "metadata": {},
   "outputs": [
    {
     "data": {
      "text/html": [
       "<div>\n",
       "<style scoped>\n",
       "    .dataframe tbody tr th:only-of-type {\n",
       "        vertical-align: middle;\n",
       "    }\n",
       "\n",
       "    .dataframe tbody tr th {\n",
       "        vertical-align: top;\n",
       "    }\n",
       "\n",
       "    .dataframe thead th {\n",
       "        text-align: right;\n",
       "    }\n",
       "</style>\n",
       "<table border=\"1\" class=\"dataframe\">\n",
       "  <thead>\n",
       "    <tr style=\"text-align: right;\">\n",
       "      <th></th>\n",
       "      <th>var1(t-3)</th>\n",
       "      <th>var2(t-3)</th>\n",
       "      <th>var3(t-3)</th>\n",
       "      <th>var4(t-3)</th>\n",
       "      <th>var5(t-3)</th>\n",
       "      <th>var6(t-3)</th>\n",
       "      <th>var1(t-2)</th>\n",
       "      <th>var2(t-2)</th>\n",
       "      <th>var3(t-2)</th>\n",
       "      <th>var4(t-2)</th>\n",
       "      <th>...</th>\n",
       "      <th>var3(t-1)</th>\n",
       "      <th>var4(t-1)</th>\n",
       "      <th>var5(t-1)</th>\n",
       "      <th>var6(t-1)</th>\n",
       "      <th>var1(t)</th>\n",
       "      <th>var2(t)</th>\n",
       "      <th>var3(t)</th>\n",
       "      <th>var4(t)</th>\n",
       "      <th>var5(t)</th>\n",
       "      <th>var6(t)</th>\n",
       "    </tr>\n",
       "  </thead>\n",
       "  <tbody>\n",
       "    <tr>\n",
       "      <th>3</th>\n",
       "      <td>0.115356</td>\n",
       "      <td>0.098279</td>\n",
       "      <td>0.099546</td>\n",
       "      <td>0.703972</td>\n",
       "      <td>0.750533</td>\n",
       "      <td>0.737481</td>\n",
       "      <td>0.114815</td>\n",
       "      <td>0.099061</td>\n",
       "      <td>0.100758</td>\n",
       "      <td>0.702632</td>\n",
       "      <td>...</td>\n",
       "      <td>0.101750</td>\n",
       "      <td>0.701296</td>\n",
       "      <td>0.763936</td>\n",
       "      <td>0.748528</td>\n",
       "      <td>0.113733</td>\n",
       "      <td>0.100616</td>\n",
       "      <td>0.102549</td>\n",
       "      <td>0.699965</td>\n",
       "      <td>0.767123</td>\n",
       "      <td>0.754934</td>\n",
       "    </tr>\n",
       "    <tr>\n",
       "      <th>4</th>\n",
       "      <td>0.114815</td>\n",
       "      <td>0.099061</td>\n",
       "      <td>0.100758</td>\n",
       "      <td>0.702632</td>\n",
       "      <td>0.758580</td>\n",
       "      <td>0.742507</td>\n",
       "      <td>0.114274</td>\n",
       "      <td>0.099841</td>\n",
       "      <td>0.101750</td>\n",
       "      <td>0.701296</td>\n",
       "      <td>...</td>\n",
       "      <td>0.102549</td>\n",
       "      <td>0.699965</td>\n",
       "      <td>0.767123</td>\n",
       "      <td>0.754934</td>\n",
       "      <td>0.112476</td>\n",
       "      <td>0.101340</td>\n",
       "      <td>0.103090</td>\n",
       "      <td>0.763519</td>\n",
       "      <td>0.767793</td>\n",
       "      <td>0.761145</td>\n",
       "    </tr>\n",
       "    <tr>\n",
       "      <th>5</th>\n",
       "      <td>0.114274</td>\n",
       "      <td>0.099841</td>\n",
       "      <td>0.101750</td>\n",
       "      <td>0.701296</td>\n",
       "      <td>0.763936</td>\n",
       "      <td>0.748528</td>\n",
       "      <td>0.113733</td>\n",
       "      <td>0.100616</td>\n",
       "      <td>0.102549</td>\n",
       "      <td>0.699965</td>\n",
       "      <td>...</td>\n",
       "      <td>0.103090</td>\n",
       "      <td>0.763519</td>\n",
       "      <td>0.767793</td>\n",
       "      <td>0.761145</td>\n",
       "      <td>0.114100</td>\n",
       "      <td>0.102414</td>\n",
       "      <td>0.103768</td>\n",
       "      <td>0.745909</td>\n",
       "      <td>0.769631</td>\n",
       "      <td>0.767096</td>\n",
       "    </tr>\n",
       "    <tr>\n",
       "      <th>6</th>\n",
       "      <td>0.113733</td>\n",
       "      <td>0.100616</td>\n",
       "      <td>0.102549</td>\n",
       "      <td>0.699965</td>\n",
       "      <td>0.767123</td>\n",
       "      <td>0.754934</td>\n",
       "      <td>0.112476</td>\n",
       "      <td>0.101340</td>\n",
       "      <td>0.103090</td>\n",
       "      <td>0.763519</td>\n",
       "      <td>...</td>\n",
       "      <td>0.103768</td>\n",
       "      <td>0.745909</td>\n",
       "      <td>0.769631</td>\n",
       "      <td>0.767096</td>\n",
       "      <td>0.113209</td>\n",
       "      <td>0.103194</td>\n",
       "      <td>0.104249</td>\n",
       "      <td>0.787632</td>\n",
       "      <td>0.769616</td>\n",
       "      <td>0.772401</td>\n",
       "    </tr>\n",
       "    <tr>\n",
       "      <th>7</th>\n",
       "      <td>0.112476</td>\n",
       "      <td>0.101340</td>\n",
       "      <td>0.103090</td>\n",
       "      <td>0.763519</td>\n",
       "      <td>0.767793</td>\n",
       "      <td>0.761145</td>\n",
       "      <td>0.114100</td>\n",
       "      <td>0.102414</td>\n",
       "      <td>0.103768</td>\n",
       "      <td>0.745909</td>\n",
       "      <td>...</td>\n",
       "      <td>0.104249</td>\n",
       "      <td>0.787632</td>\n",
       "      <td>0.769616</td>\n",
       "      <td>0.772401</td>\n",
       "      <td>0.112319</td>\n",
       "      <td>0.104059</td>\n",
       "      <td>0.104557</td>\n",
       "      <td>0.793172</td>\n",
       "      <td>0.768149</td>\n",
       "      <td>0.776930</td>\n",
       "    </tr>\n",
       "  </tbody>\n",
       "</table>\n",
       "<p>5 rows × 24 columns</p>\n",
       "</div>"
      ],
      "text/plain": [
       "   var1(t-3)  var2(t-3)  var3(t-3)  var4(t-3)  var5(t-3)  var6(t-3)  \\\n",
       "3   0.115356   0.098279   0.099546   0.703972   0.750533   0.737481   \n",
       "4   0.114815   0.099061   0.100758   0.702632   0.758580   0.742507   \n",
       "5   0.114274   0.099841   0.101750   0.701296   0.763936   0.748528   \n",
       "6   0.113733   0.100616   0.102549   0.699965   0.767123   0.754934   \n",
       "7   0.112476   0.101340   0.103090   0.763519   0.767793   0.761145   \n",
       "\n",
       "   var1(t-2)  var2(t-2)  var3(t-2)  var4(t-2)  ...  var3(t-1)  var4(t-1)  \\\n",
       "3   0.114815   0.099061   0.100758   0.702632  ...   0.101750   0.701296   \n",
       "4   0.114274   0.099841   0.101750   0.701296  ...   0.102549   0.699965   \n",
       "5   0.113733   0.100616   0.102549   0.699965  ...   0.103090   0.763519   \n",
       "6   0.112476   0.101340   0.103090   0.763519  ...   0.103768   0.745909   \n",
       "7   0.114100   0.102414   0.103768   0.745909  ...   0.104249   0.787632   \n",
       "\n",
       "   var5(t-1)  var6(t-1)   var1(t)   var2(t)   var3(t)   var4(t)   var5(t)  \\\n",
       "3   0.763936   0.748528  0.113733  0.100616  0.102549  0.699965  0.767123   \n",
       "4   0.767123   0.754934  0.112476  0.101340  0.103090  0.763519  0.767793   \n",
       "5   0.767793   0.761145  0.114100  0.102414  0.103768  0.745909  0.769631   \n",
       "6   0.769631   0.767096  0.113209  0.103194  0.104249  0.787632  0.769616   \n",
       "7   0.769616   0.772401  0.112319  0.104059  0.104557  0.793172  0.768149   \n",
       "\n",
       "    var6(t)  \n",
       "3  0.754934  \n",
       "4  0.761145  \n",
       "5  0.767096  \n",
       "6  0.772401  \n",
       "7  0.776930  \n",
       "\n",
       "[5 rows x 24 columns]"
      ]
     },
     "execution_count": 25,
     "metadata": {},
     "output_type": "execute_result"
    }
   ],
   "source": [
    "reframed.head()"
   ]
  },
  {
   "cell_type": "markdown",
   "metadata": {},
   "source": [
    "Drop the columns not to be predicted"
   ]
  },
  {
   "cell_type": "code",
   "execution_count": 26,
   "metadata": {},
   "outputs": [
    {
     "data": {
      "text/html": [
       "<div>\n",
       "<style scoped>\n",
       "    .dataframe tbody tr th:only-of-type {\n",
       "        vertical-align: middle;\n",
       "    }\n",
       "\n",
       "    .dataframe tbody tr th {\n",
       "        vertical-align: top;\n",
       "    }\n",
       "\n",
       "    .dataframe thead th {\n",
       "        text-align: right;\n",
       "    }\n",
       "</style>\n",
       "<table border=\"1\" class=\"dataframe\">\n",
       "  <thead>\n",
       "    <tr style=\"text-align: right;\">\n",
       "      <th></th>\n",
       "      <th>var1(t-3)</th>\n",
       "      <th>var2(t-3)</th>\n",
       "      <th>var3(t-3)</th>\n",
       "      <th>var4(t-3)</th>\n",
       "      <th>var5(t-3)</th>\n",
       "      <th>var6(t-3)</th>\n",
       "      <th>var1(t-2)</th>\n",
       "      <th>var2(t-2)</th>\n",
       "      <th>var3(t-2)</th>\n",
       "      <th>var4(t-2)</th>\n",
       "      <th>var5(t-2)</th>\n",
       "      <th>var6(t-2)</th>\n",
       "      <th>var1(t-1)</th>\n",
       "      <th>var2(t-1)</th>\n",
       "      <th>var3(t-1)</th>\n",
       "      <th>var4(t-1)</th>\n",
       "      <th>var5(t-1)</th>\n",
       "      <th>var6(t-1)</th>\n",
       "      <th>var1(t)</th>\n",
       "    </tr>\n",
       "  </thead>\n",
       "  <tbody>\n",
       "    <tr>\n",
       "      <th>3</th>\n",
       "      <td>0.115356</td>\n",
       "      <td>0.098279</td>\n",
       "      <td>0.099546</td>\n",
       "      <td>0.703972</td>\n",
       "      <td>0.750533</td>\n",
       "      <td>0.737481</td>\n",
       "      <td>0.114815</td>\n",
       "      <td>0.099061</td>\n",
       "      <td>0.100758</td>\n",
       "      <td>0.702632</td>\n",
       "      <td>0.758580</td>\n",
       "      <td>0.742507</td>\n",
       "      <td>0.114274</td>\n",
       "      <td>0.099841</td>\n",
       "      <td>0.101750</td>\n",
       "      <td>0.701296</td>\n",
       "      <td>0.763936</td>\n",
       "      <td>0.748528</td>\n",
       "      <td>0.113733</td>\n",
       "    </tr>\n",
       "    <tr>\n",
       "      <th>4</th>\n",
       "      <td>0.114815</td>\n",
       "      <td>0.099061</td>\n",
       "      <td>0.100758</td>\n",
       "      <td>0.702632</td>\n",
       "      <td>0.758580</td>\n",
       "      <td>0.742507</td>\n",
       "      <td>0.114274</td>\n",
       "      <td>0.099841</td>\n",
       "      <td>0.101750</td>\n",
       "      <td>0.701296</td>\n",
       "      <td>0.763936</td>\n",
       "      <td>0.748528</td>\n",
       "      <td>0.113733</td>\n",
       "      <td>0.100616</td>\n",
       "      <td>0.102549</td>\n",
       "      <td>0.699965</td>\n",
       "      <td>0.767123</td>\n",
       "      <td>0.754934</td>\n",
       "      <td>0.112476</td>\n",
       "    </tr>\n",
       "    <tr>\n",
       "      <th>5</th>\n",
       "      <td>0.114274</td>\n",
       "      <td>0.099841</td>\n",
       "      <td>0.101750</td>\n",
       "      <td>0.701296</td>\n",
       "      <td>0.763936</td>\n",
       "      <td>0.748528</td>\n",
       "      <td>0.113733</td>\n",
       "      <td>0.100616</td>\n",
       "      <td>0.102549</td>\n",
       "      <td>0.699965</td>\n",
       "      <td>0.767123</td>\n",
       "      <td>0.754934</td>\n",
       "      <td>0.112476</td>\n",
       "      <td>0.101340</td>\n",
       "      <td>0.103090</td>\n",
       "      <td>0.763519</td>\n",
       "      <td>0.767793</td>\n",
       "      <td>0.761145</td>\n",
       "      <td>0.114100</td>\n",
       "    </tr>\n",
       "    <tr>\n",
       "      <th>6</th>\n",
       "      <td>0.113733</td>\n",
       "      <td>0.100616</td>\n",
       "      <td>0.102549</td>\n",
       "      <td>0.699965</td>\n",
       "      <td>0.767123</td>\n",
       "      <td>0.754934</td>\n",
       "      <td>0.112476</td>\n",
       "      <td>0.101340</td>\n",
       "      <td>0.103090</td>\n",
       "      <td>0.763519</td>\n",
       "      <td>0.767793</td>\n",
       "      <td>0.761145</td>\n",
       "      <td>0.114100</td>\n",
       "      <td>0.102414</td>\n",
       "      <td>0.103768</td>\n",
       "      <td>0.745909</td>\n",
       "      <td>0.769631</td>\n",
       "      <td>0.767096</td>\n",
       "      <td>0.113209</td>\n",
       "    </tr>\n",
       "    <tr>\n",
       "      <th>7</th>\n",
       "      <td>0.112476</td>\n",
       "      <td>0.101340</td>\n",
       "      <td>0.103090</td>\n",
       "      <td>0.763519</td>\n",
       "      <td>0.767793</td>\n",
       "      <td>0.761145</td>\n",
       "      <td>0.114100</td>\n",
       "      <td>0.102414</td>\n",
       "      <td>0.103768</td>\n",
       "      <td>0.745909</td>\n",
       "      <td>0.769631</td>\n",
       "      <td>0.767096</td>\n",
       "      <td>0.113209</td>\n",
       "      <td>0.103194</td>\n",
       "      <td>0.104249</td>\n",
       "      <td>0.787632</td>\n",
       "      <td>0.769616</td>\n",
       "      <td>0.772401</td>\n",
       "      <td>0.112319</td>\n",
       "    </tr>\n",
       "  </tbody>\n",
       "</table>\n",
       "</div>"
      ],
      "text/plain": [
       "   var1(t-3)  var2(t-3)  var3(t-3)  var4(t-3)  var5(t-3)  var6(t-3)  \\\n",
       "3   0.115356   0.098279   0.099546   0.703972   0.750533   0.737481   \n",
       "4   0.114815   0.099061   0.100758   0.702632   0.758580   0.742507   \n",
       "5   0.114274   0.099841   0.101750   0.701296   0.763936   0.748528   \n",
       "6   0.113733   0.100616   0.102549   0.699965   0.767123   0.754934   \n",
       "7   0.112476   0.101340   0.103090   0.763519   0.767793   0.761145   \n",
       "\n",
       "   var1(t-2)  var2(t-2)  var3(t-2)  var4(t-2)  var5(t-2)  var6(t-2)  \\\n",
       "3   0.114815   0.099061   0.100758   0.702632   0.758580   0.742507   \n",
       "4   0.114274   0.099841   0.101750   0.701296   0.763936   0.748528   \n",
       "5   0.113733   0.100616   0.102549   0.699965   0.767123   0.754934   \n",
       "6   0.112476   0.101340   0.103090   0.763519   0.767793   0.761145   \n",
       "7   0.114100   0.102414   0.103768   0.745909   0.769631   0.767096   \n",
       "\n",
       "   var1(t-1)  var2(t-1)  var3(t-1)  var4(t-1)  var5(t-1)  var6(t-1)   var1(t)  \n",
       "3   0.114274   0.099841   0.101750   0.701296   0.763936   0.748528  0.113733  \n",
       "4   0.113733   0.100616   0.102549   0.699965   0.767123   0.754934  0.112476  \n",
       "5   0.112476   0.101340   0.103090   0.763519   0.767793   0.761145  0.114100  \n",
       "6   0.114100   0.102414   0.103768   0.745909   0.769631   0.767096  0.113209  \n",
       "7   0.113209   0.103194   0.104249   0.787632   0.769616   0.772401  0.112319  "
      ]
     },
     "execution_count": 26,
     "metadata": {},
     "output_type": "execute_result"
    }
   ],
   "source": [
    "reframed.drop(reframed.columns[[19, 20, 21, 22, 23]], axis=1, inplace=True)\n",
    "reframed.head()"
   ]
  },
  {
   "cell_type": "markdown",
   "metadata": {},
   "source": [
    "Split into train and test sets"
   ]
  },
  {
   "cell_type": "code",
   "execution_count": 27,
   "metadata": {},
   "outputs": [],
   "source": [
    "values = reframed.values\n",
    "n_train_days = values.shape[0]-n_features*n_days\n",
    "train = values[:n_train_days, :]\n",
    "test = values[n_train_days:, :]"
   ]
  },
  {
   "cell_type": "markdown",
   "metadata": {},
   "source": [
    "Split into input and outputs"
   ]
  },
  {
   "cell_type": "code",
   "execution_count": 28,
   "metadata": {},
   "outputs": [],
   "source": [
    "n_obs = n_days * n_features\n",
    "train_X, train_y = train[:, :-1], train[:, -1]\n",
    "test_X, test_y = test[:, :-1], test[:, -1]"
   ]
  },
  {
   "cell_type": "markdown",
   "metadata": {},
   "source": [
    "Reshape input to be 3D [samples, timesteps, features]"
   ]
  },
  {
   "cell_type": "code",
   "execution_count": 29,
   "metadata": {},
   "outputs": [],
   "source": [
    "train_X = train_X.reshape((train_X.shape[0], n_days, n_features))\n",
    "test_X = test_X.reshape((test_X.shape[0], n_days, n_features))"
   ]
  },
  {
   "cell_type": "code",
   "execution_count": 30,
   "metadata": {},
   "outputs": [
    {
     "data": {
      "text/plain": [
       "((7754, 3, 6), (7754,), (18, 3, 6), (18,))"
      ]
     },
     "execution_count": 30,
     "metadata": {},
     "output_type": "execute_result"
    }
   ],
   "source": [
    "train_X.shape, train_y.shape, test_X.shape, test_y.shape"
   ]
  },
  {
   "cell_type": "markdown",
   "metadata": {},
   "source": [
    "Define model"
   ]
  },
  {
   "cell_type": "code",
   "execution_count": 31,
   "metadata": {},
   "outputs": [],
   "source": [
    "model = Sequential()\n",
    "model.add(GRU(units=512,\n",
    "              return_sequences=True, input_shape=(train_X.shape[1], train_X.shape[2])))\n",
    "model.add(Dense(1))"
   ]
  },
  {
   "cell_type": "code",
   "execution_count": 32,
   "metadata": {},
   "outputs": [],
   "source": [
    "model.compile(loss='mae', optimizer='adam')"
   ]
  },
  {
   "cell_type": "markdown",
   "metadata": {},
   "source": [
    "Fit model"
   ]
  },
  {
   "cell_type": "code",
   "execution_count": 33,
   "metadata": {},
   "outputs": [
    {
     "name": "stdout",
     "output_type": "stream",
     "text": [
      "Epoch 1/100\n",
      "61/61 - 2s - loss: 0.0609 - val_loss: 0.1274\n",
      "Epoch 2/100\n",
      "61/61 - 1s - loss: 0.0869 - val_loss: 0.0404\n",
      "Epoch 3/100\n",
      "61/61 - 1s - loss: 0.0302 - val_loss: 0.0493\n",
      "Epoch 4/100\n",
      "61/61 - 1s - loss: 0.0261 - val_loss: 0.0136\n",
      "Epoch 5/100\n",
      "61/61 - 1s - loss: 0.0059 - val_loss: 0.0068\n",
      "Epoch 6/100\n",
      "61/61 - 1s - loss: 0.0117 - val_loss: 0.0131\n",
      "Epoch 7/100\n",
      "61/61 - 1s - loss: 0.0195 - val_loss: 0.0385\n",
      "Epoch 8/100\n",
      "61/61 - 1s - loss: 0.0292 - val_loss: 0.0171\n",
      "Epoch 9/100\n",
      "61/61 - 1s - loss: 0.0150 - val_loss: 0.0097\n",
      "Epoch 10/100\n",
      "61/61 - 1s - loss: 0.0099 - val_loss: 0.0068\n",
      "Epoch 11/100\n",
      "61/61 - 1s - loss: 0.0094 - val_loss: 0.0092\n",
      "Epoch 12/100\n",
      "61/61 - 1s - loss: 0.0155 - val_loss: 0.0103\n",
      "Epoch 13/100\n",
      "61/61 - 1s - loss: 0.0297 - val_loss: 0.0302\n",
      "Epoch 14/100\n",
      "61/61 - 1s - loss: 0.0234 - val_loss: 0.0126\n",
      "Epoch 15/100\n",
      "61/61 - 1s - loss: 0.0128 - val_loss: 0.0189\n",
      "Epoch 16/100\n",
      "61/61 - 1s - loss: 0.0288 - val_loss: 0.0415\n",
      "Epoch 17/100\n",
      "61/61 - 1s - loss: 0.0169 - val_loss: 0.0141\n",
      "Epoch 18/100\n",
      "61/61 - 1s - loss: 0.0103 - val_loss: 0.0177\n",
      "Epoch 19/100\n",
      "61/61 - 1s - loss: 0.0117 - val_loss: 0.0081\n",
      "Epoch 20/100\n",
      "61/61 - 1s - loss: 0.0120 - val_loss: 0.0083\n",
      "Epoch 21/100\n",
      "61/61 - 1s - loss: 0.0272 - val_loss: 0.0232\n",
      "Epoch 22/100\n",
      "61/61 - 1s - loss: 0.0206 - val_loss: 0.0125\n",
      "Epoch 23/100\n",
      "61/61 - 1s - loss: 0.0175 - val_loss: 0.0191\n",
      "Epoch 24/100\n",
      "61/61 - 1s - loss: 0.0170 - val_loss: 0.0140\n",
      "Epoch 25/100\n",
      "61/61 - 1s - loss: 0.0116 - val_loss: 0.0080\n",
      "Epoch 26/100\n",
      "61/61 - 1s - loss: 0.0208 - val_loss: 0.0246\n",
      "Epoch 27/100\n",
      "61/61 - 1s - loss: 0.0138 - val_loss: 0.0128\n",
      "Epoch 28/100\n",
      "61/61 - 1s - loss: 0.0080 - val_loss: 0.0083\n",
      "Epoch 29/100\n",
      "61/61 - 1s - loss: 0.0125 - val_loss: 0.0066\n",
      "Epoch 30/100\n",
      "61/61 - 1s - loss: 0.0089 - val_loss: 0.0063\n",
      "Epoch 31/100\n",
      "61/61 - 2s - loss: 0.0105 - val_loss: 0.0060\n",
      "Epoch 32/100\n",
      "61/61 - 1s - loss: 0.0101 - val_loss: 0.0069\n",
      "Epoch 33/100\n",
      "61/61 - 2s - loss: 0.0106 - val_loss: 0.0060\n",
      "Epoch 34/100\n",
      "61/61 - 1s - loss: 0.0109 - val_loss: 0.0076\n",
      "Epoch 35/100\n",
      "61/61 - 1s - loss: 0.0104 - val_loss: 0.0065\n",
      "Epoch 36/100\n",
      "61/61 - 2s - loss: 0.0099 - val_loss: 0.0119\n",
      "Epoch 37/100\n",
      "61/61 - 2s - loss: 0.0115 - val_loss: 0.0064\n",
      "Epoch 38/100\n",
      "61/61 - 1s - loss: 0.0099 - val_loss: 0.0109\n",
      "Epoch 39/100\n",
      "61/61 - 1s - loss: 0.0112 - val_loss: 0.0085\n",
      "Epoch 40/100\n",
      "61/61 - 1s - loss: 0.0117 - val_loss: 0.0062\n",
      "Epoch 41/100\n",
      "61/61 - 1s - loss: 0.0103 - val_loss: 0.0077\n",
      "Epoch 42/100\n",
      "61/61 - 1s - loss: 0.0116 - val_loss: 0.0065\n",
      "Epoch 43/100\n",
      "61/61 - 1s - loss: 0.0131 - val_loss: 0.0108\n",
      "Epoch 44/100\n",
      "61/61 - 1s - loss: 0.0147 - val_loss: 0.0114\n",
      "Epoch 45/100\n",
      "61/61 - 1s - loss: 0.0167 - val_loss: 0.0249\n",
      "Epoch 46/100\n",
      "61/61 - 1s - loss: 0.0177 - val_loss: 0.0117\n",
      "Epoch 47/100\n",
      "61/61 - 1s - loss: 0.0136 - val_loss: 0.0103\n",
      "Epoch 48/100\n",
      "61/61 - 1s - loss: 0.0159 - val_loss: 0.0316\n",
      "Epoch 49/100\n",
      "61/61 - 1s - loss: 0.0131 - val_loss: 0.0126\n",
      "Epoch 50/100\n",
      "61/61 - 1s - loss: 0.0126 - val_loss: 0.0194\n",
      "Epoch 51/100\n",
      "61/61 - 1s - loss: 0.0145 - val_loss: 0.0068\n",
      "Epoch 52/100\n",
      "61/61 - 1s - loss: 0.0046 - val_loss: 0.0071\n",
      "Epoch 53/100\n",
      "61/61 - 1s - loss: 0.0056 - val_loss: 0.0064\n",
      "Epoch 54/100\n",
      "61/61 - 1s - loss: 0.0089 - val_loss: 0.0065\n",
      "Epoch 55/100\n",
      "61/61 - 1s - loss: 0.0090 - val_loss: 0.0064\n",
      "Epoch 56/100\n",
      "61/61 - 1s - loss: 0.0088 - val_loss: 0.0064\n",
      "Epoch 57/100\n",
      "61/61 - 1s - loss: 0.0101 - val_loss: 0.0066\n",
      "Epoch 58/100\n",
      "61/61 - 1s - loss: 0.0081 - val_loss: 0.0077\n",
      "Epoch 59/100\n",
      "61/61 - 1s - loss: 0.0108 - val_loss: 0.0063\n",
      "Epoch 60/100\n",
      "61/61 - 1s - loss: 0.0088 - val_loss: 0.0063\n",
      "Epoch 61/100\n",
      "61/61 - 1s - loss: 0.0088 - val_loss: 0.0064\n",
      "Epoch 62/100\n",
      "61/61 - 1s - loss: 0.0088 - val_loss: 0.0064\n",
      "Epoch 63/100\n",
      "61/61 - 1s - loss: 0.0089 - val_loss: 0.0065\n",
      "Epoch 64/100\n",
      "61/61 - 1s - loss: 0.0092 - val_loss: 0.0065\n",
      "Epoch 65/100\n",
      "61/61 - 1s - loss: 0.0086 - val_loss: 0.0067\n",
      "Epoch 66/100\n",
      "61/61 - 1s - loss: 0.0102 - val_loss: 0.0063\n",
      "Epoch 67/100\n",
      "61/61 - 1s - loss: 0.0094 - val_loss: 0.0064\n",
      "Epoch 68/100\n",
      "61/61 - 1s - loss: 0.0106 - val_loss: 0.0068\n",
      "Epoch 69/100\n",
      "61/61 - 1s - loss: 0.0141 - val_loss: 0.0110\n",
      "Epoch 70/100\n",
      "61/61 - 1s - loss: 0.0178 - val_loss: 0.0293\n",
      "Epoch 71/100\n",
      "61/61 - 1s - loss: 0.0157 - val_loss: 0.0100\n",
      "Epoch 72/100\n",
      "61/61 - 1s - loss: 0.0088 - val_loss: 0.0063\n",
      "Epoch 73/100\n",
      "61/61 - 1s - loss: 0.0115 - val_loss: 0.0085\n",
      "Epoch 74/100\n",
      "61/61 - 1s - loss: 0.0064 - val_loss: 0.0070\n",
      "Epoch 75/100\n",
      "61/61 - 1s - loss: 0.0102 - val_loss: 0.0089\n",
      "Epoch 76/100\n",
      "61/61 - 1s - loss: 0.0087 - val_loss: 0.0334\n",
      "Epoch 77/100\n",
      "61/61 - 1s - loss: 0.0141 - val_loss: 0.0118\n",
      "Epoch 78/100\n",
      "61/61 - 1s - loss: 0.0090 - val_loss: 0.0067\n",
      "Epoch 79/100\n",
      "61/61 - 1s - loss: 0.0092 - val_loss: 0.0064\n",
      "Epoch 80/100\n",
      "61/61 - 1s - loss: 0.0084 - val_loss: 0.0068\n",
      "Epoch 81/100\n",
      "61/61 - 1s - loss: 0.0068 - val_loss: 0.0082\n",
      "Epoch 82/100\n",
      "61/61 - 1s - loss: 0.0106 - val_loss: 0.0068\n",
      "Epoch 83/100\n",
      "61/61 - 1s - loss: 0.0056 - val_loss: 0.0062\n",
      "Epoch 84/100\n",
      "61/61 - 1s - loss: 0.0118 - val_loss: 0.0061\n",
      "Epoch 85/100\n",
      "61/61 - 1s - loss: 0.0077 - val_loss: 0.0071\n",
      "Epoch 86/100\n",
      "61/61 - 1s - loss: 0.0082 - val_loss: 0.0070\n",
      "Epoch 87/100\n",
      "61/61 - 1s - loss: 0.0047 - val_loss: 0.0067\n",
      "Epoch 88/100\n",
      "61/61 - 1s - loss: 0.0053 - val_loss: 0.0067\n",
      "Epoch 89/100\n",
      "61/61 - 1s - loss: 0.0079 - val_loss: 0.0068\n",
      "Epoch 90/100\n",
      "61/61 - 1s - loss: 0.0115 - val_loss: 0.0070\n",
      "Epoch 91/100\n",
      "61/61 - 1s - loss: 0.0099 - val_loss: 0.0061\n",
      "Epoch 92/100\n",
      "61/61 - 1s - loss: 0.0055 - val_loss: 0.0074\n",
      "Epoch 93/100\n",
      "61/61 - 1s - loss: 0.0113 - val_loss: 0.0277\n",
      "Epoch 94/100\n",
      "61/61 - 1s - loss: 0.0142 - val_loss: 0.0151\n",
      "Epoch 95/100\n",
      "61/61 - 1s - loss: 0.0112 - val_loss: 0.0079\n",
      "Epoch 96/100\n",
      "61/61 - 1s - loss: 0.0111 - val_loss: 0.0070\n",
      "Epoch 97/100\n",
      "61/61 - 1s - loss: 0.0092 - val_loss: 0.0262\n",
      "Epoch 98/100\n",
      "61/61 - 1s - loss: 0.0133 - val_loss: 0.0183\n",
      "Epoch 99/100\n",
      "61/61 - 1s - loss: 0.0139 - val_loss: 0.0225\n",
      "Epoch 100/100\n",
      "61/61 - 1s - loss: 0.0161 - val_loss: 0.0204\n"
     ]
    }
   ],
   "source": [
    "history = model.fit(train_X, train_y, \n",
    "                    epochs=100, batch_size=128, \n",
    "                    validation_data=(test_X, test_y), \n",
    "                    verbose=2, shuffle=False)"
   ]
  },
  {
   "cell_type": "markdown",
   "metadata": {},
   "source": [
    "Plot history"
   ]
  },
  {
   "cell_type": "code",
   "execution_count": 34,
   "metadata": {},
   "outputs": [
    {
     "data": {
      "image/png": "[encoded data removed]",
      "text/plain": [
       "<Figure size 432x288 with 1 Axes>"
      ]
     },
     "metadata": {
      "needs_background": "light"
     },
     "output_type": "display_data"
    }
   ],
   "source": [
    "plt.plot(history.history['loss'], label='train')\n",
    "plt.plot(history.history['val_loss'], label='test')\n",
    "plt.legend()\n",
    "plt.show()"
   ]
  },
  {
   "cell_type": "markdown",
   "metadata": {},
   "source": [
    "Demonstrate training"
   ]
  },
  {
   "cell_type": "code",
   "execution_count": 35,
   "metadata": {},
   "outputs": [],
   "source": [
    "yhat = model.predict(train_X)"
   ]
  },
  {
   "cell_type": "code",
   "execution_count": 36,
   "metadata": {},
   "outputs": [
    {
     "data": {
      "image/png": "[encoded data removed]",
      "text/plain": [
       "<Figure size 432x288 with 1 Axes>"
      ]
     },
     "metadata": {
      "needs_background": "light"
     },
     "output_type": "display_data"
    }
   ],
   "source": [
    "plt.plot(train_y, label='expected')\n",
    "plt.plot(yhat[:,0], label='predicted')\n",
    "plt.legend()\n",
    "plt.show()"
   ]
  },
  {
   "cell_type": "markdown",
   "metadata": {},
   "source": [
    "Demonstrate prediction"
   ]
  },
  {
   "cell_type": "code",
   "execution_count": 37,
   "metadata": {},
   "outputs": [],
   "source": [
    "yhat = model.predict(test_X)"
   ]
  },
  {
   "cell_type": "code",
   "execution_count": 38,
   "metadata": {},
   "outputs": [
    {
     "name": "stdout",
     "output_type": "stream",
     "text": [
      "Predicted: 0.96  Expected: 0.99\n"
     ]
    }
   ],
   "source": [
    "print(f\"Predicted: {yhat[0][0][0]:.2f}  Expected: {test_y[0]:.2f}\")"
   ]
  },
  {
   "cell_type": "code",
   "execution_count": 39,
   "metadata": {},
   "outputs": [
    {
     "data": {
      "image/png": "[encoded data removed]",
      "text/plain": [
       "<Figure size 432x288 with 1 Axes>"
      ]
     },
     "metadata": {
      "needs_background": "light"
     },
     "output_type": "display_data"
    }
   ],
   "source": [
    "plt.plot(test_y, label='expected')\n",
    "plt.plot(yhat[:,0], label='predicted')\n",
    "plt.legend()\n",
    "plt.show()"
   ]
  },
  {
   "cell_type": "markdown",
   "metadata": {},
   "source": [
    "**THIS IS NOT AN INVESTMENT ADVICE!**"
   ]
  }
 ],
 "metadata": {
  "kernelspec": {
   "display_name": "Python 3",
   "language": "python",
   "name": "python3"
  },
  "language_info": {
   "codemirror_mode": {
    "name": "ipython",
    "version": 3
   },
   "file_extension": ".py",
   "mimetype": "text/x-python",
   "name": "python",
   "nbconvert_exporter": "python",
   "pygments_lexer": "ipython3",
   "version": "3.8.10"
  }
 },
 "nbformat": 4,
 "nbformat_minor": 4
}
