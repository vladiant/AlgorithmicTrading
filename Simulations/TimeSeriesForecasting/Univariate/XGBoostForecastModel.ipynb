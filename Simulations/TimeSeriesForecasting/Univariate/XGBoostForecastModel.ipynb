{
 "cells": [
  {
   "cell_type": "markdown",
   "metadata": {},
   "source": [
    "# XGBoost Time Series Forecasting"
   ]
  },
  {
   "cell_type": "markdown",
   "metadata": {},
   "source": [
    "Based on:\n",
    "* [Time Series Forecasting on Stock Prices](https://www.youtube.com/watch?v=j05UUs99eNQ) from [Coding Tech](https://www.youtube.com/channel/UCtxCXg-UvSnTKPOzLH4wJaQ)\n",
    "* https://machinelearningmastery.com/xgboost-for-time-series-forecasting/"
   ]
  },
  {
   "cell_type": "markdown",
   "metadata": {},
   "source": [
    "**Disclaimer:** _Investing in the stock market involves risk and can lead to monetary loss. This material is purely for educational purposes and should not be taken as professional investment advice. Invest at your own discretion._"
   ]
  },
  {
   "cell_type": "code",
   "execution_count": 1,
   "metadata": {},
   "outputs": [],
   "source": [
    "# ! pip3 install xgboost"
   ]
  },
  {
   "cell_type": "code",
   "execution_count": 2,
   "metadata": {},
   "outputs": [],
   "source": [
    "import pandas as pd\n",
    "\n",
    "from numpy import asarray\n",
    "\n",
    "from sklearn.metrics import mean_absolute_error\n",
    "\n",
    "from xgboost import XGBRFRegressor\n",
    "\n",
    "from matplotlib import pyplot"
   ]
  },
  {
   "cell_type": "markdown",
   "metadata": {},
   "source": [
    "Transform a time series dataset to a supervised learning dataset"
   ]
  },
  {
   "cell_type": "code",
   "execution_count": 3,
   "metadata": {},
   "outputs": [],
   "source": [
    "# Transform a time series dataset to a supervised learning dataset\n",
    "def series_to_supervised(data, n_in=1, n_out=1, dropnan=True):\n",
    "    n_vars = 1 if type(data) is list else data.shape[1]\n",
    "    df = pd.DataFrame(data)\n",
    "    cols = list()\n",
    "    # Input sequence (t-n ... t-1)\n",
    "    for i in range(n_in, 0, -1):\n",
    "        cols.append(df.shift(i))\n",
    "    # Forecast sequence (t, t+1 ... t+n)\n",
    "    for i in range(0, n_out):\n",
    "        cols.append(df.shift(-i))\n",
    "    # Put it all together\n",
    "    agg = pd.concat(cols, axis=1)\n",
    "    # Drop rows with NaN values\n",
    "    if dropnan:\n",
    "        agg.dropna(inplace=True)\n",
    "    return agg.values"
   ]
  },
  {
   "cell_type": "markdown",
   "metadata": {},
   "source": [
    "Split a univariate dataset into train/test sets"
   ]
  },
  {
   "cell_type": "code",
   "execution_count": 4,
   "metadata": {},
   "outputs": [],
   "source": [
    "def train_test_split(data, n_test):\n",
    "    return data[:-n_test, :], data[-n_test:, :]"
   ]
  },
  {
   "cell_type": "markdown",
   "metadata": {},
   "source": [
    "Fit an XGBoost model and make a one step prediction"
   ]
  },
  {
   "cell_type": "code",
   "execution_count": 5,
   "metadata": {},
   "outputs": [],
   "source": [
    "def xgboost_forecats(train, testX):\n",
    "    # Transform list into array\n",
    "    train = asarray(train)\n",
    "    # Split into input and output columns\n",
    "    trainX, trainy = train[:, :-1], train[:, -1]\n",
    "    # Fit model\n",
    "    model = XGBRFRegressor(objective='reg:squarederror', n_estimators=1000)\n",
    "    model.fit(trainX, trainy)\n",
    "    # Make a one step prediction\n",
    "    yhat = model.predict(asarray([testX]))\n",
    "    return yhat[0]"
   ]
  },
  {
   "cell_type": "markdown",
   "metadata": {},
   "source": [
    "Walk-forward validation for univariate data"
   ]
  },
  {
   "cell_type": "code",
   "execution_count": 6,
   "metadata": {},
   "outputs": [],
   "source": [
    "def walk_forward_validation(data, n_test):\n",
    "    predictions = list()\n",
    "    # Split dataset\n",
    "    train, test = train_test_split(data, n_test)\n",
    "    # Seed history with training dataset\n",
    "    history = [x for x in train]\n",
    "    # Step over each time step in the test set\n",
    "    for i in range(len(test)):\n",
    "        # Split test row into input and output columns\n",
    "        testX, testy = test[i, :-1], test[i, -1]\n",
    "        # Fit model on history and make a prediction\n",
    "        yhat = xgboost_forecats(history, testX)\n",
    "        # Store forecast in list of predictions\n",
    "        predictions.append(yhat)\n",
    "        # Add actual observation to history for the next loop\n",
    "        history.append(test[i])\n",
    "        # Summarize progress\n",
    "        print(f'>expected={testy}, predicted={yhat}')\n",
    "    # Estimate prediction error\n",
    "    error = mean_absolute_error(test[:, -1], predictions)\n",
    "    return error, test[:, -1], predictions"
   ]
  },
  {
   "cell_type": "markdown",
   "metadata": {},
   "source": [
    "Load the data"
   ]
  },
  {
   "cell_type": "code",
   "execution_count": 7,
   "metadata": {},
   "outputs": [],
   "source": [
    "df = pd.read_csv(\"SP500.csv\")"
   ]
  },
  {
   "cell_type": "markdown",
   "metadata": {},
   "source": [
    "Show the data"
   ]
  },
  {
   "cell_type": "code",
   "execution_count": 8,
   "metadata": {},
   "outputs": [
    {
     "data": {
      "text/html": [
       "<div>\n",
       "<style scoped>\n",
       "    .dataframe tbody tr th:only-of-type {\n",
       "        vertical-align: middle;\n",
       "    }\n",
       "\n",
       "    .dataframe tbody tr th {\n",
       "        vertical-align: top;\n",
       "    }\n",
       "\n",
       "    .dataframe thead th {\n",
       "        text-align: right;\n",
       "    }\n",
       "</style>\n",
       "<table border=\"1\" class=\"dataframe\">\n",
       "  <thead>\n",
       "    <tr style=\"text-align: right;\">\n",
       "      <th></th>\n",
       "      <th>Date</th>\n",
       "      <th>Open</th>\n",
       "      <th>High</th>\n",
       "      <th>Low</th>\n",
       "      <th>Close</th>\n",
       "      <th>Volume</th>\n",
       "      <th>Dividends</th>\n",
       "      <th>Stock Splits</th>\n",
       "    </tr>\n",
       "  </thead>\n",
       "  <tbody>\n",
       "    <tr>\n",
       "      <th>0</th>\n",
       "      <td>2000-05-19</td>\n",
       "      <td>96.106028</td>\n",
       "      <td>96.106028</td>\n",
       "      <td>94.484962</td>\n",
       "      <td>94.779701</td>\n",
       "      <td>775500</td>\n",
       "      <td>0.0</td>\n",
       "      <td>0</td>\n",
       "    </tr>\n",
       "    <tr>\n",
       "      <th>1</th>\n",
       "      <td>2000-05-22</td>\n",
       "      <td>94.716551</td>\n",
       "      <td>94.716551</td>\n",
       "      <td>92.169162</td>\n",
       "      <td>94.190231</td>\n",
       "      <td>1850600</td>\n",
       "      <td>0.0</td>\n",
       "      <td>0</td>\n",
       "    </tr>\n",
       "    <tr>\n",
       "      <th>2</th>\n",
       "      <td>2000-05-23</td>\n",
       "      <td>94.463952</td>\n",
       "      <td>94.463952</td>\n",
       "      <td>92.758675</td>\n",
       "      <td>92.758675</td>\n",
       "      <td>373900</td>\n",
       "      <td>0.0</td>\n",
       "      <td>0</td>\n",
       "    </tr>\n",
       "    <tr>\n",
       "      <th>3</th>\n",
       "      <td>2000-05-24</td>\n",
       "      <td>92.800753</td>\n",
       "      <td>94.358660</td>\n",
       "      <td>92.063905</td>\n",
       "      <td>94.148132</td>\n",
       "      <td>400300</td>\n",
       "      <td>0.0</td>\n",
       "      <td>0</td>\n",
       "    </tr>\n",
       "    <tr>\n",
       "      <th>4</th>\n",
       "      <td>2000-05-25</td>\n",
       "      <td>94.337613</td>\n",
       "      <td>94.948145</td>\n",
       "      <td>92.884970</td>\n",
       "      <td>93.284973</td>\n",
       "      <td>69600</td>\n",
       "      <td>0.0</td>\n",
       "      <td>0</td>\n",
       "    </tr>\n",
       "    <tr>\n",
       "      <th>...</th>\n",
       "      <td>...</td>\n",
       "      <td>...</td>\n",
       "      <td>...</td>\n",
       "      <td>...</td>\n",
       "      <td>...</td>\n",
       "      <td>...</td>\n",
       "      <td>...</td>\n",
       "      <td>...</td>\n",
       "    </tr>\n",
       "    <tr>\n",
       "      <th>5359</th>\n",
       "      <td>2021-09-08</td>\n",
       "      <td>452.899994</td>\n",
       "      <td>453.679993</td>\n",
       "      <td>450.869995</td>\n",
       "      <td>453.000000</td>\n",
       "      <td>4076800</td>\n",
       "      <td>0.0</td>\n",
       "      <td>0</td>\n",
       "    </tr>\n",
       "    <tr>\n",
       "      <th>5360</th>\n",
       "      <td>2021-09-09</td>\n",
       "      <td>452.690002</td>\n",
       "      <td>454.579987</td>\n",
       "      <td>450.730011</td>\n",
       "      <td>450.980011</td>\n",
       "      <td>3851600</td>\n",
       "      <td>0.0</td>\n",
       "      <td>0</td>\n",
       "    </tr>\n",
       "    <tr>\n",
       "      <th>5361</th>\n",
       "      <td>2021-09-10</td>\n",
       "      <td>453.059998</td>\n",
       "      <td>453.510010</td>\n",
       "      <td>447.299988</td>\n",
       "      <td>447.540009</td>\n",
       "      <td>3023500</td>\n",
       "      <td>0.0</td>\n",
       "      <td>0</td>\n",
       "    </tr>\n",
       "    <tr>\n",
       "      <th>5362</th>\n",
       "      <td>2021-09-13</td>\n",
       "      <td>450.679993</td>\n",
       "      <td>450.929993</td>\n",
       "      <td>446.089996</td>\n",
       "      <td>448.579987</td>\n",
       "      <td>3007400</td>\n",
       "      <td>0.0</td>\n",
       "      <td>0</td>\n",
       "    </tr>\n",
       "    <tr>\n",
       "      <th>5363</th>\n",
       "      <td>2021-09-14</td>\n",
       "      <td>450.079987</td>\n",
       "      <td>450.320007</td>\n",
       "      <td>445.200012</td>\n",
       "      <td>446.190002</td>\n",
       "      <td>3658400</td>\n",
       "      <td>0.0</td>\n",
       "      <td>0</td>\n",
       "    </tr>\n",
       "  </tbody>\n",
       "</table>\n",
       "<p>5364 rows × 8 columns</p>\n",
       "</div>"
      ],
      "text/plain": [
       "            Date        Open        High         Low       Close   Volume  \\\n",
       "0     2000-05-19   96.106028   96.106028   94.484962   94.779701   775500   \n",
       "1     2000-05-22   94.716551   94.716551   92.169162   94.190231  1850600   \n",
       "2     2000-05-23   94.463952   94.463952   92.758675   92.758675   373900   \n",
       "3     2000-05-24   92.800753   94.358660   92.063905   94.148132   400300   \n",
       "4     2000-05-25   94.337613   94.948145   92.884970   93.284973    69600   \n",
       "...          ...         ...         ...         ...         ...      ...   \n",
       "5359  2021-09-08  452.899994  453.679993  450.869995  453.000000  4076800   \n",
       "5360  2021-09-09  452.690002  454.579987  450.730011  450.980011  3851600   \n",
       "5361  2021-09-10  453.059998  453.510010  447.299988  447.540009  3023500   \n",
       "5362  2021-09-13  450.679993  450.929993  446.089996  448.579987  3007400   \n",
       "5363  2021-09-14  450.079987  450.320007  445.200012  446.190002  3658400   \n",
       "\n",
       "      Dividends  Stock Splits  \n",
       "0           0.0             0  \n",
       "1           0.0             0  \n",
       "2           0.0             0  \n",
       "3           0.0             0  \n",
       "4           0.0             0  \n",
       "...         ...           ...  \n",
       "5359        0.0             0  \n",
       "5360        0.0             0  \n",
       "5361        0.0             0  \n",
       "5362        0.0             0  \n",
       "5363        0.0             0  \n",
       "\n",
       "[5364 rows x 8 columns]"
      ]
     },
     "execution_count": 8,
     "metadata": {},
     "output_type": "execute_result"
    }
   ],
   "source": [
    "df"
   ]
  },
  {
   "cell_type": "markdown",
   "metadata": {},
   "source": [
    "Add indices for every day in the period"
   ]
  },
  {
   "cell_type": "code",
   "execution_count": 9,
   "metadata": {},
   "outputs": [],
   "source": [
    "start_date = df.Date.min()\n",
    "end_date = df.Date.max()"
   ]
  },
  {
   "cell_type": "code",
   "execution_count": 10,
   "metadata": {},
   "outputs": [],
   "source": [
    "df_date = pd.date_range(start=start_date, end=end_date).to_frame(name=\"Date\")\n",
    "df_date.reset_index(drop=True, inplace=True) "
   ]
  },
  {
   "cell_type": "code",
   "execution_count": 11,
   "metadata": {},
   "outputs": [],
   "source": [
    "df[\"Date\"] = pd.to_datetime(df[\"Date\"])\n",
    "df = df.merge(df_date, how='right')"
   ]
  },
  {
   "cell_type": "markdown",
   "metadata": {},
   "source": [
    "Interpolate missing values"
   ]
  },
  {
   "cell_type": "code",
   "execution_count": 12,
   "metadata": {},
   "outputs": [
    {
     "data": {
      "text/html": [
       "<div>\n",
       "<style scoped>\n",
       "    .dataframe tbody tr th:only-of-type {\n",
       "        vertical-align: middle;\n",
       "    }\n",
       "\n",
       "    .dataframe tbody tr th {\n",
       "        vertical-align: top;\n",
       "    }\n",
       "\n",
       "    .dataframe thead th {\n",
       "        text-align: right;\n",
       "    }\n",
       "</style>\n",
       "<table border=\"1\" class=\"dataframe\">\n",
       "  <thead>\n",
       "    <tr style=\"text-align: right;\">\n",
       "      <th></th>\n",
       "      <th>Date</th>\n",
       "      <th>Open</th>\n",
       "      <th>High</th>\n",
       "      <th>Low</th>\n",
       "      <th>Close</th>\n",
       "      <th>Volume</th>\n",
       "      <th>Dividends</th>\n",
       "      <th>Stock Splits</th>\n",
       "    </tr>\n",
       "  </thead>\n",
       "  <tbody>\n",
       "    <tr>\n",
       "      <th>0</th>\n",
       "      <td>2000-05-19</td>\n",
       "      <td>96.106028</td>\n",
       "      <td>96.106028</td>\n",
       "      <td>94.484962</td>\n",
       "      <td>94.779701</td>\n",
       "      <td>7.755000e+05</td>\n",
       "      <td>0.0</td>\n",
       "      <td>0.0</td>\n",
       "    </tr>\n",
       "    <tr>\n",
       "      <th>1</th>\n",
       "      <td>2000-05-20</td>\n",
       "      <td>95.642869</td>\n",
       "      <td>95.642869</td>\n",
       "      <td>93.713029</td>\n",
       "      <td>94.583211</td>\n",
       "      <td>1.133867e+06</td>\n",
       "      <td>0.0</td>\n",
       "      <td>0.0</td>\n",
       "    </tr>\n",
       "    <tr>\n",
       "      <th>2</th>\n",
       "      <td>2000-05-21</td>\n",
       "      <td>95.179710</td>\n",
       "      <td>95.179710</td>\n",
       "      <td>92.941096</td>\n",
       "      <td>94.386721</td>\n",
       "      <td>1.492233e+06</td>\n",
       "      <td>0.0</td>\n",
       "      <td>0.0</td>\n",
       "    </tr>\n",
       "    <tr>\n",
       "      <th>3</th>\n",
       "      <td>2000-05-22</td>\n",
       "      <td>94.716551</td>\n",
       "      <td>94.716551</td>\n",
       "      <td>92.169162</td>\n",
       "      <td>94.190231</td>\n",
       "      <td>1.850600e+06</td>\n",
       "      <td>0.0</td>\n",
       "      <td>0.0</td>\n",
       "    </tr>\n",
       "    <tr>\n",
       "      <th>4</th>\n",
       "      <td>2000-05-23</td>\n",
       "      <td>94.463952</td>\n",
       "      <td>94.463952</td>\n",
       "      <td>92.758675</td>\n",
       "      <td>92.758675</td>\n",
       "      <td>3.739000e+05</td>\n",
       "      <td>0.0</td>\n",
       "      <td>0.0</td>\n",
       "    </tr>\n",
       "    <tr>\n",
       "      <th>...</th>\n",
       "      <td>...</td>\n",
       "      <td>...</td>\n",
       "      <td>...</td>\n",
       "      <td>...</td>\n",
       "      <td>...</td>\n",
       "      <td>...</td>\n",
       "      <td>...</td>\n",
       "      <td>...</td>\n",
       "    </tr>\n",
       "    <tr>\n",
       "      <th>7784</th>\n",
       "      <td>2021-09-10</td>\n",
       "      <td>453.059998</td>\n",
       "      <td>453.510010</td>\n",
       "      <td>447.299988</td>\n",
       "      <td>447.540009</td>\n",
       "      <td>3.023500e+06</td>\n",
       "      <td>0.0</td>\n",
       "      <td>0.0</td>\n",
       "    </tr>\n",
       "    <tr>\n",
       "      <th>7785</th>\n",
       "      <td>2021-09-11</td>\n",
       "      <td>452.266663</td>\n",
       "      <td>452.650004</td>\n",
       "      <td>446.896657</td>\n",
       "      <td>447.886668</td>\n",
       "      <td>3.018133e+06</td>\n",
       "      <td>0.0</td>\n",
       "      <td>0.0</td>\n",
       "    </tr>\n",
       "    <tr>\n",
       "      <th>7786</th>\n",
       "      <td>2021-09-12</td>\n",
       "      <td>451.473328</td>\n",
       "      <td>451.789998</td>\n",
       "      <td>446.493327</td>\n",
       "      <td>448.233327</td>\n",
       "      <td>3.012767e+06</td>\n",
       "      <td>0.0</td>\n",
       "      <td>0.0</td>\n",
       "    </tr>\n",
       "    <tr>\n",
       "      <th>7787</th>\n",
       "      <td>2021-09-13</td>\n",
       "      <td>450.679993</td>\n",
       "      <td>450.929993</td>\n",
       "      <td>446.089996</td>\n",
       "      <td>448.579987</td>\n",
       "      <td>3.007400e+06</td>\n",
       "      <td>0.0</td>\n",
       "      <td>0.0</td>\n",
       "    </tr>\n",
       "    <tr>\n",
       "      <th>7788</th>\n",
       "      <td>2021-09-14</td>\n",
       "      <td>450.079987</td>\n",
       "      <td>450.320007</td>\n",
       "      <td>445.200012</td>\n",
       "      <td>446.190002</td>\n",
       "      <td>3.658400e+06</td>\n",
       "      <td>0.0</td>\n",
       "      <td>0.0</td>\n",
       "    </tr>\n",
       "  </tbody>\n",
       "</table>\n",
       "<p>7789 rows × 8 columns</p>\n",
       "</div>"
      ],
      "text/plain": [
       "           Date        Open        High         Low       Close        Volume  \\\n",
       "0    2000-05-19   96.106028   96.106028   94.484962   94.779701  7.755000e+05   \n",
       "1    2000-05-20   95.642869   95.642869   93.713029   94.583211  1.133867e+06   \n",
       "2    2000-05-21   95.179710   95.179710   92.941096   94.386721  1.492233e+06   \n",
       "3    2000-05-22   94.716551   94.716551   92.169162   94.190231  1.850600e+06   \n",
       "4    2000-05-23   94.463952   94.463952   92.758675   92.758675  3.739000e+05   \n",
       "...         ...         ...         ...         ...         ...           ...   \n",
       "7784 2021-09-10  453.059998  453.510010  447.299988  447.540009  3.023500e+06   \n",
       "7785 2021-09-11  452.266663  452.650004  446.896657  447.886668  3.018133e+06   \n",
       "7786 2021-09-12  451.473328  451.789998  446.493327  448.233327  3.012767e+06   \n",
       "7787 2021-09-13  450.679993  450.929993  446.089996  448.579987  3.007400e+06   \n",
       "7788 2021-09-14  450.079987  450.320007  445.200012  446.190002  3.658400e+06   \n",
       "\n",
       "      Dividends  Stock Splits  \n",
       "0           0.0           0.0  \n",
       "1           0.0           0.0  \n",
       "2           0.0           0.0  \n",
       "3           0.0           0.0  \n",
       "4           0.0           0.0  \n",
       "...         ...           ...  \n",
       "7784        0.0           0.0  \n",
       "7785        0.0           0.0  \n",
       "7786        0.0           0.0  \n",
       "7787        0.0           0.0  \n",
       "7788        0.0           0.0  \n",
       "\n",
       "[7789 rows x 8 columns]"
      ]
     },
     "execution_count": 12,
     "metadata": {},
     "output_type": "execute_result"
    }
   ],
   "source": [
    "df = df.interpolate(method='linear', limit_direction='both')\n",
    "df"
   ]
  },
  {
   "cell_type": "markdown",
   "metadata": {},
   "source": [
    "Transform the time series data into supervised learning"
   ]
  },
  {
   "cell_type": "code",
   "execution_count": 13,
   "metadata": {},
   "outputs": [],
   "source": [
    "prev_values = 10"
   ]
  },
  {
   "cell_type": "code",
   "execution_count": 14,
   "metadata": {},
   "outputs": [],
   "source": [
    "data = series_to_supervised(df['Close'].values.tolist(), n_in=prev_values)"
   ]
  },
  {
   "cell_type": "markdown",
   "metadata": {},
   "source": [
    "Evaluate"
   ]
  },
  {
   "cell_type": "code",
   "execution_count": 15,
   "metadata": {},
   "outputs": [
    {
     "name": "stderr",
     "output_type": "stream",
     "text": [
      "/home/vladiant/.local/lib/python3.8/site-packages/xgboost/data.py:104: UserWarning: Use subset (sliced data) of np.ndarray is not recommended because it will generate extra copies and increase memory consumption\n",
      "  warnings.warn(\n"
     ]
    },
    {
     "name": "stdout",
     "output_type": "stream",
     "text": [
      ">expected=422.6531066894531, predicted=418.268798828125\n",
      ">expected=422.6730346679688, predicted=418.4149169921875\n",
      ">expected=421.9949951171875, predicted=418.5352478027344\n",
      ">expected=424.0400085449219, predicted=418.6455383300781\n",
      ">expected=424.739990234375, predicted=418.8302001953125\n",
      ">expected=425.0799967447917, predicted=419.01995849609375\n",
      ">expected=425.4200032552083, predicted=419.2989196777344\n",
      ">expected=425.760009765625, predicted=419.56829833984375\n",
      ">expected=424.9299926757813, predicted=419.91448974609375\n",
      ">expected=422.5799865722656, predicted=420.23779296875\n",
      ">expected=422.4500122070313, predicted=420.4589538574219\n",
      ">expected=416.7699890136719, predicted=420.6348876953125\n",
      ">expected=418.72999064127606, predicted=418.2846374511719\n",
      ">expected=420.6899922688802, predicted=419.4186096191406\n",
      ">expected=422.6499938964844, predicted=420.3532409667969\n",
      ">expected=424.6600036621094, predicted=420.6769714355469\n",
      ">expected=424.4100036621094, predicted=421.0256652832031\n",
      ">expected=426.8699951171875, predicted=421.3170166015625\n",
      ">expected=428.4400024414063, predicted=421.6831970214844\n",
      ">expected=428.74333699544275, predicted=422.07049560546875\n",
      ">expected=429.0466715494792, predicted=422.6024475097656\n",
      ">expected=429.3500061035156, predicted=422.9646911621094\n",
      ">expected=429.5400085449219, predicted=423.6536865234375\n",
      ">expected=429.9200134277344, predicted=424.3363342285156\n",
      ">expected=432.3500061035156, predicted=424.915283203125\n",
      ">expected=435.6400146484375, predicted=426.0030212402344\n",
      ">expected=435.36251068115234, predicted=427.70208740234375\n",
      ">expected=435.0850067138672, predicted=429.24310302734375\n",
      ">expected=434.80750274658203, predicted=430.3500671386719\n",
      ">expected=434.5299987792969, predicted=431.0957946777344\n",
      ">expected=436.30999755859375, predicted=431.71807861328125\n",
      ">expected=432.80999755859375, predicted=432.7769775390625\n",
      ">expected=437.4100036621094, predicted=432.8504638671875\n",
      ">expected=437.9500020345052, predicted=433.90576171875\n",
      ">expected=438.49000040690106, predicted=434.8024597167969\n",
      ">expected=439.0299987792969, predicted=435.41448974609375\n",
      ">expected=437.489990234375, predicted=435.7919921875\n",
      ">expected=438.0700073242188, predicted=435.9623107910156\n",
      ">expected=436.5700073242188, predicted=436.14678955078125\n",
      ">expected=433.2699890136719, predicted=436.20404052734375\n",
      ">expected=431.1133219401042, predicted=436.00860595703125\n",
      ">expected=428.9566548665365, predicted=435.60400390625\n",
      ">expected=426.7999877929688, predicted=430.58502197265625\n",
      ">expected=432.989990234375, predicted=428.82373046875\n",
      ">expected=436.5, predicted=434.94866943359375\n",
      ">expected=437.4500122070313, predicted=435.6407775878906\n",
      ">expected=441.760009765625, predicted=435.770751953125\n",
      ">expected=442.1533406575521, predicted=436.1051330566406\n",
      ">expected=442.5466715494792, predicted=436.41766357421875\n",
      ">expected=442.9400024414063, predicted=436.8905029296875\n",
      ">expected=440.9200134277344, predicted=437.6200866699219\n",
      ">expected=440.6799926757813, predicted=437.99871826171875\n",
      ">expected=442.6400146484375, predicted=438.32208251953125\n",
      ">expected=440.3999938964844, predicted=438.93487548828125\n",
      ">expected=440.10333251953125, predicted=439.2333984375\n",
      ">expected=439.8066711425781, predicted=439.2859802246094\n",
      ">expected=439.510009765625, predicted=439.42486572265625\n",
      ">expected=443.0199890136719, predicted=439.4181823730469\n",
      ">expected=440.9100036621094, predicted=439.7571105957031\n",
      ">expected=443.6499938964844, predicted=439.8970642089844\n",
      ">expected=444.4200134277344, predicted=440.14599609375\n",
      ">expected=444.31667073567706, predicted=440.4417419433594\n",
      ">expected=444.2133280436198, predicted=440.6600646972656\n",
      ">expected=444.1099853515625, predicted=440.8736572265625\n",
      ">expected=444.6300048828125, predicted=441.0198059082031\n",
      ">expected=445.6799926757813, predicted=441.20819091796875\n",
      ">expected=446.7200012207031, predicted=441.44268798828125\n",
      ">expected=447.8500061035156, predicted=441.6946105957031\n",
      ">expected=448.23333740234375, predicted=441.98016357421875\n",
      ">expected=448.6166687011719, predicted=442.3177795410156\n",
      ">expected=449.0, predicted=442.6470642089844\n",
      ">expected=445.9500122070313, predicted=442.9840393066406\n",
      ">expected=441.1400146484375, predicted=443.16375732421875\n",
      ">expected=441.7900085449219, predicted=443.0809631347656\n",
      ">expected=445.30999755859375, predicted=443.04498291015625\n",
      ">expected=446.60333251953125, predicted=443.1529541015625\n",
      ">expected=447.8966674804688, predicted=443.3726806640625\n",
      ">expected=449.1900024414063, predicted=443.5960388183594\n",
      ">expected=449.9700012207031, predicted=443.9413146972656\n",
      ">expected=450.9100036621094, predicted=444.2610168457031\n",
      ">expected=448.25, predicted=444.5962829589844\n",
      ">expected=452.1900024414063, predicted=444.7818298339844\n",
      ">expected=452.8600056966146, predicted=445.26654052734375\n",
      ">expected=453.530008951823, predicted=445.7816467285156\n",
      ">expected=454.2000122070313, predicted=446.32110595703125\n",
      ">expected=453.7099914550781, predicted=446.9093017578125\n",
      ">expected=453.9100036621094, predicted=447.4807434082031\n",
      ">expected=455.2699890136719, predicted=447.98333740234375\n",
      ">expected=455.0700073242188, predicted=448.7309875488281\n",
      ">expected=454.702507019043, predicted=449.2836608886719\n",
      ">expected=454.3350067138672, predicted=449.79620361328125\n",
      ">expected=453.9675064086914, predicted=450.24139404296875\n",
      ">expected=453.6000061035156, predicted=450.6537780761719\n",
      ">expected=453.0, predicted=450.9847412109375\n",
      ">expected=450.9800109863281, predicted=451.26873779296875\n",
      ">expected=447.5400085449219, predicted=451.2533874511719\n",
      ">expected=447.8866678873698, predicted=450.8314208984375\n",
      ">expected=448.2333272298177, predicted=450.5205993652344\n",
      ">expected=448.5799865722656, predicted=450.212646484375\n",
      ">expected=446.1900024414063, predicted=449.9246826171875\n",
      "MAE: 4.271693725585948\n"
     ]
    }
   ],
   "source": [
    "mae, y, yhat = walk_forward_validation(data, 10*prev_values)\n",
    "print(f'MAE: {mae}')"
   ]
  },
  {
   "cell_type": "markdown",
   "metadata": {},
   "source": [
    "Plot expected vs predicted"
   ]
  },
  {
   "cell_type": "code",
   "execution_count": 16,
   "metadata": {},
   "outputs": [
    {
     "data": {
      "image/png": "[encoded data removed]",
      "text/plain": [
       "<Figure size 432x288 with 1 Axes>"
      ]
     },
     "metadata": {
      "needs_background": "light"
     },
     "output_type": "display_data"
    }
   ],
   "source": [
    "pyplot.plot(y, label='Expected')\n",
    "pyplot.plot(yhat, label='Predicted')\n",
    "pyplot.legend()\n",
    "pyplot.show()"
   ]
  },
  {
   "cell_type": "markdown",
   "metadata": {},
   "source": [
    "## Predict a single value"
   ]
  },
  {
   "cell_type": "markdown",
   "metadata": {},
   "source": [
    "Transform the time series data into supervised learning"
   ]
  },
  {
   "cell_type": "code",
   "execution_count": 17,
   "metadata": {},
   "outputs": [],
   "source": [
    "train = series_to_supervised(df['Close'].values.tolist()[:-prev_values-1], n_in=prev_values)"
   ]
  },
  {
   "cell_type": "markdown",
   "metadata": {},
   "source": [
    " Split into input and output columns"
   ]
  },
  {
   "cell_type": "code",
   "execution_count": 18,
   "metadata": {},
   "outputs": [],
   "source": [
    "trainX, trainy = train[:, :-1], train[:, -1]"
   ]
  },
  {
   "cell_type": "markdown",
   "metadata": {},
   "source": [
    "Fit model"
   ]
  },
  {
   "cell_type": "code",
   "execution_count": 19,
   "metadata": {},
   "outputs": [
    {
     "data": {
      "text/plain": [
       "XGBRFRegressor(base_score=0.5, booster='gbtree', colsample_bylevel=1,\n",
       "               colsample_bytree=1, gamma=0, gpu_id=-1, importance_type='gain',\n",
       "               interaction_constraints='', max_delta_step=0, max_depth=6,\n",
       "               min_child_weight=1, missing=nan, monotone_constraints='()',\n",
       "               n_estimators=1000, n_jobs=8, num_parallel_tree=1000,\n",
       "               objective='reg:squarederror', random_state=0, reg_alpha=0,\n",
       "               scale_pos_weight=1, tree_method='exact', validate_parameters=1,\n",
       "               verbosity=None)"
      ]
     },
     "execution_count": 19,
     "metadata": {},
     "output_type": "execute_result"
    }
   ],
   "source": [
    "model = XGBRFRegressor(objective='reg:squarederror', n_estimators=1000)\n",
    "model.fit(trainX, trainy)"
   ]
  },
  {
   "cell_type": "markdown",
   "metadata": {},
   "source": [
    "Construct an input for a new prediction"
   ]
  },
  {
   "cell_type": "code",
   "execution_count": 20,
   "metadata": {},
   "outputs": [],
   "source": [
    "row = df['Close'].values.tolist()[-prev_values-1:-1]"
   ]
  },
  {
   "cell_type": "markdown",
   "metadata": {},
   "source": [
    "Make a one step prediction"
   ]
  },
  {
   "cell_type": "code",
   "execution_count": 21,
   "metadata": {},
   "outputs": [],
   "source": [
    "yhat = model.predict(asarray([row]))"
   ]
  },
  {
   "cell_type": "code",
   "execution_count": 22,
   "metadata": {},
   "outputs": [
    {
     "name": "stdout",
     "output_type": "stream",
     "text": [
      "Input: [454.702507019043, 454.3350067138672, 453.9675064086914, 453.6000061035156, 453.0, 450.9800109863281, 447.5400085449219, 447.8866678873698, 448.2333272298177, 448.5799865722656]\n"
     ]
    }
   ],
   "source": [
    "print(f'Input: {row}')"
   ]
  },
  {
   "cell_type": "code",
   "execution_count": 23,
   "metadata": {},
   "outputs": [
    {
     "name": "stdout",
     "output_type": "stream",
     "text": [
      "Predicted: 449.25, Expected: 446.19\n"
     ]
    }
   ],
   "source": [
    "print(f'Predicted: {yhat[0]:.2f}, Expected: {df[\"Close\"].values.tolist()[-1]:.2f}')"
   ]
  },
  {
   "cell_type": "markdown",
   "metadata": {},
   "source": [
    "**THIS IS NOT AN INVESTMENT ADVICE!**"
   ]
  }
 ],
 "metadata": {
  "kernelspec": {
   "display_name": "Python 3",
   "language": "python",
   "name": "python3"
  },
  "language_info": {
   "codemirror_mode": {
    "name": "ipython",
    "version": 3
   },
   "file_extension": ".py",
   "mimetype": "text/x-python",
   "name": "python",
   "nbconvert_exporter": "python",
   "pygments_lexer": "ipython3",
   "version": "3.8.10"
  }
 },
 "nbformat": 4,
 "nbformat_minor": 4
}
