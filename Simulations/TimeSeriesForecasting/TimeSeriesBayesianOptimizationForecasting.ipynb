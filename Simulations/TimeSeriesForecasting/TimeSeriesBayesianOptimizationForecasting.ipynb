{
 "cells": [
  {
   "cell_type": "markdown",
   "metadata": {},
   "source": [
    "# Time Series BayesianOptimization Forecasting"
   ]
  },
  {
   "cell_type": "markdown",
   "metadata": {},
   "source": [
    "Based on:\n",
    "* [Time Series Forecasting on Stock Prices](https://www.youtube.com/watch?v=j05UUs99eNQ) from [Coding Tech](https://www.youtube.com/channel/UCtxCXg-UvSnTKPOzLH4wJaQ)\n",
    "\n",
    "Related:\n",
    "* https://iknowfirst.com/stock-forecast-algorithm"
   ]
  },
  {
   "cell_type": "markdown",
   "metadata": {},
   "source": [
    "**Disclaimer:** _Investing in the stock market involves risk and can lead to monetary loss. This material is purely for educational purposes and should not be taken as professional investment advice. Invest at your own discretion._"
   ]
  },
  {
   "cell_type": "markdown",
   "metadata": {},
   "source": [
    "Import the libraries"
   ]
  },
  {
   "cell_type": "code",
   "execution_count": 1,
   "metadata": {},
   "outputs": [],
   "source": [
    "import pandas as pd\n",
    "import numpy as np\n",
    "\n",
    "from sklearn.preprocessing import MinMaxScaler\n",
    "\n",
    "from sklearn.model_selection import train_test_split\n",
    "\n",
    "from sklearn.decomposition import PCA\n",
    "\n",
    "from sklearn.svm import SVR\n",
    "\n",
    "from sklearn.feature_selection import RFE\n",
    "\n",
    "import keras_tuner as kt\n",
    "\n",
    "import tensorflow as tf\n",
    "\n",
    "from tensorflow.keras.models import Sequential\n",
    "from tensorflow.keras.layers import LSTM, Dropout, Dense\n",
    "\n",
    "import matplotlib.pyplot as plt"
   ]
  },
  {
   "cell_type": "markdown",
   "metadata": {},
   "source": [
    "Load the data"
   ]
  },
  {
   "cell_type": "code",
   "execution_count": 2,
   "metadata": {},
   "outputs": [],
   "source": [
    "df = pd.read_csv(\"SP500.csv\")"
   ]
  },
  {
   "cell_type": "markdown",
   "metadata": {},
   "source": [
    "Show the data"
   ]
  },
  {
   "cell_type": "code",
   "execution_count": 3,
   "metadata": {},
   "outputs": [
    {
     "data": {
      "text/html": [
       "<div>\n",
       "<style scoped>\n",
       "    .dataframe tbody tr th:only-of-type {\n",
       "        vertical-align: middle;\n",
       "    }\n",
       "\n",
       "    .dataframe tbody tr th {\n",
       "        vertical-align: top;\n",
       "    }\n",
       "\n",
       "    .dataframe thead th {\n",
       "        text-align: right;\n",
       "    }\n",
       "</style>\n",
       "<table border=\"1\" class=\"dataframe\">\n",
       "  <thead>\n",
       "    <tr style=\"text-align: right;\">\n",
       "      <th></th>\n",
       "      <th>Date</th>\n",
       "      <th>Open</th>\n",
       "      <th>High</th>\n",
       "      <th>Low</th>\n",
       "      <th>Close</th>\n",
       "      <th>Volume</th>\n",
       "      <th>Dividends</th>\n",
       "      <th>Stock Splits</th>\n",
       "    </tr>\n",
       "  </thead>\n",
       "  <tbody>\n",
       "    <tr>\n",
       "      <th>0</th>\n",
       "      <td>2000-05-19</td>\n",
       "      <td>96.106028</td>\n",
       "      <td>96.106028</td>\n",
       "      <td>94.484962</td>\n",
       "      <td>94.779701</td>\n",
       "      <td>775500</td>\n",
       "      <td>0.0</td>\n",
       "      <td>0</td>\n",
       "    </tr>\n",
       "    <tr>\n",
       "      <th>1</th>\n",
       "      <td>2000-05-22</td>\n",
       "      <td>94.716551</td>\n",
       "      <td>94.716551</td>\n",
       "      <td>92.169162</td>\n",
       "      <td>94.190231</td>\n",
       "      <td>1850600</td>\n",
       "      <td>0.0</td>\n",
       "      <td>0</td>\n",
       "    </tr>\n",
       "    <tr>\n",
       "      <th>2</th>\n",
       "      <td>2000-05-23</td>\n",
       "      <td>94.463952</td>\n",
       "      <td>94.463952</td>\n",
       "      <td>92.758675</td>\n",
       "      <td>92.758675</td>\n",
       "      <td>373900</td>\n",
       "      <td>0.0</td>\n",
       "      <td>0</td>\n",
       "    </tr>\n",
       "    <tr>\n",
       "      <th>3</th>\n",
       "      <td>2000-05-24</td>\n",
       "      <td>92.800753</td>\n",
       "      <td>94.358660</td>\n",
       "      <td>92.063905</td>\n",
       "      <td>94.148132</td>\n",
       "      <td>400300</td>\n",
       "      <td>0.0</td>\n",
       "      <td>0</td>\n",
       "    </tr>\n",
       "    <tr>\n",
       "      <th>4</th>\n",
       "      <td>2000-05-25</td>\n",
       "      <td>94.337613</td>\n",
       "      <td>94.948145</td>\n",
       "      <td>92.884970</td>\n",
       "      <td>93.284973</td>\n",
       "      <td>69600</td>\n",
       "      <td>0.0</td>\n",
       "      <td>0</td>\n",
       "    </tr>\n",
       "    <tr>\n",
       "      <th>...</th>\n",
       "      <td>...</td>\n",
       "      <td>...</td>\n",
       "      <td>...</td>\n",
       "      <td>...</td>\n",
       "      <td>...</td>\n",
       "      <td>...</td>\n",
       "      <td>...</td>\n",
       "      <td>...</td>\n",
       "    </tr>\n",
       "    <tr>\n",
       "      <th>5359</th>\n",
       "      <td>2021-09-08</td>\n",
       "      <td>452.899994</td>\n",
       "      <td>453.679993</td>\n",
       "      <td>450.869995</td>\n",
       "      <td>453.000000</td>\n",
       "      <td>4076800</td>\n",
       "      <td>0.0</td>\n",
       "      <td>0</td>\n",
       "    </tr>\n",
       "    <tr>\n",
       "      <th>5360</th>\n",
       "      <td>2021-09-09</td>\n",
       "      <td>452.690002</td>\n",
       "      <td>454.579987</td>\n",
       "      <td>450.730011</td>\n",
       "      <td>450.980011</td>\n",
       "      <td>3851600</td>\n",
       "      <td>0.0</td>\n",
       "      <td>0</td>\n",
       "    </tr>\n",
       "    <tr>\n",
       "      <th>5361</th>\n",
       "      <td>2021-09-10</td>\n",
       "      <td>453.059998</td>\n",
       "      <td>453.510010</td>\n",
       "      <td>447.299988</td>\n",
       "      <td>447.540009</td>\n",
       "      <td>3023500</td>\n",
       "      <td>0.0</td>\n",
       "      <td>0</td>\n",
       "    </tr>\n",
       "    <tr>\n",
       "      <th>5362</th>\n",
       "      <td>2021-09-13</td>\n",
       "      <td>450.679993</td>\n",
       "      <td>450.929993</td>\n",
       "      <td>446.089996</td>\n",
       "      <td>448.579987</td>\n",
       "      <td>3007400</td>\n",
       "      <td>0.0</td>\n",
       "      <td>0</td>\n",
       "    </tr>\n",
       "    <tr>\n",
       "      <th>5363</th>\n",
       "      <td>2021-09-14</td>\n",
       "      <td>450.079987</td>\n",
       "      <td>450.320007</td>\n",
       "      <td>445.200012</td>\n",
       "      <td>446.190002</td>\n",
       "      <td>3658400</td>\n",
       "      <td>0.0</td>\n",
       "      <td>0</td>\n",
       "    </tr>\n",
       "  </tbody>\n",
       "</table>\n",
       "<p>5364 rows × 8 columns</p>\n",
       "</div>"
      ],
      "text/plain": [
       "            Date        Open        High         Low       Close   Volume  \\\n",
       "0     2000-05-19   96.106028   96.106028   94.484962   94.779701   775500   \n",
       "1     2000-05-22   94.716551   94.716551   92.169162   94.190231  1850600   \n",
       "2     2000-05-23   94.463952   94.463952   92.758675   92.758675   373900   \n",
       "3     2000-05-24   92.800753   94.358660   92.063905   94.148132   400300   \n",
       "4     2000-05-25   94.337613   94.948145   92.884970   93.284973    69600   \n",
       "...          ...         ...         ...         ...         ...      ...   \n",
       "5359  2021-09-08  452.899994  453.679993  450.869995  453.000000  4076800   \n",
       "5360  2021-09-09  452.690002  454.579987  450.730011  450.980011  3851600   \n",
       "5361  2021-09-10  453.059998  453.510010  447.299988  447.540009  3023500   \n",
       "5362  2021-09-13  450.679993  450.929993  446.089996  448.579987  3007400   \n",
       "5363  2021-09-14  450.079987  450.320007  445.200012  446.190002  3658400   \n",
       "\n",
       "      Dividends  Stock Splits  \n",
       "0           0.0             0  \n",
       "1           0.0             0  \n",
       "2           0.0             0  \n",
       "3           0.0             0  \n",
       "4           0.0             0  \n",
       "...         ...           ...  \n",
       "5359        0.0             0  \n",
       "5360        0.0             0  \n",
       "5361        0.0             0  \n",
       "5362        0.0             0  \n",
       "5363        0.0             0  \n",
       "\n",
       "[5364 rows x 8 columns]"
      ]
     },
     "execution_count": 3,
     "metadata": {},
     "output_type": "execute_result"
    }
   ],
   "source": [
    "df"
   ]
  },
  {
   "cell_type": "markdown",
   "metadata": {},
   "source": [
    "Add indices for every day in the period"
   ]
  },
  {
   "cell_type": "code",
   "execution_count": 4,
   "metadata": {},
   "outputs": [],
   "source": [
    "start_date = df.Date.min()\n",
    "end_date = df.Date.max()"
   ]
  },
  {
   "cell_type": "code",
   "execution_count": 5,
   "metadata": {},
   "outputs": [],
   "source": [
    "df_date = pd.date_range(start=start_date, end=end_date).to_frame(name=\"Date\")\n",
    "df_date.reset_index(drop=True, inplace=True) "
   ]
  },
  {
   "cell_type": "code",
   "execution_count": 6,
   "metadata": {},
   "outputs": [],
   "source": [
    "df[\"Date\"] = pd.to_datetime(df[\"Date\"])\n",
    "df = df.merge(df_date, how='right')"
   ]
  },
  {
   "cell_type": "markdown",
   "metadata": {},
   "source": [
    "Interpolate missing values"
   ]
  },
  {
   "cell_type": "code",
   "execution_count": 7,
   "metadata": {},
   "outputs": [],
   "source": [
    "df = df.interpolate(method='linear', limit_direction='both')"
   ]
  },
  {
   "cell_type": "code",
   "execution_count": 8,
   "metadata": {},
   "outputs": [
    {
     "data": {
      "text/html": [
       "<div>\n",
       "<style scoped>\n",
       "    .dataframe tbody tr th:only-of-type {\n",
       "        vertical-align: middle;\n",
       "    }\n",
       "\n",
       "    .dataframe tbody tr th {\n",
       "        vertical-align: top;\n",
       "    }\n",
       "\n",
       "    .dataframe thead th {\n",
       "        text-align: right;\n",
       "    }\n",
       "</style>\n",
       "<table border=\"1\" class=\"dataframe\">\n",
       "  <thead>\n",
       "    <tr style=\"text-align: right;\">\n",
       "      <th></th>\n",
       "      <th>Date</th>\n",
       "      <th>Open</th>\n",
       "      <th>High</th>\n",
       "      <th>Low</th>\n",
       "      <th>Close</th>\n",
       "      <th>Volume</th>\n",
       "      <th>Dividends</th>\n",
       "      <th>Stock Splits</th>\n",
       "    </tr>\n",
       "  </thead>\n",
       "  <tbody>\n",
       "    <tr>\n",
       "      <th>0</th>\n",
       "      <td>2000-05-19</td>\n",
       "      <td>96.106028</td>\n",
       "      <td>96.106028</td>\n",
       "      <td>94.484962</td>\n",
       "      <td>94.779701</td>\n",
       "      <td>7.755000e+05</td>\n",
       "      <td>0.0</td>\n",
       "      <td>0.0</td>\n",
       "    </tr>\n",
       "    <tr>\n",
       "      <th>1</th>\n",
       "      <td>2000-05-20</td>\n",
       "      <td>95.642869</td>\n",
       "      <td>95.642869</td>\n",
       "      <td>93.713029</td>\n",
       "      <td>94.583211</td>\n",
       "      <td>1.133867e+06</td>\n",
       "      <td>0.0</td>\n",
       "      <td>0.0</td>\n",
       "    </tr>\n",
       "    <tr>\n",
       "      <th>2</th>\n",
       "      <td>2000-05-21</td>\n",
       "      <td>95.179710</td>\n",
       "      <td>95.179710</td>\n",
       "      <td>92.941096</td>\n",
       "      <td>94.386721</td>\n",
       "      <td>1.492233e+06</td>\n",
       "      <td>0.0</td>\n",
       "      <td>0.0</td>\n",
       "    </tr>\n",
       "    <tr>\n",
       "      <th>3</th>\n",
       "      <td>2000-05-22</td>\n",
       "      <td>94.716551</td>\n",
       "      <td>94.716551</td>\n",
       "      <td>92.169162</td>\n",
       "      <td>94.190231</td>\n",
       "      <td>1.850600e+06</td>\n",
       "      <td>0.0</td>\n",
       "      <td>0.0</td>\n",
       "    </tr>\n",
       "    <tr>\n",
       "      <th>4</th>\n",
       "      <td>2000-05-23</td>\n",
       "      <td>94.463952</td>\n",
       "      <td>94.463952</td>\n",
       "      <td>92.758675</td>\n",
       "      <td>92.758675</td>\n",
       "      <td>3.739000e+05</td>\n",
       "      <td>0.0</td>\n",
       "      <td>0.0</td>\n",
       "    </tr>\n",
       "    <tr>\n",
       "      <th>...</th>\n",
       "      <td>...</td>\n",
       "      <td>...</td>\n",
       "      <td>...</td>\n",
       "      <td>...</td>\n",
       "      <td>...</td>\n",
       "      <td>...</td>\n",
       "      <td>...</td>\n",
       "      <td>...</td>\n",
       "    </tr>\n",
       "    <tr>\n",
       "      <th>7784</th>\n",
       "      <td>2021-09-10</td>\n",
       "      <td>453.059998</td>\n",
       "      <td>453.510010</td>\n",
       "      <td>447.299988</td>\n",
       "      <td>447.540009</td>\n",
       "      <td>3.023500e+06</td>\n",
       "      <td>0.0</td>\n",
       "      <td>0.0</td>\n",
       "    </tr>\n",
       "    <tr>\n",
       "      <th>7785</th>\n",
       "      <td>2021-09-11</td>\n",
       "      <td>452.266663</td>\n",
       "      <td>452.650004</td>\n",
       "      <td>446.896657</td>\n",
       "      <td>447.886668</td>\n",
       "      <td>3.018133e+06</td>\n",
       "      <td>0.0</td>\n",
       "      <td>0.0</td>\n",
       "    </tr>\n",
       "    <tr>\n",
       "      <th>7786</th>\n",
       "      <td>2021-09-12</td>\n",
       "      <td>451.473328</td>\n",
       "      <td>451.789998</td>\n",
       "      <td>446.493327</td>\n",
       "      <td>448.233327</td>\n",
       "      <td>3.012767e+06</td>\n",
       "      <td>0.0</td>\n",
       "      <td>0.0</td>\n",
       "    </tr>\n",
       "    <tr>\n",
       "      <th>7787</th>\n",
       "      <td>2021-09-13</td>\n",
       "      <td>450.679993</td>\n",
       "      <td>450.929993</td>\n",
       "      <td>446.089996</td>\n",
       "      <td>448.579987</td>\n",
       "      <td>3.007400e+06</td>\n",
       "      <td>0.0</td>\n",
       "      <td>0.0</td>\n",
       "    </tr>\n",
       "    <tr>\n",
       "      <th>7788</th>\n",
       "      <td>2021-09-14</td>\n",
       "      <td>450.079987</td>\n",
       "      <td>450.320007</td>\n",
       "      <td>445.200012</td>\n",
       "      <td>446.190002</td>\n",
       "      <td>3.658400e+06</td>\n",
       "      <td>0.0</td>\n",
       "      <td>0.0</td>\n",
       "    </tr>\n",
       "  </tbody>\n",
       "</table>\n",
       "<p>7789 rows × 8 columns</p>\n",
       "</div>"
      ],
      "text/plain": [
       "           Date        Open        High         Low       Close        Volume  \\\n",
       "0    2000-05-19   96.106028   96.106028   94.484962   94.779701  7.755000e+05   \n",
       "1    2000-05-20   95.642869   95.642869   93.713029   94.583211  1.133867e+06   \n",
       "2    2000-05-21   95.179710   95.179710   92.941096   94.386721  1.492233e+06   \n",
       "3    2000-05-22   94.716551   94.716551   92.169162   94.190231  1.850600e+06   \n",
       "4    2000-05-23   94.463952   94.463952   92.758675   92.758675  3.739000e+05   \n",
       "...         ...         ...         ...         ...         ...           ...   \n",
       "7784 2021-09-10  453.059998  453.510010  447.299988  447.540009  3.023500e+06   \n",
       "7785 2021-09-11  452.266663  452.650004  446.896657  447.886668  3.018133e+06   \n",
       "7786 2021-09-12  451.473328  451.789998  446.493327  448.233327  3.012767e+06   \n",
       "7787 2021-09-13  450.679993  450.929993  446.089996  448.579987  3.007400e+06   \n",
       "7788 2021-09-14  450.079987  450.320007  445.200012  446.190002  3.658400e+06   \n",
       "\n",
       "      Dividends  Stock Splits  \n",
       "0           0.0           0.0  \n",
       "1           0.0           0.0  \n",
       "2           0.0           0.0  \n",
       "3           0.0           0.0  \n",
       "4           0.0           0.0  \n",
       "...         ...           ...  \n",
       "7784        0.0           0.0  \n",
       "7785        0.0           0.0  \n",
       "7786        0.0           0.0  \n",
       "7787        0.0           0.0  \n",
       "7788        0.0           0.0  \n",
       "\n",
       "[7789 rows x 8 columns]"
      ]
     },
     "execution_count": 8,
     "metadata": {},
     "output_type": "execute_result"
    }
   ],
   "source": [
    "df"
   ]
  },
  {
   "cell_type": "markdown",
   "metadata": {},
   "source": [
    "Remove not needed columns"
   ]
  },
  {
   "cell_type": "code",
   "execution_count": 9,
   "metadata": {},
   "outputs": [],
   "source": [
    "df = df[['Date', 'Close']].copy()"
   ]
  },
  {
   "cell_type": "code",
   "execution_count": 10,
   "metadata": {},
   "outputs": [
    {
     "data": {
      "text/html": [
       "<div>\n",
       "<style scoped>\n",
       "    .dataframe tbody tr th:only-of-type {\n",
       "        vertical-align: middle;\n",
       "    }\n",
       "\n",
       "    .dataframe tbody tr th {\n",
       "        vertical-align: top;\n",
       "    }\n",
       "\n",
       "    .dataframe thead th {\n",
       "        text-align: right;\n",
       "    }\n",
       "</style>\n",
       "<table border=\"1\" class=\"dataframe\">\n",
       "  <thead>\n",
       "    <tr style=\"text-align: right;\">\n",
       "      <th></th>\n",
       "      <th>Date</th>\n",
       "      <th>Close</th>\n",
       "    </tr>\n",
       "  </thead>\n",
       "  <tbody>\n",
       "    <tr>\n",
       "      <th>0</th>\n",
       "      <td>2000-05-19</td>\n",
       "      <td>94.779701</td>\n",
       "    </tr>\n",
       "    <tr>\n",
       "      <th>1</th>\n",
       "      <td>2000-05-20</td>\n",
       "      <td>94.583211</td>\n",
       "    </tr>\n",
       "    <tr>\n",
       "      <th>2</th>\n",
       "      <td>2000-05-21</td>\n",
       "      <td>94.386721</td>\n",
       "    </tr>\n",
       "    <tr>\n",
       "      <th>3</th>\n",
       "      <td>2000-05-22</td>\n",
       "      <td>94.190231</td>\n",
       "    </tr>\n",
       "    <tr>\n",
       "      <th>4</th>\n",
       "      <td>2000-05-23</td>\n",
       "      <td>92.758675</td>\n",
       "    </tr>\n",
       "    <tr>\n",
       "      <th>...</th>\n",
       "      <td>...</td>\n",
       "      <td>...</td>\n",
       "    </tr>\n",
       "    <tr>\n",
       "      <th>7784</th>\n",
       "      <td>2021-09-10</td>\n",
       "      <td>447.540009</td>\n",
       "    </tr>\n",
       "    <tr>\n",
       "      <th>7785</th>\n",
       "      <td>2021-09-11</td>\n",
       "      <td>447.886668</td>\n",
       "    </tr>\n",
       "    <tr>\n",
       "      <th>7786</th>\n",
       "      <td>2021-09-12</td>\n",
       "      <td>448.233327</td>\n",
       "    </tr>\n",
       "    <tr>\n",
       "      <th>7787</th>\n",
       "      <td>2021-09-13</td>\n",
       "      <td>448.579987</td>\n",
       "    </tr>\n",
       "    <tr>\n",
       "      <th>7788</th>\n",
       "      <td>2021-09-14</td>\n",
       "      <td>446.190002</td>\n",
       "    </tr>\n",
       "  </tbody>\n",
       "</table>\n",
       "<p>7789 rows × 2 columns</p>\n",
       "</div>"
      ],
      "text/plain": [
       "           Date       Close\n",
       "0    2000-05-19   94.779701\n",
       "1    2000-05-20   94.583211\n",
       "2    2000-05-21   94.386721\n",
       "3    2000-05-22   94.190231\n",
       "4    2000-05-23   92.758675\n",
       "...         ...         ...\n",
       "7784 2021-09-10  447.540009\n",
       "7785 2021-09-11  447.886668\n",
       "7786 2021-09-12  448.233327\n",
       "7787 2021-09-13  448.579987\n",
       "7788 2021-09-14  446.190002\n",
       "\n",
       "[7789 rows x 2 columns]"
      ]
     },
     "execution_count": 10,
     "metadata": {},
     "output_type": "execute_result"
    }
   ],
   "source": [
    "df"
   ]
  },
  {
   "cell_type": "markdown",
   "metadata": {},
   "source": [
    "**Simple Moving Average**\n",
    "* Example periods: 15, 30 or 45 days"
   ]
  },
  {
   "cell_type": "code",
   "execution_count": 11,
   "metadata": {},
   "outputs": [],
   "source": [
    "def computeSMA(data, period, column='Close'):\n",
    "    return data[column].rolling(window=period).mean()"
   ]
  },
  {
   "cell_type": "code",
   "execution_count": 12,
   "metadata": {},
   "outputs": [],
   "source": [
    "df['SMA'] = computeSMA(df, period=15)"
   ]
  },
  {
   "cell_type": "markdown",
   "metadata": {},
   "source": [
    "**Exponential Moving Averages**\n",
    "* Example periods: 15, 30 or 45 days"
   ]
  },
  {
   "cell_type": "code",
   "execution_count": 13,
   "metadata": {},
   "outputs": [],
   "source": [
    "def computeEMA(data, period, column='Close'):\n",
    "    return data[column].ewm(span=period, adjust=False).mean()"
   ]
  },
  {
   "cell_type": "code",
   "execution_count": 14,
   "metadata": {},
   "outputs": [],
   "source": [
    "df['EMA'] = computeEMA(df, period=15)"
   ]
  },
  {
   "cell_type": "markdown",
   "metadata": {},
   "source": [
    "**Relative Strength Index**"
   ]
  },
  {
   "cell_type": "code",
   "execution_count": 15,
   "metadata": {},
   "outputs": [],
   "source": [
    "def computeRSI(data, period=14, column='Close'):\n",
    "    delta = data[column].diff(1)\n",
    "    delta = delta.dropna()\n",
    "    up = delta.copy()\n",
    "    down = delta.copy()\n",
    "    up[up < 0] = 0\n",
    "    down[down > 0] = 0\n",
    "    data['up'] = up\n",
    "    data['down'] = down\n",
    "    AVG_Gain = computeSMA(data, period, column='up')\n",
    "    AVG_Loss = abs(computeSMA(data, period, column='down'))\n",
    "    RS = AVG_Gain / AVG_Loss\n",
    "    RSI = 100.0 - (100.0 / (1.0 + RS))\n",
    "    return RSI"
   ]
  },
  {
   "cell_type": "code",
   "execution_count": 16,
   "metadata": {},
   "outputs": [],
   "source": [
    "df['RSI'] = computeRSI(df, period=14)"
   ]
  },
  {
   "cell_type": "markdown",
   "metadata": {},
   "source": [
    "**Moving Average Convergence Divergence**"
   ]
  },
  {
   "cell_type": "code",
   "execution_count": 17,
   "metadata": {},
   "outputs": [],
   "source": [
    "def MACD(data, period1=26, period2=12, signal=9, column='Close'):\n",
    "    exp1 = computeEMA(data,period1, column=column)\n",
    "    exp2 = computeEMA(data,period2, column=column)\n",
    "    data['MACD'] = exp2 - exp1\n",
    "    data['Signal Line'] = computeSMA(data, signal, column='MACD')"
   ]
  },
  {
   "cell_type": "code",
   "execution_count": 18,
   "metadata": {},
   "outputs": [],
   "source": [
    "MACD(df)"
   ]
  },
  {
   "cell_type": "code",
   "execution_count": 19,
   "metadata": {},
   "outputs": [
    {
     "data": {
      "text/html": [
       "<div>\n",
       "<style scoped>\n",
       "    .dataframe tbody tr th:only-of-type {\n",
       "        vertical-align: middle;\n",
       "    }\n",
       "\n",
       "    .dataframe tbody tr th {\n",
       "        vertical-align: top;\n",
       "    }\n",
       "\n",
       "    .dataframe thead th {\n",
       "        text-align: right;\n",
       "    }\n",
       "</style>\n",
       "<table border=\"1\" class=\"dataframe\">\n",
       "  <thead>\n",
       "    <tr style=\"text-align: right;\">\n",
       "      <th></th>\n",
       "      <th>Date</th>\n",
       "      <th>Close</th>\n",
       "      <th>SMA</th>\n",
       "      <th>EMA</th>\n",
       "      <th>up</th>\n",
       "      <th>down</th>\n",
       "      <th>RSI</th>\n",
       "      <th>MACD</th>\n",
       "      <th>Signal Line</th>\n",
       "    </tr>\n",
       "  </thead>\n",
       "  <tbody>\n",
       "    <tr>\n",
       "      <th>0</th>\n",
       "      <td>2000-05-19</td>\n",
       "      <td>94.779701</td>\n",
       "      <td>NaN</td>\n",
       "      <td>94.779701</td>\n",
       "      <td>NaN</td>\n",
       "      <td>NaN</td>\n",
       "      <td>NaN</td>\n",
       "      <td>0.000000</td>\n",
       "      <td>NaN</td>\n",
       "    </tr>\n",
       "    <tr>\n",
       "      <th>1</th>\n",
       "      <td>2000-05-20</td>\n",
       "      <td>94.583211</td>\n",
       "      <td>NaN</td>\n",
       "      <td>94.755140</td>\n",
       "      <td>0.000000</td>\n",
       "      <td>-0.196490</td>\n",
       "      <td>NaN</td>\n",
       "      <td>-0.015674</td>\n",
       "      <td>NaN</td>\n",
       "    </tr>\n",
       "    <tr>\n",
       "      <th>2</th>\n",
       "      <td>2000-05-21</td>\n",
       "      <td>94.386721</td>\n",
       "      <td>NaN</td>\n",
       "      <td>94.709088</td>\n",
       "      <td>0.000000</td>\n",
       "      <td>-0.196490</td>\n",
       "      <td>NaN</td>\n",
       "      <td>-0.043451</td>\n",
       "      <td>NaN</td>\n",
       "    </tr>\n",
       "    <tr>\n",
       "      <th>3</th>\n",
       "      <td>2000-05-22</td>\n",
       "      <td>94.190231</td>\n",
       "      <td>NaN</td>\n",
       "      <td>94.644231</td>\n",
       "      <td>0.000000</td>\n",
       "      <td>-0.196490</td>\n",
       "      <td>NaN</td>\n",
       "      <td>-0.080392</td>\n",
       "      <td>NaN</td>\n",
       "    </tr>\n",
       "    <tr>\n",
       "      <th>4</th>\n",
       "      <td>2000-05-23</td>\n",
       "      <td>92.758675</td>\n",
       "      <td>NaN</td>\n",
       "      <td>94.408536</td>\n",
       "      <td>0.000000</td>\n",
       "      <td>-1.431557</td>\n",
       "      <td>NaN</td>\n",
       "      <td>-0.222617</td>\n",
       "      <td>NaN</td>\n",
       "    </tr>\n",
       "    <tr>\n",
       "      <th>...</th>\n",
       "      <td>...</td>\n",
       "      <td>...</td>\n",
       "      <td>...</td>\n",
       "      <td>...</td>\n",
       "      <td>...</td>\n",
       "      <td>...</td>\n",
       "      <td>...</td>\n",
       "      <td>...</td>\n",
       "      <td>...</td>\n",
       "    </tr>\n",
       "    <tr>\n",
       "      <th>7784</th>\n",
       "      <td>2021-09-10</td>\n",
       "      <td>447.540009</td>\n",
       "      <td>453.257671</td>\n",
       "      <td>451.878931</td>\n",
       "      <td>0.000000</td>\n",
       "      <td>-3.440002</td>\n",
       "      <td>30.279938</td>\n",
       "      <td>1.487905</td>\n",
       "      <td>2.619024</td>\n",
       "    </tr>\n",
       "    <tr>\n",
       "      <th>7785</th>\n",
       "      <td>2021-09-11</td>\n",
       "      <td>447.886668</td>\n",
       "      <td>452.970782</td>\n",
       "      <td>451.379898</td>\n",
       "      <td>0.346659</td>\n",
       "      <td>0.000000</td>\n",
       "      <td>28.313930</td>\n",
       "      <td>1.046934</td>\n",
       "      <td>2.394046</td>\n",
       "    </tr>\n",
       "    <tr>\n",
       "      <th>7786</th>\n",
       "      <td>2021-09-12</td>\n",
       "      <td>448.233327</td>\n",
       "      <td>452.662337</td>\n",
       "      <td>450.986577</td>\n",
       "      <td>0.346659</td>\n",
       "      <td>0.000000</td>\n",
       "      <td>26.233827</td>\n",
       "      <td>0.717167</td>\n",
       "      <td>2.129901</td>\n",
       "    </tr>\n",
       "    <tr>\n",
       "      <th>7787</th>\n",
       "      <td>2021-09-13</td>\n",
       "      <td>448.579987</td>\n",
       "      <td>452.332335</td>\n",
       "      <td>450.685753</td>\n",
       "      <td>0.346659</td>\n",
       "      <td>0.000000</td>\n",
       "      <td>24.029401</td>\n",
       "      <td>0.478284</td>\n",
       "      <td>1.844411</td>\n",
       "    </tr>\n",
       "    <tr>\n",
       "      <th>7788</th>\n",
       "      <td>2021-09-14</td>\n",
       "      <td>446.190002</td>\n",
       "      <td>451.798335</td>\n",
       "      <td>450.123784</td>\n",
       "      <td>0.000000</td>\n",
       "      <td>-2.389984</td>\n",
       "      <td>20.440156</td>\n",
       "      <td>0.095020</td>\n",
       "      <td>1.527523</td>\n",
       "    </tr>\n",
       "  </tbody>\n",
       "</table>\n",
       "<p>7789 rows × 9 columns</p>\n",
       "</div>"
      ],
      "text/plain": [
       "           Date       Close         SMA         EMA        up      down  \\\n",
       "0    2000-05-19   94.779701         NaN   94.779701       NaN       NaN   \n",
       "1    2000-05-20   94.583211         NaN   94.755140  0.000000 -0.196490   \n",
       "2    2000-05-21   94.386721         NaN   94.709088  0.000000 -0.196490   \n",
       "3    2000-05-22   94.190231         NaN   94.644231  0.000000 -0.196490   \n",
       "4    2000-05-23   92.758675         NaN   94.408536  0.000000 -1.431557   \n",
       "...         ...         ...         ...         ...       ...       ...   \n",
       "7784 2021-09-10  447.540009  453.257671  451.878931  0.000000 -3.440002   \n",
       "7785 2021-09-11  447.886668  452.970782  451.379898  0.346659  0.000000   \n",
       "7786 2021-09-12  448.233327  452.662337  450.986577  0.346659  0.000000   \n",
       "7787 2021-09-13  448.579987  452.332335  450.685753  0.346659  0.000000   \n",
       "7788 2021-09-14  446.190002  451.798335  450.123784  0.000000 -2.389984   \n",
       "\n",
       "            RSI      MACD  Signal Line  \n",
       "0           NaN  0.000000          NaN  \n",
       "1           NaN -0.015674          NaN  \n",
       "2           NaN -0.043451          NaN  \n",
       "3           NaN -0.080392          NaN  \n",
       "4           NaN -0.222617          NaN  \n",
       "...         ...       ...          ...  \n",
       "7784  30.279938  1.487905     2.619024  \n",
       "7785  28.313930  1.046934     2.394046  \n",
       "7786  26.233827  0.717167     2.129901  \n",
       "7787  24.029401  0.478284     1.844411  \n",
       "7788  20.440156  0.095020     1.527523  \n",
       "\n",
       "[7789 rows x 9 columns]"
      ]
     },
     "execution_count": 19,
     "metadata": {},
     "output_type": "execute_result"
    }
   ],
   "source": [
    "df"
   ]
  },
  {
   "cell_type": "markdown",
   "metadata": {},
   "source": [
    "Remove NaNs"
   ]
  },
  {
   "cell_type": "code",
   "execution_count": 20,
   "metadata": {},
   "outputs": [],
   "source": [
    "df = df.dropna()"
   ]
  },
  {
   "cell_type": "code",
   "execution_count": 21,
   "metadata": {},
   "outputs": [
    {
     "data": {
      "text/html": [
       "<div>\n",
       "<style scoped>\n",
       "    .dataframe tbody tr th:only-of-type {\n",
       "        vertical-align: middle;\n",
       "    }\n",
       "\n",
       "    .dataframe tbody tr th {\n",
       "        vertical-align: top;\n",
       "    }\n",
       "\n",
       "    .dataframe thead th {\n",
       "        text-align: right;\n",
       "    }\n",
       "</style>\n",
       "<table border=\"1\" class=\"dataframe\">\n",
       "  <thead>\n",
       "    <tr style=\"text-align: right;\">\n",
       "      <th></th>\n",
       "      <th>Date</th>\n",
       "      <th>Close</th>\n",
       "      <th>SMA</th>\n",
       "      <th>EMA</th>\n",
       "      <th>up</th>\n",
       "      <th>down</th>\n",
       "      <th>RSI</th>\n",
       "      <th>MACD</th>\n",
       "      <th>Signal Line</th>\n",
       "    </tr>\n",
       "  </thead>\n",
       "  <tbody>\n",
       "    <tr>\n",
       "      <th>14</th>\n",
       "      <td>2000-06-02</td>\n",
       "      <td>99.663971</td>\n",
       "      <td>94.910938</td>\n",
       "      <td>95.600925</td>\n",
       "      <td>1.936874</td>\n",
       "      <td>0.000000</td>\n",
       "      <td>71.245582</td>\n",
       "      <td>0.680463</td>\n",
       "      <td>-0.042866</td>\n",
       "    </tr>\n",
       "    <tr>\n",
       "      <th>15</th>\n",
       "      <td>2000-06-03</td>\n",
       "      <td>99.446431</td>\n",
       "      <td>95.222053</td>\n",
       "      <td>96.081613</td>\n",
       "      <td>0.000000</td>\n",
       "      <td>-0.217539</td>\n",
       "      <td>71.115354</td>\n",
       "      <td>0.916439</td>\n",
       "      <td>0.090681</td>\n",
       "    </tr>\n",
       "    <tr>\n",
       "      <th>16</th>\n",
       "      <td>2000-06-04</td>\n",
       "      <td>99.228892</td>\n",
       "      <td>95.531765</td>\n",
       "      <td>96.475023</td>\n",
       "      <td>0.000000</td>\n",
       "      <td>-0.217539</td>\n",
       "      <td>70.985601</td>\n",
       "      <td>1.073524</td>\n",
       "      <td>0.250695</td>\n",
       "    </tr>\n",
       "    <tr>\n",
       "      <th>17</th>\n",
       "      <td>2000-06-05</td>\n",
       "      <td>99.011353</td>\n",
       "      <td>95.840074</td>\n",
       "      <td>96.792064</td>\n",
       "      <td>0.000000</td>\n",
       "      <td>-0.217539</td>\n",
       "      <td>70.856321</td>\n",
       "      <td>1.167008</td>\n",
       "      <td>0.420929</td>\n",
       "    </tr>\n",
       "    <tr>\n",
       "      <th>18</th>\n",
       "      <td>2000-06-06</td>\n",
       "      <td>98.506065</td>\n",
       "      <td>96.127796</td>\n",
       "      <td>97.006314</td>\n",
       "      <td>0.000000</td>\n",
       "      <td>-0.505287</td>\n",
       "      <td>77.029581</td>\n",
       "      <td>1.186644</td>\n",
       "      <td>0.585988</td>\n",
       "    </tr>\n",
       "    <tr>\n",
       "      <th>...</th>\n",
       "      <td>...</td>\n",
       "      <td>...</td>\n",
       "      <td>...</td>\n",
       "      <td>...</td>\n",
       "      <td>...</td>\n",
       "      <td>...</td>\n",
       "      <td>...</td>\n",
       "      <td>...</td>\n",
       "      <td>...</td>\n",
       "    </tr>\n",
       "    <tr>\n",
       "      <th>7784</th>\n",
       "      <td>2021-09-10</td>\n",
       "      <td>447.540009</td>\n",
       "      <td>453.257671</td>\n",
       "      <td>451.878931</td>\n",
       "      <td>0.000000</td>\n",
       "      <td>-3.440002</td>\n",
       "      <td>30.279938</td>\n",
       "      <td>1.487905</td>\n",
       "      <td>2.619024</td>\n",
       "    </tr>\n",
       "    <tr>\n",
       "      <th>7785</th>\n",
       "      <td>2021-09-11</td>\n",
       "      <td>447.886668</td>\n",
       "      <td>452.970782</td>\n",
       "      <td>451.379898</td>\n",
       "      <td>0.346659</td>\n",
       "      <td>0.000000</td>\n",
       "      <td>28.313930</td>\n",
       "      <td>1.046934</td>\n",
       "      <td>2.394046</td>\n",
       "    </tr>\n",
       "    <tr>\n",
       "      <th>7786</th>\n",
       "      <td>2021-09-12</td>\n",
       "      <td>448.233327</td>\n",
       "      <td>452.662337</td>\n",
       "      <td>450.986577</td>\n",
       "      <td>0.346659</td>\n",
       "      <td>0.000000</td>\n",
       "      <td>26.233827</td>\n",
       "      <td>0.717167</td>\n",
       "      <td>2.129901</td>\n",
       "    </tr>\n",
       "    <tr>\n",
       "      <th>7787</th>\n",
       "      <td>2021-09-13</td>\n",
       "      <td>448.579987</td>\n",
       "      <td>452.332335</td>\n",
       "      <td>450.685753</td>\n",
       "      <td>0.346659</td>\n",
       "      <td>0.000000</td>\n",
       "      <td>24.029401</td>\n",
       "      <td>0.478284</td>\n",
       "      <td>1.844411</td>\n",
       "    </tr>\n",
       "    <tr>\n",
       "      <th>7788</th>\n",
       "      <td>2021-09-14</td>\n",
       "      <td>446.190002</td>\n",
       "      <td>451.798335</td>\n",
       "      <td>450.123784</td>\n",
       "      <td>0.000000</td>\n",
       "      <td>-2.389984</td>\n",
       "      <td>20.440156</td>\n",
       "      <td>0.095020</td>\n",
       "      <td>1.527523</td>\n",
       "    </tr>\n",
       "  </tbody>\n",
       "</table>\n",
       "<p>7775 rows × 9 columns</p>\n",
       "</div>"
      ],
      "text/plain": [
       "           Date       Close         SMA         EMA        up      down  \\\n",
       "14   2000-06-02   99.663971   94.910938   95.600925  1.936874  0.000000   \n",
       "15   2000-06-03   99.446431   95.222053   96.081613  0.000000 -0.217539   \n",
       "16   2000-06-04   99.228892   95.531765   96.475023  0.000000 -0.217539   \n",
       "17   2000-06-05   99.011353   95.840074   96.792064  0.000000 -0.217539   \n",
       "18   2000-06-06   98.506065   96.127796   97.006314  0.000000 -0.505287   \n",
       "...         ...         ...         ...         ...       ...       ...   \n",
       "7784 2021-09-10  447.540009  453.257671  451.878931  0.000000 -3.440002   \n",
       "7785 2021-09-11  447.886668  452.970782  451.379898  0.346659  0.000000   \n",
       "7786 2021-09-12  448.233327  452.662337  450.986577  0.346659  0.000000   \n",
       "7787 2021-09-13  448.579987  452.332335  450.685753  0.346659  0.000000   \n",
       "7788 2021-09-14  446.190002  451.798335  450.123784  0.000000 -2.389984   \n",
       "\n",
       "            RSI      MACD  Signal Line  \n",
       "14    71.245582  0.680463    -0.042866  \n",
       "15    71.115354  0.916439     0.090681  \n",
       "16    70.985601  1.073524     0.250695  \n",
       "17    70.856321  1.167008     0.420929  \n",
       "18    77.029581  1.186644     0.585988  \n",
       "...         ...       ...          ...  \n",
       "7784  30.279938  1.487905     2.619024  \n",
       "7785  28.313930  1.046934     2.394046  \n",
       "7786  26.233827  0.717167     2.129901  \n",
       "7787  24.029401  0.478284     1.844411  \n",
       "7788  20.440156  0.095020     1.527523  \n",
       "\n",
       "[7775 rows x 9 columns]"
      ]
     },
     "execution_count": 21,
     "metadata": {},
     "output_type": "execute_result"
    }
   ],
   "source": [
    "df"
   ]
  },
  {
   "cell_type": "markdown",
   "metadata": {},
   "source": [
    "Data preparation"
   ]
  },
  {
   "cell_type": "code",
   "execution_count": 22,
   "metadata": {},
   "outputs": [],
   "source": [
    "in_seq1 = df['SMA'].values\n",
    "in_seq2 = df['EMA'].values\n",
    "in_seq3 = df['RSI'].values\n",
    "in_seq4 = df['MACD'].values\n",
    "in_seq5 = df['Signal Line'].values\n",
    "out_seq = df['Close'].values"
   ]
  },
  {
   "cell_type": "code",
   "execution_count": 23,
   "metadata": {},
   "outputs": [],
   "source": [
    "in_seq1 = in_seq1.reshape((len(in_seq1), 1))\n",
    "in_seq2 = in_seq2.reshape((len(in_seq2), 1))\n",
    "in_seq3 = in_seq3.reshape((len(in_seq3), 1))\n",
    "in_seq4 = in_seq4.reshape((len(in_seq4), 1))\n",
    "in_seq5 = in_seq5.reshape((len(in_seq5), 1))\n",
    "out_seq = out_seq.reshape((len(out_seq), 1))"
   ]
  },
  {
   "cell_type": "code",
   "execution_count": 24,
   "metadata": {},
   "outputs": [],
   "source": [
    "dataset = np.hstack((in_seq1, in_seq2, in_seq3, in_seq4, in_seq5))"
   ]
  },
  {
   "cell_type": "markdown",
   "metadata": {},
   "source": [
    "Scale values"
   ]
  },
  {
   "cell_type": "code",
   "execution_count": 25,
   "metadata": {},
   "outputs": [],
   "source": [
    "scaler = MinMaxScaler()\n",
    "scaler.fit(dataset)\n",
    "dataset = scaler.transform(dataset)"
   ]
  },
  {
   "cell_type": "markdown",
   "metadata": {},
   "source": [
    "**Dimensionality reduction - PCA**"
   ]
  },
  {
   "cell_type": "code",
   "execution_count": 26,
   "metadata": {},
   "outputs": [
    {
     "data": {
      "text/plain": [
       "PCA()"
      ]
     },
     "execution_count": 26,
     "metadata": {},
     "output_type": "execute_result"
    }
   ],
   "source": [
    "pca = PCA()\n",
    "pca.fit(dataset)"
   ]
  },
  {
   "cell_type": "markdown",
   "metadata": {},
   "source": [
    "Transform"
   ]
  },
  {
   "cell_type": "code",
   "execution_count": 27,
   "metadata": {},
   "outputs": [],
   "source": [
    "dataset_pca = pca.transform(dataset)"
   ]
  },
  {
   "cell_type": "markdown",
   "metadata": {},
   "source": [
    "**Recursive feature elimination**"
   ]
  },
  {
   "cell_type": "code",
   "execution_count": 28,
   "metadata": {},
   "outputs": [],
   "source": [
    "estimator = SVR(kernel=\"linear\")"
   ]
  },
  {
   "cell_type": "code",
   "execution_count": 29,
   "metadata": {},
   "outputs": [],
   "source": [
    "selector = RFE(estimator, step=1)"
   ]
  },
  {
   "cell_type": "code",
   "execution_count": 30,
   "metadata": {},
   "outputs": [
    {
     "name": "stderr",
     "output_type": "stream",
     "text": [
      "/home/vladiant/.local/lib/python3.8/site-packages/sklearn/utils/validation.py:72: DataConversionWarning: A column-vector y was passed when a 1d array was expected. Please change the shape of y to (n_samples, ), for example using ravel().\n",
      "  return f(**kwargs)\n",
      "/home/vladiant/.local/lib/python3.8/site-packages/sklearn/utils/validation.py:72: DataConversionWarning: A column-vector y was passed when a 1d array was expected. Please change the shape of y to (n_samples, ), for example using ravel().\n",
      "  return f(**kwargs)\n",
      "/home/vladiant/.local/lib/python3.8/site-packages/sklearn/utils/validation.py:72: DataConversionWarning: A column-vector y was passed when a 1d array was expected. Please change the shape of y to (n_samples, ), for example using ravel().\n",
      "  return f(**kwargs)\n",
      "/home/vladiant/.local/lib/python3.8/site-packages/sklearn/utils/validation.py:72: DataConversionWarning: A column-vector y was passed when a 1d array was expected. Please change the shape of y to (n_samples, ), for example using ravel().\n",
      "  return f(**kwargs)\n"
     ]
    }
   ],
   "source": [
    "selector = selector.fit(dataset_pca, out_seq)"
   ]
  },
  {
   "cell_type": "code",
   "execution_count": 31,
   "metadata": {},
   "outputs": [
    {
     "name": "stdout",
     "output_type": "stream",
     "text": [
      "Selected features: [ True  True False False False]\n"
     ]
    }
   ],
   "source": [
    "print(f\"Selected features: {selector.support_}\")"
   ]
  },
  {
   "cell_type": "code",
   "execution_count": 32,
   "metadata": {},
   "outputs": [
    {
     "name": "stdout",
     "output_type": "stream",
     "text": [
      "Features ranking: [1 1 3 2 4]\n"
     ]
    }
   ],
   "source": [
    "print(f\"Features ranking: {selector.ranking_}\")"
   ]
  },
  {
   "cell_type": "code",
   "execution_count": 33,
   "metadata": {},
   "outputs": [
    {
     "name": "stdout",
     "output_type": "stream",
     "text": [
      "Score: 0.9993543829868292\n"
     ]
    }
   ],
   "source": [
    "print(f\"Score: {selector.score(dataset_pca, out_seq)}\")"
   ]
  },
  {
   "cell_type": "code",
   "execution_count": 34,
   "metadata": {},
   "outputs": [],
   "source": [
    "dataset = selector.transform(dataset_pca)"
   ]
  },
  {
   "cell_type": "code",
   "execution_count": 35,
   "metadata": {},
   "outputs": [],
   "source": [
    "dataset = np.hstack((dataset, out_seq))"
   ]
  },
  {
   "cell_type": "markdown",
   "metadata": {},
   "source": [
    "Choose a number of time steps"
   ]
  },
  {
   "cell_type": "code",
   "execution_count": 36,
   "metadata": {},
   "outputs": [],
   "source": [
    "n_steps = 10"
   ]
  },
  {
   "cell_type": "markdown",
   "metadata": {},
   "source": [
    "Separate a multivariate sequence into samples"
   ]
  },
  {
   "cell_type": "code",
   "execution_count": 37,
   "metadata": {},
   "outputs": [],
   "source": [
    "def split_sequences(sequences, steps):\n",
    "    X, y = list(), list()\n",
    "    for i in range(len(sequences)):\n",
    "        # Find the end of the pattern\n",
    "        end_ix = i + n_steps\n",
    "        # Check if we are bound by sequence\n",
    "        if end_ix > len(sequences) - 1:\n",
    "            break\n",
    "        # Gather input and output parts of the pattern\n",
    "        seq_x, seq_y = sequences[i:end_ix, :-1], sequences[end_ix, -1]\n",
    "        X.append(seq_x)\n",
    "        y.append(seq_y)\n",
    "    \n",
    "    return np.array(X), np.array(y)"
   ]
  },
  {
   "cell_type": "markdown",
   "metadata": {},
   "source": [
    "Convert into input/output"
   ]
  },
  {
   "cell_type": "code",
   "execution_count": 38,
   "metadata": {},
   "outputs": [],
   "source": [
    "X, y = split_sequences(dataset, n_steps)"
   ]
  },
  {
   "cell_type": "markdown",
   "metadata": {},
   "source": [
    "The dataset knows the number of the features, e.g. 2"
   ]
  },
  {
   "cell_type": "code",
   "execution_count": 39,
   "metadata": {},
   "outputs": [],
   "source": [
    "n_features = X.shape[2]"
   ]
  },
  {
   "cell_type": "markdown",
   "metadata": {},
   "source": [
    "Set test data"
   ]
  },
  {
   "cell_type": "code",
   "execution_count": 40,
   "metadata": {},
   "outputs": [],
   "source": [
    "test_size = n_steps\n",
    "prediction_size = n_features\n",
    "y_test = y[-test_size-prediction_size:-prediction_size]\n",
    "X_test = X[-test_size-prediction_size:-prediction_size]"
   ]
  },
  {
   "cell_type": "code",
   "execution_count": 41,
   "metadata": {},
   "outputs": [],
   "source": [
    "y_expected = y[-prediction_size:]"
   ]
  },
  {
   "cell_type": "code",
   "execution_count": 42,
   "metadata": {},
   "outputs": [],
   "source": [
    "y = y[:-test_size-prediction_size]\n",
    "X = X[:-test_size-prediction_size]"
   ]
  },
  {
   "cell_type": "markdown",
   "metadata": {},
   "source": [
    "**Define model**\n",
    "\n",
    "Keras Random Search - optimize: LSTM units, Dropout Rate, Learning Rate, Sequence Length\n",
    "\n",
    "https://www.tensorflow.org/tutorials/keras/keras_tuner\n",
    "\n",
    "https://towardsdatascience.com/hyperparameter-tuning-with-keras-tuner-283474fbfbe"
   ]
  },
  {
   "cell_type": "code",
   "execution_count": 43,
   "metadata": {},
   "outputs": [],
   "source": [
    "def model_builder(hp):\n",
    "    model = Sequential()\n",
    "    \n",
    "    hp_units_1 = hp.Int('units_1', min_value=10, max_value=250, step=10)\n",
    "    model.add(LSTM(hp_units_1, activation='relu', return_sequences=True, input_shape=(n_steps, n_features)))\n",
    "    \n",
    "    dropout_rate_1 = hp.Float('dropout_1', 0, 0.9, step=0.1, default=0.5)\n",
    "    model.add(Dropout(dropout_rate_1))\n",
    "    \n",
    "    hp_units_2 = hp.Int('units_2', min_value=10, max_value=250, step=10)\n",
    "    model.add(LSTM(hp_units_2, activation='relu'))\n",
    "    \n",
    "    dropout_rate_2 = hp.Float('dropout_2', 0, 0.9, step=0.1, default=0.5)\n",
    "    model.add(Dropout(dropout_rate_2))\n",
    "    \n",
    "    model.add(Dense(n_features))\n",
    "    \n",
    "    model.compile(optimizer='adam', loss='mse')\n",
    "    \n",
    "    return model    "
   ]
  },
  {
   "cell_type": "code",
   "execution_count": 44,
   "metadata": {},
   "outputs": [
    {
     "name": "stdout",
     "output_type": "stream",
     "text": [
      "INFO:tensorflow:Reloading Oracle from existing project ts_test_dir/ts_forecast_bayes_tune/oracle.json\n",
      "INFO:tensorflow:Reloading Tuner from ts_test_dir/ts_forecast_bayes_tune/tuner0.json\n"
     ]
    }
   ],
   "source": [
    "tuner = kt.BayesianOptimization(model_builder,\n",
    "                                objective='loss',\n",
    "                                max_trials=100,\n",
    "                                executions_per_trial=2,\n",
    "                                directory='ts_test_dir',\n",
    "                                project_name='ts_forecast_bayes_tune')"
   ]
  },
  {
   "cell_type": "code",
   "execution_count": 45,
   "metadata": {},
   "outputs": [],
   "source": [
    "stop_early = tf.keras.callbacks.EarlyStopping(monitor='loss', patience=5)"
   ]
  },
  {
   "cell_type": "code",
   "execution_count": 46,
   "metadata": {},
   "outputs": [
    {
     "name": "stdout",
     "output_type": "stream",
     "text": [
      "Trial 100 Complete [00h 04m 23s]\n",
      "loss: 306.4560241699219\n",
      "\n",
      "Best loss So Far: 15.603438377380371\n",
      "Total elapsed time: 01h 51m 40s\n",
      "INFO:tensorflow:Oracle triggered exit\n"
     ]
    }
   ],
   "source": [
    "tuner.search(X, y, epochs=100, callbacks=[stop_early])"
   ]
  },
  {
   "cell_type": "markdown",
   "metadata": {},
   "source": [
    "Get the optimal hyperparameters"
   ]
  },
  {
   "cell_type": "code",
   "execution_count": 47,
   "metadata": {},
   "outputs": [],
   "source": [
    "best_hps=tuner.get_best_hyperparameters(num_trials=1)[0]"
   ]
  },
  {
   "cell_type": "code",
   "execution_count": 48,
   "metadata": {},
   "outputs": [
    {
     "name": "stdout",
     "output_type": "stream",
     "text": [
      "The optimal number of LSTM units are 10 and 10 \n",
      "The dropouts are 0.0 and 0.0\n"
     ]
    }
   ],
   "source": [
    "print(f\"The optimal number of LSTM units are {best_hps.get('units_1')} and {best_hps.get('units_2')} \")\n",
    "print(f\"The dropouts are {best_hps.get('dropout_1')} and {best_hps.get('dropout_2')}\")"
   ]
  },
  {
   "cell_type": "markdown",
   "metadata": {},
   "source": [
    "Build the model with the optimal hyperparameters and train it on the data for 50 epochs"
   ]
  },
  {
   "cell_type": "code",
   "execution_count": 49,
   "metadata": {},
   "outputs": [
    {
     "name": "stdout",
     "output_type": "stream",
     "text": [
      "Epoch 1/100\n",
      "243/243 [==============================] - 1s 4ms/step - loss: 13486.7598\n",
      "Epoch 2/100\n",
      "243/243 [==============================] - 1s 4ms/step - loss: 66.8239\n",
      "Epoch 3/100\n",
      "243/243 [==============================] - 1s 4ms/step - loss: 24.9296\n",
      "Epoch 4/100\n",
      "243/243 [==============================] - 1s 4ms/step - loss: 20.9870\n",
      "Epoch 5/100\n",
      "243/243 [==============================] - 1s 3ms/step - loss: 18.6266\n",
      "Epoch 6/100\n",
      "243/243 [==============================] - 1s 4ms/step - loss: 18.0374\n",
      "Epoch 7/100\n",
      "243/243 [==============================] - 1s 3ms/step - loss: 18.1948\n",
      "Epoch 8/100\n",
      "243/243 [==============================] - 1s 3ms/step - loss: 17.1833\n",
      "Epoch 9/100\n",
      "243/243 [==============================] - 1s 4ms/step - loss: 17.3505\n",
      "Epoch 10/100\n",
      "243/243 [==============================] - 1s 3ms/step - loss: 18.3708\n",
      "Epoch 11/100\n",
      "243/243 [==============================] - 1s 4ms/step - loss: 16.5857\n",
      "Epoch 12/100\n",
      "243/243 [==============================] - 1s 3ms/step - loss: 16.5502\n",
      "Epoch 13/100\n",
      "243/243 [==============================] - 1s 4ms/step - loss: 17.1372\n",
      "Epoch 14/100\n",
      "243/243 [==============================] - 1s 4ms/step - loss: 16.1940\n",
      "Epoch 15/100\n",
      "243/243 [==============================] - 1s 3ms/step - loss: 16.2111\n",
      "Epoch 16/100\n",
      "243/243 [==============================] - 1s 3ms/step - loss: 16.4085\n",
      "Epoch 17/100\n",
      "243/243 [==============================] - 1s 4ms/step - loss: 16.8753\n",
      "Epoch 18/100\n",
      "243/243 [==============================] - 1s 4ms/step - loss: 15.9797\n",
      "Epoch 19/100\n",
      "243/243 [==============================] - 1s 4ms/step - loss: 15.8895\n",
      "Epoch 20/100\n",
      "243/243 [==============================] - 1s 4ms/step - loss: 16.8541\n",
      "Epoch 21/100\n",
      "243/243 [==============================] - 1s 4ms/step - loss: 16.3599\n",
      "Epoch 22/100\n",
      "243/243 [==============================] - 1s 4ms/step - loss: 15.4269\n",
      "Epoch 23/100\n",
      "243/243 [==============================] - 1s 3ms/step - loss: 15.5728\n",
      "Epoch 24/100\n",
      "243/243 [==============================] - 1s 4ms/step - loss: 17.6170\n",
      "Epoch 25/100\n",
      "243/243 [==============================] - 1s 3ms/step - loss: 15.8764\n",
      "Epoch 26/100\n",
      "243/243 [==============================] - 1s 3ms/step - loss: 16.0930\n",
      "Epoch 27/100\n",
      "243/243 [==============================] - 1s 4ms/step - loss: 15.2157\n",
      "Epoch 28/100\n",
      "243/243 [==============================] - 1s 4ms/step - loss: 15.3801\n",
      "Epoch 29/100\n",
      "243/243 [==============================] - 1s 3ms/step - loss: 17.0711\n",
      "Epoch 30/100\n",
      "243/243 [==============================] - 1s 3ms/step - loss: 15.4994\n",
      "Epoch 31/100\n",
      "243/243 [==============================] - 1s 3ms/step - loss: 15.2650\n",
      "Epoch 32/100\n",
      "243/243 [==============================] - 1s 3ms/step - loss: 16.2943\n",
      "Epoch 33/100\n",
      "243/243 [==============================] - 1s 3ms/step - loss: 14.5677\n",
      "Epoch 34/100\n",
      "243/243 [==============================] - 1s 3ms/step - loss: 15.1559\n",
      "Epoch 35/100\n",
      "243/243 [==============================] - 1s 3ms/step - loss: 15.6845\n",
      "Epoch 36/100\n",
      "243/243 [==============================] - 1s 4ms/step - loss: 14.7075\n",
      "Epoch 37/100\n",
      "243/243 [==============================] - 1s 3ms/step - loss: 15.6328\n",
      "Epoch 38/100\n",
      "243/243 [==============================] - 1s 3ms/step - loss: 16.0184\n",
      "Epoch 39/100\n",
      "243/243 [==============================] - 1s 3ms/step - loss: 13.6966\n",
      "Epoch 40/100\n",
      "243/243 [==============================] - 1s 4ms/step - loss: 14.2441\n",
      "Epoch 41/100\n",
      "243/243 [==============================] - 1s 3ms/step - loss: 14.7166\n",
      "Epoch 42/100\n",
      "243/243 [==============================] - 1s 4ms/step - loss: 13.7191\n",
      "Epoch 43/100\n",
      "243/243 [==============================] - 1s 4ms/step - loss: 14.6396\n",
      "Epoch 44/100\n",
      "243/243 [==============================] - 1s 4ms/step - loss: 15.2407\n",
      "Epoch 45/100\n",
      "243/243 [==============================] - 1s 4ms/step - loss: 15.9220\n",
      "Epoch 46/100\n",
      "243/243 [==============================] - 1s 4ms/step - loss: 14.4869\n",
      "Epoch 47/100\n",
      "243/243 [==============================] - 1s 4ms/step - loss: 13.5648\n",
      "Epoch 48/100\n",
      "243/243 [==============================] - 1s 4ms/step - loss: 15.7777\n",
      "Epoch 49/100\n",
      "243/243 [==============================] - 1s 4ms/step - loss: 13.5435\n",
      "Epoch 50/100\n",
      "243/243 [==============================] - 1s 4ms/step - loss: 13.4286\n",
      "Epoch 51/100\n",
      "243/243 [==============================] - 1s 3ms/step - loss: 15.2987\n",
      "Epoch 52/100\n",
      "243/243 [==============================] - 1s 3ms/step - loss: 13.7096\n",
      "Epoch 53/100\n",
      "243/243 [==============================] - 1s 4ms/step - loss: 14.4663\n",
      "Epoch 54/100\n",
      "243/243 [==============================] - 1s 4ms/step - loss: 13.0229\n",
      "Epoch 55/100\n",
      "243/243 [==============================] - 1s 4ms/step - loss: 13.8860\n",
      "Epoch 56/100\n",
      "243/243 [==============================] - 1s 4ms/step - loss: 13.7654\n",
      "Epoch 57/100\n",
      "243/243 [==============================] - 1s 4ms/step - loss: 14.7214\n",
      "Epoch 58/100\n",
      "243/243 [==============================] - 1s 4ms/step - loss: 13.4335\n",
      "Epoch 59/100\n",
      "243/243 [==============================] - 1s 4ms/step - loss: 14.1651\n",
      "Epoch 60/100\n",
      "243/243 [==============================] - 1s 4ms/step - loss: 14.3514\n",
      "Epoch 61/100\n",
      "243/243 [==============================] - 1s 4ms/step - loss: 12.5165\n",
      "Epoch 62/100\n",
      "243/243 [==============================] - 1s 4ms/step - loss: 13.2763\n",
      "Epoch 63/100\n",
      "243/243 [==============================] - 1s 4ms/step - loss: 15.8002\n",
      "Epoch 64/100\n",
      "243/243 [==============================] - 1s 4ms/step - loss: 13.0135\n",
      "Epoch 65/100\n",
      "243/243 [==============================] - 1s 3ms/step - loss: 14.2684\n",
      "Epoch 66/100\n",
      "243/243 [==============================] - 1s 3ms/step - loss: 13.8547\n",
      "Epoch 67/100\n",
      "243/243 [==============================] - 1s 3ms/step - loss: 12.2616\n",
      "Epoch 68/100\n",
      "243/243 [==============================] - 1s 3ms/step - loss: 16.0466\n",
      "Epoch 69/100\n",
      "243/243 [==============================] - 1s 3ms/step - loss: 13.5429\n",
      "Epoch 70/100\n",
      "243/243 [==============================] - 1s 3ms/step - loss: 14.6362\n",
      "Epoch 71/100\n",
      "243/243 [==============================] - 1s 3ms/step - loss: 13.4682\n",
      "Epoch 72/100\n",
      "243/243 [==============================] - 1s 4ms/step - loss: 13.6743\n",
      "Epoch 73/100\n",
      "243/243 [==============================] - 1s 4ms/step - loss: 13.0742\n",
      "Epoch 74/100\n",
      "243/243 [==============================] - 1s 3ms/step - loss: 13.0500\n",
      "Epoch 75/100\n",
      "243/243 [==============================] - 1s 3ms/step - loss: 14.0919\n",
      "Epoch 76/100\n",
      "243/243 [==============================] - 1s 3ms/step - loss: 13.5231\n",
      "Epoch 77/100\n",
      "243/243 [==============================] - 1s 3ms/step - loss: 13.2824\n",
      "Epoch 78/100\n",
      "243/243 [==============================] - 1s 4ms/step - loss: 12.8697\n",
      "Epoch 79/100\n",
      "243/243 [==============================] - 1s 3ms/step - loss: 12.5265\n",
      "Epoch 80/100\n",
      "243/243 [==============================] - 1s 3ms/step - loss: 12.6781\n",
      "Epoch 81/100\n",
      "243/243 [==============================] - 1s 3ms/step - loss: 12.4390\n",
      "Epoch 82/100\n",
      "243/243 [==============================] - 1s 4ms/step - loss: 12.8077\n",
      "Epoch 83/100\n",
      "243/243 [==============================] - 1s 4ms/step - loss: 12.2279\n",
      "Epoch 84/100\n",
      "243/243 [==============================] - 1s 3ms/step - loss: 13.6066\n",
      "Epoch 85/100\n",
      "243/243 [==============================] - 1s 4ms/step - loss: 12.4613\n",
      "Epoch 86/100\n",
      "243/243 [==============================] - 1s 4ms/step - loss: 12.7251\n",
      "Epoch 87/100\n",
      "243/243 [==============================] - 1s 3ms/step - loss: 12.7583\n",
      "Epoch 88/100\n",
      "243/243 [==============================] - 1s 4ms/step - loss: 14.9101\n",
      "Epoch 89/100\n",
      "243/243 [==============================] - 1s 4ms/step - loss: 13.2056\n",
      "Epoch 90/100\n",
      "243/243 [==============================] - 1s 3ms/step - loss: 12.0881\n",
      "Epoch 91/100\n",
      "243/243 [==============================] - 1s 3ms/step - loss: 12.3363\n",
      "Epoch 92/100\n",
      "243/243 [==============================] - 1s 3ms/step - loss: 12.5357\n",
      "Epoch 93/100\n",
      "243/243 [==============================] - 1s 4ms/step - loss: 12.9370\n",
      "Epoch 94/100\n",
      "243/243 [==============================] - 1s 4ms/step - loss: 12.8514\n",
      "Epoch 95/100\n",
      "243/243 [==============================] - 1s 4ms/step - loss: 12.0558\n",
      "Epoch 96/100\n",
      "243/243 [==============================] - 1s 3ms/step - loss: 12.0389\n",
      "Epoch 97/100\n",
      "243/243 [==============================] - 1s 3ms/step - loss: 11.7818\n",
      "Epoch 98/100\n"
     ]
    },
    {
     "name": "stdout",
     "output_type": "stream",
     "text": [
      "243/243 [==============================] - 1s 4ms/step - loss: 12.3427\n",
      "Epoch 99/100\n",
      "243/243 [==============================] - 1s 4ms/step - loss: 12.3800\n",
      "Epoch 100/100\n",
      "243/243 [==============================] - 1s 3ms/step - loss: 12.1050\n"
     ]
    }
   ],
   "source": [
    "model = tuner.hypermodel.build(best_hps)\n",
    "history = model.fit(X, y, epochs=100)"
   ]
  },
  {
   "cell_type": "code",
   "execution_count": 50,
   "metadata": {},
   "outputs": [
    {
     "name": "stdout",
     "output_type": "stream",
     "text": [
      "Best epoch: 97\n"
     ]
    }
   ],
   "source": [
    "loss_per_epoch = history.history['loss']\n",
    "best_epoch = loss_per_epoch.index(min(loss_per_epoch)) + 1\n",
    "print('Best epoch: %d' % (best_epoch,))"
   ]
  },
  {
   "cell_type": "markdown",
   "metadata": {},
   "source": [
    "Retrain the model"
   ]
  },
  {
   "cell_type": "code",
   "execution_count": 51,
   "metadata": {},
   "outputs": [],
   "source": [
    "model = tuner.hypermodel.build(best_hps)"
   ]
  },
  {
   "cell_type": "code",
   "execution_count": 52,
   "metadata": {},
   "outputs": [
    {
     "name": "stdout",
     "output_type": "stream",
     "text": [
      "Epoch 1/97\n",
      "243/243 [==============================] - 1s 4ms/step - loss: 12264.4502\n",
      "Epoch 2/97\n",
      "243/243 [==============================] - 1s 4ms/step - loss: 198.4885\n",
      "Epoch 3/97\n",
      "243/243 [==============================] - 1s 4ms/step - loss: 88.6811\n",
      "Epoch 4/97\n",
      "243/243 [==============================] - 1s 4ms/step - loss: 44.2495\n",
      "Epoch 5/97\n",
      "243/243 [==============================] - 1s 4ms/step - loss: 29.6846\n",
      "Epoch 6/97\n",
      "243/243 [==============================] - 1s 4ms/step - loss: 24.8920\n",
      "Epoch 7/97\n",
      "243/243 [==============================] - 1s 4ms/step - loss: 22.8828\n",
      "Epoch 8/97\n",
      "243/243 [==============================] - 1s 4ms/step - loss: 20.7842\n",
      "Epoch 9/97\n",
      "243/243 [==============================] - 1s 4ms/step - loss: 21.4818\n",
      "Epoch 10/97\n",
      "243/243 [==============================] - 1s 4ms/step - loss: 21.0137\n",
      "Epoch 11/97\n",
      "243/243 [==============================] - 1s 4ms/step - loss: 20.8144\n",
      "Epoch 12/97\n",
      "243/243 [==============================] - 1s 4ms/step - loss: 20.5308\n",
      "Epoch 13/97\n",
      "243/243 [==============================] - 1s 4ms/step - loss: 18.9440\n",
      "Epoch 14/97\n",
      "243/243 [==============================] - 1s 4ms/step - loss: 20.1668\n",
      "Epoch 15/97\n",
      "243/243 [==============================] - 1s 4ms/step - loss: 18.9754\n",
      "Epoch 16/97\n",
      "243/243 [==============================] - 1s 3ms/step - loss: 20.9005\n",
      "Epoch 17/97\n",
      "243/243 [==============================] - 1s 3ms/step - loss: 18.9558\n",
      "Epoch 18/97\n",
      "243/243 [==============================] - 1s 3ms/step - loss: 18.9590\n",
      "Epoch 19/97\n",
      "243/243 [==============================] - 1s 3ms/step - loss: 19.6015\n",
      "Epoch 20/97\n",
      "243/243 [==============================] - 1s 3ms/step - loss: 19.0860\n",
      "Epoch 21/97\n",
      "243/243 [==============================] - 1s 3ms/step - loss: 19.2337\n",
      "Epoch 22/97\n",
      "243/243 [==============================] - 1s 3ms/step - loss: 18.8151\n",
      "Epoch 23/97\n",
      "243/243 [==============================] - 1s 3ms/step - loss: 22.7257\n",
      "Epoch 24/97\n",
      "243/243 [==============================] - 1s 3ms/step - loss: 19.3705\n",
      "Epoch 25/97\n",
      "243/243 [==============================] - 1s 3ms/step - loss: 19.3142\n",
      "Epoch 26/97\n",
      "243/243 [==============================] - 1s 3ms/step - loss: 18.4564\n",
      "Epoch 27/97\n",
      "243/243 [==============================] - 1s 3ms/step - loss: 18.9943\n",
      "Epoch 28/97\n",
      "243/243 [==============================] - 1s 3ms/step - loss: 19.0781\n",
      "Epoch 29/97\n",
      "243/243 [==============================] - 1s 3ms/step - loss: 19.1075\n",
      "Epoch 30/97\n",
      "243/243 [==============================] - 1s 3ms/step - loss: 18.9569\n",
      "Epoch 31/97\n",
      "243/243 [==============================] - 1s 3ms/step - loss: 18.0857\n",
      "Epoch 32/97\n",
      "243/243 [==============================] - 1s 3ms/step - loss: 18.5714\n",
      "Epoch 33/97\n",
      "243/243 [==============================] - 1s 3ms/step - loss: 18.4007\n",
      "Epoch 34/97\n",
      "243/243 [==============================] - 1s 3ms/step - loss: 19.5634\n",
      "Epoch 35/97\n",
      "243/243 [==============================] - 1s 3ms/step - loss: 17.4769\n",
      "Epoch 36/97\n",
      "243/243 [==============================] - 1s 3ms/step - loss: 19.1720\n",
      "Epoch 37/97\n",
      "243/243 [==============================] - 1s 3ms/step - loss: 18.3483\n",
      "Epoch 38/97\n",
      "243/243 [==============================] - 1s 3ms/step - loss: 19.2218\n",
      "Epoch 39/97\n",
      "243/243 [==============================] - 1s 3ms/step - loss: 18.0133\n",
      "Epoch 40/97\n",
      "243/243 [==============================] - 1s 3ms/step - loss: 17.8029\n",
      "Epoch 41/97\n",
      "243/243 [==============================] - 1s 4ms/step - loss: 17.2238\n",
      "Epoch 42/97\n",
      "243/243 [==============================] - 1s 3ms/step - loss: 18.3701\n",
      "Epoch 43/97\n",
      "243/243 [==============================] - 1s 3ms/step - loss: 18.6131\n",
      "Epoch 44/97\n",
      "243/243 [==============================] - 1s 3ms/step - loss: 19.4403\n",
      "Epoch 45/97\n",
      "243/243 [==============================] - 1s 3ms/step - loss: 16.9348\n",
      "Epoch 46/97\n",
      "243/243 [==============================] - 1s 3ms/step - loss: 18.0147\n",
      "Epoch 47/97\n",
      "243/243 [==============================] - 1s 3ms/step - loss: 19.9656\n",
      "Epoch 48/97\n",
      "243/243 [==============================] - 1s 3ms/step - loss: 17.4908\n",
      "Epoch 49/97\n",
      "243/243 [==============================] - 1s 3ms/step - loss: 17.1896\n",
      "Epoch 50/97\n",
      "243/243 [==============================] - 1s 4ms/step - loss: 19.6604\n",
      "Epoch 51/97\n",
      "243/243 [==============================] - 1s 3ms/step - loss: 17.4278\n",
      "Epoch 52/97\n",
      "243/243 [==============================] - 1s 3ms/step - loss: 17.6547\n",
      "Epoch 53/97\n",
      "243/243 [==============================] - 1s 3ms/step - loss: 16.0209\n",
      "Epoch 54/97\n",
      "243/243 [==============================] - 1s 4ms/step - loss: 15.8846\n",
      "Epoch 55/97\n",
      "243/243 [==============================] - 1s 4ms/step - loss: 16.7112\n",
      "Epoch 56/97\n",
      "243/243 [==============================] - 1s 3ms/step - loss: 16.1557\n",
      "Epoch 57/97\n",
      "243/243 [==============================] - 1s 4ms/step - loss: 16.9366\n",
      "Epoch 58/97\n",
      "243/243 [==============================] - 1s 3ms/step - loss: 15.9873\n",
      "Epoch 59/97\n",
      "243/243 [==============================] - 1s 3ms/step - loss: 16.1355\n",
      "Epoch 60/97\n",
      "243/243 [==============================] - 1s 4ms/step - loss: 17.6209\n",
      "Epoch 61/97\n",
      "243/243 [==============================] - 1s 3ms/step - loss: 15.8078\n",
      "Epoch 62/97\n",
      "243/243 [==============================] - 1s 3ms/step - loss: 18.6441\n",
      "Epoch 63/97\n",
      "243/243 [==============================] - 1s 4ms/step - loss: 17.6825\n",
      "Epoch 64/97\n",
      "243/243 [==============================] - 1s 3ms/step - loss: 15.6204\n",
      "Epoch 65/97\n",
      "243/243 [==============================] - 1s 4ms/step - loss: 16.4527\n",
      "Epoch 66/97\n",
      "243/243 [==============================] - 1s 4ms/step - loss: 16.3707\n",
      "Epoch 67/97\n",
      "243/243 [==============================] - 1s 3ms/step - loss: 16.0716\n",
      "Epoch 68/97\n",
      "243/243 [==============================] - 1s 3ms/step - loss: 16.5057\n",
      "Epoch 69/97\n",
      "243/243 [==============================] - 1s 3ms/step - loss: 18.8303\n",
      "Epoch 70/97\n",
      "243/243 [==============================] - 1s 4ms/step - loss: 15.5167\n",
      "Epoch 71/97\n",
      "243/243 [==============================] - 1s 4ms/step - loss: 14.9680\n",
      "Epoch 72/97\n",
      "243/243 [==============================] - 1s 4ms/step - loss: 15.0785\n",
      "Epoch 73/97\n",
      "243/243 [==============================] - 1s 4ms/step - loss: 15.9418\n",
      "Epoch 74/97\n",
      "243/243 [==============================] - 1s 4ms/step - loss: 15.4304\n",
      "Epoch 75/97\n",
      "243/243 [==============================] - 1s 3ms/step - loss: 15.6708\n",
      "Epoch 76/97\n",
      "243/243 [==============================] - 1s 4ms/step - loss: 16.9756\n",
      "Epoch 77/97\n",
      "243/243 [==============================] - 1s 3ms/step - loss: 16.3314\n",
      "Epoch 78/97\n",
      "243/243 [==============================] - 1s 3ms/step - loss: 15.7506\n",
      "Epoch 79/97\n",
      "243/243 [==============================] - 1s 3ms/step - loss: 14.4390\n",
      "Epoch 80/97\n",
      "243/243 [==============================] - 1s 4ms/step - loss: 16.6280\n",
      "Epoch 81/97\n",
      "243/243 [==============================] - 1s 4ms/step - loss: 15.4719\n",
      "Epoch 82/97\n",
      "243/243 [==============================] - 1s 3ms/step - loss: 14.0218\n",
      "Epoch 83/97\n",
      "243/243 [==============================] - 1s 3ms/step - loss: 14.8640\n",
      "Epoch 84/97\n",
      "243/243 [==============================] - 1s 3ms/step - loss: 14.4662\n",
      "Epoch 85/97\n",
      "243/243 [==============================] - 1s 4ms/step - loss: 13.9243\n",
      "Epoch 86/97\n",
      "243/243 [==============================] - 1s 4ms/step - loss: 15.2584\n",
      "Epoch 87/97\n",
      "243/243 [==============================] - 1s 3ms/step - loss: 14.8052\n",
      "Epoch 88/97\n",
      "243/243 [==============================] - 1s 4ms/step - loss: 14.7633\n",
      "Epoch 89/97\n",
      "243/243 [==============================] - 1s 3ms/step - loss: 14.2035\n",
      "Epoch 90/97\n",
      "243/243 [==============================] - 1s 3ms/step - loss: 13.8713\n",
      "Epoch 91/97\n",
      "243/243 [==============================] - 1s 4ms/step - loss: 15.8353\n",
      "Epoch 92/97\n",
      "243/243 [==============================] - 1s 3ms/step - loss: 14.4196\n",
      "Epoch 93/97\n",
      "243/243 [==============================] - 1s 4ms/step - loss: 15.1618\n",
      "Epoch 94/97\n",
      "243/243 [==============================] - 1s 4ms/step - loss: 15.2746\n",
      "Epoch 95/97\n",
      "243/243 [==============================] - 1s 4ms/step - loss: 14.3359\n",
      "Epoch 96/97\n",
      "243/243 [==============================] - 1s 3ms/step - loss: 15.3351\n",
      "Epoch 97/97\n",
      "243/243 [==============================] - 1s 3ms/step - loss: 17.9822\n"
     ]
    },
    {
     "data": {
      "text/plain": [
       "<tensorflow.python.keras.callbacks.History at 0x7fd07067da30>"
      ]
     },
     "execution_count": 52,
     "metadata": {},
     "output_type": "execute_result"
    }
   ],
   "source": [
    "model.fit(X, y, epochs=best_epoch)"
   ]
  },
  {
   "cell_type": "markdown",
   "metadata": {},
   "source": [
    "Demonstrate training"
   ]
  },
  {
   "cell_type": "code",
   "execution_count": 53,
   "metadata": {},
   "outputs": [],
   "source": [
    "yhat = model.predict(X)"
   ]
  },
  {
   "cell_type": "code",
   "execution_count": 54,
   "metadata": {},
   "outputs": [
    {
     "data": {
      "image/png": "[encoded data removed]",
      "text/plain": [
       "<Figure size 432x288 with 1 Axes>"
      ]
     },
     "metadata": {
      "needs_background": "light"
     },
     "output_type": "display_data"
    }
   ],
   "source": [
    "plt.plot(y)\n",
    "plt.plot(yhat)\n",
    "plt.show()"
   ]
  },
  {
   "cell_type": "markdown",
   "metadata": {},
   "source": [
    "Demonstrate prediction"
   ]
  },
  {
   "cell_type": "code",
   "execution_count": 55,
   "metadata": {},
   "outputs": [],
   "source": [
    "yhat = model.predict(X_test)"
   ]
  },
  {
   "cell_type": "code",
   "execution_count": 56,
   "metadata": {},
   "outputs": [
    {
     "name": "stdout",
     "output_type": "stream",
     "text": [
      "Predicted: 463.71  Expected: 448.58\n"
     ]
    }
   ],
   "source": [
    "print(f\"Predicted: {yhat[0][0]:.2f}  Expected: {y_expected[0]:.2f}\")"
   ]
  },
  {
   "cell_type": "markdown",
   "metadata": {},
   "source": [
    "**THIS IS NOT AN INVESTMENT ADVICE!**"
   ]
  }
 ],
 "metadata": {
  "kernelspec": {
   "display_name": "Python 3",
   "language": "python",
   "name": "python3"
  },
  "language_info": {
   "codemirror_mode": {
    "name": "ipython",
    "version": 3
   },
   "file_extension": ".py",
   "mimetype": "text/x-python",
   "name": "python",
   "nbconvert_exporter": "python",
   "pygments_lexer": "ipython3",
   "version": "3.8.10"
  }
 },
 "nbformat": 4,
 "nbformat_minor": 4
}
