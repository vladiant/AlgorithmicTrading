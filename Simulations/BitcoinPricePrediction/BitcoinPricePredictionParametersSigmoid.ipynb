{
 "cells": [
  {
   "cell_type": "markdown",
   "metadata": {},
   "source": [
    "# Bitcoin Price Prediction"
   ]
  },
  {
   "cell_type": "markdown",
   "metadata": {},
   "source": [
    "Based on [Ethereum (ETH) Price Prediction using Machine Learning (SVR) & Python](https://www.youtube.com/watch?v=HiDEAWdAif0) from [Computer Science](https://www.youtube.com/channel/UCbmb5IoBtHZTpYZCDBOC1CA)"
   ]
  },
  {
   "cell_type": "markdown",
   "metadata": {},
   "source": [
    "**Disclaimer:** _Investing in the stock market involves risk and can lead to monetary loss. This material is purely for educational purposes and should not be taken as professional investment advice. Invest at your own discretion._"
   ]
  },
  {
   "cell_type": "code",
   "execution_count": 1,
   "metadata": {},
   "outputs": [],
   "source": [
    "import pandas as pd\n",
    "import numpy as np\n",
    "from sklearn.svm import SVR\n",
    "import matplotlib.pyplot as plt"
   ]
  },
  {
   "cell_type": "code",
   "execution_count": 2,
   "metadata": {},
   "outputs": [],
   "source": [
    "plt.style.use('fivethirtyeight')"
   ]
  },
  {
   "cell_type": "markdown",
   "metadata": {},
   "source": [
    "Load the Bitcoin data"
   ]
  },
  {
   "cell_type": "code",
   "execution_count": 3,
   "metadata": {},
   "outputs": [],
   "source": [
    "df = pd.read_csv(\"BTC.csv\")"
   ]
  },
  {
   "cell_type": "markdown",
   "metadata": {},
   "source": [
    "Set the date as index"
   ]
  },
  {
   "cell_type": "code",
   "execution_count": 4,
   "metadata": {},
   "outputs": [],
   "source": [
    "df = df.set_index(pd.DatetimeIndex(df['Date']))"
   ]
  },
  {
   "cell_type": "markdown",
   "metadata": {},
   "source": [
    "Show the data"
   ]
  },
  {
   "cell_type": "code",
   "execution_count": 5,
   "metadata": {},
   "outputs": [
    {
     "data": {
      "text/html": [
       "<div>\n",
       "<style scoped>\n",
       "    .dataframe tbody tr th:only-of-type {\n",
       "        vertical-align: middle;\n",
       "    }\n",
       "\n",
       "    .dataframe tbody tr th {\n",
       "        vertical-align: top;\n",
       "    }\n",
       "\n",
       "    .dataframe thead th {\n",
       "        text-align: right;\n",
       "    }\n",
       "</style>\n",
       "<table border=\"1\" class=\"dataframe\">\n",
       "  <thead>\n",
       "    <tr style=\"text-align: right;\">\n",
       "      <th></th>\n",
       "      <th>Date</th>\n",
       "      <th>Open</th>\n",
       "      <th>High</th>\n",
       "      <th>Low</th>\n",
       "      <th>Close</th>\n",
       "      <th>Volume</th>\n",
       "      <th>Dividends</th>\n",
       "      <th>Stock Splits</th>\n",
       "    </tr>\n",
       "    <tr>\n",
       "      <th>Date</th>\n",
       "      <th></th>\n",
       "      <th></th>\n",
       "      <th></th>\n",
       "      <th></th>\n",
       "      <th></th>\n",
       "      <th></th>\n",
       "      <th></th>\n",
       "      <th></th>\n",
       "    </tr>\n",
       "  </thead>\n",
       "  <tbody>\n",
       "    <tr>\n",
       "      <th>2021-01-01</th>\n",
       "      <td>2021-01-01</td>\n",
       "      <td>28994.009766</td>\n",
       "      <td>29600.626953</td>\n",
       "      <td>28803.585938</td>\n",
       "      <td>29374.152344</td>\n",
       "      <td>40730301359</td>\n",
       "      <td>0</td>\n",
       "      <td>0</td>\n",
       "    </tr>\n",
       "    <tr>\n",
       "      <th>2021-01-02</th>\n",
       "      <td>2021-01-02</td>\n",
       "      <td>29376.455078</td>\n",
       "      <td>33155.117188</td>\n",
       "      <td>29091.181641</td>\n",
       "      <td>32127.267578</td>\n",
       "      <td>67865420765</td>\n",
       "      <td>0</td>\n",
       "      <td>0</td>\n",
       "    </tr>\n",
       "    <tr>\n",
       "      <th>2021-01-03</th>\n",
       "      <td>2021-01-03</td>\n",
       "      <td>32129.408203</td>\n",
       "      <td>34608.558594</td>\n",
       "      <td>32052.316406</td>\n",
       "      <td>32782.023438</td>\n",
       "      <td>78665235202</td>\n",
       "      <td>0</td>\n",
       "      <td>0</td>\n",
       "    </tr>\n",
       "    <tr>\n",
       "      <th>2021-01-04</th>\n",
       "      <td>2021-01-04</td>\n",
       "      <td>32810.949219</td>\n",
       "      <td>33440.218750</td>\n",
       "      <td>28722.755859</td>\n",
       "      <td>31971.914062</td>\n",
       "      <td>81163475344</td>\n",
       "      <td>0</td>\n",
       "      <td>0</td>\n",
       "    </tr>\n",
       "    <tr>\n",
       "      <th>2021-01-05</th>\n",
       "      <td>2021-01-05</td>\n",
       "      <td>31977.041016</td>\n",
       "      <td>34437.589844</td>\n",
       "      <td>30221.187500</td>\n",
       "      <td>33992.429688</td>\n",
       "      <td>67547324782</td>\n",
       "      <td>0</td>\n",
       "      <td>0</td>\n",
       "    </tr>\n",
       "    <tr>\n",
       "      <th>...</th>\n",
       "      <td>...</td>\n",
       "      <td>...</td>\n",
       "      <td>...</td>\n",
       "      <td>...</td>\n",
       "      <td>...</td>\n",
       "      <td>...</td>\n",
       "      <td>...</td>\n",
       "      <td>...</td>\n",
       "    </tr>\n",
       "    <tr>\n",
       "      <th>2021-05-09</th>\n",
       "      <td>2021-05-09</td>\n",
       "      <td>58877.390625</td>\n",
       "      <td>59210.882812</td>\n",
       "      <td>56482.003906</td>\n",
       "      <td>58232.316406</td>\n",
       "      <td>65906690347</td>\n",
       "      <td>0</td>\n",
       "      <td>0</td>\n",
       "    </tr>\n",
       "    <tr>\n",
       "      <th>2021-05-10</th>\n",
       "      <td>2021-05-10</td>\n",
       "      <td>58250.871094</td>\n",
       "      <td>59519.355469</td>\n",
       "      <td>54071.457031</td>\n",
       "      <td>55859.796875</td>\n",
       "      <td>71776546298</td>\n",
       "      <td>0</td>\n",
       "      <td>0</td>\n",
       "    </tr>\n",
       "    <tr>\n",
       "      <th>2021-05-11</th>\n",
       "      <td>2021-05-11</td>\n",
       "      <td>55847.242188</td>\n",
       "      <td>56872.542969</td>\n",
       "      <td>54608.652344</td>\n",
       "      <td>56704.574219</td>\n",
       "      <td>61308396325</td>\n",
       "      <td>0</td>\n",
       "      <td>0</td>\n",
       "    </tr>\n",
       "    <tr>\n",
       "      <th>2021-05-12</th>\n",
       "      <td>2021-05-12</td>\n",
       "      <td>56714.531250</td>\n",
       "      <td>57939.363281</td>\n",
       "      <td>49150.535156</td>\n",
       "      <td>49150.535156</td>\n",
       "      <td>75215403907</td>\n",
       "      <td>0</td>\n",
       "      <td>0</td>\n",
       "    </tr>\n",
       "    <tr>\n",
       "      <th>2021-05-13</th>\n",
       "      <td>2021-05-13</td>\n",
       "      <td>49735.433594</td>\n",
       "      <td>51330.843750</td>\n",
       "      <td>46980.019531</td>\n",
       "      <td>49716.191406</td>\n",
       "      <td>96721152926</td>\n",
       "      <td>0</td>\n",
       "      <td>0</td>\n",
       "    </tr>\n",
       "  </tbody>\n",
       "</table>\n",
       "<p>133 rows × 8 columns</p>\n",
       "</div>"
      ],
      "text/plain": [
       "                  Date          Open          High           Low  \\\n",
       "Date                                                               \n",
       "2021-01-01  2021-01-01  28994.009766  29600.626953  28803.585938   \n",
       "2021-01-02  2021-01-02  29376.455078  33155.117188  29091.181641   \n",
       "2021-01-03  2021-01-03  32129.408203  34608.558594  32052.316406   \n",
       "2021-01-04  2021-01-04  32810.949219  33440.218750  28722.755859   \n",
       "2021-01-05  2021-01-05  31977.041016  34437.589844  30221.187500   \n",
       "...                ...           ...           ...           ...   \n",
       "2021-05-09  2021-05-09  58877.390625  59210.882812  56482.003906   \n",
       "2021-05-10  2021-05-10  58250.871094  59519.355469  54071.457031   \n",
       "2021-05-11  2021-05-11  55847.242188  56872.542969  54608.652344   \n",
       "2021-05-12  2021-05-12  56714.531250  57939.363281  49150.535156   \n",
       "2021-05-13  2021-05-13  49735.433594  51330.843750  46980.019531   \n",
       "\n",
       "                   Close       Volume  Dividends  Stock Splits  \n",
       "Date                                                            \n",
       "2021-01-01  29374.152344  40730301359          0             0  \n",
       "2021-01-02  32127.267578  67865420765          0             0  \n",
       "2021-01-03  32782.023438  78665235202          0             0  \n",
       "2021-01-04  31971.914062  81163475344          0             0  \n",
       "2021-01-05  33992.429688  67547324782          0             0  \n",
       "...                  ...          ...        ...           ...  \n",
       "2021-05-09  58232.316406  65906690347          0             0  \n",
       "2021-05-10  55859.796875  71776546298          0             0  \n",
       "2021-05-11  56704.574219  61308396325          0             0  \n",
       "2021-05-12  49150.535156  75215403907          0             0  \n",
       "2021-05-13  49716.191406  96721152926          0             0  \n",
       "\n",
       "[133 rows x 8 columns]"
      ]
     },
     "execution_count": 5,
     "metadata": {},
     "output_type": "execute_result"
    }
   ],
   "source": [
    "df"
   ]
  },
  {
   "cell_type": "code",
   "execution_count": 6,
   "metadata": {},
   "outputs": [],
   "source": [
    "future_days = 5"
   ]
  },
  {
   "cell_type": "markdown",
   "metadata": {},
   "source": [
    "Create a new column"
   ]
  },
  {
   "cell_type": "code",
   "execution_count": 7,
   "metadata": {},
   "outputs": [],
   "source": [
    "df[str(future_days)+\"_Day_Price_Forecast\"] = df[['Close']].shift(-future_days)"
   ]
  },
  {
   "cell_type": "markdown",
   "metadata": {},
   "source": [
    "Show the data"
   ]
  },
  {
   "cell_type": "code",
   "execution_count": 8,
   "metadata": {},
   "outputs": [
    {
     "data": {
      "text/html": [
       "<div>\n",
       "<style scoped>\n",
       "    .dataframe tbody tr th:only-of-type {\n",
       "        vertical-align: middle;\n",
       "    }\n",
       "\n",
       "    .dataframe tbody tr th {\n",
       "        vertical-align: top;\n",
       "    }\n",
       "\n",
       "    .dataframe thead th {\n",
       "        text-align: right;\n",
       "    }\n",
       "</style>\n",
       "<table border=\"1\" class=\"dataframe\">\n",
       "  <thead>\n",
       "    <tr style=\"text-align: right;\">\n",
       "      <th></th>\n",
       "      <th>Close</th>\n",
       "      <th>5_Day_Price_Forecast</th>\n",
       "    </tr>\n",
       "    <tr>\n",
       "      <th>Date</th>\n",
       "      <th></th>\n",
       "      <th></th>\n",
       "    </tr>\n",
       "  </thead>\n",
       "  <tbody>\n",
       "    <tr>\n",
       "      <th>2021-01-01</th>\n",
       "      <td>29374.152344</td>\n",
       "      <td>36824.363281</td>\n",
       "    </tr>\n",
       "    <tr>\n",
       "      <th>2021-01-02</th>\n",
       "      <td>32127.267578</td>\n",
       "      <td>39371.042969</td>\n",
       "    </tr>\n",
       "    <tr>\n",
       "      <th>2021-01-03</th>\n",
       "      <td>32782.023438</td>\n",
       "      <td>40797.609375</td>\n",
       "    </tr>\n",
       "    <tr>\n",
       "      <th>2021-01-04</th>\n",
       "      <td>31971.914062</td>\n",
       "      <td>40254.546875</td>\n",
       "    </tr>\n",
       "    <tr>\n",
       "      <th>2021-01-05</th>\n",
       "      <td>33992.429688</td>\n",
       "      <td>38356.441406</td>\n",
       "    </tr>\n",
       "    <tr>\n",
       "      <th>...</th>\n",
       "      <td>...</td>\n",
       "      <td>...</td>\n",
       "    </tr>\n",
       "    <tr>\n",
       "      <th>2021-05-09</th>\n",
       "      <td>58232.316406</td>\n",
       "      <td>NaN</td>\n",
       "    </tr>\n",
       "    <tr>\n",
       "      <th>2021-05-10</th>\n",
       "      <td>55859.796875</td>\n",
       "      <td>NaN</td>\n",
       "    </tr>\n",
       "    <tr>\n",
       "      <th>2021-05-11</th>\n",
       "      <td>56704.574219</td>\n",
       "      <td>NaN</td>\n",
       "    </tr>\n",
       "    <tr>\n",
       "      <th>2021-05-12</th>\n",
       "      <td>49150.535156</td>\n",
       "      <td>NaN</td>\n",
       "    </tr>\n",
       "    <tr>\n",
       "      <th>2021-05-13</th>\n",
       "      <td>49716.191406</td>\n",
       "      <td>NaN</td>\n",
       "    </tr>\n",
       "  </tbody>\n",
       "</table>\n",
       "<p>133 rows × 2 columns</p>\n",
       "</div>"
      ],
      "text/plain": [
       "                   Close  5_Day_Price_Forecast\n",
       "Date                                          \n",
       "2021-01-01  29374.152344          36824.363281\n",
       "2021-01-02  32127.267578          39371.042969\n",
       "2021-01-03  32782.023438          40797.609375\n",
       "2021-01-04  31971.914062          40254.546875\n",
       "2021-01-05  33992.429688          38356.441406\n",
       "...                  ...                   ...\n",
       "2021-05-09  58232.316406                   NaN\n",
       "2021-05-10  55859.796875                   NaN\n",
       "2021-05-11  56704.574219                   NaN\n",
       "2021-05-12  49150.535156                   NaN\n",
       "2021-05-13  49716.191406                   NaN\n",
       "\n",
       "[133 rows x 2 columns]"
      ]
     },
     "execution_count": 8,
     "metadata": {},
     "output_type": "execute_result"
    }
   ],
   "source": [
    "df[['Close', str(future_days)+\"_Day_Price_Forecast\"]]"
   ]
  },
  {
   "cell_type": "code",
   "execution_count": 9,
   "metadata": {},
   "outputs": [],
   "source": [
    "X = np.array(df[['Close']])"
   ]
  },
  {
   "cell_type": "code",
   "execution_count": 10,
   "metadata": {},
   "outputs": [],
   "source": [
    "X = X[:df.shape[0] - future_days]"
   ]
  },
  {
   "cell_type": "code",
   "execution_count": 11,
   "metadata": {},
   "outputs": [
    {
     "data": {
      "text/plain": [
       "array([[29374.15234375],\n",
       "       [32127.26757812],\n",
       "       [32782.0234375 ],\n",
       "       [31971.9140625 ],\n",
       "       [33992.4296875 ],\n",
       "       [36824.36328125],\n",
       "       [39371.04296875],\n",
       "       [40797.609375  ],\n",
       "       [40254.546875  ],\n",
       "       [38356.44140625],\n",
       "       [35566.65625   ],\n",
       "       [33922.9609375 ],\n",
       "       [37316.359375  ],\n",
       "       [39187.328125  ],\n",
       "       [36825.3671875 ],\n",
       "       [36178.140625  ],\n",
       "       [35791.27734375],\n",
       "       [36630.07421875],\n",
       "       [36069.8046875 ],\n",
       "       [35547.75      ],\n",
       "       [30825.69921875],\n",
       "       [33005.76171875],\n",
       "       [32067.64257812],\n",
       "       [32289.37890625],\n",
       "       [32366.39257812],\n",
       "       [32569.84960938],\n",
       "       [30432.546875  ],\n",
       "       [31649.60546875],\n",
       "       [34316.38671875],\n",
       "       [34269.5234375 ],\n",
       "       [33114.359375  ],\n",
       "       [33537.17578125],\n",
       "       [35510.2890625 ],\n",
       "       [37472.08984375],\n",
       "       [36926.06640625],\n",
       "       [38144.30859375],\n",
       "       [39266.01171875],\n",
       "       [38903.44140625],\n",
       "       [46196.46484375],\n",
       "       [46481.10546875],\n",
       "       [44918.18359375],\n",
       "       [47909.33203125],\n",
       "       [47504.8515625 ],\n",
       "       [47105.515625  ],\n",
       "       [48717.2890625 ],\n",
       "       [47945.05859375],\n",
       "       [49199.87109375],\n",
       "       [52149.0078125 ],\n",
       "       [51679.796875  ],\n",
       "       [55888.1328125 ],\n",
       "       [56099.51953125],\n",
       "       [57539.9453125 ],\n",
       "       [54207.3203125 ],\n",
       "       [48824.42578125],\n",
       "       [49705.33203125],\n",
       "       [47093.8515625 ],\n",
       "       [46339.76171875],\n",
       "       [46188.453125  ],\n",
       "       [45137.76953125],\n",
       "       [49631.2421875 ],\n",
       "       [48378.98828125],\n",
       "       [50538.2421875 ],\n",
       "       [48561.16796875],\n",
       "       [48927.3046875 ],\n",
       "       [48912.3828125 ],\n",
       "       [51206.69140625],\n",
       "       [52246.5234375 ],\n",
       "       [54824.1171875 ],\n",
       "       [56008.55078125],\n",
       "       [57805.12109375],\n",
       "       [57332.08984375],\n",
       "       [61243.0859375 ],\n",
       "       [59302.31640625],\n",
       "       [55907.19921875],\n",
       "       [56804.90234375],\n",
       "       [58870.89453125],\n",
       "       [57858.921875  ],\n",
       "       [58346.65234375],\n",
       "       [58313.64453125],\n",
       "       [57523.421875  ],\n",
       "       [54529.14453125],\n",
       "       [54738.9453125 ],\n",
       "       [52774.265625  ],\n",
       "       [51704.16015625],\n",
       "       [55137.3125    ],\n",
       "       [55973.51171875],\n",
       "       [55950.74609375],\n",
       "       [57750.19921875],\n",
       "       [58917.69140625],\n",
       "       [58918.83203125],\n",
       "       [59095.80859375],\n",
       "       [59384.3125    ],\n",
       "       [57603.890625  ],\n",
       "       [58758.5546875 ],\n",
       "       [59057.87890625],\n",
       "       [58192.359375  ],\n",
       "       [56048.9375    ],\n",
       "       [58323.953125  ],\n",
       "       [58245.00390625],\n",
       "       [59793.234375  ],\n",
       "       [60204.96484375],\n",
       "       [59893.453125  ],\n",
       "       [63503.45703125],\n",
       "       [63109.6953125 ],\n",
       "       [63314.01171875],\n",
       "       [61572.7890625 ],\n",
       "       [60683.8203125 ],\n",
       "       [56216.18359375],\n",
       "       [55724.265625  ],\n",
       "       [56473.03125   ],\n",
       "       [53906.08984375],\n",
       "       [51762.2734375 ],\n",
       "       [51093.65234375],\n",
       "       [50050.8671875 ],\n",
       "       [49004.25390625],\n",
       "       [54021.75390625],\n",
       "       [55033.1171875 ],\n",
       "       [54824.703125  ],\n",
       "       [53555.109375  ],\n",
       "       [57750.17578125],\n",
       "       [57828.05078125],\n",
       "       [56631.078125  ],\n",
       "       [57200.29296875],\n",
       "       [53333.5390625 ],\n",
       "       [57424.0078125 ],\n",
       "       [56396.515625  ],\n",
       "       [57356.40234375],\n",
       "       [58803.77734375]])"
      ]
     },
     "execution_count": 11,
     "metadata": {},
     "output_type": "execute_result"
    }
   ],
   "source": [
    "X"
   ]
  },
  {
   "cell_type": "code",
   "execution_count": 12,
   "metadata": {},
   "outputs": [],
   "source": [
    "y = np.array(df[str(future_days)+\"_Day_Price_Forecast\"])"
   ]
  },
  {
   "cell_type": "code",
   "execution_count": 13,
   "metadata": {},
   "outputs": [],
   "source": [
    "y = y[:-future_days]"
   ]
  },
  {
   "cell_type": "code",
   "execution_count": 14,
   "metadata": {},
   "outputs": [
    {
     "data": {
      "text/plain": [
       "array([36824.36328125, 39371.04296875, 40797.609375  , 40254.546875  ,\n",
       "       38356.44140625, 35566.65625   , 33922.9609375 , 37316.359375  ,\n",
       "       39187.328125  , 36825.3671875 , 36178.140625  , 35791.27734375,\n",
       "       36630.07421875, 36069.8046875 , 35547.75      , 30825.69921875,\n",
       "       33005.76171875, 32067.64257812, 32289.37890625, 32366.39257812,\n",
       "       32569.84960938, 30432.546875  , 31649.60546875, 34316.38671875,\n",
       "       34269.5234375 , 33114.359375  , 33537.17578125, 35510.2890625 ,\n",
       "       37472.08984375, 36926.06640625, 38144.30859375, 39266.01171875,\n",
       "       38903.44140625, 46196.46484375, 46481.10546875, 44918.18359375,\n",
       "       47909.33203125, 47504.8515625 , 47105.515625  , 48717.2890625 ,\n",
       "       47945.05859375, 49199.87109375, 52149.0078125 , 51679.796875  ,\n",
       "       55888.1328125 , 56099.51953125, 57539.9453125 , 54207.3203125 ,\n",
       "       48824.42578125, 49705.33203125, 47093.8515625 , 46339.76171875,\n",
       "       46188.453125  , 45137.76953125, 49631.2421875 , 48378.98828125,\n",
       "       50538.2421875 , 48561.16796875, 48927.3046875 , 48912.3828125 ,\n",
       "       51206.69140625, 52246.5234375 , 54824.1171875 , 56008.55078125,\n",
       "       57805.12109375, 57332.08984375, 61243.0859375 , 59302.31640625,\n",
       "       55907.19921875, 56804.90234375, 58870.89453125, 57858.921875  ,\n",
       "       58346.65234375, 58313.64453125, 57523.421875  , 54529.14453125,\n",
       "       54738.9453125 , 52774.265625  , 51704.16015625, 55137.3125    ,\n",
       "       55973.51171875, 55950.74609375, 57750.19921875, 58917.69140625,\n",
       "       58918.83203125, 59095.80859375, 59384.3125    , 57603.890625  ,\n",
       "       58758.5546875 , 59057.87890625, 58192.359375  , 56048.9375    ,\n",
       "       58323.953125  , 58245.00390625, 59793.234375  , 60204.96484375,\n",
       "       59893.453125  , 63503.45703125, 63109.6953125 , 63314.01171875,\n",
       "       61572.7890625 , 60683.8203125 , 56216.18359375, 55724.265625  ,\n",
       "       56473.03125   , 53906.08984375, 51762.2734375 , 51093.65234375,\n",
       "       50050.8671875 , 49004.25390625, 54021.75390625, 55033.1171875 ,\n",
       "       54824.703125  , 53555.109375  , 57750.17578125, 57828.05078125,\n",
       "       56631.078125  , 57200.29296875, 53333.5390625 , 57424.0078125 ,\n",
       "       56396.515625  , 57356.40234375, 58803.77734375, 58232.31640625,\n",
       "       55859.796875  , 56704.57421875, 49150.53515625, 49716.19140625])"
      ]
     },
     "execution_count": 14,
     "metadata": {},
     "output_type": "execute_result"
    }
   ],
   "source": [
    "y"
   ]
  },
  {
   "cell_type": "markdown",
   "metadata": {},
   "source": [
    "Split the data"
   ]
  },
  {
   "cell_type": "code",
   "execution_count": 15,
   "metadata": {},
   "outputs": [],
   "source": [
    "from sklearn.model_selection import train_test_split, GridSearchCV"
   ]
  },
  {
   "cell_type": "code",
   "execution_count": 16,
   "metadata": {},
   "outputs": [],
   "source": [
    "x_train, x_test, y_train, y_test = train_test_split(X, y, test_size=0.2, random_state=1)"
   ]
  },
  {
   "cell_type": "code",
   "execution_count": 17,
   "metadata": {},
   "outputs": [],
   "source": [
    "from sklearn.svm import SVR"
   ]
  },
  {
   "cell_type": "code",
   "execution_count": 18,
   "metadata": {},
   "outputs": [],
   "source": [
    "params = {\n",
    "    \"C\": [1, 1e-1, 1e-2, 1e-3, 1e-4, 1e-5, 1e6],\n",
    "    \"kernel\": ['sigmoid'],\n",
    "    \"coef0\" : [-1e3, -1e2, -1e1, 0, 1e1, 1e2, 1e3],\n",
    "    \"gamma\": [1e6, 1e5, 1e4, 1e3, 1e2, 1e1, 1, 1e-1, 1e-2, 1e-3, 1e-4, 1e-5, 1e-6],\n",
    "}"
   ]
  },
  {
   "cell_type": "code",
   "execution_count": 19,
   "metadata": {},
   "outputs": [],
   "source": [
    "grid_search_svr = GridSearchCV(\n",
    "    SVR(), params\n",
    ")"
   ]
  },
  {
   "cell_type": "code",
   "execution_count": 20,
   "metadata": {},
   "outputs": [
    {
     "data": {
      "text/plain": [
       "GridSearchCV(estimator=SVR(),\n",
       "             param_grid={'C': [1, 0.1, 0.01, 0.001, 0.0001, 1e-05, 1000000.0],\n",
       "                         'coef0': [-1000.0, -100.0, -10.0, 0, 10.0, 100.0,\n",
       "                                   1000.0],\n",
       "                         'gamma': [1000000.0, 100000.0, 10000.0, 1000.0, 100.0,\n",
       "                                   10.0, 1, 0.1, 0.01, 0.001, 0.0001, 1e-05,\n",
       "                                   1e-06],\n",
       "                         'kernel': ['sigmoid']})"
      ]
     },
     "execution_count": 20,
     "metadata": {},
     "output_type": "execute_result"
    }
   ],
   "source": [
    "grid_search_svr.fit(x_train, y_train)"
   ]
  },
  {
   "cell_type": "code",
   "execution_count": 21,
   "metadata": {},
   "outputs": [
    {
     "name": "stdout",
     "output_type": "stream",
     "text": [
      "best_score:  -0.2364744494831892\n"
     ]
    }
   ],
   "source": [
    "print(\"best_score: \", grid_search_svr.best_score_)"
   ]
  },
  {
   "cell_type": "code",
   "execution_count": 22,
   "metadata": {},
   "outputs": [
    {
     "name": "stdout",
     "output_type": "stream",
     "text": [
      "best_params:  {'C': 1, 'coef0': -1000.0, 'gamma': 1000000.0, 'kernel': 'sigmoid'}\n"
     ]
    }
   ],
   "source": [
    "print(\"best_params: \", grid_search_svr.best_params_)"
   ]
  },
  {
   "cell_type": "code",
   "execution_count": 23,
   "metadata": {},
   "outputs": [],
   "source": [
    "svr_rbf = grid_search_svr.best_estimator_"
   ]
  },
  {
   "cell_type": "code",
   "execution_count": 24,
   "metadata": {},
   "outputs": [
    {
     "data": {
      "text/plain": [
       "SVR(C=1, coef0=-1000.0, gamma=1000000.0, kernel='sigmoid')"
      ]
     },
     "execution_count": 24,
     "metadata": {},
     "output_type": "execute_result"
    }
   ],
   "source": [
    "svr_rbf.fit(x_train, y_train)"
   ]
  },
  {
   "cell_type": "code",
   "execution_count": 25,
   "metadata": {},
   "outputs": [],
   "source": [
    "svr_rbf_confidendce = svr_rbf.score(x_test, y_test)"
   ]
  },
  {
   "cell_type": "code",
   "execution_count": 26,
   "metadata": {},
   "outputs": [
    {
     "data": {
      "text/plain": [
       "-0.022347984277619082"
      ]
     },
     "execution_count": 26,
     "metadata": {},
     "output_type": "execute_result"
    }
   ],
   "source": [
    "svr_rbf_confidendce"
   ]
  },
  {
   "cell_type": "code",
   "execution_count": 27,
   "metadata": {},
   "outputs": [],
   "source": [
    "svm_predicition = svr_rbf.predict(x_test)"
   ]
  },
  {
   "cell_type": "code",
   "execution_count": 28,
   "metadata": {},
   "outputs": [
    {
     "data": {
      "text/plain": [
       "array([52197.765625, 52197.765625, 52197.765625, 52197.765625,\n",
       "       52197.765625, 52197.765625, 52197.765625, 52197.765625,\n",
       "       52197.765625, 52197.765625, 52197.765625, 52197.765625,\n",
       "       52197.765625, 52197.765625, 52197.765625, 52197.765625,\n",
       "       52197.765625, 52197.765625, 52197.765625, 52197.765625,\n",
       "       52197.765625, 52197.765625, 52197.765625, 52197.765625,\n",
       "       52197.765625, 52197.765625])"
      ]
     },
     "execution_count": 28,
     "metadata": {},
     "output_type": "execute_result"
    }
   ],
   "source": [
    "svm_predicition"
   ]
  },
  {
   "cell_type": "code",
   "execution_count": 29,
   "metadata": {},
   "outputs": [
    {
     "name": "stdout",
     "output_type": "stream",
     "text": [
      "[57356.40234375 56473.03125    48378.98828125 50538.2421875\n",
      " 46196.46484375 53333.5390625  58803.77734375 44918.18359375\n",
      " 39266.01171875 46339.76171875 50050.8671875  55724.265625\n",
      " 38356.44140625 59302.31640625 56216.18359375 48824.42578125\n",
      " 57539.9453125  48912.3828125  58323.953125   51762.2734375\n",
      " 56704.57421875 40797.609375   45137.76953125 56631.078125\n",
      " 54021.75390625 53555.109375  ]\n"
     ]
    }
   ],
   "source": [
    "print(y_test)"
   ]
  },
  {
   "cell_type": "code",
   "execution_count": 30,
   "metadata": {},
   "outputs": [
    {
     "data": {
      "image/png": "[encoded data removed]",
      "text/plain": [
       "<Figure size 864x288 with 1 Axes>"
      ]
     },
     "metadata": {},
     "output_type": "display_data"
    }
   ],
   "source": [
    "plt.figure(figsize=(12,4))\n",
    "plt.plot(svm_predicition, label=\"Prediciton\", lw=2, alpha=0.7)\n",
    "plt.plot(y_test, label=\"Actual\", lw=2, alpha=0.7)\n",
    "plt.title(\"Prediction vs Actual\")\n",
    "plt.ylabel(\"Price in USD\")\n",
    "plt.xlabel(\"Time\")\n",
    "plt.legend()\n",
    "plt.xticks(rotation=45)\n",
    "plt.show()"
   ]
  },
  {
   "cell_type": "markdown",
   "metadata": {},
   "source": [
    "**THIS IS NOT AN INVESTMENT ADVICE!**"
   ]
  }
 ],
 "metadata": {
  "kernelspec": {
   "display_name": "Python 3",
   "language": "python",
   "name": "python3"
  },
  "language_info": {
   "codemirror_mode": {
    "name": "ipython",
    "version": 3
   },
   "file_extension": ".py",
   "mimetype": "text/x-python",
   "name": "python",
   "nbconvert_exporter": "python",
   "pygments_lexer": "ipython3",
   "version": "3.8.10"
  }
 },
 "nbformat": 4,
 "nbformat_minor": 4
}
