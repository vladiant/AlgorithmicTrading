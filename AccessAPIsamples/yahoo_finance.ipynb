{
 "cells": [
  {
   "cell_type": "markdown",
   "metadata": {},
   "source": [
    "# Free Stock Data for Python Using Yahoo Finance API\n",
    "https://towardsdatascience.com/free-stock-data-for-python-using-yahoo-finance-api-9dafd96cad2e"
   ]
  },
  {
   "cell_type": "markdown",
   "metadata": {},
   "source": [
    "!pip3 install yfinance"
   ]
  },
  {
   "cell_type": "markdown",
   "metadata": {},
   "source": [
    "Note: Using the Public API (without authentication), you are limited to 2,000 requests per hour per IP (or up to a total of 48,000 requests a day)."
   ]
  },
  {
   "cell_type": "code",
   "execution_count": 1,
   "metadata": {},
   "outputs": [],
   "source": [
    "import yfinance as yf"
   ]
  },
  {
   "cell_type": "code",
   "execution_count": 2,
   "metadata": {},
   "outputs": [],
   "source": [
    "btc_usd = yf.Ticker(\"BTC-USD\")"
   ]
  },
  {
   "cell_type": "code",
   "execution_count": 3,
   "metadata": {},
   "outputs": [],
   "source": [
    "ishares_core_sp500 = yf.Ticker(\"IVV\")"
   ]
  },
  {
   "cell_type": "code",
   "execution_count": 4,
   "metadata": {},
   "outputs": [],
   "source": [
    "tesla = yf.Ticker(\"TSLA\")"
   ]
  },
  {
   "cell_type": "code",
   "execution_count": 5,
   "metadata": {},
   "outputs": [],
   "source": [
    "gold = yf.Ticker(\"GC=F\")"
   ]
  },
  {
   "cell_type": "markdown",
   "metadata": {},
   "source": [
    "## Get Stock Info"
   ]
  },
  {
   "cell_type": "code",
   "execution_count": 6,
   "metadata": {},
   "outputs": [
    {
     "name": "stdout",
     "output_type": "stream",
     "text": [
      "{'companyOfficers': [], 'name': 'Bitcoin', 'startDate': 1367107200, 'description': 'Bitcoin (BTC) is a cryptocurrency . Users are able to generate BTC through the process of mining. Bitcoin has a current supply of 18,602,025. The last known price of Bitcoin is 37,344.04676184 USD and is down -1.81 over the last 24 hours. It is currently trading on 9829 active market(s) with $73,290,488,221.54 traded over the last 24 hours. More information can be found at https://bitcoin.org/.', 'maxAge': 1, 'previousClose': 36105.848, 'regularMarketOpen': 36105.848, 'twoHundredDayAverage': 15377.88, 'trailingAnnualDividendYield': None, 'payoutRatio': None, 'volume24Hr': 57047236608, 'regularMarketDayHigh': 37850.188, 'navPrice': None, 'averageDailyVolume10Day': 78895891404, 'totalAssets': None, 'regularMarketPreviousClose': 36105.848, 'fiftyDayAverage': 25855.537, 'trailingAnnualDividendRate': None, 'open': 36105.848, 'toCurrency': 'USD=X', 'averageVolume10days': 78895891404, 'expireDate': None, 'yield': None, 'algorithm': None, 'dividendRate': None, 'exDividendDate': None, 'beta': None, 'circulatingSupply': 18602412, 'regularMarketDayLow': 35654.574, 'priceHint': 2, 'currency': 'USD', 'regularMarketVolume': 57047236608, 'lastMarket': 'CoinMarketCap', 'maxSupply': None, 'openInterest': None, 'marketCap': 670796808192, 'volumeAllCurrencies': 57047236608, 'strikePrice': None, 'averageVolume': 42616259783, 'priceToSalesTrailing12Months': None, 'dayLow': 35654.574, 'ask': None, 'ytdReturn': None, 'askSize': None, 'volume': 57047236608, 'fiftyTwoWeekHigh': 41946.74, 'forwardPE': None, 'fromCurrency': 'BTC', 'fiveYearAvgDividendYield': None, 'fiftyTwoWeekLow': 4106.981, 'bid': None, 'tradeable': False, 'dividendYield': None, 'bidSize': None, 'dayHigh': 37850.188, 'exchange': 'CCC', 'shortName': 'Bitcoin USD', 'exchangeTimezoneName': 'Europe/London', 'exchangeTimezoneShortName': 'GMT', 'isEsgPopulated': False, 'gmtOffSetMilliseconds': '0', 'quoteType': 'CRYPTOCURRENCY', 'symbol': 'BTC-USD', 'messageBoardId': 'finmb_BTC_CCC', 'market': 'ccc_market', 'regularMarketPrice': 36105.848, 'logo_url': ''}\n"
     ]
    }
   ],
   "source": [
    "print(btc_usd.info)"
   ]
  },
  {
   "cell_type": "code",
   "execution_count": 7,
   "metadata": {},
   "outputs": [
    {
     "name": "stdout",
     "output_type": "stream",
     "text": [
      "{'previousClose': 379.84, 'regularMarketOpen': 378.09, 'twoHundredDayAverage': 346.53445, 'trailingAnnualDividendYield': 0.012526327, 'payoutRatio': None, 'volume24Hr': None, 'regularMarketDayHigh': 378.89, 'navPrice': 377.01, 'averageDailyVolume10Day': 5200912, 'totalAssets': 238846361600, 'regularMarketPreviousClose': 379.84, 'fiftyDayAverage': 371.95206, 'trailingAnnualDividendRate': 4.758, 'open': 378.09, 'toCurrency': None, 'averageVolume10days': 5200912, 'expireDate': None, 'yield': 0.015700001, 'algorithm': None, 'dividendRate': None, 'exDividendDate': None, 'beta': None, 'circulatingSupply': None, 'startDate': None, 'regularMarketDayLow': 375.09, 'priceHint': 2, 'currency': 'USD', 'regularMarketVolume': 10182719, 'lastMarket': None, 'maxSupply': None, 'openInterest': None, 'marketCap': None, 'volumeAllCurrencies': None, 'strikePrice': None, 'averageVolume': 4314171, 'priceToSalesTrailing12Months': None, 'dayLow': 375.09, 'ask': 377.32, 'ytdReturn': None, 'askSize': 800, 'volume': 10182719, 'fiftyTwoWeekHigh': 382.86, 'forwardPE': None, 'maxAge': 1, 'fromCurrency': None, 'fiveYearAvgDividendYield': None, 'fiftyTwoWeekLow': 220.28, 'bid': 375.55, 'tradeable': False, 'dividendYield': None, 'bidSize': 800, 'dayHigh': 378.89, 'exchange': 'PCX', 'shortName': 'iShares Core S&P 500 ETF', 'longName': 'iShares Core S&P 500 ETF', 'exchangeTimezoneName': 'America/New_York', 'exchangeTimezoneShortName': 'EST', 'isEsgPopulated': False, 'gmtOffSetMilliseconds': '-18000000', 'quoteType': 'ETF', 'symbol': 'IVV', 'messageBoardId': 'finmb_8797798', 'market': 'us_market', 'annualHoldingsTurnover': None, 'enterpriseToRevenue': None, 'beta3Year': 1, 'profitMargins': None, 'enterpriseToEbitda': None, '52WeekChange': None, 'morningStarRiskRating': None, 'forwardEps': None, 'revenueQuarterlyGrowth': None, 'fundInceptionDate': 958348800, 'annualReportExpenseRatio': None, 'bookValue': None, 'fundFamily': 'iShares', 'lastFiscalYearEnd': None, 'netIncomeToCommon': None, 'trailingEps': None, 'lastDividendValue': None, 'SandP52WeekChange': None, 'priceToBook': None, 'nextFiscalYearEnd': None, 'mostRecentQuarter': None, 'enterpriseValue': None, 'threeYearAverageReturn': 0.12979999, 'lastSplitDate': None, 'lastSplitFactor': None, 'legalType': 'Exchange Traded Fund', 'lastDividendDate': None, 'morningStarOverallRating': None, 'earningsQuarterlyGrowth': None, 'pegRatio': None, 'lastCapGain': None, 'category': 'Large Blend', 'fiveYearAverageReturn': 0.1685, 'phone': '800-474-2737', 'longBusinessSummary': 'The investment seeks to track the investment results of the S&P 500 (the \"underlying index\"), which measures the performance of the large-capitalization sector of the U.S. equity market.\\n The fund generally invests at least 90% of its assets in securities of the underlying index and in depositary receipts representing securities of the underlying index. It may invest the remainder of its assets in certain futures, options and swap contracts, cash and cash equivalents, as well as in securities not included in the underlying index, but which the advisor believes will help the fund track the underlying index.', 'companyOfficers': [], 'regularMarketPrice': 378.09, 'logo_url': ''}\n"
     ]
    }
   ],
   "source": [
    "print(ishares_core_sp500.info)"
   ]
  },
  {
   "cell_type": "code",
   "execution_count": 8,
   "metadata": {},
   "outputs": [
    {
     "name": "stdout",
     "output_type": "stream",
     "text": [
      "{'zip': '94304', 'sector': 'Consumer Cyclical', 'fullTimeEmployees': 48016, 'longBusinessSummary': 'Tesla, Inc. designs, develops, manufactures, leases, and sells electric vehicles, and energy generation and storage systems in the United States, China, Netherlands, Norway, and internationally. The company operates in two segments, Automotive; and Energy Generation and Storage. The Automotive segment offers sedans and sport utility vehicles. It also provides electric powertrain components and systems; and services for electric vehicles through its company-owned service locations, and Tesla mobile service technicians, as well as sells used vehicles. This segment markets and sells its products through a network of company-owned stores and galleries, as well as through its own Website. The Energy Generation and Storage segment offers energy storage products, such as rechargeable lithium-ion battery systems for use in homes, industrial, commercial facilities, and utility grids; and designs, manufactures, installs, maintains, leases, and sells solar energy generation and energy storage products to residential and commercial customers. It also provides vehicle insurance services, as well as renewable energy. The company was formerly known as Tesla Motors, Inc. and changed its name to Tesla, Inc. in February 2017. Tesla, Inc. was founded in 2003 and is headquartered in Palo Alto, California.', 'city': 'Palo Alto', 'phone': '650-681-5000', 'state': 'CA', 'country': 'United States', 'companyOfficers': [], 'website': 'http://www.tesla.com', 'maxAge': 1, 'address1': '3500 Deer Creek Road', 'industry': 'Auto Manufacturers', 'previousClose': 845, 'regularMarketOpen': 852, 'twoHundredDayAverage': 458.6563, 'trailingAnnualDividendYield': None, 'payoutRatio': 0, 'volume24Hr': None, 'regularMarketDayHigh': 859.9, 'navPrice': None, 'averageDailyVolume10Day': 47538237, 'totalAssets': None, 'regularMarketPreviousClose': 845, 'fiftyDayAverage': 685.60266, 'trailingAnnualDividendRate': None, 'open': 852, 'toCurrency': None, 'averageVolume10days': 47538237, 'expireDate': None, 'yield': None, 'algorithm': None, 'dividendRate': None, 'exDividendDate': None, 'beta': 2.190651, 'circulatingSupply': None, 'startDate': None, 'regularMarketDayLow': 819.1, 'priceHint': 2, 'currency': 'USD', 'trailingPE': 1579.6558, 'regularMarketVolume': 38777596, 'lastMarket': None, 'maxSupply': None, 'openInterest': None, 'marketCap': 783117844480, 'volumeAllCurrencies': None, 'strikePrice': None, 'averageVolume': 44265496, 'priceToSalesTrailing12Months': 27.79379, 'dayLow': 819.1, 'ask': 824, 'ytdReturn': None, 'askSize': 1000, 'volume': 38777596, 'fiftyTwoWeekHigh': 884.49, 'forwardPE': 206.54, 'fromCurrency': None, 'fiveYearAvgDividendYield': None, 'fiftyTwoWeekLow': 70.102, 'bid': 823.77, 'tradeable': False, 'dividendYield': None, 'bidSize': 900, 'dayHigh': 859.9, 'exchange': 'NMS', 'shortName': 'Tesla, Inc.', 'longName': 'Tesla, Inc.', 'exchangeTimezoneName': 'America/New_York', 'exchangeTimezoneShortName': 'EST', 'isEsgPopulated': False, 'gmtOffSetMilliseconds': '-18000000', 'quoteType': 'EQUITY', 'symbol': 'TSLA', 'messageBoardId': 'finmb_27444752', 'market': 'us_market', 'annualHoldingsTurnover': None, 'enterpriseToRevenue': 27.868, 'beta3Year': None, 'profitMargins': 0.01973, 'enterpriseToEbitda': 195.377, '52WeekChange': 6.5489764, 'morningStarRiskRating': None, 'forwardEps': 4, 'revenueQuarterlyGrowth': None, 'sharesOutstanding': 947900992, 'fundInceptionDate': None, 'annualReportExpenseRatio': None, 'bookValue': 16.91, 'sharesShort': 60620873, 'sharesPercentSharesOut': 0.064, 'fundFamily': None, 'lastFiscalYearEnd': 1577750400, 'heldPercentInstitutions': 0.42529, 'netIncomeToCommon': 533000000, 'trailingEps': 0.523, 'lastDividendValue': None, 'SandP52WeekChange': 0.134745, 'priceToBook': 48.856297, 'heldPercentInsiders': 0.19985001, 'nextFiscalYearEnd': 1640908800, 'mostRecentQuarter': 1601424000, 'shortRatio': 1.11, 'sharesShortPreviousMonthDate': 1606694400, 'floatShares': 759552857, 'enterpriseValue': 785218666496, 'threeYearAverageReturn': None, 'lastSplitDate': 1598832000, 'lastSplitFactor': '5:1', 'legalType': None, 'lastDividendDate': None, 'morningStarOverallRating': None, 'earningsQuarterlyGrowth': 1.315, 'dateShortInterest': 1609372800, 'pegRatio': 0.88, 'lastCapGain': None, 'shortPercentOfFloat': 0.0798, 'sharesShortPriorMonth': 46499466, 'impliedSharesOutstanding': None, 'category': None, 'fiveYearAverageReturn': None, 'regularMarketPrice': 852, 'logo_url': 'https://logo.clearbit.com/tesla.com'}\n"
     ]
    }
   ],
   "source": [
    "print(tesla.info)"
   ]
  },
  {
   "cell_type": "code",
   "execution_count": 9,
   "metadata": {},
   "outputs": [
    {
     "name": "stdout",
     "output_type": "stream",
     "text": [
      "{'previousClose': 1851.4, 'regularMarketOpen': 1847.3, 'twoHundredDayAverage': 1891.7805, 'trailingAnnualDividendYield': None, 'payoutRatio': None, 'volume24Hr': None, 'regularMarketDayHigh': 1856.6, 'navPrice': None, 'averageDailyVolume10Day': 149, 'totalAssets': None, 'regularMarketPreviousClose': 1851.4, 'fiftyDayAverage': 1859.9559, 'trailingAnnualDividendRate': None, 'open': 1847.3, 'toCurrency': None, 'averageVolume10days': 149, 'expireDate': 1614124800, 'yield': None, 'algorithm': None, 'dividendRate': None, 'exDividendDate': None, 'beta': None, 'circulatingSupply': None, 'startDate': None, 'regularMarketDayLow': 1822.1, 'priceHint': 2, 'currency': 'USD', 'regularMarketVolume': 224725, 'lastMarket': None, 'maxSupply': None, 'openInterest': 235934, 'marketCap': None, 'volumeAllCurrencies': None, 'strikePrice': None, 'averageVolume': 4867, 'priceToSalesTrailing12Months': None, 'dayLow': 1822.1, 'ask': 1829.8, 'ytdReturn': None, 'askSize': 1200, 'volume': 224725, 'fiftyTwoWeekHigh': 2063, 'forwardPE': None, 'maxAge': 1, 'fromCurrency': None, 'fiveYearAvgDividendYield': None, 'fiftyTwoWeekLow': 1452.1, 'bid': 1825, 'tradeable': False, 'dividendYield': None, 'bidSize': 1400, 'dayHigh': 1856.6, 'exchange': 'CMX', 'shortName': 'Gold Feb 21', 'exchangeTimezoneName': 'America/New_York', 'exchangeTimezoneShortName': 'EST', 'isEsgPopulated': False, 'gmtOffSetMilliseconds': '-18000000', 'underlyingSymbol': 'GCG21.CMX', 'quoteType': 'FUTURE', 'symbol': 'GC=F', 'underlyingExchangeSymbol': 'GCG21.CMX', 'headSymbol': 'GC=F', 'market': 'us24_market', 'regularMarketPrice': 1847.3, 'logo_url': ''}\n"
     ]
    }
   ],
   "source": [
    "print(gold.info)"
   ]
  },
  {
   "cell_type": "markdown",
   "metadata": {},
   "source": [
    "## Get Historical Market Data"
   ]
  },
  {
   "cell_type": "code",
   "execution_count": 10,
   "metadata": {},
   "outputs": [],
   "source": [
    "hist_btc_usd = btc_usd.history(period=\"5y\")"
   ]
  },
  {
   "cell_type": "code",
   "execution_count": 11,
   "metadata": {},
   "outputs": [],
   "source": [
    "hist_ishares_core_sp500 = ishares_core_sp500.history(period=\"5y\")"
   ]
  },
  {
   "cell_type": "code",
   "execution_count": 12,
   "metadata": {},
   "outputs": [],
   "source": [
    "hist_tesla = tesla.history(period=\"5y\")"
   ]
  },
  {
   "cell_type": "code",
   "execution_count": 13,
   "metadata": {},
   "outputs": [],
   "source": [
    "hist_gold = gold.history(period=\"5y\")"
   ]
  },
  {
   "cell_type": "markdown",
   "metadata": {},
   "source": [
    "## Plot historical prices "
   ]
  },
  {
   "cell_type": "code",
   "execution_count": 14,
   "metadata": {},
   "outputs": [],
   "source": [
    "import matplotlib.pyplot as plt"
   ]
  },
  {
   "cell_type": "code",
   "execution_count": 15,
   "metadata": {},
   "outputs": [
    {
     "data": {
      "text/html": [
       "<div>\n",
       "<style scoped>\n",
       "    .dataframe tbody tr th:only-of-type {\n",
       "        vertical-align: middle;\n",
       "    }\n",
       "\n",
       "    .dataframe tbody tr th {\n",
       "        vertical-align: top;\n",
       "    }\n",
       "\n",
       "    .dataframe thead th {\n",
       "        text-align: right;\n",
       "    }\n",
       "</style>\n",
       "<table border=\"1\" class=\"dataframe\">\n",
       "  <thead>\n",
       "    <tr style=\"text-align: right;\">\n",
       "      <th></th>\n",
       "      <th>Open</th>\n",
       "      <th>High</th>\n",
       "      <th>Low</th>\n",
       "      <th>Close</th>\n",
       "      <th>Volume</th>\n",
       "      <th>Dividends</th>\n",
       "      <th>Stock Splits</th>\n",
       "    </tr>\n",
       "    <tr>\n",
       "      <th>Date</th>\n",
       "      <th></th>\n",
       "      <th></th>\n",
       "      <th></th>\n",
       "      <th></th>\n",
       "      <th></th>\n",
       "      <th></th>\n",
       "      <th></th>\n",
       "    </tr>\n",
       "  </thead>\n",
       "  <tbody>\n",
       "    <tr>\n",
       "      <th>2016-01-16</th>\n",
       "      <td>365.072998</td>\n",
       "      <td>390.557007</td>\n",
       "      <td>354.914001</td>\n",
       "      <td>387.536011</td>\n",
       "      <td>120352000</td>\n",
       "      <td>0</td>\n",
       "      <td>0</td>\n",
       "    </tr>\n",
       "    <tr>\n",
       "      <th>2016-01-17</th>\n",
       "      <td>387.152008</td>\n",
       "      <td>390.964996</td>\n",
       "      <td>380.092010</td>\n",
       "      <td>382.299011</td>\n",
       "      <td>45319600</td>\n",
       "      <td>0</td>\n",
       "      <td>0</td>\n",
       "    </tr>\n",
       "    <tr>\n",
       "      <th>2016-01-18</th>\n",
       "      <td>381.733002</td>\n",
       "      <td>388.104004</td>\n",
       "      <td>376.665009</td>\n",
       "      <td>387.167999</td>\n",
       "      <td>54403900</td>\n",
       "      <td>0</td>\n",
       "      <td>0</td>\n",
       "    </tr>\n",
       "    <tr>\n",
       "      <th>2016-01-19</th>\n",
       "      <td>387.026001</td>\n",
       "      <td>387.730011</td>\n",
       "      <td>378.971985</td>\n",
       "      <td>380.148987</td>\n",
       "      <td>46819800</td>\n",
       "      <td>0</td>\n",
       "      <td>0</td>\n",
       "    </tr>\n",
       "    <tr>\n",
       "      <th>2016-01-20</th>\n",
       "      <td>379.739990</td>\n",
       "      <td>425.266998</td>\n",
       "      <td>376.598999</td>\n",
       "      <td>420.230011</td>\n",
       "      <td>121720000</td>\n",
       "      <td>0</td>\n",
       "      <td>0</td>\n",
       "    </tr>\n",
       "    <tr>\n",
       "      <th>...</th>\n",
       "      <td>...</td>\n",
       "      <td>...</td>\n",
       "      <td>...</td>\n",
       "      <td>...</td>\n",
       "      <td>...</td>\n",
       "      <td>...</td>\n",
       "      <td>...</td>\n",
       "    </tr>\n",
       "    <tr>\n",
       "      <th>2021-01-12</th>\n",
       "      <td>35516.359375</td>\n",
       "      <td>36568.527344</td>\n",
       "      <td>32697.976562</td>\n",
       "      <td>33922.960938</td>\n",
       "      <td>74773277909</td>\n",
       "      <td>0</td>\n",
       "      <td>0</td>\n",
       "    </tr>\n",
       "    <tr>\n",
       "      <th>2021-01-13</th>\n",
       "      <td>33915.121094</td>\n",
       "      <td>37599.960938</td>\n",
       "      <td>32584.667969</td>\n",
       "      <td>37316.359375</td>\n",
       "      <td>69364315979</td>\n",
       "      <td>0</td>\n",
       "      <td>0</td>\n",
       "    </tr>\n",
       "    <tr>\n",
       "      <th>2021-01-14</th>\n",
       "      <td>37325.109375</td>\n",
       "      <td>39966.406250</td>\n",
       "      <td>36868.562500</td>\n",
       "      <td>39187.328125</td>\n",
       "      <td>63615990033</td>\n",
       "      <td>0</td>\n",
       "      <td>0</td>\n",
       "    </tr>\n",
       "    <tr>\n",
       "      <th>2021-01-15</th>\n",
       "      <td>39156.707031</td>\n",
       "      <td>39577.710938</td>\n",
       "      <td>34659.589844</td>\n",
       "      <td>36825.367188</td>\n",
       "      <td>67760757880</td>\n",
       "      <td>0</td>\n",
       "      <td>0</td>\n",
       "    </tr>\n",
       "    <tr>\n",
       "      <th>2021-01-16</th>\n",
       "      <td>36105.847656</td>\n",
       "      <td>37850.187500</td>\n",
       "      <td>35654.574219</td>\n",
       "      <td>36196.140625</td>\n",
       "      <td>57052848128</td>\n",
       "      <td>0</td>\n",
       "      <td>0</td>\n",
       "    </tr>\n",
       "  </tbody>\n",
       "</table>\n",
       "<p>1828 rows × 7 columns</p>\n",
       "</div>"
      ],
      "text/plain": [
       "                    Open          High           Low         Close  \\\n",
       "Date                                                                 \n",
       "2016-01-16    365.072998    390.557007    354.914001    387.536011   \n",
       "2016-01-17    387.152008    390.964996    380.092010    382.299011   \n",
       "2016-01-18    381.733002    388.104004    376.665009    387.167999   \n",
       "2016-01-19    387.026001    387.730011    378.971985    380.148987   \n",
       "2016-01-20    379.739990    425.266998    376.598999    420.230011   \n",
       "...                  ...           ...           ...           ...   \n",
       "2021-01-12  35516.359375  36568.527344  32697.976562  33922.960938   \n",
       "2021-01-13  33915.121094  37599.960938  32584.667969  37316.359375   \n",
       "2021-01-14  37325.109375  39966.406250  36868.562500  39187.328125   \n",
       "2021-01-15  39156.707031  39577.710938  34659.589844  36825.367188   \n",
       "2021-01-16  36105.847656  37850.187500  35654.574219  36196.140625   \n",
       "\n",
       "                 Volume  Dividends  Stock Splits  \n",
       "Date                                              \n",
       "2016-01-16    120352000          0             0  \n",
       "2016-01-17     45319600          0             0  \n",
       "2016-01-18     54403900          0             0  \n",
       "2016-01-19     46819800          0             0  \n",
       "2016-01-20    121720000          0             0  \n",
       "...                 ...        ...           ...  \n",
       "2021-01-12  74773277909          0             0  \n",
       "2021-01-13  69364315979          0             0  \n",
       "2021-01-14  63615990033          0             0  \n",
       "2021-01-15  67760757880          0             0  \n",
       "2021-01-16  57052848128          0             0  \n",
       "\n",
       "[1828 rows x 7 columns]"
      ]
     },
     "execution_count": 15,
     "metadata": {},
     "output_type": "execute_result"
    }
   ],
   "source": [
    "hist_btc_usd"
   ]
  },
  {
   "cell_type": "code",
   "execution_count": 16,
   "metadata": {},
   "outputs": [
    {
     "data": {
      "text/html": [
       "<div>\n",
       "<style scoped>\n",
       "    .dataframe tbody tr th:only-of-type {\n",
       "        vertical-align: middle;\n",
       "    }\n",
       "\n",
       "    .dataframe tbody tr th {\n",
       "        vertical-align: top;\n",
       "    }\n",
       "\n",
       "    .dataframe thead th {\n",
       "        text-align: right;\n",
       "    }\n",
       "</style>\n",
       "<table border=\"1\" class=\"dataframe\">\n",
       "  <thead>\n",
       "    <tr style=\"text-align: right;\">\n",
       "      <th></th>\n",
       "      <th>Open</th>\n",
       "      <th>High</th>\n",
       "      <th>Low</th>\n",
       "      <th>Close</th>\n",
       "      <th>Volume</th>\n",
       "      <th>Dividends</th>\n",
       "      <th>Stock Splits</th>\n",
       "    </tr>\n",
       "    <tr>\n",
       "      <th>Date</th>\n",
       "      <th></th>\n",
       "      <th></th>\n",
       "      <th></th>\n",
       "      <th></th>\n",
       "      <th></th>\n",
       "      <th></th>\n",
       "      <th></th>\n",
       "    </tr>\n",
       "  </thead>\n",
       "  <tbody>\n",
       "    <tr>\n",
       "      <th>2016-01-19</th>\n",
       "      <td>172.510098</td>\n",
       "      <td>172.699960</td>\n",
       "      <td>169.182853</td>\n",
       "      <td>170.737976</td>\n",
       "      <td>7617200</td>\n",
       "      <td>0.0</td>\n",
       "      <td>0</td>\n",
       "    </tr>\n",
       "    <tr>\n",
       "      <th>2016-01-20</th>\n",
       "      <td>168.106952</td>\n",
       "      <td>170.349232</td>\n",
       "      <td>164.463264</td>\n",
       "      <td>168.757935</td>\n",
       "      <td>10177900</td>\n",
       "      <td>0.0</td>\n",
       "      <td>0</td>\n",
       "    </tr>\n",
       "    <tr>\n",
       "      <th>2016-01-21</th>\n",
       "      <td>169.173796</td>\n",
       "      <td>171.596887</td>\n",
       "      <td>167.790462</td>\n",
       "      <td>169.634903</td>\n",
       "      <td>8809600</td>\n",
       "      <td>0.0</td>\n",
       "      <td>0</td>\n",
       "    </tr>\n",
       "    <tr>\n",
       "      <th>2016-01-22</th>\n",
       "      <td>172.428728</td>\n",
       "      <td>173.296696</td>\n",
       "      <td>171.624043</td>\n",
       "      <td>173.133957</td>\n",
       "      <td>4370100</td>\n",
       "      <td>0.0</td>\n",
       "      <td>0</td>\n",
       "    </tr>\n",
       "    <tr>\n",
       "      <th>2016-01-25</th>\n",
       "      <td>172.564327</td>\n",
       "      <td>172.763239</td>\n",
       "      <td>170.285888</td>\n",
       "      <td>170.493851</td>\n",
       "      <td>4088400</td>\n",
       "      <td>0.0</td>\n",
       "      <td>0</td>\n",
       "    </tr>\n",
       "    <tr>\n",
       "      <th>...</th>\n",
       "      <td>...</td>\n",
       "      <td>...</td>\n",
       "      <td>...</td>\n",
       "      <td>...</td>\n",
       "      <td>...</td>\n",
       "      <td>...</td>\n",
       "      <td>...</td>\n",
       "    </tr>\n",
       "    <tr>\n",
       "      <th>2021-01-11</th>\n",
       "      <td>379.230011</td>\n",
       "      <td>381.920013</td>\n",
       "      <td>379.130005</td>\n",
       "      <td>380.140015</td>\n",
       "      <td>3366000</td>\n",
       "      <td>0.0</td>\n",
       "      <td>0</td>\n",
       "    </tr>\n",
       "    <tr>\n",
       "      <th>2021-01-12</th>\n",
       "      <td>380.200012</td>\n",
       "      <td>381.230011</td>\n",
       "      <td>377.769989</td>\n",
       "      <td>380.200012</td>\n",
       "      <td>3494600</td>\n",
       "      <td>0.0</td>\n",
       "      <td>0</td>\n",
       "    </tr>\n",
       "    <tr>\n",
       "      <th>2021-01-13</th>\n",
       "      <td>380.119995</td>\n",
       "      <td>382.239990</td>\n",
       "      <td>379.239990</td>\n",
       "      <td>381.160004</td>\n",
       "      <td>3764900</td>\n",
       "      <td>0.0</td>\n",
       "      <td>0</td>\n",
       "    </tr>\n",
       "    <tr>\n",
       "      <th>2021-01-14</th>\n",
       "      <td>381.959991</td>\n",
       "      <td>382.529999</td>\n",
       "      <td>379.429993</td>\n",
       "      <td>379.839996</td>\n",
       "      <td>7004300</td>\n",
       "      <td>0.0</td>\n",
       "      <td>0</td>\n",
       "    </tr>\n",
       "    <tr>\n",
       "      <th>2021-01-15</th>\n",
       "      <td>378.089996</td>\n",
       "      <td>378.920013</td>\n",
       "      <td>375.079987</td>\n",
       "      <td>377.100006</td>\n",
       "      <td>10182500</td>\n",
       "      <td>0.0</td>\n",
       "      <td>0</td>\n",
       "    </tr>\n",
       "  </tbody>\n",
       "</table>\n",
       "<p>1259 rows × 7 columns</p>\n",
       "</div>"
      ],
      "text/plain": [
       "                  Open        High         Low       Close    Volume  \\\n",
       "Date                                                                   \n",
       "2016-01-19  172.510098  172.699960  169.182853  170.737976   7617200   \n",
       "2016-01-20  168.106952  170.349232  164.463264  168.757935  10177900   \n",
       "2016-01-21  169.173796  171.596887  167.790462  169.634903   8809600   \n",
       "2016-01-22  172.428728  173.296696  171.624043  173.133957   4370100   \n",
       "2016-01-25  172.564327  172.763239  170.285888  170.493851   4088400   \n",
       "...                ...         ...         ...         ...       ...   \n",
       "2021-01-11  379.230011  381.920013  379.130005  380.140015   3366000   \n",
       "2021-01-12  380.200012  381.230011  377.769989  380.200012   3494600   \n",
       "2021-01-13  380.119995  382.239990  379.239990  381.160004   3764900   \n",
       "2021-01-14  381.959991  382.529999  379.429993  379.839996   7004300   \n",
       "2021-01-15  378.089996  378.920013  375.079987  377.100006  10182500   \n",
       "\n",
       "            Dividends  Stock Splits  \n",
       "Date                                 \n",
       "2016-01-19        0.0             0  \n",
       "2016-01-20        0.0             0  \n",
       "2016-01-21        0.0             0  \n",
       "2016-01-22        0.0             0  \n",
       "2016-01-25        0.0             0  \n",
       "...               ...           ...  \n",
       "2021-01-11        0.0             0  \n",
       "2021-01-12        0.0             0  \n",
       "2021-01-13        0.0             0  \n",
       "2021-01-14        0.0             0  \n",
       "2021-01-15        0.0             0  \n",
       "\n",
       "[1259 rows x 7 columns]"
      ]
     },
     "execution_count": 16,
     "metadata": {},
     "output_type": "execute_result"
    }
   ],
   "source": [
    "hist_ishares_core_sp500"
   ]
  },
  {
   "cell_type": "code",
   "execution_count": 17,
   "metadata": {},
   "outputs": [
    {
     "data": {
      "text/plain": [
       "[<matplotlib.lines.Line2D at 0x7fab92c00760>]"
      ]
     },
     "execution_count": 17,
     "metadata": {},
     "output_type": "execute_result"
    },
    {
     "data": {
      "image/png": "[encoded data removed]",
      "text/plain": [
       "<Figure size 432x288 with 1 Axes>"
      ]
     },
     "metadata": {
      "needs_background": "light"
     },
     "output_type": "display_data"
    }
   ],
   "source": [
    "plt.plot(hist_btc_usd[\"Close\"])"
   ]
  },
  {
   "cell_type": "code",
   "execution_count": 19,
   "metadata": {},
   "outputs": [
    {
     "data": {
      "text/plain": [
       "[<matplotlib.lines.Line2D at 0x7fab92eadd00>]"
      ]
     },
     "execution_count": 19,
     "metadata": {},
     "output_type": "execute_result"
    },
    {
     "data": {
      "image/png": "[encoded data removed]",
      "text/plain": [
       "<Figure size 432x288 with 1 Axes>"
      ]
     },
     "metadata": {
      "needs_background": "light"
     },
     "output_type": "display_data"
    }
   ],
   "source": [
    "plt.plot(hist_tesla[\"Close\"])"
   ]
  },
  {
   "cell_type": "code",
   "execution_count": 20,
   "metadata": {},
   "outputs": [
    {
     "data": {
      "text/plain": [
       "[<matplotlib.lines.Line2D at 0x7fab92d89f40>]"
      ]
     },
     "execution_count": 20,
     "metadata": {},
     "output_type": "execute_result"
    },
    {
     "data": {
      "image/png": "[encoded data removed]",
      "text/plain": [
       "<Figure size 432x288 with 1 Axes>"
      ]
     },
     "metadata": {
      "needs_background": "light"
     },
     "output_type": "display_data"
    }
   ],
   "source": [
    "plt.plot(hist_gold[\"Close\"])"
   ]
  },
  {
   "cell_type": "markdown",
   "metadata": {},
   "source": [
    "## Download and Export Data as CSV"
   ]
  },
  {
   "cell_type": "code",
   "execution_count": 21,
   "metadata": {},
   "outputs": [
    {
     "name": "stdout",
     "output_type": "stream",
     "text": [
      "[*********************100%***********************]  1 of 1 completed\n"
     ]
    }
   ],
   "source": [
    "data_df_btc_usd = yf.download(\"BTC-USD\", start=\"2015-01-17\", end=\"2020-01-17\")"
   ]
  },
  {
   "cell_type": "code",
   "execution_count": 22,
   "metadata": {},
   "outputs": [],
   "source": [
    "data_df_btc_usd.to_csv('btc_usd.csv')"
   ]
  },
  {
   "cell_type": "code",
   "execution_count": 23,
   "metadata": {},
   "outputs": [
    {
     "name": "stdout",
     "output_type": "stream",
     "text": [
      "[*********************100%***********************]  1 of 1 completed\n"
     ]
    }
   ],
   "source": [
    "data_df_ishares_core_sp500 = yf.download(\"IVV\", start=\"2015-01-17\", end=\"2020-01-17\")"
   ]
  },
  {
   "cell_type": "code",
   "execution_count": 24,
   "metadata": {},
   "outputs": [],
   "source": [
    "data_df_ishares_core_sp500.to_csv('sp500.csv')"
   ]
  },
  {
   "cell_type": "code",
   "execution_count": 25,
   "metadata": {},
   "outputs": [
    {
     "name": "stdout",
     "output_type": "stream",
     "text": [
      "[*********************100%***********************]  1 of 1 completed\n"
     ]
    }
   ],
   "source": [
    "data_df_tesla = yf.download(\"TSLA\", start=\"2015-01-17\", end=\"2020-01-17\")"
   ]
  },
  {
   "cell_type": "code",
   "execution_count": 26,
   "metadata": {},
   "outputs": [],
   "source": [
    "data_df_tesla.to_csv('tesla.csv')"
   ]
  },
  {
   "cell_type": "code",
   "execution_count": 27,
   "metadata": {},
   "outputs": [
    {
     "name": "stdout",
     "output_type": "stream",
     "text": [
      "[*********************100%***********************]  1 of 1 completed\n"
     ]
    }
   ],
   "source": [
    "data_df_gold = yf.download(\"GC=F\", start=\"2015-01-17\", end=\"2020-01-17\")"
   ]
  },
  {
   "cell_type": "code",
   "execution_count": 28,
   "metadata": {},
   "outputs": [],
   "source": [
    "data_df_gold.to_csv('gold.csv')"
   ]
  },
  {
   "cell_type": "markdown",
   "metadata": {},
   "source": [
    "## Save History"
   ]
  },
  {
   "cell_type": "code",
   "execution_count": 29,
   "metadata": {},
   "outputs": [],
   "source": [
    "hist_btc_usd.to_csv('hist_btc_usd.csv')"
   ]
  },
  {
   "cell_type": "code",
   "execution_count": 30,
   "metadata": {},
   "outputs": [],
   "source": [
    "hist_ishares_core_sp500.to_csv('hist_sp500.csv')"
   ]
  },
  {
   "cell_type": "code",
   "execution_count": 31,
   "metadata": {},
   "outputs": [],
   "source": [
    "hist_tesla.to_csv('hist_tesla.csv')"
   ]
  },
  {
   "cell_type": "code",
   "execution_count": 32,
   "metadata": {},
   "outputs": [],
   "source": [
    "hist_gold.to_csv('hist_gold.csv')"
   ]
  },
  {
   "cell_type": "code",
   "execution_count": null,
   "metadata": {},
   "outputs": [],
   "source": []
  }
 ],
 "metadata": {
  "kernelspec": {
   "display_name": "Python 3",
   "language": "python",
   "name": "python3"
  },
  "language_info": {
   "codemirror_mode": {
    "name": "ipython",
    "version": 3
   },
   "file_extension": ".py",
   "mimetype": "text/x-python",
   "name": "python",
   "nbconvert_exporter": "python",
   "pygments_lexer": "ipython3",
   "version": "3.8.5"
  }
 },
 "nbformat": 4,
 "nbformat_minor": 4
}
