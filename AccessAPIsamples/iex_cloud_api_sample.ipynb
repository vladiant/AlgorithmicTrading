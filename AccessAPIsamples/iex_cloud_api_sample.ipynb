{
 "cells": [
  {
   "cell_type": "markdown",
   "metadata": {},
   "source": [
    "# IEX Cloud API Access samples"
   ]
  },
  {
   "cell_type": "markdown",
   "metadata": {},
   "source": [
    "Based on the course [Algorithmic Trading Using Python - Full Course](https://www.youtube.com/watch?v=xfzGZB4HhEE) by Nick McCullum from Youtube channel [freeCodeCamp.org](https://www.youtube.com/channel/UC8butISFwT-Wl7EV0hUK0BQ)."
   ]
  },
  {
   "cell_type": "markdown",
   "metadata": {},
   "source": [
    "* Main site: https://iexcloud.io/\n",
    "* Documentation: https://iexcloud.io/docs/api/"
   ]
  },
  {
   "cell_type": "code",
   "execution_count": 1,
   "metadata": {},
   "outputs": [],
   "source": [
    "import numpy as np\n",
    "import pandas as pd\n",
    "import requests"
   ]
  },
  {
   "cell_type": "markdown",
   "metadata": {},
   "source": [
    "## Acquiring an API Token"
   ]
  },
  {
   "cell_type": "markdown",
   "metadata": {},
   "source": [
    "Create account in https://iexcloud.io/ Tokens are available in https://iexcloud.io/console/tokens"
   ]
  },
  {
   "cell_type": "markdown",
   "metadata": {},
   "source": [
    "API tokens (and other sensitive information) should be stored in a `secrets.py` file that doesn't get published to your local Git repository."
   ]
  },
  {
   "cell_type": "code",
   "execution_count": 2,
   "metadata": {},
   "outputs": [],
   "source": [
    "from secrets import IEX_CLOUD_API_TOKEN"
   ]
  },
  {
   "cell_type": "markdown",
   "metadata": {},
   "source": [
    "Set a list of some stocks"
   ]
  },
  {
   "cell_type": "code",
   "execution_count": 3,
   "metadata": {},
   "outputs": [],
   "source": [
    "stocks = ['A', 'AAL','AAP','AAPL','ABBV','ABC','ABMD','ABT', 'ACN']"
   ]
  },
  {
   "cell_type": "markdown",
   "metadata": {},
   "source": [
    "## Price and Market Capitalization API Call"
   ]
  },
  {
   "cell_type": "markdown",
   "metadata": {},
   "source": [
    "Note than in [Algorithmic Trading Using Python - Full Course](https://www.youtube.com/watch?v=xfzGZB4HhEE) the `https://sandbox.iexapis.com/` is used. It provides simulated test data.\n",
    "\n",
    "However for real market data the `https://cloud.iexapis.com/` should be used. Note that some of the functions may require payment. Check details in your account."
   ]
  },
  {
   "cell_type": "code",
   "execution_count": 4,
   "metadata": {},
   "outputs": [],
   "source": [
    "symbol = 'AAPL'\n",
    "api_url = f'https://cloud.iexapis.com/stable/stock/{symbol}/quote?token={IEX_CLOUD_API_TOKEN}'\n",
    "data = requests.get(api_url)"
   ]
  },
  {
   "cell_type": "markdown",
   "metadata": {},
   "source": [
    "Check the status of the request. It should be 200"
   ]
  },
  {
   "cell_type": "code",
   "execution_count": 5,
   "metadata": {},
   "outputs": [
    {
     "data": {
      "text/plain": [
       "200"
      ]
     },
     "execution_count": 5,
     "metadata": {},
     "output_type": "execute_result"
    }
   ],
   "source": [
    "data.status_code"
   ]
  },
  {
   "cell_type": "markdown",
   "metadata": {},
   "source": [
    "Convert the result to JSON:"
   ]
  },
  {
   "cell_type": "code",
   "execution_count": 6,
   "metadata": {},
   "outputs": [
    {
     "data": {
      "text/plain": [
       "{'symbol': 'AAPL',\n",
       " 'companyName': 'Apple Inc',\n",
       " 'primaryExchange': 'NASDAQ/NGS (GLOBAL SELECT MARKET)',\n",
       " 'calculationPrice': 'close',\n",
       " 'open': 137.35,\n",
       " 'openTime': 1612535400523,\n",
       " 'openSource': 'official',\n",
       " 'close': 136.76,\n",
       " 'closeTime': 1612560560507,\n",
       " 'closeSource': 'official',\n",
       " 'high': 137.42,\n",
       " 'highTime': 1612558798721,\n",
       " 'highSource': '15 minute delayed price',\n",
       " 'low': 135.86,\n",
       " 'lowTime': 1612538572358,\n",
       " 'lowSource': '15 minute delayed price',\n",
       " 'latestPrice': 136.76,\n",
       " 'latestSource': 'Close',\n",
       " 'latestTime': 'February 5, 2021',\n",
       " 'latestUpdate': 1612560560507,\n",
       " 'latestVolume': 75693830,\n",
       " 'iexRealtimePrice': None,\n",
       " 'iexRealtimeSize': None,\n",
       " 'iexLastUpdated': None,\n",
       " 'delayedPrice': 136.77,\n",
       " 'delayedPriceTime': 1612558798721,\n",
       " 'oddLotDelayedPrice': 136.76,\n",
       " 'oddLotDelayedPriceTime': 1612558798681,\n",
       " 'extendedPrice': 136.66,\n",
       " 'extendedChange': -0.1,\n",
       " 'extendedChangePercent': -0.00073,\n",
       " 'extendedPriceTime': 1612573198054,\n",
       " 'previousClose': 137.185,\n",
       " 'previousVolume': 84183061,\n",
       " 'change': -0.425,\n",
       " 'changePercent': -0.0031,\n",
       " 'volume': 75693830,\n",
       " 'iexMarketPercent': None,\n",
       " 'iexVolume': None,\n",
       " 'avgTotalVolume': 108727355,\n",
       " 'iexBidPrice': None,\n",
       " 'iexBidSize': None,\n",
       " 'iexAskPrice': None,\n",
       " 'iexAskSize': None,\n",
       " 'iexOpen': 136.21,\n",
       " 'iexOpenTime': 1612560950985,\n",
       " 'iexClose': 136.82,\n",
       " 'iexCloseTime': 1612558792056,\n",
       " 'marketCap': 2295940008960,\n",
       " 'peRatio': 37.16,\n",
       " 'week52High': 142.95,\n",
       " 'week52Low': 55.66,\n",
       " 'ytdChange': 0.029113265706608764,\n",
       " 'lastTradeTime': 1612558798721,\n",
       " 'isUSMarketOpen': False}"
      ]
     },
     "execution_count": 6,
     "metadata": {},
     "output_type": "execute_result"
    }
   ],
   "source": [
    "data.json()"
   ]
  },
  {
   "cell_type": "markdown",
   "metadata": {},
   "source": [
    "Print price and data capitalization"
   ]
  },
  {
   "cell_type": "code",
   "execution_count": 7,
   "metadata": {},
   "outputs": [
    {
     "data": {
      "text/plain": [
       "(136.76, 2.29594000896)"
      ]
     },
     "execution_count": 7,
     "metadata": {},
     "output_type": "execute_result"
    }
   ],
   "source": [
    "price = data.json()['latestPrice']\n",
    "market_cap = data.json()['marketCap']\n",
    "price, market_cap / 1000000000000"
   ]
  },
  {
   "cell_type": "code",
   "execution_count": 8,
   "metadata": {},
   "outputs": [
    {
     "data": {
      "text/plain": [
       "37.16"
      ]
     },
     "execution_count": 8,
     "metadata": {},
     "output_type": "execute_result"
    }
   ],
   "source": [
    "data.json()['peRatio']"
   ]
  },
  {
   "cell_type": "markdown",
   "metadata": {},
   "source": [
    "## Looping Through The Tickers in List of Stocks"
   ]
  },
  {
   "cell_type": "markdown",
   "metadata": {},
   "source": [
    "Using the same logic outlined above, the data can be pulled for stocks in the list.\n",
    "\n",
    "**Note** _This is not recommended as it is slow to execute and is priced per **each** request. Use the batch approach to be described further._"
   ]
  },
  {
   "cell_type": "code",
   "execution_count": 9,
   "metadata": {},
   "outputs": [],
   "source": [
    "dataframe_columns = ['Ticker', 'Stock Price', 'Market Capitalization']\n",
    "dataframe = pd.DataFrame(columns=dataframe_columns)\n",
    "\n",
    "for stock in stocks:\n",
    "    api_url = f'https://cloud.iexapis.com/stable/stock/{stock}/quote?token={IEX_CLOUD_API_TOKEN}'\n",
    "    data = requests.get(api_url).json()\n",
    "    dataframe = dataframe.append(\n",
    "        pd.Series(\n",
    "            [\n",
    "                stock,\n",
    "                data['latestPrice'],\n",
    "                data['marketCap']\n",
    "            ],\n",
    "            index = dataframe_columns\n",
    "        ),\n",
    "        ignore_index=True\n",
    "    )"
   ]
  },
  {
   "cell_type": "code",
   "execution_count": 10,
   "metadata": {},
   "outputs": [
    {
     "data": {
      "text/html": [
       "<div>\n",
       "<style scoped>\n",
       "    .dataframe tbody tr th:only-of-type {\n",
       "        vertical-align: middle;\n",
       "    }\n",
       "\n",
       "    .dataframe tbody tr th {\n",
       "        vertical-align: top;\n",
       "    }\n",
       "\n",
       "    .dataframe thead th {\n",
       "        text-align: right;\n",
       "    }\n",
       "</style>\n",
       "<table border=\"1\" class=\"dataframe\">\n",
       "  <thead>\n",
       "    <tr style=\"text-align: right;\">\n",
       "      <th></th>\n",
       "      <th>Ticker</th>\n",
       "      <th>Stock Price</th>\n",
       "      <th>Market Capitalization</th>\n",
       "    </tr>\n",
       "  </thead>\n",
       "  <tbody>\n",
       "    <tr>\n",
       "      <th>0</th>\n",
       "      <td>A</td>\n",
       "      <td>123.18</td>\n",
       "      <td>37797724613</td>\n",
       "    </tr>\n",
       "    <tr>\n",
       "      <th>1</th>\n",
       "      <td>AAL</td>\n",
       "      <td>17.19</td>\n",
       "      <td>10399929544</td>\n",
       "    </tr>\n",
       "    <tr>\n",
       "      <th>2</th>\n",
       "      <td>AAP</td>\n",
       "      <td>157.28</td>\n",
       "      <td>10672161894</td>\n",
       "    </tr>\n",
       "    <tr>\n",
       "      <th>3</th>\n",
       "      <td>AAPL</td>\n",
       "      <td>136.76</td>\n",
       "      <td>2295940008960</td>\n",
       "    </tr>\n",
       "    <tr>\n",
       "      <th>4</th>\n",
       "      <td>ABBV</td>\n",
       "      <td>108.73</td>\n",
       "      <td>191959979648</td>\n",
       "    </tr>\n",
       "    <tr>\n",
       "      <th>5</th>\n",
       "      <td>ABC</td>\n",
       "      <td>109.69</td>\n",
       "      <td>22404154748</td>\n",
       "    </tr>\n",
       "    <tr>\n",
       "      <th>6</th>\n",
       "      <td>ABMD</td>\n",
       "      <td>327.85</td>\n",
       "      <td>14828972203</td>\n",
       "    </tr>\n",
       "    <tr>\n",
       "      <th>7</th>\n",
       "      <td>ABT</td>\n",
       "      <td>124.03</td>\n",
       "      <td>219826006891</td>\n",
       "    </tr>\n",
       "    <tr>\n",
       "      <th>8</th>\n",
       "      <td>ACN</td>\n",
       "      <td>253.54</td>\n",
       "      <td>167624200860</td>\n",
       "    </tr>\n",
       "  </tbody>\n",
       "</table>\n",
       "</div>"
      ],
      "text/plain": [
       "  Ticker  Stock Price Market Capitalization\n",
       "0      A       123.18           37797724613\n",
       "1    AAL        17.19           10399929544\n",
       "2    AAP       157.28           10672161894\n",
       "3   AAPL       136.76         2295940008960\n",
       "4   ABBV       108.73          191959979648\n",
       "5    ABC       109.69           22404154748\n",
       "6   ABMD       327.85           14828972203\n",
       "7    ABT       124.03          219826006891\n",
       "8    ACN       253.54          167624200860"
      ]
     },
     "execution_count": 10,
     "metadata": {},
     "output_type": "execute_result"
    }
   ],
   "source": [
    "dataframe"
   ]
  },
  {
   "cell_type": "markdown",
   "metadata": {},
   "source": [
    "## Using Batch API Calls to Improve Performance"
   ]
  },
  {
   "cell_type": "markdown",
   "metadata": {},
   "source": [
    "Batch API calls are one of the easiest ways to improve the performance of the code.\n",
    "\n",
    "This is because HTTP requests are typically one of the slowest components of a scripts.\n",
    "\n",
    "Also, API providers will often give you discounted rates for using batch API calls since they are easier for the API provider to respond to.\n",
    "\n",
    "IEX Cloud limits their batch API calls to 100 tickers per request. Still, this reduces the number of API calls we'll make in this section from 500 to 5 - huge improvement in this section, we'll split our list of stocks of 100 and then make a batch API call for each group."
   ]
  },
  {
   "cell_type": "code",
   "execution_count": 11,
   "metadata": {},
   "outputs": [
    {
     "data": {
      "text/plain": [
       "'A,AAL,AAP,AAPL,ABBV,ABC,ABMD,ABT,ACN'"
      ]
     },
     "execution_count": 11,
     "metadata": {},
     "output_type": "execute_result"
    }
   ],
   "source": [
    "symbol_strings = ','.join(stocks)\n",
    "symbol_strings"
   ]
  },
  {
   "cell_type": "code",
   "execution_count": 12,
   "metadata": {},
   "outputs": [],
   "source": [
    "batch_dataframe = pd.DataFrame(columns=dataframe_columns)\n",
    "\n",
    "batch_api_call_url = f'https://cloud.iexapis.com/stable/stock/market/batch?symbols={symbol_strings}&types=quote&token={IEX_CLOUD_API_TOKEN}'\n",
    "\n",
    "data = requests.get(batch_api_call_url).json()\n",
    "for symbol in symbol_strings.split(','):\n",
    "    batch_dataframe = batch_dataframe.append(\n",
    "        pd.Series(\n",
    "            [\n",
    "                symbol,\n",
    "                data[symbol]['quote']['latestPrice'],\n",
    "                data[symbol]['quote']['marketCap']\n",
    "            ],\n",
    "            index = dataframe_columns\n",
    "        ),\n",
    "        ignore_index=True\n",
    "    )"
   ]
  },
  {
   "cell_type": "code",
   "execution_count": 13,
   "metadata": {},
   "outputs": [
    {
     "data": {
      "text/html": [
       "<div>\n",
       "<style scoped>\n",
       "    .dataframe tbody tr th:only-of-type {\n",
       "        vertical-align: middle;\n",
       "    }\n",
       "\n",
       "    .dataframe tbody tr th {\n",
       "        vertical-align: top;\n",
       "    }\n",
       "\n",
       "    .dataframe thead th {\n",
       "        text-align: right;\n",
       "    }\n",
       "</style>\n",
       "<table border=\"1\" class=\"dataframe\">\n",
       "  <thead>\n",
       "    <tr style=\"text-align: right;\">\n",
       "      <th></th>\n",
       "      <th>Ticker</th>\n",
       "      <th>Stock Price</th>\n",
       "      <th>Market Capitalization</th>\n",
       "    </tr>\n",
       "  </thead>\n",
       "  <tbody>\n",
       "    <tr>\n",
       "      <th>0</th>\n",
       "      <td>A</td>\n",
       "      <td>123.18</td>\n",
       "      <td>37797724613</td>\n",
       "    </tr>\n",
       "    <tr>\n",
       "      <th>1</th>\n",
       "      <td>AAL</td>\n",
       "      <td>17.19</td>\n",
       "      <td>10399929544</td>\n",
       "    </tr>\n",
       "    <tr>\n",
       "      <th>2</th>\n",
       "      <td>AAP</td>\n",
       "      <td>157.28</td>\n",
       "      <td>10672161894</td>\n",
       "    </tr>\n",
       "    <tr>\n",
       "      <th>3</th>\n",
       "      <td>AAPL</td>\n",
       "      <td>136.76</td>\n",
       "      <td>2295940008960</td>\n",
       "    </tr>\n",
       "    <tr>\n",
       "      <th>4</th>\n",
       "      <td>ABBV</td>\n",
       "      <td>108.73</td>\n",
       "      <td>191959979648</td>\n",
       "    </tr>\n",
       "    <tr>\n",
       "      <th>5</th>\n",
       "      <td>ABC</td>\n",
       "      <td>109.69</td>\n",
       "      <td>22404154748</td>\n",
       "    </tr>\n",
       "    <tr>\n",
       "      <th>6</th>\n",
       "      <td>ABMD</td>\n",
       "      <td>327.85</td>\n",
       "      <td>14828972203</td>\n",
       "    </tr>\n",
       "    <tr>\n",
       "      <th>7</th>\n",
       "      <td>ABT</td>\n",
       "      <td>124.03</td>\n",
       "      <td>219826006891</td>\n",
       "    </tr>\n",
       "    <tr>\n",
       "      <th>8</th>\n",
       "      <td>ACN</td>\n",
       "      <td>253.54</td>\n",
       "      <td>167624200860</td>\n",
       "    </tr>\n",
       "  </tbody>\n",
       "</table>\n",
       "</div>"
      ],
      "text/plain": [
       "  Ticker  Stock Price Market Capitalization\n",
       "0      A       123.18           37797724613\n",
       "1    AAL        17.19           10399929544\n",
       "2    AAP       157.28           10672161894\n",
       "3   AAPL       136.76         2295940008960\n",
       "4   ABBV       108.73          191959979648\n",
       "5    ABC       109.69           22404154748\n",
       "6   ABMD       327.85           14828972203\n",
       "7    ABT       124.03          219826006891\n",
       "8    ACN       253.54          167624200860"
      ]
     },
     "execution_count": 13,
     "metadata": {},
     "output_type": "execute_result"
    }
   ],
   "source": [
    "batch_dataframe"
   ]
  },
  {
   "cell_type": "markdown",
   "metadata": {},
   "source": [
    "## Read Key Stats"
   ]
  },
  {
   "cell_type": "code",
   "execution_count": 14,
   "metadata": {},
   "outputs": [
    {
     "data": {
      "text/plain": [
       "200"
      ]
     },
     "execution_count": 14,
     "metadata": {},
     "output_type": "execute_result"
    }
   ],
   "source": [
    "symbol = 'AAPL'\n",
    "api_url = f'https://cloud.iexapis.com/stable/stock/{symbol}/stats?token={IEX_CLOUD_API_TOKEN}'\n",
    "data = requests.get(api_url)\n",
    "data.status_code"
   ]
  },
  {
   "cell_type": "code",
   "execution_count": 15,
   "metadata": {},
   "outputs": [
    {
     "data": {
      "text/plain": [
       "{'companyName': 'Apple Inc',\n",
       " 'marketcap': 2295940008960,\n",
       " 'week52high': 142.95,\n",
       " 'week52low': 55.66,\n",
       " 'week52change': 0.7225895271695797,\n",
       " 'sharesOutstanding': 16788096000,\n",
       " 'float': 0,\n",
       " 'avg10Volume': 108492565,\n",
       " 'avg30Volume': 108727355,\n",
       " 'day200MovingAvg': 119.64,\n",
       " 'day50MovingAvg': 133.12,\n",
       " 'employees': 0,\n",
       " 'ttmEPS': 3.68,\n",
       " 'ttmDividendRate': 1.0090288065748436,\n",
       " 'dividendYield': 0.007378098907391369,\n",
       " 'nextDividendDate': '',\n",
       " 'exDividendDate': '2021-02-05',\n",
       " 'nextEarningsDate': '2021-01-27',\n",
       " 'peRatio': 35.913342858751754,\n",
       " 'beta': 1.14690182912981,\n",
       " 'maxChangePercent': 51.40047511398904,\n",
       " 'year5ChangePercent': 5.255546102405064,\n",
       " 'year2ChangePercent': 2.2201857328536176,\n",
       " 'year1ChangePercent': 0.7190514797845529,\n",
       " 'ytdChangePercent': 0.03221326570660876,\n",
       " 'month6ChangePercent': 0.2488186172228486,\n",
       " 'month3ChangePercent': 0.15265614082700285,\n",
       " 'month1ChangePercent': 0.045449854565051906,\n",
       " 'day30ChangePercent': 0.08186701958926057,\n",
       " 'day5ChangePercent': 0.0379233639767127}"
      ]
     },
     "execution_count": 15,
     "metadata": {},
     "output_type": "execute_result"
    }
   ],
   "source": [
    "data.json()"
   ]
  },
  {
   "cell_type": "code",
   "execution_count": 16,
   "metadata": {},
   "outputs": [
    {
     "data": {
      "text/plain": [
       "0.7190514797845529"
      ]
     },
     "execution_count": 16,
     "metadata": {},
     "output_type": "execute_result"
    }
   ],
   "source": [
    "data.json()['year1ChangePercent']"
   ]
  },
  {
   "cell_type": "code",
   "execution_count": 17,
   "metadata": {},
   "outputs": [
    {
     "data": {
      "text/plain": [
       "0.2488186172228486"
      ]
     },
     "execution_count": 17,
     "metadata": {},
     "output_type": "execute_result"
    }
   ],
   "source": [
    "data.json()['month6ChangePercent']"
   ]
  },
  {
   "cell_type": "code",
   "execution_count": 18,
   "metadata": {},
   "outputs": [
    {
     "data": {
      "text/plain": [
       "0.15265614082700285"
      ]
     },
     "execution_count": 18,
     "metadata": {},
     "output_type": "execute_result"
    }
   ],
   "source": [
    "data.json()['month3ChangePercent']"
   ]
  },
  {
   "cell_type": "code",
   "execution_count": 19,
   "metadata": {},
   "outputs": [
    {
     "data": {
      "text/plain": [
       "0.045449854565051906"
      ]
     },
     "execution_count": 19,
     "metadata": {},
     "output_type": "execute_result"
    }
   ],
   "source": [
    "data.json()['month1ChangePercent']"
   ]
  },
  {
   "cell_type": "markdown",
   "metadata": {},
   "source": [
    "## Read Advanced Key Stats"
   ]
  },
  {
   "cell_type": "code",
   "execution_count": 20,
   "metadata": {},
   "outputs": [],
   "source": [
    "symbol = 'AAPL'\n",
    "batch_api_call_url = f'https://cloud.iexapis.com/stable/stock/{symbol}/advanced-stats?token={IEX_CLOUD_API_TOKEN}'\n",
    "data = requests.get(batch_api_call_url)"
   ]
  },
  {
   "cell_type": "code",
   "execution_count": 21,
   "metadata": {},
   "outputs": [
    {
     "data": {
      "text/plain": [
       "402"
      ]
     },
     "execution_count": 21,
     "metadata": {},
     "output_type": "execute_result"
    }
   ],
   "source": [
    "data.status_code"
   ]
  },
  {
   "cell_type": "markdown",
   "metadata": {},
   "source": [
    "402 code means that payment is required."
   ]
  }
 ],
 "metadata": {
  "kernelspec": {
   "display_name": "Python 3",
   "language": "python",
   "name": "python3"
  },
  "language_info": {
   "codemirror_mode": {
    "name": "ipython",
    "version": 3
   },
   "file_extension": ".py",
   "mimetype": "text/x-python",
   "name": "python",
   "nbconvert_exporter": "python",
   "pygments_lexer": "ipython3",
   "version": "3.8.5"
  }
 },
 "nbformat": 4,
 "nbformat_minor": 4
}
