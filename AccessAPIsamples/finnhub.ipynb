{
 "cells": [
  {
   "cell_type": "markdown",
   "metadata": {},
   "source": [
    "# Free Stock Data for Python Using Finnhub Stock API"
   ]
  },
  {
   "cell_type": "markdown",
   "metadata": {},
   "source": [
    "To access the API a free registration is required at https://finnhub.io/dashboard"
   ]
  },
  {
   "cell_type": "markdown",
   "metadata": {},
   "source": [
    "The API documentation: https://finnhub.io/docs/api"
   ]
  },
  {
   "cell_type": "markdown",
   "metadata": {},
   "source": [
    "## Stock Candles"
   ]
  },
  {
   "cell_type": "markdown",
   "metadata": {},
   "source": [
    "API example: https://finnhub.io/docs/api#stock-candles"
   ]
  },
  {
   "cell_type": "markdown",
   "metadata": {},
   "source": [
    "* Get candlestick data for stocks going back 25 years for US stocks.\n",
    "\n",
    "* Real-time stock prices for international markets are supported for Enterprise clients via our partner's feed. Contact Us to learn more.\n",
    "\n",
    "**Free Tier:** 1 year of historical data and new updates"
   ]
  },
  {
   "cell_type": "markdown",
   "metadata": {},
   "source": [
    "### Set the parameters for the request"
   ]
  },
  {
   "cell_type": "code",
   "execution_count": 1,
   "metadata": {},
   "outputs": [],
   "source": [
    "stock = \"VGT\" #S&P 500 Vanguard ETF\n",
    "start_date = '21/01/2020'\n",
    "end_date = '21/01/2021'\n",
    "api_key = 'YOUR API KEY'"
   ]
  },
  {
   "cell_type": "markdown",
   "metadata": {},
   "source": [
    "### Set the time stamps"
   ]
  },
  {
   "cell_type": "code",
   "execution_count": 2,
   "metadata": {},
   "outputs": [],
   "source": [
    "import time\n",
    "from datetime import datetime\n",
    "\n",
    "start = int(time.mktime(datetime.strptime(start_date, \"%d/%m/%Y\").timetuple()))\n",
    "end = int(time.mktime(datetime.strptime(end_date, \"%d/%m/%Y\").timetuple()))"
   ]
  },
  {
   "cell_type": "markdown",
   "metadata": {},
   "source": [
    "### Send the request\n",
    "**Note:** The download limit is 10 requests per minute"
   ]
  },
  {
   "cell_type": "code",
   "execution_count": 3,
   "metadata": {},
   "outputs": [],
   "source": [
    "import requests\n",
    "\n",
    "params={\n",
    "    'symbol': stock,\n",
    "    'resolution': 'D', # Data resolution - one day\n",
    "    'from': start,\n",
    "    'to': end,\n",
    "    'token': api_key\n",
    "}\n",
    "\n",
    "response = requests.get(f'https://finnhub.io/api/v1/stock/candle', params)"
   ]
  },
  {
   "cell_type": "markdown",
   "metadata": {},
   "source": [
    "### Show the data"
   ]
  },
  {
   "cell_type": "code",
   "execution_count": 4,
   "metadata": {},
   "outputs": [],
   "source": [
    "import pandas as pd\n",
    "\n",
    "data = response.json()\n",
    "data_frame = pd.DataFrame.from_dict(data)"
   ]
  },
  {
   "cell_type": "markdown",
   "metadata": {},
   "source": [
    "Response Attributes:\n",
    "* **o** List of open prices for returned candles.\n",
    "* **h** List of high prices for returned candles.\n",
    "* **l** List of low prices for returned candles.\n",
    "* **c** List of close prices for returned candles.\n",
    "* **v** List of volume data for returned candles.\n",
    "* **t** List of timestamp for returned candles.\n",
    "* **s** Status of the response. This field can either be ok or no_data."
   ]
  },
  {
   "cell_type": "code",
   "execution_count": 5,
   "metadata": {},
   "outputs": [
    {
     "data": {
      "text/html": [
       "<div>\n",
       "<style scoped>\n",
       "    .dataframe tbody tr th:only-of-type {\n",
       "        vertical-align: middle;\n",
       "    }\n",
       "\n",
       "    .dataframe tbody tr th {\n",
       "        vertical-align: top;\n",
       "    }\n",
       "\n",
       "    .dataframe thead th {\n",
       "        text-align: right;\n",
       "    }\n",
       "</style>\n",
       "<table border=\"1\" class=\"dataframe\">\n",
       "  <thead>\n",
       "    <tr style=\"text-align: right;\">\n",
       "      <th></th>\n",
       "      <th>c</th>\n",
       "      <th>h</th>\n",
       "      <th>l</th>\n",
       "      <th>o</th>\n",
       "      <th>s</th>\n",
       "      <th>t</th>\n",
       "      <th>v</th>\n",
       "    </tr>\n",
       "  </thead>\n",
       "  <tbody>\n",
       "    <tr>\n",
       "      <th>0</th>\n",
       "      <td>259.25</td>\n",
       "      <td>260.7900</td>\n",
       "      <td>258.7361</td>\n",
       "      <td>258.88</td>\n",
       "      <td>ok</td>\n",
       "      <td>1579564800</td>\n",
       "      <td>734803</td>\n",
       "    </tr>\n",
       "    <tr>\n",
       "      <th>1</th>\n",
       "      <td>260.32</td>\n",
       "      <td>262.1290</td>\n",
       "      <td>260.0700</td>\n",
       "      <td>261.07</td>\n",
       "      <td>ok</td>\n",
       "      <td>1579651200</td>\n",
       "      <td>763139</td>\n",
       "    </tr>\n",
       "    <tr>\n",
       "      <th>2</th>\n",
       "      <td>261.61</td>\n",
       "      <td>261.6100</td>\n",
       "      <td>259.4100</td>\n",
       "      <td>260.47</td>\n",
       "      <td>ok</td>\n",
       "      <td>1579737600</td>\n",
       "      <td>464059</td>\n",
       "    </tr>\n",
       "    <tr>\n",
       "      <th>3</th>\n",
       "      <td>260.26</td>\n",
       "      <td>263.9900</td>\n",
       "      <td>259.2500</td>\n",
       "      <td>263.49</td>\n",
       "      <td>ok</td>\n",
       "      <td>1579824000</td>\n",
       "      <td>790826</td>\n",
       "    </tr>\n",
       "    <tr>\n",
       "      <th>4</th>\n",
       "      <td>254.05</td>\n",
       "      <td>255.9500</td>\n",
       "      <td>251.4400</td>\n",
       "      <td>254.06</td>\n",
       "      <td>ok</td>\n",
       "      <td>1580083200</td>\n",
       "      <td>1072324</td>\n",
       "    </tr>\n",
       "    <tr>\n",
       "      <th>...</th>\n",
       "      <td>...</td>\n",
       "      <td>...</td>\n",
       "      <td>...</td>\n",
       "      <td>...</td>\n",
       "      <td>...</td>\n",
       "      <td>...</td>\n",
       "      <td>...</td>\n",
       "    </tr>\n",
       "    <tr>\n",
       "      <th>248</th>\n",
       "      <td>355.56</td>\n",
       "      <td>356.9000</td>\n",
       "      <td>353.5150</td>\n",
       "      <td>354.09</td>\n",
       "      <td>ok</td>\n",
       "      <td>1610496000</td>\n",
       "      <td>484156</td>\n",
       "    </tr>\n",
       "    <tr>\n",
       "      <th>249</th>\n",
       "      <td>353.34</td>\n",
       "      <td>357.6611</td>\n",
       "      <td>352.8400</td>\n",
       "      <td>356.53</td>\n",
       "      <td>ok</td>\n",
       "      <td>1610582400</td>\n",
       "      <td>418725</td>\n",
       "    </tr>\n",
       "    <tr>\n",
       "      <th>250</th>\n",
       "      <td>349.62</td>\n",
       "      <td>354.6500</td>\n",
       "      <td>348.8000</td>\n",
       "      <td>352.93</td>\n",
       "      <td>ok</td>\n",
       "      <td>1610668800</td>\n",
       "      <td>519729</td>\n",
       "    </tr>\n",
       "    <tr>\n",
       "      <th>251</th>\n",
       "      <td>353.98</td>\n",
       "      <td>354.6500</td>\n",
       "      <td>350.9600</td>\n",
       "      <td>352.10</td>\n",
       "      <td>ok</td>\n",
       "      <td>1611014400</td>\n",
       "      <td>503090</td>\n",
       "    </tr>\n",
       "    <tr>\n",
       "      <th>252</th>\n",
       "      <td>360.68</td>\n",
       "      <td>361.6879</td>\n",
       "      <td>356.7900</td>\n",
       "      <td>356.79</td>\n",
       "      <td>ok</td>\n",
       "      <td>1611100800</td>\n",
       "      <td>491237</td>\n",
       "    </tr>\n",
       "  </tbody>\n",
       "</table>\n",
       "<p>253 rows × 7 columns</p>\n",
       "</div>"
      ],
      "text/plain": [
       "          c         h         l       o   s           t        v\n",
       "0    259.25  260.7900  258.7361  258.88  ok  1579564800   734803\n",
       "1    260.32  262.1290  260.0700  261.07  ok  1579651200   763139\n",
       "2    261.61  261.6100  259.4100  260.47  ok  1579737600   464059\n",
       "3    260.26  263.9900  259.2500  263.49  ok  1579824000   790826\n",
       "4    254.05  255.9500  251.4400  254.06  ok  1580083200  1072324\n",
       "..      ...       ...       ...     ...  ..         ...      ...\n",
       "248  355.56  356.9000  353.5150  354.09  ok  1610496000   484156\n",
       "249  353.34  357.6611  352.8400  356.53  ok  1610582400   418725\n",
       "250  349.62  354.6500  348.8000  352.93  ok  1610668800   519729\n",
       "251  353.98  354.6500  350.9600  352.10  ok  1611014400   503090\n",
       "252  360.68  361.6879  356.7900  356.79  ok  1611100800   491237\n",
       "\n",
       "[253 rows x 7 columns]"
      ]
     },
     "execution_count": 5,
     "metadata": {},
     "output_type": "execute_result"
    }
   ],
   "source": [
    "data_frame"
   ]
  }
 ],
 "metadata": {
  "kernelspec": {
   "display_name": "Python 3",
   "language": "python",
   "name": "python3"
  },
  "language_info": {
   "codemirror_mode": {
    "name": "ipython",
    "version": 3
   },
   "file_extension": ".py",
   "mimetype": "text/x-python",
   "name": "python",
   "nbconvert_exporter": "python",
   "pygments_lexer": "ipython3",
   "version": "3.8.5"
  }
 },
 "nbformat": 4,
 "nbformat_minor": 4
}
